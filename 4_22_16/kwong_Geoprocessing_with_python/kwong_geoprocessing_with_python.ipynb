{
 "cells": [
  {
   "cell_type": "code",
   "execution_count": null,
   "metadata": {
    "collapsed": true
   },
   "outputs": [],
   "source": [
    "import arcpy"
   ]
  },
  {
   "cell_type": "code",
   "execution_count": null,
   "metadata": {
    "collapsed": true
   },
   "outputs": [],
   "source": [
    "#Sets my workspace environment to my UDrive.\n",
    "arcpy.env.workspace = \"U:\\GEOG 465\\Schools\""
   ]
  },
  {
   "cell_type": "code",
   "execution_count": null,
   "metadata": {
    "collapsed": true
   },
   "outputs": [],
   "source": [
    "#Buffers each of the points in \"SE_Schools\" with a 500 meter radius,\n",
    "#and exports the results in the newly created feature class \"schoolsBuffered_500Meters\".\n",
    "#Uses default buffer settings.\n",
    "arcpy.Buffer_analysis(\"SE_Schools\", \"U:\\GEOG 465\\schoolsBuffered_500Meters\", \"500 Meters\", \"FULL\", \"ROUND\", \"LIST\", \"OBJECTID\")\n"
   ]
  },
  {
   "cell_type": "code",
   "execution_count": null,
   "metadata": {
    "collapsed": true
   },
   "outputs": [],
   "source": [
    "#Selects objects from \"CBO_Geocode_1\" from \"schoolsBuffered_500Meters\".\n",
    "arcpy.SelectLayerByLocation_management (\"CBO_Geocode_1\", \"WITHIN\", \"schoolsBuffered_500Meters\")\n"
   ]
  },
  {
   "cell_type": "code",
   "execution_count": null,
   "metadata": {
    "collapsed": true
   },
   "outputs": [],
   "source": [
    "#Exports the selected results from the previous selection query\n",
    "#to a newly created feature class \"objectsWithinLayer\" located in the same geodatabase.\n",
    "arcpy.FeatureClassToFeatureClass_conversion(\"CBO_Geocode_1\", \"U:\\GEOG 465\\Schools\\Seattle_schools.gdb\", \"objectsWithinLayer\")"
   ]
  }
 ],
 "metadata": {
  "kernelspec": {
   "display_name": "Python 2",
   "language": "python",
   "name": "python2"
  },
  "language_info": {
   "codemirror_mode": {
    "name": "ipython",
    "version": 2
   },
   "file_extension": ".py",
   "mimetype": "text/x-python",
   "name": "python",
   "nbconvert_exporter": "python",
   "pygments_lexer": "ipython2",
   "version": "2.7.11"
  }
 },
 "nbformat": 4,
 "nbformat_minor": 0
}
