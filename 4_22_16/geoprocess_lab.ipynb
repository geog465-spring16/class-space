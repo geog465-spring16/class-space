{
 "cells": [
  {
   "cell_type": "markdown",
   "metadata": {},
   "source": [
    "Naomi Provost & Gabe Reichenberger"
   ]
  },
  {
   "cell_type": "code",
   "execution_count": 6,
   "metadata": {
    "collapsed": true
   },
   "outputs": [],
   "source": [
    "import os\n",
    "import sys\n",
    "sys.path.append('C:\\\\Program Files (x86)\\\\ArcGIS\\\\Desktop10.3\\\\bin')\n",
    "sys.path.append('C:\\\\Program Files (x86)\\\\ArcGIS\\\\Desktop10.3\\\\arcpy')\n",
    "sys.path.append('C:\\\\Program Files (x86)\\\\ArcGIS\\\\Desktop10.3\\\\ArcToolbox\\\\Scripts')\n",
    "\n",
    "import arcpy\n",
    "from arcpy import env\n",
    "\n",
    "env.workspace = 'U:\\GEOG 465\\Seattle_schools.gdb' #define enviroment in for geodatabase"
   ]
  },
  {
   "cell_type": "code",
   "execution_count": 7,
   "metadata": {
    "collapsed": false
   },
   "outputs": [
    {
     "data": {
      "text/plain": [
       "<Result 'U:\\\\GEOG 465\\\\Seattle_schools.gdb\\\\SE_Schools_Buffered'>"
      ]
     },
     "execution_count": 7,
     "metadata": {},
     "output_type": "execute_result"
    }
   ],
   "source": [
    "arcpy.env.overwriteOutput = True #sets overwrite to true\n",
    "\n",
    "arcpy.Buffer_analysis(\"SE_Schools\", \"SE_Schools_Buffered\", \"500 Meters\") #Buffer each of the points in \"SE_Schools\" with a radius of 500 m"
   ]
  },
  {
   "cell_type": "code",
   "execution_count": 8,
   "metadata": {
    "collapsed": false
   },
   "outputs": [
    {
     "data": {
      "text/plain": [
       "<Result 'CBO_Geocode_Within500m_lyr'>"
      ]
     },
     "execution_count": 8,
     "metadata": {},
     "output_type": "execute_result"
    }
   ],
   "source": [
    "# First, make a layer from the feature class\n",
    "arcpy.MakeFeatureLayer_management(\"CBO_Geocode_1\", \"CBO_Geocode_Within500m_lyr\")\n",
    "\n",
    "# Then add a selection to the layer based on location to features in another feature class \n",
    "arcpy.SelectLayerByLocation_management (\"CBO_Geocode_Within500m_lyr\", \"INTERSECT\", \"SE_Schools_Buffered\")"
   ]
  },
  {
   "cell_type": "code",
   "execution_count": 5,
   "metadata": {
    "collapsed": false
   },
   "outputs": [
    {
     "data": {
      "text/plain": [
       "<Result 'U:\\\\GEOG 465\\\\Seattle_schools.gdb\\\\CBO_Geocode_Within500m_lyr'>"
      ]
     },
     "execution_count": 5,
     "metadata": {},
     "output_type": "execute_result"
    }
   ],
   "source": [
    "# Write the selected features to a new featureclass\n",
    "arcpy.CopyFeatures_management(\"CBO_Geocode_Within500m_lyr\", \"U:\\GEOG 465\\Seattle_schools.gdb\\CBO_Geocode_Within500m_lyr\")"
   ]
  },
  {
   "cell_type": "code",
   "execution_count": null,
   "metadata": {
    "collapsed": true
   },
   "outputs": [],
   "source": []
  }
 ],
 "metadata": {
  "kernelspec": {
   "display_name": "Python 2",
   "language": "python",
   "name": "python2"
  },
  "language_info": {
   "codemirror_mode": {
    "name": "ipython",
    "version": 2
   },
   "file_extension": ".py",
   "mimetype": "text/x-python",
   "name": "python",
   "nbconvert_exporter": "python",
   "pygments_lexer": "ipython2",
   "version": "2.7.10"
  }
 },
 "nbformat": 4,
 "nbformat_minor": 0
}
