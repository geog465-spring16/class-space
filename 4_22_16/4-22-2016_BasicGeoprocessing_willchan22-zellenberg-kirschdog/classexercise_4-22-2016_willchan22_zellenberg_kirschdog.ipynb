{
 "cells": [
  {
   "cell_type": "markdown",
   "metadata": {},
   "source": [
    "Will Chan, Zach Ellenberg and Rachel Kirschner - Class Exercise 4/22/2016"
   ]
  },
  {
   "cell_type": "code",
   "execution_count": 1,
   "metadata": {
    "collapsed": true
   },
   "outputs": [],
   "source": [
    "# Import ArcPy module for use with ArcGIS\n",
    "import sys\n",
    "sys.path.append('C:\\\\Program Files (x86)\\\\ArcGIS\\\\Desktop10.3\\\\bin')\n",
    "sys.path.append('C:\\\\Program Files (x86)\\\\ArcGIS\\\\Desktop10.3\\\\arcpy')\n",
    "sys.path.append('C:\\\\Program Files (x86)\\\\ArcGIS\\\\Desktop10.3\\\\ArcToolbox\\\\Scripts')\n",
    "import arcpy"
   ]
  },
  {
   "cell_type": "code",
   "execution_count": 3,
   "metadata": {
    "collapsed": false
   },
   "outputs": [
    {
     "name": "stdout",
     "output_type": "stream",
     "text": [
      "[u'SE_Schools', u'CBO_Geocode_1', u'Seattle']\n"
     ]
    }
   ],
   "source": [
    "from arcpy import env\n",
    "env.workspace = \"U:\\\\GEOG 465\\\\4-22-2016\\\\Seattle_schools.gdb\"\n",
    "\n",
    "# find out names of feature classes in the gdb\n",
    "fc = arcpy.ListFeatureClasses()\n",
    "print fc"
   ]
  },
  {
   "cell_type": "code",
   "execution_count": 11,
   "metadata": {
    "collapsed": false
   },
   "outputs": [
    {
     "data": {
      "text/plain": [
       "<Result 'U:\\\\GEOG 465\\\\4-22-2016\\\\Seattle_schools.gdb\\\\CBO_Geocode_1_inBuffer'>"
      ]
     },
     "execution_count": 11,
     "metadata": {},
     "output_type": "execute_result"
    }
   ],
   "source": [
    "from arcpy import env\n",
    "arcpy.env.overwriteOutput = True\n",
    "env.workspace = \"U:\\\\GEOG 465\\\\4-22-2016\\\\Seattle_schools.gdb\"\n",
    "\n",
    "# buffer to 500 meters\n",
    "arcpy.Buffer_analysis(\"SE_Schools\", \"SE_Schools_buffer\", \"500 Meters\", dissolve_option = \"ALL\")\n",
    "\n",
    "# turn feature class into layer, then select by location, then copy features into new feature class\n",
    "arcpy.MakeFeatureLayer_management(\"CBO_Geocode_1\", \"CBO_Geocode_1_lyr\") \n",
    "featureSubset = arcpy.SelectLayerByLocation_management(\"CBO_Geocode_1_lyr\", select_features = \"SE_Schools_buffer\")\n",
    "arcpy.CopyFeatures_management(featureSubset, \"CBO_Geocode_1_inBuffer\")"
   ]
  },
  {
   "cell_type": "code",
   "execution_count": null,
   "metadata": {
    "collapsed": true
   },
   "outputs": [],
   "source": []
  }
 ],
 "metadata": {
  "kernelspec": {
   "display_name": "Python 2",
   "language": "python",
   "name": "python2"
  },
  "language_info": {
   "codemirror_mode": {
    "name": "ipython",
    "version": 2
   },
   "file_extension": ".py",
   "mimetype": "text/x-python",
   "name": "python",
   "nbconvert_exporter": "python",
   "pygments_lexer": "ipython2",
   "version": "2.7.10"
  }
 },
 "nbformat": 4,
 "nbformat_minor": 0
}
