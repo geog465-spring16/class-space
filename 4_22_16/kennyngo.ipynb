{
 "cells": [
  {
   "cell_type": "code",
   "execution_count": 44,
   "metadata": {
    "collapsed": false
   },
   "outputs": [
    {
     "name": "stdout",
     "output_type": "stream",
     "text": [
      "Cleveland H.S.\n",
      "Franklin H.S.\n",
      "Rainier Beach H.S.\n",
      "Mercer M.S.\n",
      "South Shore M.S.\n",
      "Beacon Hill Elem.\n",
      "Dunlap Elem.\n",
      "Emerson Elem.\n",
      "Graham Hill Elem.\n",
      "Hawthorne Elem.\n",
      "Kimball Elem.\n",
      "M.L. King Elem.\n",
      "Maple Elem.\n",
      "John Muir Elem.\n",
      "Orca K-8\n",
      "Rainier View Elem.\n",
      "Van Asselt Elem.\n",
      "Wing Luke Elem.\n",
      "Aki Kurose M.S.\n",
      "Dearborne Park Elem.\n"
     ]
    }
   ],
   "source": [
    "import sys\n",
    "sys.path.append('C:\\\\Program Files (x86)\\\\ArcGIS\\\\Desktop10.3\\\\bin')\n",
    "sys.path.append('C:\\\\Program Files (x86)\\\\ArcGIS\\\\Desktop10.3\\\\arcpy')\n",
    "sys.path.append('C:\\\\Program Files (x86)\\\\ArcGIS\\\\Desktop10.3\\\\ArcToolbox\\\\Scripts')\n",
    "\n",
    "import string\n",
    "import arcpy\n",
    "\n",
    "path = \"C:\\\\Users\\\\knny\\\\Desktop\\\\042116\\\\Seattle_schools.gdb\\\\\"\n",
    "\n",
    "arcpy.env.workspace = path\n",
    "arcpy.env.overwriteOutput = True\n",
    "\n",
    "#arcpy.Buffer_analysis(\"SE_Schools\", \"SE_Schools_buffered\", \"500 Meter\")\n",
    "exclude = set(string.punctuation) #for removing punction and spaces for file naming\n",
    "exclude.update(\" \")\n",
    "\n",
    "for row in arcpy.da.SearchCursor(\"SE_Schools_Buffered\", [\"SCHOOL\", \"SHAPE@\"]):\n",
    "    print row[0]\n",
    "    CBO_layer = arcpy.MakeFeatureLayer_management(\"CBO_Geocode_1\", \"CBO_layer\")\n",
    "    searchlyr = arcpy.MakeFeatureLayer_management(row[1], \"search_layer\") #not actually creating a search layer\n",
    "    CBO_select = arcpy.SelectLayerByLocation_management(CBO_layer, \"WITHIN\", searchlyr)\n",
    "    arcpy.FeatureClassToFeatureClass_conversion(CBO_select, path, (\"CBO_near_\" + (''.join(ch for ch in row[0] if ch not in exclude))))"
   ]
  },
  {
   "cell_type": "markdown",
   "metadata": {},
   "source": [
    "code doesn't actually copy features from CBO that are within a school's buffer"
   ]
  }
 ],
 "metadata": {
  "kernelspec": {
   "display_name": "Python 2",
   "language": "python",
   "name": "python2"
  },
  "language_info": {
   "codemirror_mode": {
    "name": "ipython",
    "version": 2
   },
   "file_extension": ".py",
   "mimetype": "text/x-python",
   "name": "python",
   "nbconvert_exporter": "python",
   "pygments_lexer": "ipython2",
   "version": "2.7.10"
  }
 },
 "nbformat": 4,
 "nbformat_minor": 0
}
