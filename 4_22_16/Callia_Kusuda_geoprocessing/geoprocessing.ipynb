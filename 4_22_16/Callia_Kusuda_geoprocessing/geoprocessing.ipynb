{
 "cells": [
  {
   "cell_type": "markdown",
   "metadata": {},
   "source": [
    "Evan Callia\n",
    "\n",
    "Kyle Kusuda\n",
    "\n",
    "4/21"
   ]
  },
  {
   "cell_type": "markdown",
   "metadata": {},
   "source": [
    "set up pathway to ArcPy"
   ]
  },
  {
   "cell_type": "code",
   "execution_count": 9,
   "metadata": {
    "collapsed": true
   },
   "outputs": [],
   "source": [
    "import sys\n",
    "sys.path.append('C:\\\\Program Files (x86)\\\\ArcGIS\\\\Desktop10.3\\\\bin')\n",
    "sys.path.append('C:\\\\Program Files (x86)\\\\ArcGIS\\\\Desktop10.3\\\\arcpy')\n",
    "sys.path.append('C:\\\\Program Files (x86)\\\\ArcGIS\\\\Desktop10.3\\\\ArcToolbox\\\\Scripts')\n",
    "import arcpy\n",
    "arcpy.env.workspace = r\"V:\\UW\\Geog 456\\In_Class\\4-21\\Seattle_schools.gdb\"\n",
    "arcpy.env.overwriteOutput = True"
   ]
  },
  {
   "cell_type": "markdown",
   "metadata": {},
   "source": [
    "Buffer each of the points in \"SE_Schools\" with a radius of 500 m;\n"
   ]
  },
  {
   "cell_type": "code",
   "execution_count": 10,
   "metadata": {
    "collapsed": false
   },
   "outputs": [
    {
     "data": {
      "text/plain": [
       "<Result 'V:\\\\UW\\\\Geog 456\\\\In_Class\\\\4-21\\\\Seattle_schools.gdb\\\\SE_Schools_buffer500'>"
      ]
     },
     "execution_count": 10,
     "metadata": {},
     "output_type": "execute_result"
    }
   ],
   "source": [
    "arcpy.Buffer_analysis(\"SE_Schools\", \"SE_Schools_buffer500\", \"500 meters\")"
   ]
  },
  {
   "cell_type": "markdown",
   "metadata": {},
   "source": [
    "For each buffered school, select the features from \"CBO_Geocode_1\" that fall within their 500 m buffer (you'll need Select by Location (Links to an external site.)).\n"
   ]
  },
  {
   "cell_type": "code",
   "execution_count": 12,
   "metadata": {
    "collapsed": false
   },
   "outputs": [
    {
     "data": {
      "text/plain": [
       "<Result 'CBO_Geocode_1_lyr'>"
      ]
     },
     "execution_count": 12,
     "metadata": {},
     "output_type": "execute_result"
    }
   ],
   "source": [
    "arcpy.MakeFeatureLayer_management(\"CBO_Geocode_1\", \"CBO_Geocode_1_lyr\")\n",
    "arcpy.SelectLayerByLocation_management(\"CBO_Geocode_1_lyr\", \"INTERSECT\", \"SE_Schools_buffer500\")"
   ]
  },
  {
   "cell_type": "markdown",
   "metadata": {},
   "source": [
    "Export each set of selected features to a new - appropriately named - feature class in the same geodatabase (there are a few ways to do this: \n",
    "you could use CopyRows_managemen\n",
    "FeatureClasstoFeatureClass_conversion \n",
    "FeatureClasstoGeodatabase_conversion"
   ]
  },
  {
   "cell_type": "code",
   "execution_count": 13,
   "metadata": {
    "collapsed": false
   },
   "outputs": [
    {
     "data": {
      "text/plain": [
       "<Result 'V:\\\\UW\\\\Geog 456\\\\In_Class\\\\4-21\\\\Seattle_schools.gdb'>"
      ]
     },
     "execution_count": 13,
     "metadata": {},
     "output_type": "execute_result"
    }
   ],
   "source": [
    "arcpy.FeatureClassToGeodatabase_conversion(\"CBO_Geocode_1_lyr\", r\"V:\\UW\\Geog 456\\In_Class\\4-21\\Seattle_schools.gdb\")"
   ]
  },
  {
   "cell_type": "code",
   "execution_count": null,
   "metadata": {
    "collapsed": true
   },
   "outputs": [],
   "source": []
  }
 ],
 "metadata": {
  "kernelspec": {
   "display_name": "Python 2",
   "language": "python",
   "name": "python2"
  },
  "language_info": {
   "codemirror_mode": {
    "name": "ipython",
    "version": 2
   },
   "file_extension": ".py",
   "mimetype": "text/x-python",
   "name": "python",
   "nbconvert_exporter": "python",
   "pygments_lexer": "ipython2",
   "version": "2.7.10"
  }
 },
 "nbformat": 4,
 "nbformat_minor": 0
}
