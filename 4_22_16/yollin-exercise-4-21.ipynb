{
 "cells": [
  {
   "cell_type": "code",
   "execution_count": 1,
   "metadata": {
    "collapsed": false
   },
   "outputs": [
    {
     "data": {
      "text/plain": [
       "<Result 'C:\\\\rProjects\\\\465-class-space\\\\4_22_16\\\\Seattle_schools.gdb\\\\cbo_near_schools'>"
      ]
     },
     "execution_count": 1,
     "metadata": {},
     "output_type": "execute_result"
    }
   ],
   "source": [
    "import sys\n",
    "sys.path.append('C:\\\\Program Files (x86)\\\\ArcGIS\\\\Desktop10.3\\\\bin')\n",
    "sys.path.append('C:\\\\Program Files (x86)\\\\ArcGIS\\\\Desktop10.3\\\\arcpy')\n",
    "sys.path.append('C:\\\\Program Files (x86)\\\\ArcGIS\\\\Desktop10.3\\\\ArcToolbox\\\\Scripts')\n",
    "import arcpy\n",
    "import os\n",
    "\n",
    "# connection string to file geodatabase\n",
    "gdb_conn = 'C:\\\\rProjects\\\\465-class-space\\\\4_22_16\\\\Seattle_schools.gdb'\n",
    "\n",
    "# connection string to geodatabase features\n",
    "schools_conn = gdb_conn + os.sep + 'SE_Schools'\n",
    "cbo_conn = gdb_conn + os.sep + 'CBO_Geocode_1'\n",
    "\n",
    "# set up environment workspace\n",
    "temp_env = 'in_memory'\n",
    "arcpy.env.workspace = temp_env\n",
    "arcpy.env.overwriteOutput = True\n",
    "\n",
    "# copy feature into memory for modification\n",
    "schools = arcpy.CreateUniqueName('schools', temp_env)\n",
    "arcpy.CopyFeatures_management(schools_conn, schools)\n",
    "\n",
    "# buffer schools by 500 meters\n",
    "schools_buffered = arcpy.CreateUniqueName('schools_buffered', temp_env)\n",
    "arcpy.Buffer_analysis(schools, schools_buffered, '500 METERS')\n",
    "\n",
    "# select cbo by location\n",
    "cbo_subset = arcpy.CreateUniqueName('cbo_subset', temp_env)\n",
    "arcpy.MakeFeatureLayer_management(cbo_conn, cbo_subset)\n",
    "arcpy.SelectLayerByLocation_management(in_layer = cbo_subset,\n",
    "                                       overlap_type = 'WITHIN',\n",
    "                                       select_features = schools_buffered)\n",
    "\n",
    "# save selection as new feature class\n",
    "arcpy.FeatureClassToFeatureClass_conversion(cbo_subset, gdb_conn, 'cbo_near_schools')"
   ]
  },
  {
   "cell_type": "code",
   "execution_count": null,
   "metadata": {
    "collapsed": true
   },
   "outputs": [],
   "source": []
  }
 ],
 "metadata": {
  "kernelspec": {
   "display_name": "Python 2",
   "language": "python",
   "name": "python2"
  },
  "language_info": {
   "codemirror_mode": {
    "name": "ipython",
    "version": 2
   },
   "file_extension": ".py",
   "mimetype": "text/x-python",
   "name": "python",
   "nbconvert_exporter": "python",
   "pygments_lexer": "ipython2",
   "version": "2.7.10"
  }
 },
 "nbformat": 4,
 "nbformat_minor": 0
}
