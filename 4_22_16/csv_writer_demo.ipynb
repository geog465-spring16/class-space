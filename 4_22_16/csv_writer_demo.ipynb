{
 "cells": [
  {
   "cell_type": "code",
   "execution_count": 3,
   "metadata": {
    "collapsed": true
   },
   "outputs": [],
   "source": [
    "import csv"
   ]
  },
  {
   "cell_type": "code",
   "execution_count": 4,
   "metadata": {
    "collapsed": true
   },
   "outputs": [],
   "source": [
    "f = open('/Users/chrislizotte/Desktop/Sold_Fleet_Equipment.csv')"
   ]
  },
  {
   "cell_type": "code",
   "execution_count": 5,
   "metadata": {
    "collapsed": true
   },
   "outputs": [],
   "source": [
    "my_csv = csv.reader(f, delimiter = ',')"
   ]
  },
  {
   "cell_type": "code",
   "execution_count": 6,
   "metadata": {
    "collapsed": false
   },
   "outputs": [],
   "source": [
    "for row in my_csv:\n",
    "    "
   ]
  },
  {
   "cell_type": "code",
   "execution_count": 7,
   "metadata": {
    "collapsed": true
   },
   "outputs": [],
   "source": [
    "my_dreader = csv.DictReader(f)"
   ]
  },
  {
   "cell_type": "code",
   "execution_count": 8,
   "metadata": {
    "collapsed": false
   },
   "outputs": [],
   "source": [
    "for row in my_dreader:"
   ]
  },
  {
   "cell_type": "code",
   "execution_count": 109,
   "metadata": {
    "collapsed": true
   },
   "outputs": [],
   "source": [
    "test_csv_1 = open('/Users/chrislizotte/Desktop/test_csv_1.csv', 'w')"
   ]
  },
  {
   "cell_type": "code",
   "execution_count": 137,
   "metadata": {
    "collapsed": true
   },
   "outputs": [],
   "source": [
    "test_csv_2 = open('/Users/chrislizotte/Desktop/test_csv_3.csv', 'w')"
   ]
  },
  {
   "cell_type": "code",
   "execution_count": 138,
   "metadata": {
    "collapsed": true
   },
   "outputs": [],
   "source": [
    "columnnames = ['id', 'year_id', 'DESCRIPTION', 'SALE_DATE', 'SOLD_BY']"
   ]
  },
  {
   "cell_type": "code",
   "execution_count": 139,
   "metadata": {
    "collapsed": true
   },
   "outputs": [],
   "source": [
    "my_dwriter = csv.DictWriter(test_csv_2, fieldnames = columnnames)"
   ]
  },
  {
   "cell_type": "code",
   "execution_count": 140,
   "metadata": {
    "collapsed": true
   },
   "outputs": [],
   "source": [
    "my_dwriter.writeheader()"
   ]
  },
  {
   "cell_type": "code",
   "execution_count": 141,
   "metadata": {
    "collapsed": false
   },
   "outputs": [],
   "source": [
    "my_dwriter.writerow({'id': 1, 'year_id': 3, 'DESCRIPTION': 'CARGO VAN - ELECTRICIAN', 'SALE_DATE': '', 'SOLD_BY': 'BIDADOO ONLINE AUCTION'})"
   ]
  },
  {
   "cell_type": "code",
   "execution_count": 142,
   "metadata": {
    "collapsed": true
   },
   "outputs": [],
   "source": [
    "test_csv_2.close()"
   ]
  },
  {
   "cell_type": "code",
   "execution_count": 151,
   "metadata": {
    "collapsed": true
   },
   "outputs": [],
   "source": [
    "test_csv_2 = open('/Users/chrislizotte/Desktop/test_csv_3.csv', 'r')"
   ]
  },
  {
   "cell_type": "code",
   "execution_count": 152,
   "metadata": {
    "collapsed": true
   },
   "outputs": [],
   "source": [
    "my_dreader_2 = csv.DictReader(test_csv_2)"
   ]
  },
  {
   "cell_type": "code",
   "execution_count": 153,
   "metadata": {
    "collapsed": false
   },
   "outputs": [
    {
     "name": "stdout",
     "output_type": "stream",
     "text": [
      "{'SALE_DATE': '', 'year_id': '3', 'SOLD_BY': 'BIDADOO ONLINE AUCTION', 'id': '1', 'DESCRIPTION': 'CARGO VAN - ELECTRICIAN'}\n"
     ]
    }
   ],
   "source": [
    "for row in my_dreader_2:\n",
    "    print row"
   ]
  },
  {
   "cell_type": "markdown",
   "metadata": {
    "collapsed": true
   },
   "source": [
    "Writing to .csv files with loops:"
   ]
  },
  {
   "cell_type": "code",
   "execution_count": 61,
   "metadata": {
    "collapsed": true
   },
   "outputs": [],
   "source": [
    "test_csv_loop = open('/Users/chrislizotte/Desktop/test_csv_4.csv', 'w')"
   ]
  },
  {
   "cell_type": "code",
   "execution_count": 62,
   "metadata": {
    "collapsed": true
   },
   "outputs": [],
   "source": [
    "fieldnames = ['id', 'year_id', 'DESCRIPTION', 'SALE_DATE', 'SOLD_BY']"
   ]
  },
  {
   "cell_type": "code",
   "execution_count": 63,
   "metadata": {
    "collapsed": true
   },
   "outputs": [],
   "source": [
    "loop_dwriter = csv.DictWriter(test_csv_loop, fieldnames = fieldnames)"
   ]
  },
  {
   "cell_type": "code",
   "execution_count": 64,
   "metadata": {
    "collapsed": false
   },
   "outputs": [],
   "source": [
    "loop_dwriter.writeheader()"
   ]
  },
  {
   "cell_type": "code",
   "execution_count": 65,
   "metadata": {
    "collapsed": true
   },
   "outputs": [],
   "source": [
    "loop_dreader = csv.DictReader(open('/Users/chrislizotte/Desktop/Sold_Fleet_Equipment.csv', 'r'))"
   ]
  },
  {
   "cell_type": "code",
   "execution_count": 58,
   "metadata": {
    "collapsed": false
   },
   "outputs": [
    {
     "ename": "AttributeError",
     "evalue": "DictReader instance has no attribute '__getitem__'",
     "output_type": "error",
     "traceback": [
      "\u001b[0;31m---------------------------------------------------------------------------\u001b[0m",
      "\u001b[0;31mAttributeError\u001b[0m                            Traceback (most recent call last)",
      "\u001b[0;32m<ipython-input-58-9f3dee9762fe>\u001b[0m in \u001b[0;36m<module>\u001b[0;34m()\u001b[0m\n\u001b[0;32m----> 1\u001b[0;31m \u001b[0;32mprint\u001b[0m \u001b[0mloop_dreader\u001b[0m\u001b[0;34m[\u001b[0m\u001b[0;34m'DESCRIPTION'\u001b[0m\u001b[0;34m]\u001b[0m\u001b[0;34m\u001b[0m\u001b[0m\n\u001b[0m",
      "\u001b[0;31mAttributeError\u001b[0m: DictReader instance has no attribute '__getitem__'"
     ]
    }
   ],
   "source": []
  },
  {
   "cell_type": "code",
   "execution_count": 66,
   "metadata": {
    "collapsed": true
   },
   "outputs": [],
   "source": [
    "new_dict_list = []"
   ]
  },
  {
   "cell_type": "code",
   "execution_count": 67,
   "metadata": {
    "collapsed": true
   },
   "outputs": [],
   "source": [
    "i = 1\n",
    "for row in loop_dreader:\n",
    "    new_dict_list.append({'id': i, 'year_id': row['YEAR'], 'DESCRIPTION': row['DESCRIPTION'], 'SALE_DATE': row['SALE_DATE'], 'SOLD_BY': row['SOLD_BY']})\n",
    "    i =+ 1"
   ]
  },
  {
   "cell_type": "code",
   "execution_count": 68,
   "metadata": {
    "collapsed": false
   },
   "outputs": [],
   "source": [
    "loop_dwriter.writerows(new_dict_list)"
   ]
  },
  {
   "cell_type": "code",
   "execution_count": 69,
   "metadata": {
    "collapsed": true
   },
   "outputs": [],
   "source": [
    "test_csv_loop.close()"
   ]
  },
  {
   "cell_type": "code",
   "execution_count": 70,
   "metadata": {
    "collapsed": true
   },
   "outputs": [],
   "source": [
    "test_csv_loop = open('/Users/chrislizotte/Desktop/test_csv_4.csv')"
   ]
  },
  {
   "cell_type": "code",
   "execution_count": 71,
   "metadata": {
    "collapsed": true
   },
   "outputs": [],
   "source": [
    "loop_dreader = csv.DictReader(test_csv_loop)"
   ]
  },
  {
   "cell_type": "code",
   "execution_count": 72,
   "metadata": {
    "collapsed": false
   },
   "outputs": [
    {
     "name": "stdout",
     "output_type": "stream",
     "text": [
      "{'SALE_DATE': '', 'year_id': '2000', 'SOLD_BY': 'BIDADOO ONLINE AUCTION', 'id': '1', 'DESCRIPTION': 'SUBCOMPACT SEDAN'}\n",
      "{'SALE_DATE': '', 'year_id': '2000', 'SOLD_BY': 'BIDADOO ONLINE AUCTION', 'id': '2', 'DESCRIPTION': 'CARGO MINIVAN'}\n",
      "{'SALE_DATE': '', 'year_id': '2000', 'SOLD_BY': 'MURPHYS AUCTION', 'id': '3', 'DESCRIPTION': 'CARGO MINIVAN'}\n",
      "{'SALE_DATE': '', 'year_id': '2000', 'SOLD_BY': 'MURPHYS AUCTION', 'id': '4', 'DESCRIPTION': 'CARGO VAN - HVAC'}\n",
      "{'SALE_DATE': '', 'year_id': '2000', 'SOLD_BY': 'BIDADOO ONLINE AUCTION', 'id': '5', 'DESCRIPTION': 'CARGO VAN - CARPENTER'}\n",
      "{'SALE_DATE': '', 'year_id': '2000', 'SOLD_BY': 'BIDADOO ONLINE AUCTION', 'id': '6', 'DESCRIPTION': 'CARGO VAN - PLUMBER'}\n",
      "{'SALE_DATE': '', 'year_id': '2000', 'SOLD_BY': 'BIDADOO ONLINE AUCTION', 'id': '7', 'DESCRIPTION': 'CARGO VAN - HVAC'}\n",
      "{'SALE_DATE': '', 'year_id': '2000', 'SOLD_BY': 'BIDADOO ONLINE AUCTION', 'id': '8', 'DESCRIPTION': 'PICKUP - CREW CAB - DRW'}\n",
      "{'SALE_DATE': '', 'year_id': '2000', 'SOLD_BY': 'MURPHYS AUCTION', 'id': '9', 'DESCRIPTION': 'CARGO VAN - PLUMBER WITH CRANE'}\n",
      "{'SALE_DATE': '', 'year_id': '2000', 'SOLD_BY': 'MURPHYS AUCTION', 'id': '10', 'DESCRIPTION': 'PICKUP - CREW CAB'}\n"
     ]
    }
   ],
   "source": [
    "for i in range (0, 10):\n",
    "    print loop_dreader.next()\n",
    "    "
   ]
  },
  {
   "cell_type": "markdown",
   "metadata": {},
   "source": []
  },
  {
   "cell_type": "code",
   "execution_count": null,
   "metadata": {
    "collapsed": true
   },
   "outputs": [],
   "source": []
  }
 ],
 "metadata": {
  "kernelspec": {
   "display_name": "Python 2",
   "language": "python",
   "name": "python2"
  },
  "language_info": {
   "codemirror_mode": {
    "name": "ipython",
    "version": 2
   },
   "file_extension": ".py",
   "mimetype": "text/x-python",
   "name": "python",
   "nbconvert_exporter": "python",
   "pygments_lexer": "ipython2",
   "version": "2.7.10"
  }
 },
 "nbformat": 4,
 "nbformat_minor": 0
}
