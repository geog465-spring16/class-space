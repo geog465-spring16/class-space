{
 "cells": [
  {
   "cell_type": "code",
   "execution_count": 116,
   "metadata": {
    "collapsed": true
   },
   "outputs": [],
   "source": [
    "import csv"
   ]
  },
  {
   "cell_type": "code",
   "execution_count": 117,
   "metadata": {
    "collapsed": true
   },
   "outputs": [],
   "source": [
    "file = open('C:\\Users\\Zhengwei Sun\\Desktop\\GEOG465 Final\\Code_Violation_Cases.csv', 'r')"
   ]
  },
  {
   "cell_type": "code",
   "execution_count": 118,
   "metadata": {
    "collapsed": false
   },
   "outputs": [],
   "source": [
    "Final_csv = csv.reader(file, delimiter = ',')"
   ]
  },
  {
   "cell_type": "code",
   "execution_count": 119,
   "metadata": {
    "collapsed": false
   },
   "outputs": [
    {
     "name": "stdout",
     "output_type": "stream",
     "text": [
      "['Case Number', 'Case Type', 'Address', 'Description', 'Case Group', 'Date Case Created', 'Last Inspection Date', 'Last Inspection Result', 'Status', 'Permit and Complaint Status URL', 'Latitude', 'Longitude', 'Location']\n",
      "['1037478', 'HOUSING / ZONING', '6631 CARLETON AVE S', '05/05/16 DW Observed mold around the window frames and crack windows', 'HOUSING', '05/18/2016', '05/05/2016', 'FAILED', 'OPEN', 'http://web6.seattle.gov/dpd/PermitStatus/Project.aspx?id=1037478', '47.54347049', '-122.32169651', '(47.54347049, -122.32169651)']\n",
      "['1037477', 'CITATION', '9208 17TH AVE SW', 'LAND USE CODE VIOLATION: Premises is being used for junk storage.', 'ZONING', '05/18/2016', '05/17/2016', 'FAILED', 'OPEN', 'http://web6.seattle.gov/dpd/PermitStatus/Project.aspx?id=1037477', '47.52068777', '-122.35618814', '(47.52068777, -122.35618814)']\n",
      "['1037476', 'CITATION', '330 NW 50TH ST', '10/27/2015 ED- will send letter to inspect. 03/21/2016 ED- Will send another letter to inspect. 05/18/2016 ED- structures in required yard.', 'ZONING', '05/18/2016', '05/18/2016', 'FAILED', 'OPEN', 'http://web6.seattle.gov/dpd/PermitStatus/Project.aspx?id=1037476', '47.66520517', '-122.36209893', '(47.66520517, -122.36209893)']\n",
      "['1037475', 'TENANT RELOCATION ORDINANCE', '2426 NW 62ND ST', 'Application for Tenant Relocation License. Total units: 3; total units occupied: 3. Demolition.', 'TENANT RELOCATION ASSIST ORD', '05/18/2016', '', '', 'OPEN', 'http://web6.seattle.gov/dpd/PermitStatus/Project.aspx?id=1037475', '47.67404007', '-122.38888901', '(47.67404007, -122.38888901)']\n"
     ]
    }
   ],
   "source": [
    "for i in range(5):\n",
    "    print Final_csv.next()"
   ]
  },
  {
   "cell_type": "code",
   "execution_count": null,
   "metadata": {
    "collapsed": true
   },
   "outputs": [],
   "source": [
    "#Start building tables"
   ]
  },
  {
   "cell_type": "code",
   "execution_count": 120,
   "metadata": {
    "collapsed": true
   },
   "outputs": [],
   "source": [
    "case_number = open('C:/Users/Zhengwei Sun/Desktop/GEOG465 Final/No_case.csv', 'w')\n",
    "columnnames = ['id', 'case_number', 'case_type_id', 'case_group_id',\n",
    "              'inspection_result_id', 'location_id', 'status_id']\n",
    "case_number_dwriter = csv.DictWriter(case_number, fieldnames = columnnames)\n",
    "case_number_dwriter.writeheader()\n",
    "case_number_dreader = csv.DictReader(open('C:\\Users\\Zhengwei Sun\\Desktop\\GEOG465 Final\\Code_Violation_Cases.csv', 'r'))\n",
    "list_1 = []"
   ]
  },
  {
   "cell_type": "code",
   "execution_count": 121,
   "metadata": {
    "collapsed": true
   },
   "outputs": [],
   "source": [
    "i = 1\n",
    "for row in case_number_dreader:\n",
    "    list_1.append({'id':i, 'case_number':row['Case Number'], 'case_type_id':0,\n",
    "                  'case_group_id':0, 'inspection_result_id':0, 'location_id':0\n",
    "                  ,'status_id':0})\n",
    "    i +=1"
   ]
  },
  {
   "cell_type": "code",
   "execution_count": 122,
   "metadata": {
    "collapsed": false
   },
   "outputs": [],
   "source": [
    "case_number_dwriter.writerows(list_1)\n",
    "case_number.close()"
   ]
  },
  {
   "cell_type": "code",
   "execution_count": 123,
   "metadata": {
    "collapsed": false
   },
   "outputs": [],
   "source": [
    "case_number = open('C:/Users/Zhengwei Sun/Desktop/GEOG465 Final/No_case.csv', 'r')\n",
    "case_number_dreader = csv.DictReader(case_number)"
   ]
  },
  {
   "cell_type": "code",
   "execution_count": 124,
   "metadata": {
    "collapsed": false
   },
   "outputs": [
    {
     "name": "stdout",
     "output_type": "stream",
     "text": [
      "{'case_type_id': '0', 'status_id': '0', 'case_group_id': '0', 'case_number': '1037478', 'location_id': '0', 'id': '1', 'inspection_result_id': '0'}\n",
      "{'case_type_id': '0', 'status_id': '0', 'case_group_id': '0', 'case_number': '1037477', 'location_id': '0', 'id': '2', 'inspection_result_id': '0'}\n",
      "{'case_type_id': '0', 'status_id': '0', 'case_group_id': '0', 'case_number': '1037476', 'location_id': '0', 'id': '3', 'inspection_result_id': '0'}\n",
      "{'case_type_id': '0', 'status_id': '0', 'case_group_id': '0', 'case_number': '1037475', 'location_id': '0', 'id': '4', 'inspection_result_id': '0'}\n",
      "{'case_type_id': '0', 'status_id': '0', 'case_group_id': '0', 'case_number': '1037475', 'location_id': '0', 'id': '5', 'inspection_result_id': '0'}\n",
      "{'case_type_id': '0', 'status_id': '0', 'case_group_id': '0', 'case_number': '1037474', 'location_id': '0', 'id': '6', 'inspection_result_id': '0'}\n",
      "{'case_type_id': '0', 'status_id': '0', 'case_group_id': '0', 'case_number': '1037474', 'location_id': '0', 'id': '7', 'inspection_result_id': '0'}\n",
      "{'case_type_id': '0', 'status_id': '0', 'case_group_id': '0', 'case_number': '1037474', 'location_id': '0', 'id': '8', 'inspection_result_id': '0'}\n",
      "{'case_type_id': '0', 'status_id': '0', 'case_group_id': '0', 'case_number': '1037473', 'location_id': '0', 'id': '9', 'inspection_result_id': '0'}\n",
      "{'case_type_id': '0', 'status_id': '0', 'case_group_id': '0', 'case_number': '1037472', 'location_id': '0', 'id': '10', 'inspection_result_id': '0'}\n"
     ]
    }
   ],
   "source": [
    "for i in range(0,10):\n",
    "    print case_number_dreader.next()"
   ]
  },
  {
   "cell_type": "code",
   "execution_count": 139,
   "metadata": {
    "collapsed": false
   },
   "outputs": [],
   "source": [
    "case_group = open ('C:/Users/Zhengwei Sun/Desktop/GEOG465 Final/case_group.csv', 'w')\n",
    "columnnames = ['id', 'case_group_type']\n",
    "case_group_dwriter = csv.DictWriter(case_group, fieldnames = columnnames)\n",
    "case_group_dwriter.writeheader()\n",
    "case_group_dwriter.writerow ({'id':'1', 'case_group_type':'HOUSING'})\n",
    "case_group_dwriter.writerow ({'id':'2', 'case_group_type':'SITE'})\n",
    "case_group_dwriter.writerow ({'id':'3', 'case_group_type':'ZONING'})\n",
    "case_group_dwriter.writerow ({'id':'4', 'case_group_type':'BUILDING'})\n",
    "case_group_dwriter.writerow ({'id':'5', 'case_group_type':'WEEDS AND VEGETATION'})\n",
    "case_group_dwriter.writerow ({'id':'6', 'case_group_type':'CONDO/COOP CONVERSION'})\n",
    "case_group_dwriter.writerow ({'id':'7', 'case_group_type':'VACANT BUILDING'})\n",
    "case_group_dwriter.writerow ({'id':'8', 'case_group_type':'SIGNS'})\n",
    "case_group_dwriter.writerow ({'id':'9', 'case_group_type':'PREMISES'})\n",
    "case_group_dwriter.writerow ({'id':'10', 'case_group_type':'ELECTRICAL'})\n",
    "case_group_dwriter.writerow ({'id':'11', 'case_group_type':'TENANT RELOCATION ASSIST ORD'})\n",
    "case_group_dwriter.writerow ({'id':'12', 'case_group_type':'JUST CAUSE EVICTION'})\n",
    "case_group_dwriter.writerow ({'id':'13', 'case_group_type':'MECHANICAL'})\n",
    "case_group_dwriter.writerow ({'id':'14', 'case_group_type':'CONSTRUCTION NOISE'})\n",
    "case_group_dwriter.writerow ({'id':'15', 'case_group_type':'NONCONSTRUCTION NOISE'})\n",
    "case_group_dwriter.writerow ({'id':'16', 'case_group_type':'OTHER CONSTRUCTION'})\n",
    "case_group_dwriter.writerow ({'id':'17', 'case_group_type':'PRESALE'})\n",
    "case_group_dwriter.writerow ({'id':'18', 'case_group_type':'TRAO AVOIDANCE'})\n",
    "case_group_dwriter.writerow ({'id':'1', 'case_group_type':'BUILDING AND PREMISES'})\n",
    "case_group.close()"
   ]
  },
  {
   "cell_type": "code",
   "execution_count": 140,
   "metadata": {
    "collapsed": false
   },
   "outputs": [
    {
     "name": "stdout",
     "output_type": "stream",
     "text": [
      "{'case_group_type': 'HOUSING', 'id': '1'}\n",
      "{'case_group_type': 'SITE', 'id': '2'}\n",
      "{'case_group_type': 'ZONING', 'id': '3'}\n",
      "{'case_group_type': 'BUILDING', 'id': '4'}\n",
      "{'case_group_type': 'WEEDS AND VEGETATION', 'id': '5'}\n",
      "{'case_group_type': 'CONDO/COOP CONVERSION', 'id': '6'}\n",
      "{'case_group_type': 'VACANT BUILDING', 'id': '7'}\n",
      "{'case_group_type': 'SIGNS', 'id': '8'}\n",
      "{'case_group_type': 'PREMISES', 'id': '9'}\n",
      "{'case_group_type': 'ELECTRICAL', 'id': '10'}\n",
      "{'case_group_type': 'TENANT RELOCATION ASSIST ORD', 'id': '11'}\n",
      "{'case_group_type': 'JUST CAUSE EVICTION', 'id': '12'}\n",
      "{'case_group_type': 'MECHANICAL', 'id': '13'}\n",
      "{'case_group_type': 'CONSTRUCTION NOISE', 'id': '14'}\n",
      "{'case_group_type': 'NONCONSTRUCTION NOISE', 'id': '15'}\n",
      "{'case_group_type': 'OTHER CONSTRUCTION', 'id': '16'}\n",
      "{'case_group_type': 'PRESALE', 'id': '17'}\n",
      "{'case_group_type': 'TRAO AVOIDANCE', 'id': '18'}\n",
      "{'case_group_type': 'BUILDING AND PREMISES', 'id': '1'}\n"
     ]
    }
   ],
   "source": [
    "case_group = open('C:/Users/Zhengwei Sun/Desktop/GEOG465 Final/case_group.csv','r')\n",
    "case_group_reader = csv.DictReader(case_group)\n",
    "for row in case_group_reader:\n",
    "    print row"
   ]
  },
  {
   "cell_type": "code",
   "execution_count": 142,
   "metadata": {
    "collapsed": true
   },
   "outputs": [],
   "source": [
    "inspection_result = open('C:/Users/Zhengwei Sun/Desktop/GEOG465 Final/inspection_result.csv', 'w')\n",
    "columnnames = ['id', 'result']\n",
    "inspection_result_dwriter = csv.DictWriter(inspection_result, fieldnames = columnnames)\n",
    "inspection_result_dwriter.writeheader()\n",
    "inspection_result_dwriter.writerow ({'id':'1', 'result':'FAILED'})\n",
    "inspection_result_dwriter.writerow ({'id':'2', 'result':'PASSED'})\n",
    "inspection_result_dwriter.writerow ({'id':'3', 'result':'HOLD'})\n",
    "inspection_result.close()"
   ]
  },
  {
   "cell_type": "code",
   "execution_count": 143,
   "metadata": {
    "collapsed": false
   },
   "outputs": [
    {
     "name": "stdout",
     "output_type": "stream",
     "text": [
      "{'id': '1', 'result': 'FAILED'}\n",
      "{'id': '2', 'result': 'PASSED'}\n",
      "{'id': '3', 'result': 'HOLD'}\n"
     ]
    }
   ],
   "source": [
    "inspection_result = open('C:/Users/Zhengwei Sun/Desktop/GEOG465 Final/inspection_result.csv','r')\n",
    "inspection_result_reader = csv.DictReader(inspection_result)\n",
    "for row in inspection_result_reader:\n",
    "    print row"
   ]
  },
  {
   "cell_type": "code",
   "execution_count": 146,
   "metadata": {
    "collapsed": true
   },
   "outputs": [],
   "source": [
    "status = open('C:/Users/Zhengwei Sun/Desktop/GEOG465 Final/status.csv', 'w')\n",
    "columnnames = ['id', 'status']\n",
    "status_dwriter = csv.DictWriter(status, fieldnames = columnnames)\n",
    "status_dwriter.writeheader()\n",
    "status_dwriter.writerow({'id':'1', 'status':'ADMINISTRATIVE CLOSURE'})\n",
    "status_dwriter.writerow({'id':'2', 'status':'CLOSED'})\n",
    "status_dwriter.writerow({'id':'3', 'status':'COMPLAINT/APPLICATION WITHDRAWN'})\n",
    "status_dwriter.writerow({'id':'4', 'status':'ENFORCED COMPLIANCE'})\n",
    "status_dwriter.writerow({'id':'5', 'status':'NO VIOLATION'})\n",
    "status_dwriter.writerow({'id':'6', 'status':'OPEN'})\n",
    "status_dwriter.writerow({'id':'7', 'status':'TRANSFERRED TO EXTERNAL AGENCY'})\n",
    "status_dwriter.writerow({'id':'8', 'status':'VIOLATION'})\n",
    "status_dwriter.writerow({'id':'9', 'status':'VOLUNTARY COMPLIANCE'})\n",
    "status.close()"
   ]
  },
  {
   "cell_type": "code",
   "execution_count": 152,
   "metadata": {
    "collapsed": true
   },
   "outputs": [],
   "source": [
    "location = open('C:/Users/Zhengwei Sun/Desktop/GEOG465 Final/location.csv', 'w')\n",
    "columnnames = ['id', 'address','latitude','longitude']\n",
    "location_dwriter = csv.DictWriter(location, fieldnames = columnnames)\n",
    "location_dwriter.writeheader()\n",
    "location_dreader = csv.DictReader(open('C:\\Users\\Zhengwei Sun\\Desktop\\GEOG465 Final\\Code_Violation_Cases.csv', 'r'))\n",
    "list_5 = []"
   ]
  },
  {
   "cell_type": "code",
   "execution_count": 153,
   "metadata": {
    "collapsed": true
   },
   "outputs": [],
   "source": [
    "i = 1\n",
    "for row in location_dreader:\n",
    "    list_5.append({'id':i, 'address':row['Address'],'latitude':row['Latitude'],\n",
    "                   'longitude':row['Longitude']})\n",
    "    i +=1"
   ]
  },
  {
   "cell_type": "code",
   "execution_count": 154,
   "metadata": {
    "collapsed": false
   },
   "outputs": [
    {
     "name": "stdout",
     "output_type": "stream",
     "text": [
      "{'latitude': '47.54347049', 'id': '1', 'longitude': '-122.32169651', 'address': '6631 CARLETON AVE S'}\n",
      "{'latitude': '47.52068777', 'id': '2', 'longitude': '-122.35618814', 'address': '9208 17TH AVE SW'}\n",
      "{'latitude': '47.66520517', 'id': '3', 'longitude': '-122.36209893', 'address': '330 NW 50TH ST'}\n",
      "{'latitude': '47.67404007', 'id': '4', 'longitude': '-122.38888901', 'address': '2426 NW 62ND ST'}\n",
      "{'latitude': '47.67404007', 'id': '5', 'longitude': '-122.38888901', 'address': '2426 NW 62ND ST'}\n",
      "{'latitude': '47.52573095', 'id': '6', 'longitude': '-122.35676388', 'address': '8625 17TH AVE SW'}\n",
      "{'latitude': '47.52573095', 'id': '7', 'longitude': '-122.35676388', 'address': '8625 17TH AVE SW'}\n",
      "{'latitude': '47.52573095', 'id': '8', 'longitude': '-122.35676388', 'address': '8625 17TH AVE SW'}\n",
      "{'latitude': '47.53422188', 'id': '9', 'longitude': '-122.35071357', 'address': '1200 SW HOLDEN ST'}\n",
      "{'latitude': '47.66603984', 'id': '10', 'longitude': '-122.30584154', 'address': '5037 21ST AVE NE'}\n"
     ]
    }
   ],
   "source": [
    "location_dwriter.writerows(list_5)\n",
    "location.close()\n",
    "location = open('C:/Users/Zhengwei Sun/Desktop/GEOG465 Final/location.csv')\n",
    "location_dreader = csv.DictReader(location)\n",
    "for i in range(0,10):\n",
    "    print location_dreader.next()"
   ]
  },
  {
   "cell_type": "code",
   "execution_count": 155,
   "metadata": {
    "collapsed": true
   },
   "outputs": [],
   "source": [
    "case_type = open('C:/Users/Zhengwei Sun/Desktop/GEOG465 Final/case_type.csv', 'w')\n",
    "columnnames = ['id','case_type']\n",
    "case_type_dwriter = csv.DictWriter(case_type, fieldnames = columnnames)\n",
    "case_type_dwriter.writeheader()\n",
    "case_type_dwriter.writerow({'id':'1', 'case_type':'CITATION'})\n",
    "case_type_dwriter.writerow({'id':'2', 'case_type':'CONDO CONVERSION AND PRESALE'})\n",
    "case_type_dwriter.writerow({'id':'3', 'case_type':'CONSTRUCTION'})\n",
    "case_type_dwriter.writerow({'id':'4', 'case_type':'HOUSING/ZONING'})\n",
    "case_type_dwriter.writerow({'id':'5', 'case_type':'NOISE/SOUND LEVELS'})\n",
    "case_type_dwriter.writerow({'id':'6', 'case_type':'TENANT RELOCATION ORDINANCE'})\n",
    "case_type_dwriter.writerow({'id':'7', 'case_type':'UNFIT BUILDING OR PREMISES'})\n",
    "case_type_dwriter.writerow({'id':'8', 'case_type':'VACANT BUILDING MONITORING'})\n",
    "case_type.close()"
   ]
  },
  {
   "cell_type": "code",
   "execution_count": null,
   "metadata": {
    "collapsed": true
   },
   "outputs": [],
   "source": [
    "#Building tables end"
   ]
  }
 ],
 "metadata": {
  "kernelspec": {
   "display_name": "Python 2",
   "language": "python",
   "name": "python2"
  },
  "language_info": {
   "codemirror_mode": {
    "name": "ipython",
    "version": 2
   },
   "file_extension": ".py",
   "mimetype": "text/x-python",
   "name": "python",
   "nbconvert_exporter": "python",
   "pygments_lexer": "ipython2",
   "version": "2.7.11"
  }
 },
 "nbformat": 4,
 "nbformat_minor": 0
}
