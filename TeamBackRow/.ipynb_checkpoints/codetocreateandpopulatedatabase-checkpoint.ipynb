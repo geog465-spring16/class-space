{
 "cells": [
  {
   "cell_type": "code",
   "execution_count": 1,
   "metadata": {
    "collapsed": false
   },
   "outputs": [],
   "source": [
    "# setup\n",
    "import sys\n",
    "sys.path.append('C:\\Python27\\ArcGIS10.3\\Lib\\site-packages')\n",
    "import pg\n",
    "import csv\n",
    "from collections import namedtuple\n",
    "from pg import DB"
   ]
  },
  {
   "cell_type": "code",
   "execution_count": 2,
   "metadata": {
    "collapsed": false
   },
   "outputs": [],
   "source": [
    "# clear existing database and run from scratch\n",
    "db = DB(dbname = 'geog465_mikeno95', host = 'geog-db2.geog.uw.edu', port = 5432, user = 'mikeno95', passwd = 'mikeno95')\n",
    "db.query('''DROP TABLE permit_application''')\n",
    "db.query('''DROP TABLE master_permit''')\n",
    "db.query('''DROP TABLE location''')\n",
    "db.query('''DROP TABLE contractor''')\n",
    "db.query('''DROP TABLE building_permits''')\n",
    "db.query('''DROP TABLE action_plan CASCADE''')"
   ]
  },
  {
   "cell_type": "code",
   "execution_count": 3,
   "metadata": {
    "collapsed": false
   },
   "outputs": [],
   "source": [
    "# add permit application table\n",
    "db.query('''CREATE TABLE permit_application (\n",
    "        id int NOT NULL, \n",
    "        contractor_id int,\n",
    "        master_permit_id int, \n",
    "        Applicant_Name varchar(67) NOT NULL, \n",
    "        Application_Date date, \n",
    "        Permit_Type varchar(32) NOT NULL, \n",
    "        Description varchar(600) NOT NULL, \n",
    "        Category varchar(50) NOT NULL, \n",
    "        Status varchar(32) NOT NULL,\n",
    "        Issue_Date date, \n",
    "        Final_Date date, \n",
    "        Expiration_date date, \n",
    "        Status_URL varchar(100) NOT NULL,\n",
    "        CONSTRAINT permit_application_id PRIMARY KEY (id) \n",
    " )''')"
   ]
  },
  {
   "cell_type": "code",
   "execution_count": 4,
   "metadata": {
    "collapsed": false
   },
   "outputs": [],
   "source": [
    "# add master plan table\n",
    "db.query('''CREATE TABLE master_permit(\n",
    "        id int NOT NULL, \n",
    "        Master_Use_Permit varchar(20),\n",
    "        CONSTRAINT master_permit_id PRIMARY KEY (id)\n",
    "        )''')"
   ]
  },
  {
   "cell_type": "code",
   "execution_count": 5,
   "metadata": {
    "collapsed": false
   },
   "outputs": [],
   "source": [
    "# add location table\n",
    "db.query('''CREATE TABLE location(\n",
    "        id int NOT NULL, \n",
    "        Address varchar(50) NOT NULL, \n",
    "        Latitude varchar(50) NOT NULL, \n",
    "        Longitude varchar(50) NOT NULL, \n",
    "        Location varchar(100) NOT NULL, \n",
    "        Value money NOT NULL, \n",
    "        CONSTRAINT location_id PRIMARY KEY (id)\n",
    "        )''')"
   ]
  },
  {
   "cell_type": "code",
   "execution_count": 6,
   "metadata": {
    "collapsed": false
   },
   "outputs": [],
   "source": [
    "# add contractor table\n",
    "db.query('''CREATE TABLE contractor(\n",
    "        id int NOT NULL, \n",
    "        Contractor varchar(100) NOT NULL, \n",
    "        CONSTRAINT contractor_id PRIMARY KEY (id)\n",
    "        )''')"
   ]
  },
  {
   "cell_type": "code",
   "execution_count": 7,
   "metadata": {
    "collapsed": false
   },
   "outputs": [],
   "source": [
    "# add action plan table\n",
    "db.query('''CREATE TABLE action_plan(\n",
    "        id int NOT NULL, \n",
    "        Action_Type varchar(100) NOT NULL,\n",
    "        Work_Type varchar(100) NOT NULL, \n",
    "        CONSTRAINT action_plan_id PRIMARY KEY (id)\n",
    "        )''')"
   ]
  },
  {
   "cell_type": "code",
   "execution_count": 8,
   "metadata": {
    "collapsed": false
   },
   "outputs": [],
   "source": [
    "# add building permits table\n",
    "db.query(''' CREATE TABLE building_permits (\n",
    "        id int NOT NULL, \n",
    "        Application_Permit_Number int NOT NULL, \n",
    "        location_id int, \n",
    "        action_plan_id int, \n",
    "        permit_application_id int,\n",
    "        CONSTRAINT building_permits_id PRIMARY KEY (id)\n",
    "        )''')"
   ]
  },
  {
   "cell_type": "code",
   "execution_count": 9,
   "metadata": {
    "collapsed": false
   },
   "outputs": [],
   "source": [
    "# csv containing original data\n",
    "all_permits = 'C:\\\\Users\\\\bethanyy\\\\Downloads\\\\Building_Permits___Current.csv'\n",
    "\n",
    "# instantiate dictionaries\n",
    "contractor      = {}\n",
    "location        = {}\n",
    "action_plan     = {}\n",
    "master_use      = {}\n",
    "building_permit = {}\n",
    "permit_app      = {}\n",
    "\n",
    "# instantiate named tuples\n",
    "RowLocation       = namedtuple('RowLocation', 'Address, Latitude, Longitude, Location, Value')\n",
    "RowAction         = namedtuple('RowAction', 'Action_Type, Work_Type')\n",
    "RowBuildingPermit = namedtuple('RowBuildingPermit', 'Application_Permit_Number, Location_ID, Action_Plan_ID, \\\n",
    "                               Permit_Application_ID')\n",
    "RowPermitApp      = namedtuple('RowPermitApp', 'Contractor_ID, Master_Permit_ID, Applicant_Name, Application_Date, \\\n",
    "                               Permit_Type, Description, Category, Status, Issue_Date, Final_Date, Expiration_Date, Status_URL')\n",
    "\n",
    "# open file connection\n",
    "with open(all_permits) as csvfile:\n",
    "    \n",
    "        reader = csv.DictReader(csvfile)\n",
    "        \n",
    "        for row in reader:\n",
    "            \n",
    "            # add keys to dictionaries, keys are named tuples\n",
    "            contractor[row['Contractor']]                                                                           = None\n",
    "            location[RowLocation(row['Address'], row['Latitude'], row['Longitude'], row['Location'], row['Value'])] = None\n",
    "            action_plan[RowAction(row['Action Type'], row['Work Type'])]                                            = None\n",
    "            master_use[row['Master Use Permit']]                                                                    = None\n",
    "        \n",
    "        # assign unique ids\n",
    "        keys = contractor.keys()\n",
    "        for i, k in enumerate(keys):\n",
    "            contractor[k] = i\n",
    "         \n",
    "        keys = location.keys()\n",
    "        for i, k in enumerate(keys):\n",
    "            location[k] = i\n",
    "  \n",
    "        keys = action_plan.keys()\n",
    "        for i, k in enumerate(keys):\n",
    "            action_plan[k] = i\n",
    " \n",
    "        keys = master_use.keys()\n",
    "        for i, k in enumerate(keys):\n",
    "            master_use[k] = i\n",
    "\n",
    "# open file connection\n",
    "with open(all_permits) as csvfile:\n",
    "    \n",
    "    reader = csv.DictReader(csvfile)\n",
    "    \n",
    "    for row in reader:\n",
    "        \n",
    "        # get unique key for contractor and master permit\n",
    "        contractor_lookup    = contractor.get(row['Contractor'])\n",
    "        master_permit_lookup = master_use.get(row['Master Use Permit'])\n",
    "        \n",
    "        # add keys to dictionaries, keys are named tuples \n",
    "        permit_app[RowPermitApp(contractor_lookup, master_permit_lookup, row['Applicant Name'],\n",
    "                                None if row['Application Date'] is '' else row['Application Date'],\n",
    "                                row['Permit Type'], row['Description'], row['Category'], row['Status'],\n",
    "                                None if row['Issue Date'] is '' else row['Issue Date'],\n",
    "                                None if row['Final Date'] is '' else row['Final Date'],\n",
    "                                None if row['Expiration Date'] is '' else row['Expiration Date'],\n",
    "                                row['Permit and Complaint Status URL'])] = None\n",
    "    \n",
    "    # assign unique ids\n",
    "    keys = permit_app.keys()\n",
    "    for i, k in enumerate(keys):\n",
    "        permit_app[k] = i\n",
    "\n",
    "# open file connection\n",
    "with open(all_permits) as csvfile:\n",
    "    \n",
    "    reader = csv.DictReader(csvfile)\n",
    "    \n",
    "    for row in reader:\n",
    "        \n",
    "        # get unique key for contractor, master permit, location, action plan and permit application\n",
    "        contractor_lookup    = contractor.get(row['Contractor'])\n",
    "        master_permit_lookup = master_use.get(row['Master Use Permit'])\n",
    "        location_lookup      = location.get(RowLocation(row['Address'], row['Latitude'], row['Longitude'], row['Location'],\n",
    "                                            row['Value']))\n",
    "        action_plan_lookup   = action_plan.get(RowAction(row['Action Type'], row['Work Type']))\n",
    "        permit_app_lookup    = permit_app.get(RowPermitApp(contractor_lookup, master_permit_lookup, row['Applicant Name'],\n",
    "                                              None if row['Application Date'] is '' else row['Application Date'],\n",
    "                                              row['Permit Type'], row['Description'], row['Category'],row['Status'],\n",
    "                                              None if row['Issue Date'] is '' else row['Issue Date'],\n",
    "                                              None if row['Final Date'] is '' else row['Final Date'],\n",
    "                                              None if row['Expiration Date'] is '' else row['Expiration Date'],\n",
    "                                              row['Permit and Complaint Status URL']))\n",
    "        \n",
    "        # add keys to dictionaries, keys are named tuples\n",
    "        building_permit[RowBuildingPermit(row['Application/Permit Number'], location_lookup, action_plan_lookup,\n",
    "                                          permit_app_lookup)] = None\n",
    "\n",
    "    # assign unique ids\n",
    "    keys = building_permit.keys()\n",
    "    for i, k in enumerate(keys):\n",
    "        building_permit[k] = i"
   ]
  },
  {
   "cell_type": "code",
   "execution_count": 10,
   "metadata": {
    "collapsed": false
   },
   "outputs": [],
   "source": [
    "# instantiate lists to be passed to db.inserttable(<list>)\n",
    "lstMasterUse      = []\n",
    "lstLocation       = []\n",
    "lstContractor     = []\n",
    "lstAction         = []\n",
    "lstPermitApp      = []\n",
    "lstBuildingPermit = []\n",
    "\n",
    "# create lists\n",
    "for k in master_use.keys():\n",
    "    lstMasterUse.append([master_use.get(k), k])\n",
    "\n",
    "for k in location.keys():\n",
    "    lstLocation.append([location.get(k)] + list(k))\n",
    "\n",
    "for k in contractor.keys():\n",
    "    lstContractor.append([contractor.get(k), k])\n",
    "    \n",
    "for k in action_plan.keys():\n",
    "    lstAction.append([action_plan.get(k)] + list(k))\n",
    "    \n",
    "for k in permit_app.keys():\n",
    "    lstPermitApp.append([permit_app.get(k)] + list(k))   \n",
    "\n",
    "for k in building_permit.keys():\n",
    "    lstBuildingPermit.append([building_permit.get(k)] + list(k))"
   ]
  },
  {
   "cell_type": "code",
   "execution_count": 11,
   "metadata": {
    "collapsed": false
   },
   "outputs": [],
   "source": [
    "db.inserttable('master_permit', lstMasterUse)"
   ]
  },
  {
   "cell_type": "code",
   "execution_count": 12,
   "metadata": {
    "collapsed": true
   },
   "outputs": [],
   "source": [
    "db.inserttable('location', lstLocation)"
   ]
  },
  {
   "cell_type": "code",
   "execution_count": 13,
   "metadata": {
    "collapsed": true
   },
   "outputs": [],
   "source": [
    "db.inserttable('contractor', lstContractor)"
   ]
  },
  {
   "cell_type": "code",
   "execution_count": 14,
   "metadata": {
    "collapsed": true
   },
   "outputs": [],
   "source": [
    "db.inserttable('action_plan', lstAction)"
   ]
  },
  {
   "cell_type": "code",
   "execution_count": 15,
   "metadata": {
    "collapsed": false
   },
   "outputs": [],
   "source": [
    "db.inserttable('permit_application', lstPermitApp)"
   ]
  },
  {
   "cell_type": "code",
   "execution_count": 16,
   "metadata": {
    "collapsed": true
   },
   "outputs": [],
   "source": [
    "db.inserttable('building_permits', lstBuildingPermit)"
   ]
  },
  {
   "cell_type": "code",
   "execution_count": null,
   "metadata": {
    "collapsed": true
   },
   "outputs": [],
   "source": []
  }
 ],
 "metadata": {
  "kernelspec": {
   "display_name": "Python 2",
   "language": "python",
   "name": "python2"
  },
  "language_info": {
   "codemirror_mode": {
    "name": "ipython",
    "version": 2
   },
   "file_extension": ".py",
   "mimetype": "text/x-python",
   "name": "python",
   "nbconvert_exporter": "python",
   "pygments_lexer": "ipython2",
   "version": "2.7.10"
  }
 },
 "nbformat": 4,
 "nbformat_minor": 0
}
