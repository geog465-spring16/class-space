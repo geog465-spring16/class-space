{
 "cells": [
  {
   "cell_type": "markdown",
   "metadata": {},
   "source": [
    "# Class Exercise 4/14/2016\n",
    "Bethany Yollin"
   ]
  },
  {
   "cell_type": "code",
   "execution_count": 3,
   "metadata": {
    "collapsed": true
   },
   "outputs": [],
   "source": [
    "import sys\n",
    "sys.path.append('C:\\\\Program Files (x86)\\\\ArcGIS\\\\Desktop10.3\\\\bin')\n",
    "sys.path.append('C:\\\\Program Files (x86)\\\\ArcGIS\\\\Desktop10.3\\\\arcpy')\n",
    "sys.path.append('C:\\\\Program Files (x86)\\\\ArcGIS\\\\Desktop10.3\\\\ArcToolbox\\\\Scripts')\n",
    "import arcpy\n",
    "import os\n",
    "import glob"
   ]
  },
  {
   "cell_type": "code",
   "execution_count": 4,
   "metadata": {
    "collapsed": true
   },
   "outputs": [],
   "source": [
    "def bufferUnion(mypath,bufferstring,outfile):\n",
    "    \n",
    "    # find shapefiles in mypath and create logical names for objects\n",
    "    \n",
    "    pattern_string = mypath + '\\\\*.shp'\n",
    "    \n",
    "    files = glob.glob(pattern_string)\n",
    "    \n",
    "    obj_names = []\n",
    "    \n",
    "    i=0\n",
    "    for i in range(0,len(files)):\n",
    "        obj_names.append(os.path.basename(os.path.splitext(files[i])[0]))\n",
    "   \n",
    "    # iteratively apply buffer to each shapefile, then union\n",
    "    \n",
    "    arcpy.env.worksapce = mypath\n",
    "    arcpy.env.overwriteOutput = True\n",
    "    \n",
    "    files_buffered=[]\n",
    "    \n",
    "    i=0\n",
    "    for i in range(0,len(obj_names)):\n",
    "        output_string = os.getcwd() + '\\\\' + obj_names[i] + '_buffered.shp'\n",
    "        files_buffered.append(output_string)\n",
    "        arcpy.Buffer_analysis(files[i],output_string,bufferstring)\n",
    "        \n",
    "    outfile_string = os.getcwd() + '\\\\' + outfile + '.shp'\n",
    "    arcpy.Union_analysis(files_buffered,outfile_string)\n",
    "    \n",
    "    # clean up\n",
    "    \n",
    "    pattern_string = os.getcwd() + '\\\\' + '*buffered.*'\n",
    "    \n",
    "    garbage = glob.glob(pattern_string)\n",
    "    \n",
    "    for i in range(0,len(garbage)):\n",
    "        os.remove(garbage[i])\n",
    "    \n",
    "    # helpful message for user\n",
    "    \n",
    "    if os.path.isfile(outfile_string):\n",
    "        return 'Output file ' + outfile + '.shp has been created at ' + os.getcwd() + '.'\n",
    "    else:\n",
    "        return 'Failed to create ' + outfile + ' at ' + os.getcwd() + '.'"
   ]
  },
  {
   "cell_type": "code",
   "execution_count": 5,
   "metadata": {
    "collapsed": false
   },
   "outputs": [
    {
     "data": {
      "text/plain": [
       "'Output file hazard.shp has been created at c:\\\\users\\\\bethany\\\\documents\\\\notebooks.'"
      ]
     },
     "execution_count": 5,
     "metadata": {},
     "output_type": "execute_result"
    }
   ],
   "source": [
    "mypath='C:\\\\rProjects\\\\class-space-readonly\\\\2016-01-22\\\\shapefiles'   \n",
    "bufferUnion(mypath,'100 METERS','hazard')"
   ]
  },
  {
   "cell_type": "code",
   "execution_count": null,
   "metadata": {
    "collapsed": true
   },
   "outputs": [],
   "source": []
  }
 ],
 "metadata": {
  "kernelspec": {
   "display_name": "Python 2",
   "language": "python",
   "name": "python2"
  },
  "language_info": {
   "codemirror_mode": {
    "name": "ipython",
    "version": 2
   },
   "file_extension": ".py",
   "mimetype": "text/x-python",
   "name": "python",
   "nbconvert_exporter": "python",
   "pygments_lexer": "ipython2",
   "version": "2.7.10"
  }
 },
 "nbformat": 4,
 "nbformat_minor": 0
}
