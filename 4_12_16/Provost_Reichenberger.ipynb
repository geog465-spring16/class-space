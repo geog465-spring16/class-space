{
 "cells": [
  {
   "cell_type": "markdown",
   "metadata": {},
   "source": [
    "Pair Exercises: Naomi Provost & Gabe Reichenberger\n",
    "April 14, 2016"
   ]
  },
  {
   "cell_type": "code",
   "execution_count": 7,
   "metadata": {
    "collapsed": false
   },
   "outputs": [
    {
     "name": "stdout",
     "output_type": "stream",
     "text": [
      "[u'flood.shp', u'LIQZONE.SHP', u'slide.shp']\n",
      "False\n"
     ]
    }
   ],
   "source": [
    "import os\n",
    "import sys\n",
    "sys.path.append('C:\\\\Program Files (x86)\\\\ArcGIS\\\\Desktop10.3\\\\bin')\n",
    "sys.path.append('C:\\\\Program Files (x86)\\\\ArcGIS\\\\Desktop10.3\\\\arcpy')\n",
    "sys.path.append('C:\\\\Program Files (x86)\\\\ArcGIS\\\\Desktop10.3\\\\ArcToolbox\\\\Scripts')\n",
    "\n",
    "import arcpy\n",
    "\n",
    "def getBuf(mypath, bufferstring, outfile):\n",
    "    \n",
    "    arcpy.env.overwriteOutput = True #clears overwrite\n",
    "    arcpy.env.workspace = mypath #setting workspace (where to save the file)\n",
    "    isFile = arcpy.Exists(outfile) #checks if file exists\n",
    "    if(isFile):\n",
    "        arcpy.Delete_management(mypath + \"\\\\\" + outfile) #deletes file repeats\n",
    "    lst = [] #creates empty list\n",
    "    \n",
    "    print arcpy.ListFiles(\"*.shp\") #prints file names\n",
    "    \n",
    "    for files in arcpy.ListFiles(\"*.shp\"): #iterates through shapefiles\n",
    "        outFileName = files.split(\".\")\n",
    "        arcpy.Buffer_analysis(files, outFileName[0] + \"buffer.shp\", bufferstring) #creates buffer\n",
    "        lst.append(outFileName[0] + \"buffer.shp\") #saves buffer as shapefile\n",
    "\n",
    "    arcpy.Union_analysis(lst, outfile) #union list and creates outfile\n",
    "    \n",
    "    return isFile #returns true/false based on existence of file\n",
    "\n",
    "print getBuf(\"C:\\\\Users\\\\ninip\\\\Desktop\\\\class-space-read-only\\\\2016-04-12\\\\shapefiles\", \"150 METERS\", \"outputs.shp\")"
   ]
  }
 ],
 "metadata": {
  "kernelspec": {
   "display_name": "Python 2",
   "language": "python",
   "name": "python2"
  },
  "language_info": {
   "codemirror_mode": {
    "name": "ipython",
    "version": 2
   },
   "file_extension": ".py",
   "mimetype": "text/x-python",
   "name": "python",
   "nbconvert_exporter": "python",
   "pygments_lexer": "ipython2",
   "version": "2.7.10"
  }
 },
 "nbformat": 4,
 "nbformat_minor": 0
}
