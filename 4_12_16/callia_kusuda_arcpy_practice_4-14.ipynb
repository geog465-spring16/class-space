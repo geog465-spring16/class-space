{
 "cells": [
  {
   "cell_type": "markdown",
   "metadata": {},
   "source": [
    "Evan Callia\n",
    "\n",
    "Kyle Kusuda\n",
    "\n",
    "In class arcpy exercise - buffers"
   ]
  },
  {
   "cell_type": "code",
   "execution_count": 1,
   "metadata": {
    "collapsed": true
   },
   "outputs": [],
   "source": [
    "import sys\n",
    "sys.path.append('C:\\\\Program Files (x86)\\\\ArcGIS\\\\Desktop10.3\\\\bin')\n",
    "sys.path.append('C:\\\\Program Files (x86)\\\\ArcGIS\\\\Desktop10.3\\\\arcpy')\n",
    "sys.path.append('C:\\\\Program Files (x86)\\\\ArcGIS\\\\Desktop10.3\\\\ArcToolbox\\\\Scripts')\n",
    "import arcpy\n",
    "arcpy.env.workspace = r\"C:\\Users\\socce\\Desktop\"\n",
    "arcpy.env.overwriteOutput = True\n",
    "\n",
    "def buffer(mypath, bufferstring, outfile):\n",
    "    #make buffer of 'bufferstring' around 'mypath' with dissolve\n",
    "    buffer = arcpy.analysis.Buffer(mypath + \".shp\", \"temp.shp\", bufferstring, \"\", \"\", \"LIST\", \"\")\n",
    "    count = arcpy.GetMessageCount()\n",
    "    if not \"Succeeded\" in arcpy.GetMessage(count-1): \n",
    "        print \"Buffer failed\"\n",
    "        return False\n",
    "    \n",
    "    #union the buffers\n",
    "    arcpy.analysis.Union(buffer, outfile)\n",
    "  \n",
    "    #delete temp file\n",
    "    arcpy.Delete_management(\"temp.shp\")\n",
    "    \n",
    "    #check if files were made correctly\n",
    "    count = arcpy.GetMessageCount()\n",
    "    if \"Succeeded\" in arcpy.GetMessage(count-1):\n",
    "        return True\n",
    "    else: \n",
    "        print \"Temp delete failed\"\n",
    "        return False"
   ]
  },
  {
   "cell_type": "code",
   "execution_count": 2,
   "metadata": {
    "collapsed": false
   },
   "outputs": [
    {
     "name": "stdout",
     "output_type": "stream",
     "text": [
      "Successful\n"
     ]
    }
   ],
   "source": [
    "mypath = \"Z:\\\\Desktop\\\\class-space-read-only\\\\2016-04-12\\\\shapefiles\\\\flood\"\n",
    "bufferstring = \"100 METERS\"\n",
    "outfile = \"Z:\\\\Desktop\\\\class-space-read-only\\\\2016-04-12\\\\shapefiles\\\\test.shp\"\n",
    "if buffer(mypath, bufferstring, outfile):\n",
    "    print \"Successful\"\n",
    "else:\n",
    "    print \"Unsucessful\""
   ]
  },
  {
   "cell_type": "code",
   "execution_count": null,
   "metadata": {
    "collapsed": true
   },
   "outputs": [],
   "source": []
  }
 ],
 "metadata": {
  "kernelspec": {
   "display_name": "Python 2",
   "language": "python",
   "name": "python2"
  },
  "language_info": {
   "codemirror_mode": {
    "name": "ipython",
    "version": 2
   },
   "file_extension": ".py",
   "mimetype": "text/x-python",
   "name": "python",
   "nbconvert_exporter": "python",
   "pygments_lexer": "ipython2",
   "version": "2.7.10"
  }
 },
 "nbformat": 4,
 "nbformat_minor": 0
}
