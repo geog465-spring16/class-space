{
 "cells": [
  {
   "cell_type": "code",
   "execution_count": 2,
   "metadata": {
    "collapsed": true
   },
   "outputs": [],
   "source": [
    "import sys"
   ]
  },
  {
   "cell_type": "code",
   "execution_count": 3,
   "metadata": {
    "collapsed": true
   },
   "outputs": [],
   "source": [
    "sys.path.append('C:\\Python27\\ArcGIS10.3\\Lib\\site-packages')"
   ]
  },
  {
   "cell_type": "code",
   "execution_count": 4,
   "metadata": {
    "collapsed": true
   },
   "outputs": [],
   "source": [
    "import pg "
   ]
  },
  {
   "cell_type": "code",
   "execution_count": 5,
   "metadata": {
    "collapsed": true
   },
   "outputs": [],
   "source": [
    "from pg import DB"
   ]
  },
  {
   "cell_type": "code",
   "execution_count": 6,
   "metadata": {
    "collapsed": true
   },
   "outputs": [],
   "source": [
    "db = DB(dbname = 'geog465_sunz4', host = 'geog-db2.geog.uw.edu', port = 5432, user = 'sunz4', \n",
    "        passwd = 'sunz4')"
   ]
  },
  {
   "cell_type": "code",
   "execution_count": 7,
   "metadata": {
    "collapsed": false
   },
   "outputs": [],
   "source": [
    "db.query('create table no_case(id varchar(100) primary key, case_number varchar(100),case_type_id varchar(100),case_group_id varchar(100), inspection_result_id varchar(100), location_id varchar(100), status_id varchar(100))')"
   ]
  },
  {
   "cell_type": "code",
   "execution_count": 9,
   "metadata": {
    "collapsed": false
   },
   "outputs": [],
   "source": [
    "db.query('create table group_type(id varchar(100) primary key, case_group_type varchar(100))')"
   ]
  },
  {
   "cell_type": "code",
   "execution_count": 10,
   "metadata": {
    "collapsed": true
   },
   "outputs": [],
   "source": [
    "db.query('create table inspection(id varchar(100) primary key, result varchar(100))')"
   ]
  },
  {
   "cell_type": "code",
   "execution_count": 11,
   "metadata": {
    "collapsed": true
   },
   "outputs": [],
   "source": [
    "db.query('create table status_type(id varchar(100) primary key, status varchar(100))')"
   ]
  },
  {
   "cell_type": "code",
   "execution_count": 13,
   "metadata": {
    "collapsed": false
   },
   "outputs": [],
   "source": [
    "db.query('create table location_location(id varchar(100) primary key, address varchar(100), latitude varchar (100), longitude varchar(100))')"
   ]
  },
  {
   "cell_type": "code",
   "execution_count": 16,
   "metadata": {
    "collapsed": false
   },
   "outputs": [],
   "source": [
    "db.query('create table type(id varchar(100) primary key, case_type varchar(100))')"
   ]
  },
  {
   "cell_type": "code",
   "execution_count": 60,
   "metadata": {
    "collapsed": false
   },
   "outputs": [],
   "source": [
    "db.query('create table link_1(no_case varchar(100), group_type varchar(100), inspection varchar(100), status varchar(100), location_location varchar(100) case_type varchar(100))')"
   ]
  },
  {
   "cell_type": "code",
   "execution_count": 61,
   "metadata": {
    "collapsed": true
   },
   "outputs": [],
   "source": [
    "#Finished creating tables"
   ]
  },
  {
   "cell_type": "code",
   "execution_count": 62,
   "metadata": {
    "collapsed": true
   },
   "outputs": [],
   "source": [
    "#Starting importing  data into table in database"
   ]
  },
  {
   "cell_type": "code",
   "execution_count": 63,
   "metadata": {
    "collapsed": true
   },
   "outputs": [],
   "source": [
    "import csv"
   ]
  },
  {
   "cell_type": "code",
   "execution_count": 64,
   "metadata": {
    "collapsed": false
   },
   "outputs": [],
   "source": [
    "f = open('U:\\GEOG 465 Final\\Final\\Code_Violation_Cases.csv')\n",
    "reader = csv.reader(f, delimiter = ',')\n",
    "my_list_7 = []\n",
    "next(reader, None)\n",
    "for row in reader:\n",
    "    my_list_7.append([row[0], row[4], row[7], row[8], row[11], row[12], row[2], row[1]])\n",
    "    "
   ]
  },
  {
   "cell_type": "code",
   "execution_count": 65,
   "metadata": {
    "collapsed": false
   },
   "outputs": [],
   "source": [
    "db.inserttable('link_1', my_list_7)"
   ]
  },
  {
   "cell_type": "code",
   "execution_count": 65,
   "metadata": {
    "collapsed": false
   },
   "outputs": [],
   "source": [
    "case_group = open('U:\\GEOG 465 Final\\Final\\case_group.csv')\n",
    "reader_1 = csv.reader(case_group, delimiter = ',')\n",
    "my_list_1 = []\n",
    "next(reader_1, None)\n",
    "for row in reader_1:\n",
    "    my_list_1.append(row)"
   ]
  },
  {
   "cell_type": "code",
   "execution_count": 56,
   "metadata": {
    "collapsed": false
   },
   "outputs": [],
   "source": [
    "db.inserttable('group_type', my_list_1)"
   ]
  },
  {
   "cell_type": "code",
   "execution_count": 66,
   "metadata": {
    "collapsed": false
   },
   "outputs": [],
   "source": [
    "inspection_result = open('U:\\GEOG 465 Final\\Final\\inspection_result.csv')\n",
    "reader_2 = csv.reader(inspection_result, delimiter = ',')\n",
    "my_list_2 = []\n",
    "next(reader_2, None)\n",
    "for row in reader_2:\n",
    "    my_list_2.append(row)"
   ]
  },
  {
   "cell_type": "code",
   "execution_count": 67,
   "metadata": {
    "collapsed": true
   },
   "outputs": [],
   "source": [
    "db.inserttable('inspection', my_list_2)"
   ]
  },
  {
   "cell_type": "code",
   "execution_count": 69,
   "metadata": {
    "collapsed": false
   },
   "outputs": [],
   "source": [
    "status_type = open('U:\\GEOG 465 Final\\Final\\status.csv')\n",
    "reader_3 = csv.reader(status_type, delimiter = ',')\n",
    "my_list_3 = []\n",
    "next(reader_3, None)\n",
    "for row in reader_3:\n",
    "    my_list_3.append(row)"
   ]
  },
  {
   "cell_type": "code",
   "execution_count": 70,
   "metadata": {
    "collapsed": true
   },
   "outputs": [],
   "source": [
    "db.inserttable('status_type', my_list_3)"
   ]
  },
  {
   "cell_type": "code",
   "execution_count": 71,
   "metadata": {
    "collapsed": true
   },
   "outputs": [],
   "source": [
    "location = open('U:\\GEOG 465 Final\\Final\\location.csv')\n",
    "reader_4 = csv.reader(location, delimiter = ',')\n",
    "my_list_4 = []\n",
    "next(reader_4, None)\n",
    "for row in reader_4:\n",
    "    my_list_4.append(row)"
   ]
  },
  {
   "cell_type": "code",
   "execution_count": 72,
   "metadata": {
    "collapsed": true
   },
   "outputs": [],
   "source": [
    "db.inserttable('location_location', my_list_4)"
   ]
  },
  {
   "cell_type": "code",
   "execution_count": 73,
   "metadata": {
    "collapsed": true
   },
   "outputs": [],
   "source": [
    "case_type = open('U:\\GEOG 465 Final\\Final\\case_type.csv')\n",
    "reader_5 = csv.reader(case_type, delimiter = ',')\n",
    "my_list_5 = []\n",
    "next(reader_5, None)\n",
    "for row in reader_5:\n",
    "    my_list_5.append(row)"
   ]
  },
  {
   "cell_type": "code",
   "execution_count": 74,
   "metadata": {
    "collapsed": true
   },
   "outputs": [],
   "source": [
    "db.inserttable('type', my_list_5)"
   ]
  },
  {
   "cell_type": "code",
   "execution_count": 75,
   "metadata": {
    "collapsed": true
   },
   "outputs": [],
   "source": [
    "case_number = open('U:\\GEOG 465 Final\\Final\\No_case.csv')\n",
    "reader_6 = csv.reader(case_number, delimiter = ',')\n",
    "my_list_6 = []\n",
    "next(reader_6, None)\n",
    "for row in reader_6:\n",
    "    my_list_6.append(row)"
   ]
  },
  {
   "cell_type": "code",
   "execution_count": 76,
   "metadata": {
    "collapsed": true
   },
   "outputs": [],
   "source": [
    "db.inserttable('no_case', my_list_6)"
   ]
  },
  {
   "cell_type": "code",
   "execution_count": 87,
   "metadata": {
    "collapsed": false
   },
   "outputs": [
    {
     "name": "stdout",
     "output_type": "stream",
     "text": [
      "id|      case_group_type       \n",
      "--+----------------------------\n",
      "1 |HOUSING                     \n",
      "2 |SITE                        \n",
      "3 |ZONING                      \n",
      "4 |BUILDING                    \n",
      "5 |WEEDS AND VEGETATION        \n",
      "6 |CONDO/COOP CONVERSION       \n",
      "7 |VACANT BUILDING             \n",
      "8 |SIGNS                       \n",
      "9 |PREMISES                    \n",
      "10|ELECTRICAL                  \n",
      "11|TENANT RELOCATION ASSIST ORD\n",
      "12|JUST CAUSE EVICTION         \n",
      "13|MECHANICAL                  \n",
      "14|CONSTRUCTION NOISE          \n",
      "15|NONCONSTRUCTION NOISE       \n",
      "16|OTHER CONSTRUCTION          \n",
      "17|PRESALE                     \n",
      "18|TRAO AVOIDANCE              \n",
      "19|BUILDING AND PREMISES       \n",
      "(19 rows)\n"
     ]
    }
   ],
   "source": [
    "print db.query(\"select * from group_type\")"
   ]
  },
  {
   "cell_type": "code",
   "execution_count": 88,
   "metadata": {
    "collapsed": false
   },
   "outputs": [
    {
     "name": "stdout",
     "output_type": "stream",
     "text": [
      "id|result\n",
      "--+------\n",
      "1 |FAILED\n",
      "2 |PASSED\n",
      "3 |HOLD  \n",
      "(3 rows)\n"
     ]
    }
   ],
   "source": [
    "print db.query(\"select * from inspection\")"
   ]
  },
  {
   "cell_type": "code",
   "execution_count": 89,
   "metadata": {
    "collapsed": false
   },
   "outputs": [
    {
     "name": "stdout",
     "output_type": "stream",
     "text": [
      "id|            status             \n",
      "--+-------------------------------\n",
      "1 |ADMINISTRATIVE CLOSURE         \n",
      "2 |CLOSED                         \n",
      "3 |COMPLAINT/APPLICATION WITHDRAWN\n",
      "4 |ENFORCED COMPLIANCE            \n",
      "5 |NO VIOLATION                   \n",
      "6 |OPEN                           \n",
      "7 |TRANSFERRED TO EXTERNAL AGENCY \n",
      "8 |VIOLATION                      \n",
      "9 |VOLUNTARY COMPLIANCE           \n",
      "(9 rows)\n"
     ]
    }
   ],
   "source": [
    "print db.query(\"select * from status_type\")"
   ]
  },
  {
   "cell_type": "code",
   "execution_count": 93,
   "metadata": {
    "collapsed": false
   },
   "outputs": [],
   "source": [
    " print db.query(\"select * from location_location\")# There are so many locations thus I will not really print them out"
   ]
  },
  {
   "cell_type": "code",
   "execution_count": 29,
   "metadata": {
    "collapsed": false
   },
   "outputs": [
    {
     "name": "stdout",
     "output_type": "stream",
     "text": [
      "id|         case_type          \n",
      "--+----------------------------\n",
      "1 |CITATION                    \n",
      "2 |CONDO CONVERSION AND PRESALE\n",
      "3 |CONSTRUCTION                \n",
      "4 |HOUSING/ZONING              \n",
      "5 |NOISE/SOUND LEVELS          \n",
      "6 |TENANT RELOCATION ORDINANCE \n",
      "7 |UNFIT BUILDING OR PREMISES  \n",
      "8 |VACANT BUILDING MONITORING  \n",
      "(8 rows)\n"
     ]
    }
   ],
   "source": [
    "print db.query(\"select * from type\")"
   ]
  },
  {
   "cell_type": "code",
   "execution_count": null,
   "metadata": {
    "collapsed": true
   },
   "outputs": [],
   "source": [
    "print db.query(\"select * from no_case\")#Same situation as location"
   ]
  },
  {
   "cell_type": "code",
   "execution_count": 30,
   "metadata": {
    "collapsed": true
   },
   "outputs": [],
   "source": [
    "#Done update data to tables in database"
   ]
  },
  {
   "cell_type": "code",
   "execution_count": 74,
   "metadata": {
    "collapsed": true
   },
   "outputs": [],
   "source": [
    "#Starting populate FK"
   ]
  },
  {
   "cell_type": "code",
   "execution_count": 84,
   "metadata": {
    "collapsed": false
   },
   "outputs": [],
   "source": [
    "db.query('alter table link_1 rename column no_case to case_1')"
   ]
  },
  {
   "cell_type": "code",
   "execution_count": 89,
   "metadata": {
    "collapsed": false
   },
   "outputs": [
    {
     "data": {
      "text/plain": [
       "'22783'"
      ]
     },
     "execution_count": 89,
     "metadata": {},
     "output_type": "execute_result"
    }
   ],
   "source": [
    "db.query('update no_case set case_type_id = type.id from type, link_1 where link_1.case_type = type.case_type and link_1.case_1 = no_case.case_number')"
   ]
  },
  {
   "cell_type": "code",
   "execution_count": null,
   "metadata": {
    "collapsed": false
   },
   "outputs": [],
   "source": [
    "db.query('update no_case set case_group_id = group_type.id from group_type, link_1 where link_1.group_type = group_type.case_group_type and link_1.case_1 = no_case.case_number')"
   ]
  },
  {
   "cell_type": "code",
   "execution_count": null,
   "metadata": {
    "collapsed": false
   },
   "outputs": [],
   "source": [
    "db.query('update no_case set inspection_result_id = inspection.id from inspection, link_1 where link_1.inspection = inspection.result and link_1.case_1 = no_case.case_number')"
   ]
  },
  {
   "cell_type": "code",
   "execution_count": null,
   "metadata": {
    "collapsed": true
   },
   "outputs": [],
   "source": [
    "db.query('alter table link_1 rename column location_location to location_1')"
   ]
  },
  {
   "cell_type": "code",
   "execution_count": null,
   "metadata": {
    "collapsed": true
   },
   "outputs": [],
   "source": [
    "db.query('update no_case set location_id = location_location.id from location_location, link_1 where link_1.case_1 = no_case.case_number)"
   ]
  },
  {
   "cell_type": "code",
   "execution_count": null,
   "metadata": {
    "collapsed": true
   },
   "outputs": [],
   "source": [
    "db.query('update no_case set status_id = status_type.id from status_type, link_1 where link_1.status = status_type.status and link_1.case_1 and no_case.case_number')"
   ]
  },
  {
   "cell_type": "code",
   "execution_count": null,
   "metadata": {
    "collapsed": true
   },
   "outputs": [],
   "source": [
    "#Done with populating FK"
   ]
  },
  {
   "cell_type": "code",
   "execution_count": null,
   "metadata": {
    "collapsed": false
   },
   "outputs": [],
   "source": []
  },
  {
   "cell_type": "code",
   "execution_count": null,
   "metadata": {
    "collapsed": true
   },
   "outputs": [],
   "source": []
  }
 ],
 "metadata": {
  "kernelspec": {
   "display_name": "Python 2",
   "language": "python",
   "name": "python2"
  },
  "language_info": {
   "codemirror_mode": {
    "name": "ipython",
    "version": 2
   },
   "file_extension": ".py",
   "mimetype": "text/x-python",
   "name": "python",
   "nbconvert_exporter": "python",
   "pygments_lexer": "ipython2",
   "version": "2.7.10"
  }
 },
 "nbformat": 4,
 "nbformat_minor": 0
}
