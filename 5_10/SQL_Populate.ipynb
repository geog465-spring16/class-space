{
 "cells": [
  {
   "cell_type": "code",
   "execution_count": 2,
   "metadata": {
    "collapsed": true
   },
   "outputs": [],
   "source": [
    "import sys #import sys so I can append the path where PyGreSQL is to its list of Python package directories"
   ]
  },
  {
   "cell_type": "code",
   "execution_count": 3,
   "metadata": {
    "collapsed": false
   },
   "outputs": [],
   "source": [
    "sys.path.append('C:\\Python27\\ArcGIS10.3\\Lib\\site-packages')"
   ]
  },
  {
   "cell_type": "code",
   "execution_count": 6,
   "metadata": {
    "collapsed": false
   },
   "outputs": [],
   "source": [
    "import pg #import PyGreSQL"
   ]
  },
  {
   "cell_type": "code",
   "execution_count": 8,
   "metadata": {
    "collapsed": false
   },
   "outputs": [],
   "source": [
    "from pg import DB #import the DB class so we can create a connection"
   ]
  },
  {
   "cell_type": "code",
   "execution_count": 9,
   "metadata": {
    "collapsed": true
   },
   "outputs": [],
   "source": [
    "db = DB(dbname = 'clizotte', host = 'geog-db2.geog.uw.edu', port = 5432, user = 'clizotte', passwd = 'clizotte123') #Create a database connection with my credentials"
   ]
  },
  {
   "cell_type": "code",
   "execution_count": 113,
   "metadata": {
    "collapsed": true
   },
   "outputs": [
    {
     "data": {
      "text/plain": [
       "['public.department_two',\n",
       " 'public.departments',\n",
       " 'public.equipment',\n",
       " 'public.link',\n",
       " 'public.prim',\n",
       " 'public.schools',\n",
       " 'public.sde_spatial_references',\n",
       " 'public.soldby',\n",
       " 'sde.gdb_itemrelationships',\n",
       " 'sde.gdb_itemrelationshiptypes',\n",
       " 'sde.gdb_items',\n",
       " 'sde.gdb_itemtypes',\n",
       " 'sde.gdb_replicalog',\n",
       " 'sde.gdb_tables_last_modified',\n",
       " 'sde.i2',\n",
       " 'sde.i3',\n",
       " 'sde.i4',\n",
       " 'sde.i5',\n",
       " 'sde.i6',\n",
       " 'sde.sde_archives',\n",
       " 'sde.sde_column_registry',\n",
       " 'sde.sde_coordinate_systems',\n",
       " 'sde.sde_dbtune',\n",
       " 'sde.sde_geometry_columns',\n",
       " 'sde.sde_layer_locks',\n",
       " 'sde.sde_layer_stats',\n",
       " 'sde.sde_layers',\n",
       " 'sde.sde_lineages_modified',\n",
       " 'sde.sde_locators',\n",
       " 'sde.sde_logfile_pool',\n",
       " 'sde.sde_metadata',\n",
       " 'sde.sde_mvtables_modified',\n",
       " 'sde.sde_object_ids',\n",
       " 'sde.sde_object_locks',\n",
       " 'sde.sde_process_information',\n",
       " 'sde.sde_raster_columns',\n",
       " 'sde.sde_server_config',\n",
       " 'sde.sde_state_lineages',\n",
       " 'sde.sde_state_locks',\n",
       " 'sde.sde_states',\n",
       " 'sde.sde_table_locks',\n",
       " 'sde.sde_table_registry',\n",
       " 'sde.sde_tables_modified',\n",
       " 'sde.sde_version',\n",
       " 'sde.sde_versions',\n",
       " 'sde.sde_xml_columns',\n",
       " 'sde.sde_xml_index_tags',\n",
       " 'sde.sde_xml_indexes']"
      ]
     },
     "execution_count": 113,
     "metadata": {},
     "output_type": "execute_result"
    }
   ],
   "source": [
    "db.get_tables() #verify my connection"
   ]
  },
  {
   "cell_type": "code",
   "execution_count": 13,
   "metadata": {
    "collapsed": true
   },
   "outputs": [
    {
     "data": {
      "text/plain": [
       "['public.department_two',\n",
       " 'public.prim',\n",
       " 'public.schools',\n",
       " 'public.sde_spatial_references',\n",
       " 'public.soldby',\n",
       " 'sde.gdb_itemrelationships',\n",
       " 'sde.gdb_itemrelationshiptypes',\n",
       " 'sde.gdb_items',\n",
       " 'sde.gdb_itemtypes',\n",
       " 'sde.gdb_replicalog',\n",
       " 'sde.gdb_tables_last_modified',\n",
       " 'sde.i2',\n",
       " 'sde.i3',\n",
       " 'sde.i4',\n",
       " 'sde.i5',\n",
       " 'sde.i6',\n",
       " 'sde.sde_archives',\n",
       " 'sde.sde_column_registry',\n",
       " 'sde.sde_coordinate_systems',\n",
       " 'sde.sde_dbtune',\n",
       " 'sde.sde_geometry_columns',\n",
       " 'sde.sde_layer_locks',\n",
       " 'sde.sde_layer_stats',\n",
       " 'sde.sde_layers',\n",
       " 'sde.sde_lineages_modified',\n",
       " 'sde.sde_locators',\n",
       " 'sde.sde_logfile_pool',\n",
       " 'sde.sde_metadata',\n",
       " 'sde.sde_mvtables_modified',\n",
       " 'sde.sde_object_ids',\n",
       " 'sde.sde_object_locks',\n",
       " 'sde.sde_process_information',\n",
       " 'sde.sde_raster_columns',\n",
       " 'sde.sde_server_config',\n",
       " 'sde.sde_state_lineages',\n",
       " 'sde.sde_state_locks',\n",
       " 'sde.sde_states',\n",
       " 'sde.sde_table_locks',\n",
       " 'sde.sde_table_registry',\n",
       " 'sde.sde_tables_modified',\n",
       " 'sde.sde_version',\n",
       " 'sde.sde_versions',\n",
       " 'sde.sde_xml_columns',\n",
       " 'sde.sde_xml_index_tags',\n",
       " 'sde.sde_xml_indexes']"
      ]
     },
     "execution_count": 13,
     "metadata": {},
     "output_type": "execute_result"
    }
   ],
   "source": [
    "db.get_tables() #verify that tables were dropped"
   ]
  },
  {
   "cell_type": "code",
   "execution_count": 12,
   "metadata": {
    "collapsed": true
   },
   "outputs": [],
   "source": [
    "db.query('drop table equipment, link, departments') #drop i.e. delete tables so I can start over for demonstration purposes"
   ]
  },
  {
   "cell_type": "code",
   "execution_count": 14,
   "metadata": {
    "collapsed": false
   },
   "outputs": [],
   "source": [
    "db.query('create table equipment (id varchar(20) primary key, year date, dept_id int, sold_by int)')"
   ]
  },
  {
   "cell_type": "code",
   "execution_count": 15,
   "metadata": {
    "collapsed": false
   },
   "outputs": [],
   "source": [
    "db.query('create table departments (id int primary key, dept varchar(20))')"
   ]
  },
  {
   "cell_type": "code",
   "execution_count": 16,
   "metadata": {
    "collapsed": false
   },
   "outputs": [],
   "source": [
    "db.query('create table link (equip_id varchar(20), dept varchar(20), sold_by varchar(50))')"
   ]
  },
  {
   "cell_type": "code",
   "execution_count": 17,
   "metadata": {
    "collapsed": false
   },
   "outputs": [],
   "source": [
    "import csv #We'll use csv to copy the contents of our csv files to the database due to issues using COPY from local to network"
   ]
  },
  {
   "cell_type": "code",
   "execution_count": 38,
   "metadata": {
    "collapsed": true
   },
   "outputs": [],
   "source": [
    "f = open('U:\\Sold_Fleet_Equipment.csv')"
   ]
  },
  {
   "cell_type": "code",
   "execution_count": 39,
   "metadata": {
    "collapsed": true
   },
   "outputs": [],
   "source": [
    "reader = csv.reader(f, delimiter = ',')"
   ]
  },
  {
   "cell_type": "code",
   "execution_count": 40,
   "metadata": {
    "collapsed": false
   },
   "outputs": [],
   "source": [
    "my_list = []"
   ]
  },
  {
   "cell_type": "code",
   "execution_count": 41,
   "metadata": {
    "collapsed": false
   },
   "outputs": [],
   "source": [
    "next(reader, None) #skip header row\n",
    "for row in reader:\n",
    "    my_list.append([row[0], row[5], row[8]]) #only pick out the columns I want"
   ]
  },
  {
   "cell_type": "code",
   "execution_count": 42,
   "metadata": {
    "collapsed": true
   },
   "outputs": [
    {
     "name": "stdout",
     "output_type": "stream",
     "text": [
      "['01404', 'SPD', 'BIDADOO ONLINE AUCTION']\n",
      "['03007', 'DOIT', 'BIDADOO ONLINE AUCTION']\n",
      "['03011', 'DOIT', 'MURPHYS AUCTION']\n",
      "['03015', 'FAS', 'MURPHYS AUCTION']\n",
      "['03024', 'FAS', 'BIDADOO ONLINE AUCTION']\n",
      "['03039', 'FAS', 'BIDADOO ONLINE AUCTION']\n",
      "['03044', 'FAS', 'BIDADOO ONLINE AUCTION']\n",
      "['03168', 'SPD', 'BIDADOO ONLINE AUCTION']\n",
      "['03180', 'FAS', 'MURPHYS AUCTION']\n",
      "['03201', 'SPD', 'MURPHYS AUCTION']\n"
     ]
    }
   ],
   "source": [
    "for i in range (0, 10):\n",
    "    print my_list[i] #print 10 records to verify that I have the records I want"
   ]
  },
  {
   "cell_type": "code",
   "execution_count": 43,
   "metadata": {
    "collapsed": false
   },
   "outputs": [],
   "source": [
    "f.close()"
   ]
  },
  {
   "cell_type": "code",
   "execution_count": 44,
   "metadata": {
    "collapsed": false
   },
   "outputs": [],
   "source": [
    "db.inserttable('link', my_list) #write list to database table 'link'"
   ]
  },
  {
   "cell_type": "code",
   "execution_count": 45,
   "metadata": {
    "collapsed": false
   },
   "outputs": [],
   "source": [
    "f = open('U:\\equipment.csv') #repeat the process; I reuse the same variable names"
   ]
  },
  {
   "cell_type": "code",
   "execution_count": 46,
   "metadata": {
    "collapsed": false
   },
   "outputs": [],
   "source": [
    "reader = csv.reader(f)"
   ]
  },
  {
   "cell_type": "code",
   "execution_count": 47,
   "metadata": {
    "collapsed": false
   },
   "outputs": [],
   "source": [
    "my_list = []"
   ]
  },
  {
   "cell_type": "code",
   "execution_count": 48,
   "metadata": {
    "collapsed": false
   },
   "outputs": [],
   "source": [
    "next(reader, None)\n",
    "for row in reader:\n",
    "    my_list.append(row) #I want all the columns, so no need to specify which ones"
   ]
  },
  {
   "cell_type": "code",
   "execution_count": 49,
   "metadata": {
    "collapsed": true
   },
   "outputs": [
    {
     "name": "stdout",
     "output_type": "stream",
     "text": [
      "['1', '2000', '0', '0']\n",
      "['2', '2000', '0', '0']\n",
      "['3', '2000', '0', '0']\n",
      "['4', '2000', '0', '0']\n",
      "['5', '2000', '0', '0']\n",
      "['6', '2000', '0', '0']\n",
      "['7', '2000', '0', '0']\n",
      "['8', '2000', '0', '0']\n",
      "['9', '2000', '0', '0']\n",
      "['10', '2000', '0', '0']\n"
     ]
    }
   ],
   "source": [
    "for i in range (0, 10):\n",
    "    print my_list[i]"
   ]
  },
  {
   "cell_type": "code",
   "execution_count": 50,
   "metadata": {
    "collapsed": true
   },
   "outputs": [
    {
     "ename": "IOError",
     "evalue": "ERROR:  invalid input syntax for type date: \"2000\"\nCONTEXT:  COPY equipment, line 1, column year: \"2000\"\n",
     "output_type": "error",
     "traceback": [
      "\u001b[1;31m---------------------------------------------------------------------------\u001b[0m",
      "\u001b[1;31mIOError\u001b[0m                                   Traceback (most recent call last)",
      "\u001b[1;32m<ipython-input-50-f7c6d57d9244>\u001b[0m in \u001b[0;36m<module>\u001b[1;34m()\u001b[0m\n\u001b[1;32m----> 1\u001b[1;33m \u001b[0mdb\u001b[0m\u001b[1;33m.\u001b[0m\u001b[0minserttable\u001b[0m\u001b[1;33m(\u001b[0m\u001b[1;34m'equipment'\u001b[0m\u001b[1;33m,\u001b[0m \u001b[0mmy_list\u001b[0m\u001b[1;33m)\u001b[0m\u001b[1;33m\u001b[0m\u001b[0m\n\u001b[0m",
      "\u001b[1;31mIOError\u001b[0m: ERROR:  invalid input syntax for type date: \"2000\"\nCONTEXT:  COPY equipment, line 1, column year: \"2000\"\n"
     ]
    }
   ],
   "source": [
    "db.inserttable('equipment', my_list) #it doesn't like my date format for the column \"year\""
   ]
  },
  {
   "cell_type": "code",
   "execution_count": 51,
   "metadata": {
    "collapsed": false
   },
   "outputs": [],
   "source": [
    "db.query('alter table equipment alter column year set data type varchar(10)') #No worries, I'll change the data type of that column"
   ]
  },
  {
   "cell_type": "code",
   "execution_count": 52,
   "metadata": {
    "collapsed": false
   },
   "outputs": [],
   "source": [
    "db.inserttable('equipment', my_list) # works now"
   ]
  },
  {
   "cell_type": "code",
   "execution_count": 53,
   "metadata": {
    "collapsed": false
   },
   "outputs": [],
   "source": [
    "f.close()"
   ]
  },
  {
   "cell_type": "code",
   "execution_count": 54,
   "metadata": {
    "collapsed": false
   },
   "outputs": [],
   "source": [
    "f = open('U:\\department.csv') #One more time!"
   ]
  },
  {
   "cell_type": "code",
   "execution_count": 55,
   "metadata": {
    "collapsed": false
   },
   "outputs": [],
   "source": [
    "reader = csv.reader(f)"
   ]
  },
  {
   "cell_type": "code",
   "execution_count": 56,
   "metadata": {
    "collapsed": false
   },
   "outputs": [],
   "source": [
    "my_list = []"
   ]
  },
  {
   "cell_type": "code",
   "execution_count": 57,
   "metadata": {
    "collapsed": false
   },
   "outputs": [],
   "source": [
    "next(reader, None)\n",
    "for row in reader:\n",
    "    my_list.append(row)"
   ]
  },
  {
   "cell_type": "code",
   "execution_count": 58,
   "metadata": {
    "collapsed": true
   },
   "outputs": [
    {
     "name": "stdout",
     "output_type": "stream",
     "text": [
      "['1', 'SPD']\n",
      "['2', 'DOIT']\n",
      "['3', 'FAS']\n",
      "['4', 'DON']\n",
      "['5', 'DPR']\n",
      "['6', 'SDOT']\n",
      "['7', 'SPU']\n",
      "['8', 'CEN']\n",
      "['9', 'SFD']\n",
      "['10', 'DPD']\n"
     ]
    }
   ],
   "source": [
    "for i in range (0, 10):\n",
    "    print my_list[i]"
   ]
  },
  {
   "cell_type": "code",
   "execution_count": 59,
   "metadata": {
    "collapsed": false
   },
   "outputs": [],
   "source": [
    "db.inserttable('departments', my_list) #Done!"
   ]
  },
  {
   "cell_type": "code",
   "execution_count": 68,
   "metadata": {
    "collapsed": true
   },
   "outputs": [
    {
     "name": "stdout",
     "output_type": "stream",
     "text": [
      "id|dept\n",
      "--+----\n",
      " 1|SPD \n",
      " 2|DOIT\n",
      " 3|FAS \n",
      " 4|DON \n",
      " 5|DPR \n",
      " 6|SDOT\n",
      " 7|SPU \n",
      " 8|CEN \n",
      " 9|SFD \n",
      "10|DPD \n",
      "(10 rows)\n"
     ]
    }
   ],
   "source": [
    "print db.query('select * from departments where id < 11') #verify data was entered correctly in my database"
   ]
  },
  {
   "cell_type": "code",
   "execution_count": 105,
   "metadata": {
    "collapsed": true
   },
   "outputs": [
    {
     "data": {
      "text/plain": [
       "'883'"
      ]
     },
     "execution_count": 105,
     "metadata": {},
     "output_type": "execute_result"
    }
   ],
   "source": [
    "db.query('insert into equipment (id) select (equip_id) from link')"
   ]
  },
  {
   "cell_type": "code",
   "execution_count": 96,
   "metadata": {
    "collapsed": true
   },
   "outputs": [],
   "source": [
    "db.query('alter table equipment drop constraint equipment_pkey')"
   ]
  },
  {
   "cell_type": "code",
   "execution_count": 110,
   "metadata": {
    "collapsed": true
   },
   "outputs": [
    {
     "name": "stdout",
     "output_type": "stream",
     "text": [
      "  id   |year|dept_id|sold_by\n",
      "-------+----+-------+-------\n",
      "84616  |    |      8|       \n",
      "87003  |    |      8|       \n",
      "7019   |    |      8|       \n",
      "87023  |    |      8|       \n",
      "71990  |    |      8|       \n",
      "72747  |    |      8|       \n",
      "51164  |    |      8|       \n",
      "51161  |    |      8|       \n",
      "47002  |    |      8|       \n",
      "41992  |    |      8|       \n",
      "973655 |    |      8|       \n",
      "07135  |    |      8|       \n",
      "81998  |    |      8|       \n",
      "13001  |    |      2|       \n",
      "13437  |    |      2|       \n",
      "13438  |    |      2|       \n",
      "03007  |    |      2|       \n",
      "13439  |    |      2|       \n",
      "03208  |    |      2|       \n",
      "03207  |    |      2|       \n",
      "53446  |    |      2|       \n",
      "03011  |    |      2|       \n",
      "53447  |    |      2|       \n",
      "11401  |    |      2|       \n",
      "03221  |    |      4|       \n",
      "51136  |    |     10|       \n",
      "21097  |    |     10|       \n",
      "41278  |    |     10|       \n",
      "12172  |    |     10|       \n",
      "21845  |    |     10|       \n",
      "21854  |    |     10|       \n",
      "52147  |    |     10|       \n",
      "52081  |    |     10|       \n",
      "51848  |    |     10|       \n",
      "51169  |    |     10|       \n",
      "12412  |    |     10|       \n",
      "51021  |    |     10|       \n",
      "13374  |    |      5|       \n",
      "13403  |    |      5|       \n",
      "13407  |    |      5|       \n",
      "13409  |    |      5|       \n",
      "13424  |    |      5|       \n",
      "13452  |    |      5|       \n",
      "993908 |    |      5|       \n",
      "13782  |    |      5|       \n",
      "13796  |    |      5|       \n",
      "13797  |    |      5|       \n",
      "13798  |    |      5|       \n",
      "13889  |    |      5|       \n",
      "13962  |    |      5|       \n",
      "993354 |    |      5|       \n",
      "14575  |    |      5|       \n",
      "53882  |    |      5|       \n",
      "53891  |    |      5|       \n",
      "53892  |    |      5|       \n",
      "53893  |    |      5|       \n",
      "53894  |    |      5|       \n",
      "63383  |    |      5|       \n",
      "58024  |    |      5|       \n",
      "58025  |    |      5|       \n",
      "58029  |    |      5|       \n",
      "58030  |    |      5|       \n",
      "58031  |    |      5|       \n",
      "58033  |    |      5|       \n",
      "58034  |    |      5|       \n",
      "58036  |    |      5|       \n",
      "58037  |    |      5|       \n",
      "58045  |    |      5|       \n",
      "58057  |    |      5|       \n",
      "58067  |    |      5|       \n",
      "58070  |    |      5|       \n",
      "58074  |    |      5|       \n",
      "58076  |    |      5|       \n",
      "58080  |    |      5|       \n",
      "58113  |    |      5|       \n",
      "58117  |    |      5|       \n",
      "58122  |    |      5|       \n",
      "58137  |    |      5|       \n",
      "58141  |    |      5|       \n",
      "58174  |    |      5|       \n",
      "58178  |    |      5|       \n",
      "58179  |    |      5|       \n",
      "13163  |    |      5|       \n",
      "5869   |    |      5|       \n",
      "13338  |    |      5|       \n",
      "13340  |    |      5|       \n",
      "13345  |    |      5|       \n",
      "13352  |    |      5|       \n",
      "13358  |    |      5|       \n",
      "155996 |    |      5|       \n",
      "15925  |    |      5|       \n",
      "18143  |    |      5|       \n",
      "21238  |    |      5|       \n",
      "21243  |    |      5|       \n",
      "983969 |    |      5|       \n",
      "21294  |    |      5|       \n",
      "21307  |    |      5|       \n",
      "21838  |    |      5|       \n",
      "21855  |    |      5|       \n",
      "23060  |    |      5|       \n",
      "23062  |    |      5|       \n",
      "983903 |    |      5|       \n",
      "23307  |    |      5|       \n",
      "23308  |    |      5|       \n",
      "23309  |    |      5|       \n",
      "23310  |    |      5|       \n",
      "23311  |    |      5|       \n",
      "23316  |    |      5|       \n",
      "23318  |    |      5|       \n",
      "23319  |    |      5|       \n",
      "23323  |    |      5|       \n",
      "23325  |    |      5|       \n",
      "23327  |    |      5|       \n",
      "23328  |    |      5|       \n",
      "23330  |    |      5|       \n",
      "23344  |    |      5|       \n",
      "23364  |    |      5|       \n",
      "23395  |    |      5|       \n",
      "23441  |    |      5|       \n",
      "23805  |    |      5|       \n",
      "23932  |    |      5|       \n",
      "23974  |    |      5|       \n",
      "25600  |    |      5|       \n",
      "88115  |    |      5|       \n",
      "25889  |    |      5|       \n",
      "25890  |    |      5|       \n",
      "25891  |    |      5|       \n",
      "25892  |    |      5|       \n",
      "25893  |    |      5|       \n",
      "88068  |    |      5|       \n",
      "03301  |    |      5|       \n",
      "03303  |    |      5|       \n",
      "03811  |    |      5|       \n",
      "31460  |    |      5|       \n",
      "03885  |    |      5|       \n",
      "03921  |    |      5|       \n",
      "31874  |    |      5|       \n",
      "87129  |    |      5|       \n",
      "05802  |    |      5|       \n",
      "32447  |    |      5|       \n",
      "05861  |    |      5|       \n",
      "P1744  |    |      5|       \n",
      "33248  |    |      5|       \n",
      "P1738  |    |      5|       \n",
      "33313  |    |      5|       \n",
      "33317  |    |      5|       \n",
      "3332   |    |      5|       \n",
      "33320  |    |      5|       \n",
      "33321  |    |      5|       \n",
      "33324  |    |      5|       \n",
      "33404  |    |      5|       \n",
      "33405  |    |      5|       \n",
      "33413  |    |      5|       \n",
      "33417  |    |      5|       \n",
      "33425  |    |      5|       \n",
      "85877  |    |      5|       \n",
      "33705  |    |      5|       \n",
      "33706  |    |      5|       \n",
      "33708  |    |      5|       \n",
      "33726  |    |      5|       \n",
      "33957  |    |      5|       \n",
      "33965  |    |      5|       \n",
      "33975  |    |      5|       \n",
      "33977  |    |      5|       \n",
      "82468  |    |      5|       \n",
      "82467  |    |      5|       \n",
      "82464  |    |      5|       \n",
      "82456  |    |      5|       \n",
      "82453  |    |      5|       \n",
      "81740  |    |      5|       \n",
      "81723  |    |      5|       \n",
      "8120678|    |      5|       \n",
      "34633  |    |      5|       \n",
      "80504  |    |      5|       \n",
      "80204  |    |      5|       \n",
      "3510   |    |      5|       \n",
      "80202  |    |      5|       \n",
      "35801  |    |      5|       \n",
      "78142  |    |      5|       \n",
      "78140  |    |      5|       \n",
      "78138  |    |      5|       \n",
      "38144  |    |      5|       \n",
      "38145  |    |      5|       \n",
      "P1702  |    |      5|       \n",
      "P1686  |    |      5|       \n",
      "P140753|    |      5|       \n",
      "78116  |    |      5|       \n",
      "11053  |    |      5|       \n",
      "P0320  |    |      5|       \n",
      "41923  |    |      5|       \n",
      "42906  |    |      5|       \n",
      "78081  |    |      5|       \n",
      "78079  |    |      5|       \n",
      "78064  |    |      5|       \n",
      "78048  |    |      5|       \n",
      "43312  |    |      5|       \n",
      "43315  |    |      5|       \n",
      "43410  |    |      5|       \n",
      "43415  |    |      5|       \n",
      "43416  |    |      5|       \n",
      "43418  |    |      5|       \n",
      "43419  |    |      5|       \n",
      "43442  |    |      5|       \n",
      "43443  |    |      5|       \n",
      "43445  |    |      5|       \n",
      "78028  |    |      5|       \n",
      "78026  |    |      5|       \n",
      "43634  |    |      5|       \n",
      "43790  |    |      5|       \n",
      "43897  |    |      5|       \n",
      "43915  |    |      5|       \n",
      "43923  |    |      5|       \n",
      "43945  |    |      5|       \n",
      "43948  |    |      5|       \n",
      "43949  |    |      5|       \n",
      "43951  |    |      5|       \n",
      "43958  |    |      5|       \n",
      "43985  |    |      5|       \n",
      "43997  |    |      5|       \n",
      "73938  |    |      5|       \n",
      "45885  |    |      5|       \n",
      "45964  |    |      5|       \n",
      "45969  |    |      5|       \n",
      "51311  |    |      5|       \n",
      "51419  |    |      5|       \n",
      "68157  |    |      5|       \n",
      "51439  |    |      5|       \n",
      "68139  |    |      5|       \n",
      "68131  |    |      5|       \n",
      "68044  |    |      5|       \n",
      "51882  |    |      5|       \n",
      "51892  |    |      5|       \n",
      "52086  |    |      5|       \n",
      "68032  |    |      5|       \n",
      "53035  |    |      5|       \n",
      "53041  |    |      5|       \n",
      "53046  |    |      5|       \n",
      "11852  |    |      5|       \n",
      "11863  |    |      5|       \n",
      "12090  |    |      5|       \n",
      "63955  |    |      5|       \n",
      "53862  |    |      5|       \n",
      "53873  |    |      5|       \n",
      "53874  |    |      5|       \n",
      "53878  |    |      5|       \n",
      "53881  |    |      5|       \n",
      "32910  |    |      3|       \n",
      "03039  |    |      3|       \n",
      "03044  |    |      3|       \n",
      "77428  |    |      3|       \n",
      "30990  |    |      3|       \n",
      "23028  |    |      3|       \n",
      "53042  |    |      3|       \n",
      "23018  |    |      3|       \n",
      "11714  |    |      3|       \n",
      "33532  |    |      3|       \n",
      "11713  |    |      3|       \n",
      "13052  |    |      3|       \n",
      "93009  |    |      3|       \n",
      "83004  |    |      3|       \n",
      "73032  |    |      3|       \n",
      "03015  |    |      3|       \n",
      "41272  |    |      3|       \n",
      "7022   |    |      3|       \n",
      "97412  |    |      3|       \n",
      "03180  |    |      3|       \n",
      "13034  |    |      3|       \n",
      "11406  |    |      3|       \n",
      "53254  |    |      3|       \n",
      "03024  |    |      3|       \n",
      "62917  |    |      3|       \n",
      "53253  |    |      3|       \n",
      "13182  |    |      3|       \n",
      "53251  |    |      3|       \n",
      "31306  |    |      3|       \n",
      "15082  |    |      3|       \n",
      "15124  |    |      3|       \n",
      "77306  |    |      3|       \n",
      "31281  |    |      3|       \n",
      "31270  |    |      3|       \n",
      "53030  |    |      3|       \n",
      "21235  |    |     12|       \n",
      "33118  |    |     12|       \n",
      "51444  |    |     11|       \n",
      "21167  |    |     11|       \n",
      "21191  |    |     11|       \n",
      "21211  |    |     11|       \n",
      "51359  |    |     11|       \n",
      "51261  |    |     11|       \n",
      "41208  |    |     11|       \n",
      "41212  |    |     11|       \n",
      "51299  |    |     11|       \n",
      "41209  |    |     11|       \n",
      "51259  |    |     11|       \n",
      "33227  |    |     14|       \n",
      "52020  |    |     15|       \n",
      "30459  |    |      6|       \n",
      "33632  |    |      6|       \n",
      "85533  |    |      6|       \n",
      "33698  |    |      6|       \n",
      "55754  |    |      6|       \n",
      "55698  |    |      6|       \n",
      "33712  |    |      6|       \n",
      "51309  |    |      6|       \n",
      "53555  |    |      6|       \n",
      "55698  |    |      6|       \n",
      "55538  |    |      6|       \n",
      "53570  |    |      6|       \n",
      "51432  |    |      6|       \n",
      "51535  |    |      6|       \n",
      "51625  |    |      6|       \n",
      "51674  |    |      6|       \n",
      "51680  |    |      6|       \n",
      "63541  |    |      6|       \n",
      "53614  |    |      6|       \n",
      "53665  |    |      6|       \n",
      "E0943  |    |      6|       \n",
      "57401  |    |      6|       \n",
      "63545  |    |      6|       \n",
      "57145  |    |      6|       \n",
      "E0943  |    |      6|       \n",
      "11609  |    |      6|       \n",
      "63580  |    |      6|       \n",
      "985681 |    |      6|       \n",
      "985680 |    |      6|       \n",
      "52567  |    |      6|       \n",
      "15655  |    |      6|       \n",
      "985539 |    |      6|       \n",
      "17222  |    |      6|       \n",
      "985696 |    |      6|       \n",
      "53503  |    |      6|       \n",
      "53506  |    |      6|       \n",
      "25691  |    |      6|       \n",
      "77148  |    |      6|       \n",
      "75744  |    |      6|       \n",
      "75743  |    |      6|       \n",
      "75742  |    |      6|       \n",
      "75736  |    |      6|       \n",
      "75689  |    |      6|       \n",
      "26593  |    |      6|       \n",
      "27227  |    |      6|       \n",
      "13564  |    |      6|       \n",
      "30906  |    |      6|       \n",
      "75684  |    |      6|       \n",
      "75653  |    |      6|       \n",
      "03680  |    |      6|       \n",
      "75519  |    |      6|       \n",
      "87501  |    |      6|       \n",
      "87146  |    |      6|       \n",
      "31378  |    |      6|       \n",
      "53515  |    |      6|       \n",
      "73673  |    |      6|       \n",
      "05546  |    |      6|       \n",
      "05547  |    |      6|       \n",
      "05549  |    |      6|       \n",
      "05568  |    |      6|       \n",
      "05569  |    |      6|       \n",
      "31581  |    |      6|       \n",
      "05570  |    |      6|       \n",
      "05571  |    |      6|       \n",
      "45650  |    |      6|       \n",
      "45651  |    |      6|       \n",
      "31915  |    |      6|       \n",
      "45671  |    |      6|       \n",
      "45673  |    |      6|       \n",
      "45674  |    |      6|       \n",
      "45675  |    |      6|       \n",
      "45688  |    |      6|       \n",
      "73671  |    |      6|       \n",
      "73616  |    |      6|       \n",
      "73597  |    |      6|       \n",
      "53521  |    |      6|       \n",
      "53535  |    |      6|       \n",
      "55758  |    |      6|       \n",
      "47127  |    |      6|       \n",
      "55757  |    |      6|       \n",
      "55756  |    |      6|       \n",
      "33502  |    |      6|       \n",
      "21536  |    |      6|       \n",
      "21550  |    |      6|       \n",
      "21577  |    |      6|       \n",
      "986593 |    |      6|       \n",
      "983676 |    |      6|       \n",
      "67200  |    |      6|       \n",
      "43478  |    |      6|       \n",
      "65735  |    |      6|       \n",
      "43594  |    |      6|       \n",
      "43598  |    |      6|       \n",
      "65652  |    |      6|       \n",
      "43685  |    |      6|       \n",
      "77231  |    |      6|       \n",
      "43703  |    |      6|       \n",
      "975760 |    |      6|       \n",
      "23551  |    |      6|       \n",
      "23556  |    |      6|       \n",
      "23593  |    |      6|       \n",
      "23623  |    |      6|       \n",
      "23624  |    |      6|       \n",
      "23635  |    |      6|       \n",
      "23642  |    |      6|       \n",
      "23643  |    |      6|       \n",
      "23645  |    |      6|       \n",
      "23651  |    |      6|       \n",
      "23660  |    |      6|       \n",
      "23662  |    |      6|       \n",
      "23663  |    |      6|       \n",
      "23664  |    |      6|       \n",
      "23675  |    |      6|       \n",
      "23689  |    |      6|       \n",
      "23701  |    |      6|       \n",
      "23718  |    |      6|       \n",
      "23719  |    |      6|       \n",
      "23931  |    |      6|       \n",
      "53886  |    |      6|       \n",
      "13612  |    |      6|       \n",
      "965693 |    |      6|       \n",
      "956451 |    |      6|       \n",
      "5313   |    |      9|       \n",
      "53767  |    |      9|       \n",
      "31815  |    |      9|       \n",
      "33728  |    |      9|       \n",
      "45367  |    |      9|       \n",
      "21595  |    |      9|       \n",
      "53771  |    |      9|       \n",
      "33729  |    |      9|       \n",
      "13781  |    |      9|       \n",
      "21257  |    |      9|       \n",
      "53771  |    |      9|       \n",
      "63765  |    |      9|       \n",
      "13757  |    |      9|       \n",
      "5316   |    |      9|       \n",
      "51564  |    |      9|       \n",
      "33423  |    |      9|       \n",
      "65322  |    |      9|       \n",
      "11213  |    |      9|       \n",
      "5337   |    |      9|       \n",
      "52084  |    |      9|       \n",
      "53767  |    |      9|       \n",
      "63765  |    |      9|       \n",
      "15330  |    |      9|       \n",
      "80370  |    |      9|       \n",
      "52314  |    |      9|       \n",
      "53761  |    |      9|       \n",
      "5331   |    |      9|       \n",
      "5332   |    |      9|       \n",
      "5334   |    |      9|       \n",
      "981762 |    |      9|       \n",
      "85427  |    |      9|       \n",
      "965408 |    |      9|       \n",
      "65320  |    |      9|       \n",
      "97427  |    |      9|       \n",
      "955404 |    |      9|       \n",
      "65321  |    |      9|       \n",
      "51129  |    |      9|       \n",
      "33814  |    |      9|       \n",
      "31268  |    |      9|       \n",
      "80393  |    |      9|       \n",
      "80413  |    |      9|       \n",
      "33752  |    |      9|       \n",
      "80428  |    |      9|       \n",
      "79970  |    |      1|       \n",
      "03168  |    |      1|       \n",
      "03201  |    |      1|       \n",
      "11034  |    |      1|       \n",
      "13148  |    |      1|       \n",
      "13197  |    |      1|       \n",
      "13291  |    |      1|       \n",
      "23164  |    |      1|       \n",
      "23783  |    |      1|       \n",
      "30104  |    |      1|       \n",
      "30988  |    |      1|       \n",
      "31050  |    |      1|       \n",
      "31052  |    |      1|       \n",
      "31058  |    |      1|       \n",
      "31059  |    |      1|       \n",
      "31068  |    |      1|       \n",
      "31070  |    |      1|       \n",
      "31470  |    |      1|       \n",
      "31471  |    |      1|       \n",
      "31472  |    |      1|       \n",
      "31473  |    |      1|       \n",
      "31475  |    |      1|       \n",
      "31476  |    |      1|       \n",
      "31497  |    |      1|       \n",
      "31615  |    |      1|       \n",
      "31757  |    |      1|       \n",
      "3210   |    |      1|       \n",
      "32908  |    |      1|       \n",
      "33167  |    |      1|       \n",
      "33294  |    |      1|       \n",
      "38255  |    |      1|       \n",
      "38269  |    |      1|       \n",
      "38359  |    |      1|       \n",
      "39625  |    |      1|       \n",
      "39626  |    |      1|       \n",
      "41701  |    |      1|       \n",
      "41702  |    |      1|       \n",
      "41703  |    |      1|       \n",
      "41704  |    |      1|       \n",
      "41705  |    |      1|       \n",
      "41707  |    |      1|       \n",
      "41708  |    |      1|       \n",
      "43171  |    |      1|       \n",
      "49776  |    |      1|       \n",
      "53155  |    |      1|       \n",
      "53158  |    |      1|       \n",
      "53158  |    |      1|       \n",
      "58271  |    |      1|       \n",
      "58272  |    |      1|       \n",
      "58273  |    |      1|       \n",
      "58274  |    |      1|       \n",
      "58275  |    |      1|       \n",
      "58278  |    |      1|       \n",
      "58280  |    |      1|       \n",
      "58343  |    |      1|       \n",
      "58345  |    |      1|       \n",
      "59805  |    |      1|       \n",
      "59808  |    |      1|       \n",
      "59829  |    |      1|       \n",
      "59837  |    |      1|       \n",
      "59840  |    |      1|       \n",
      "59843  |    |      1|       \n",
      "59849  |    |      1|       \n",
      "59868  |    |      1|       \n",
      "59870  |    |      1|       \n",
      "61047  |    |      1|       \n",
      "79959  |    |      1|       \n",
      "79960  |    |      1|       \n",
      "79961  |    |      1|       \n",
      "79965  |    |      1|       \n",
      "79968  |    |      1|       \n",
      "01404  |    |      1|       \n",
      "79971  |    |      1|       \n",
      "79972  |    |      1|       \n",
      "79973  |    |      1|       \n",
      "79975  |    |      1|       \n",
      "79976  |    |      1|       \n",
      "79977  |    |      1|       \n",
      "79980  |    |      1|       \n",
      "79981  |    |      1|       \n",
      "79982  |    |      1|       \n",
      "79983  |    |      1|       \n",
      "79984  |    |      1|       \n",
      "79985  |    |      1|       \n",
      "79986  |    |      1|       \n",
      "79987  |    |      1|       \n",
      "79988  |    |      1|       \n",
      "79990  |    |      1|       \n",
      "79991  |    |      1|       \n",
      "79993  |    |      1|       \n",
      "79995  |    |      1|       \n",
      "80442  |    |      1|       \n",
      "80608  |    |      1|       \n",
      "86351  |    |      1|       \n",
      "87601  |    |      1|       \n",
      "87603  |    |      1|       \n",
      "87606  |    |      1|       \n",
      "87608  |    |      1|       \n",
      "87609  |    |      1|       \n",
      "87613  |    |      1|       \n",
      "87614  |    |      1|       \n",
      "87615  |    |      1|       \n",
      "87619  |    |      1|       \n",
      "87620  |    |      1|       \n",
      "89111  |    |      1|       \n",
      "89112  |    |      1|       \n",
      "89113  |    |      1|       \n",
      "89114  |    |      1|       \n",
      "89115  |    |      1|       \n",
      "89116  |    |      1|       \n",
      "89117  |    |      1|       \n",
      "89118  |    |      1|       \n",
      "89119  |    |      1|       \n",
      "89120  |    |      1|       \n",
      "89121  |    |      1|       \n",
      "89122  |    |      1|       \n",
      "89123  |    |      1|       \n",
      "89124  |    |      1|       \n",
      "89125  |    |      1|       \n",
      "89126  |    |      1|       \n",
      "89127  |    |      1|       \n",
      "89128  |    |      1|       \n",
      "89130  |    |      1|       \n",
      "89136  |    |      1|       \n",
      "89141  |    |      1|       \n",
      "89142  |    |      1|       \n",
      "89143  |    |      1|       \n",
      "89144  |    |      1|       \n",
      "89145  |    |      1|       \n",
      "89146  |    |      1|       \n",
      "89147  |    |      1|       \n",
      "89148  |    |      1|       \n",
      "89149  |    |      1|       \n",
      "89150  |    |      1|       \n",
      "89151  |    |      1|       \n",
      "89153  |    |      1|       \n",
      "89154  |    |      1|       \n",
      "89155  |    |      1|       \n",
      "89156  |    |      1|       \n",
      "89158  |    |      1|       \n",
      "89159  |    |      1|       \n",
      "89160  |    |      1|       \n",
      "89161  |    |      1|       \n",
      "89162  |    |      1|       \n",
      "89163  |    |      1|       \n",
      "89164  |    |      1|       \n",
      "89165  |    |      1|       \n",
      "89166  |    |      1|       \n",
      "89168  |    |      1|       \n",
      "89169  |    |      1|       \n",
      "89170  |    |      1|       \n",
      "89171  |    |      1|       \n",
      "89172  |    |      1|       \n",
      "89173  |    |      1|       \n",
      "89175  |    |      1|       \n",
      "89176  |    |      1|       \n",
      "89177  |    |      1|       \n",
      "89178  |    |      1|       \n",
      "89179  |    |      1|       \n",
      "89180  |    |      1|       \n",
      "89181  |    |      1|       \n",
      "89182  |    |      1|       \n",
      "89183  |    |      1|       \n",
      "89184  |    |      1|       \n",
      "89185  |    |      1|       \n",
      "89186  |    |      1|       \n",
      "89187  |    |      1|       \n",
      "89188  |    |      1|       \n",
      "89189  |    |      1|       \n",
      "89190  |    |      1|       \n",
      "89192  |    |      1|       \n",
      "89197  |    |      1|       \n",
      "973147 |    |      1|       \n",
      "97621  |    |      1|       \n",
      "97623  |    |      1|       \n",
      "97624  |    |      1|       \n",
      "97625  |    |      1|       \n",
      "97626  |    |      1|       \n",
      "97627  |    |      1|       \n",
      "97629  |    |      1|       \n",
      "97630  |    |      1|       \n",
      "97631  |    |      1|       \n",
      "97632  |    |      1|       \n",
      "97633  |    |      1|       \n",
      "97634  |    |      1|       \n",
      "97635  |    |      1|       \n",
      "97636  |    |      1|       \n",
      "97637  |    |      1|       \n",
      "99217  |    |      1|       \n",
      "99218  |    |      1|       \n",
      "99219  |    |      1|       \n",
      "99220  |    |      1|       \n",
      "99221  |    |      1|       \n",
      "99222  |    |      1|       \n",
      "99223  |    |      1|       \n",
      "99224  |    |      1|       \n",
      "99225  |    |      1|       \n",
      "99226  |    |      1|       \n",
      "99227  |    |      1|       \n",
      "99229  |    |      1|       \n",
      "99230  |    |      1|       \n",
      "99231  |    |      1|       \n",
      "99233  |    |      1|       \n",
      "99234  |    |      1|       \n",
      "99236  |    |      1|       \n",
      "99237  |    |      1|       \n",
      "99238  |    |      1|       \n",
      "99239  |    |      1|       \n",
      "99240  |    |      1|       \n",
      "99241  |    |      1|       \n",
      "99242  |    |      1|       \n",
      "99243  |    |      1|       \n",
      "99244  |    |      1|       \n",
      "99245  |    |      1|       \n",
      "99246  |    |      1|       \n",
      "99248  |    |      1|       \n",
      "99253  |    |      1|       \n",
      "99254  |    |      1|       \n",
      "61730  |    |      1|       \n",
      "69872  |    |      1|       \n",
      "69872  |    |      1|       \n",
      "69880  |    |      1|       \n",
      "69882  |    |      1|       \n",
      "69887  |    |      1|       \n",
      "69891  |    |      1|       \n",
      "69892  |    |      1|       \n",
      "69893  |    |      1|       \n",
      "69895  |    |      1|       \n",
      "69896  |    |      1|       \n",
      "69897  |    |      1|       \n",
      "69900  |    |      1|       \n",
      "69904  |    |      1|       \n",
      "69907  |    |      1|       \n",
      "69908  |    |      1|       \n",
      "69910  |    |      1|       \n",
      "70463  |    |      1|       \n",
      "7124   |    |      1|       \n",
      "77300  |    |      1|       \n",
      "77301  |    |      1|       \n",
      "77302  |    |      1|       \n",
      "77303  |    |      1|       \n",
      "77304  |    |      1|       \n",
      "77305  |    |      1|       \n",
      "78286  |    |      1|       \n",
      "79107  |    |      1|       \n",
      "79108  |    |      1|       \n",
      "79913  |    |      1|       \n",
      "79914  |    |      1|       \n",
      "79917  |    |      1|       \n",
      "79918  |    |      1|       \n",
      "79919  |    |      1|       \n",
      "79920  |    |      1|       \n",
      "79921  |    |      1|       \n",
      "79924  |    |      1|       \n",
      "79926  |    |      1|       \n",
      "79927  |    |      1|       \n",
      "79928  |    |      1|       \n",
      "79930  |    |      1|       \n",
      "79931  |    |      1|       \n",
      "79932  |    |      1|       \n",
      "79932  |    |      1|       \n",
      "79933  |    |      1|       \n",
      "79934  |    |      1|       \n",
      "79935  |    |      1|       \n",
      "79936  |    |      1|       \n",
      "79951  |    |      1|       \n",
      "79952  |    |      1|       \n",
      "79953  |    |      1|       \n",
      "79954  |    |      1|       \n",
      "79955  |    |      1|       \n",
      "79958  |    |      1|       \n",
      "45807  |    |     13|       \n",
      "23930  |    |     13|       \n",
      "23226  |    |     13|       \n",
      "23225  |    |     13|       \n",
      "A0622  |    |     13|       \n",
      "A0623  |    |     13|       \n",
      "43236  |    |     13|       \n",
      "43232  |    |     13|       \n",
      "43231  |    |     13|       \n",
      "43230  |    |     13|       \n",
      "31283  |    |     13|       \n",
      "73953  |    |     13|       \n",
      "45805  |    |     13|       \n",
      "45804  |    |     13|       \n",
      "64637  |    |      7|       \n",
      "64638  |    |      7|       \n",
      "6503   |    |      7|       \n",
      "6516   |    |      7|       \n",
      "53574  |    |      7|       \n",
      "53558  |    |      7|       \n",
      "53524  |    |      7|       \n",
      "53242  |    |      7|       \n",
      "53241  |    |      7|       \n",
      "53240  |    |      7|       \n",
      "52528  |    |      7|       \n",
      "51688  |    |      7|       \n",
      "68049  |    |      7|       \n",
      "51473  |    |      7|       \n",
      "51472  |    |      7|       \n",
      "51426  |    |      7|       \n",
      "68161  |    |      7|       \n",
      "24438  |    |      7|       \n",
      "23562  |    |      7|       \n",
      "35520  |    |      7|       \n",
      "34703  |    |      7|       \n",
      "34681  |    |      7|       \n",
      "34664  |    |      7|       \n",
      "34644  |    |      7|       \n",
      "34640  |    |      7|       \n",
      "23548  |    |      7|       \n",
      "34635  |    |      7|       \n",
      "34598  |    |      7|       \n",
      "34588  |    |      7|       \n",
      "34583  |    |      7|       \n",
      "34582  |    |      7|       \n",
      "34578  |    |      7|       \n",
      "34570  |    |      7|       \n",
      "51411  |    |      7|       \n",
      "51409  |    |      7|       \n",
      "34563  |    |      7|       \n",
      "34550  |    |      7|       \n",
      "51334  |    |      7|       \n",
      "51331  |    |      7|       \n",
      "73293  |    |      7|       \n",
      "73584  |    |      7|       \n",
      "45724  |    |      7|       \n",
      "45521  |    |      7|       \n",
      "44668  |    |      7|       \n",
      "74521  |    |      7|       \n",
      "74532  |    |      7|       \n",
      "74547  |    |      7|       \n",
      "74625  |    |      7|       \n",
      "74716  |    |      7|       \n",
      "44667  |    |      7|       \n",
      "44630  |    |      7|       \n",
      "44605  |    |      7|       \n",
      "44591  |    |      7|       \n",
      "44585  |    |      7|       \n",
      "44568  |    |      7|       \n",
      "44506  |    |      7|       \n",
      "44384  |    |      7|       \n",
      "76452  |    |      7|       \n",
      "76515  |    |      7|       \n",
      "76517  |    |      7|       \n",
      "76532  |    |      7|       \n",
      "44008  |    |      7|       \n",
      "43694  |    |      7|       \n",
      "34528  |    |      7|       \n",
      "34514  |    |      7|       \n",
      "84516  |    |      7|       \n",
      "33723  |    |      7|       \n",
      "84671  |    |      7|       \n",
      "33722  |    |      7|       \n",
      "43693  |    |      7|       \n",
      "43629  |    |      7|       \n",
      "43509  |    |      7|       \n",
      "43464  |    |      7|       \n",
      "41451  |    |      7|       \n",
      "36589  |    |      7|       \n",
      "36537  |    |      7|       \n",
      "36500  |    |      7|       \n",
      "33652  |    |      7|       \n",
      "33465  |    |      7|       \n",
      "86519  |    |      7|       \n",
      "32555  |    |      7|       \n",
      "32509  |    |      7|       \n",
      "31907  |    |      7|       \n",
      "31092  |    |      7|       \n",
      "13335  |    |      7|       \n",
      "13020  |    |      7|       \n",
      "11673  |    |      7|       \n",
      "11518  |    |      7|       \n",
      "EG0002 |    |      7|       \n",
      "EG0210 |    |      7|       \n",
      "EG5501 |    |      7|       \n",
      "11516  |    |      7|       \n",
      "07225  |    |      7|       \n",
      "06646  |    |      7|       \n",
      "26555  |    |      7|       \n",
      "25668  |    |      7|       \n",
      "06645  |    |      7|       \n",
      "06575  |    |      7|       \n",
      "06572  |    |      7|       \n",
      "23454  |    |      7|       \n",
      "21271  |    |      7|       \n",
      "16650  |    |      7|       \n",
      "14709  |    |      7|       \n",
      "14659  |    |      7|       \n",
      "14572  |    |      7|       \n",
      "985717 |    |      7|       \n",
      "14524  |    |      7|       \n",
      "S0570  |    |      7|       \n",
      "S2556  |    |      7|       \n",
      "S2557  |    |      7|       \n",
      "S2574  |    |      7|       \n",
      "W2256  |    |      7|       \n",
      "W3838  |    |      7|       \n",
      "14503  |    |      7|       \n",
      "13606  |    |      7|       \n",
      "90008  |    |      7|       \n",
      "24652  |    |      7|       \n",
      "94558  |    |      7|       \n",
      "94571  |    |      7|       \n",
      "24643  |    |      7|       \n",
      "24617  |    |      7|       \n",
      "24562  |    |      7|       \n",
      "24531  |    |      7|       \n",
      "61127  |    |      7|       \n",
      "966551 |    |      7|       \n",
      "996548 |    |      7|       \n",
      "56598  |    |      7|       \n",
      "54666  |    |      7|       \n",
      "54653  |    |      7|       \n",
      "54602  |    |      7|       \n",
      "54595  |    |      7|       \n",
      "54537  |    |      7|       \n",
      "54500  |    |      7|       \n",
      "53608  |    |      7|       \n",
      "53577  |    |      7|       \n",
      "53576  |    |      7|       \n",
      "64576  |    |      7|       \n",
      "64603  |    |      7|       \n",
      "(883 rows)\n"
     ]
    }
   ],
   "source": [
    "print db.query(\"select * from equipment\") #Show that my dept_id foreign key field is unpopulated; ignore the fact that 'year' "
   ]
  },
  {
   "cell_type": "code",
   "execution_count": 107,
   "metadata": {
    "collapsed": true
   },
   "outputs": [
    {
     "data": {
      "text/plain": [
       "'883'"
      ]
     },
     "execution_count": 107,
     "metadata": {},
     "output_type": "execute_result"
    }
   ],
   "source": [
    "db.query('update equipment set dept_id = dept.id from departments as dept, link where link.equip_id = equipment.id and link.dept = dept.dept')"
   ]
  },
  {
   "cell_type": "code",
   "execution_count": 112,
   "metadata": {
    "collapsed": true
   },
   "outputs": [
    {
     "name": "stdout",
     "output_type": "stream",
     "text": [
      "count\n",
      "-----\n",
      "   15\n",
      "(1 row)\n"
     ]
    }
   ],
   "source": [
    "print db.query(\"select count(distinct dept_id) from equipment\") #Show results by returning number of unique values in dept_id"
   ]
  },
  {
   "cell_type": "code",
   "execution_count": 115,
   "metadata": {
    "collapsed": false
   },
   "outputs": [
    {
     "name": "stdout",
     "output_type": "stream",
     "text": [
      "id|       name       |        address         \n",
      "--+------------------+------------------------\n",
      " 1|Cleveland H.S.    |5511 15th Avenue S      \n",
      " 2|Franklin H.S.     |3013 S Mount Baker Bvld.\n",
      " 3|Rainier Beach H.S.|8815 Seward Park Ave S  \n",
      " 4|Mercer M.S.       |1600 S Columbian Way    \n",
      "(4 rows)\n"
     ]
    }
   ],
   "source": [
    "print db.query(\"select * from schools\")"
   ]
  },
  {
   "cell_type": "code",
   "execution_count": null,
   "metadata": {
    "collapsed": true
   },
   "outputs": [],
   "source": []
  }
 ],
 "metadata": {
  "kernelspec": {
   "display_name": "Python 2",
   "language": "python",
   "name": "python2"
  },
  "language_info": {
   "codemirror_mode": {
    "name": "ipython",
    "version": 2
   },
   "file_extension": ".py",
   "mimetype": "text/x-python",
   "name": "python",
   "nbconvert_exporter": "python",
   "pygments_lexer": "ipython2",
   "version": "2.7.10"
  }
 },
 "nbformat": 4,
 "nbformat_minor": 0
}
