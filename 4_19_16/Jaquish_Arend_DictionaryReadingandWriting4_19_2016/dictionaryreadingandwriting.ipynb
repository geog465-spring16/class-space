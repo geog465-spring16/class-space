{
 "cells": [
  {
   "cell_type": "code",
   "execution_count": 1,
   "metadata": {
    "collapsed": false
   },
   "outputs": [
    {
     "ename": "IOError",
     "evalue": "File not open for reading",
     "output_type": "error",
     "traceback": [
      "\u001b[1;31m---------------------------------------------------------------------------\u001b[0m",
      "\u001b[1;31mIOError\u001b[0m                                   Traceback (most recent call last)",
      "\u001b[1;32m<ipython-input-1-c315348d206e>\u001b[0m in \u001b[0;36m<module>\u001b[1;34m()\u001b[0m\n\u001b[0;32m     17\u001b[0m \u001b[1;33m\u001b[0m\u001b[0m\n\u001b[0;32m     18\u001b[0m \u001b[0mmy_dictwriter\u001b[0m\u001b[1;33m.\u001b[0m\u001b[0mwriterow\u001b[0m\u001b[1;33m(\u001b[0m\u001b[1;33m{\u001b[0m\u001b[1;34m\"Address\"\u001b[0m \u001b[1;33m:\u001b[0m \u001b[1;34m\"3801 Brooklyn Ave NE\"\u001b[0m\u001b[1;33m,\u001b[0m \u001b[1;34m\"Name\"\u001b[0m\u001b[1;33m:\u001b[0m \u001b[1;34m\"Franz\"\u001b[0m\u001b[1;33m,\u001b[0m \u001b[1;34m\"Apartment #\"\u001b[0m\u001b[1;33m:\u001b[0m \u001b[1;36m133\u001b[0m\u001b[1;33m}\u001b[0m\u001b[1;33m)\u001b[0m\u001b[1;33m\u001b[0m\u001b[0m\n\u001b[1;32m---> 19\u001b[1;33m \u001b[1;32mfor\u001b[0m \u001b[0mrow\u001b[0m \u001b[1;32min\u001b[0m \u001b[0mtest_csv_1\u001b[0m\u001b[1;33m:\u001b[0m\u001b[1;33m\u001b[0m\u001b[0m\n\u001b[0m\u001b[0;32m     20\u001b[0m         \u001b[0mmy_dictwriter\u001b[0m\u001b[1;33m.\u001b[0m\u001b[0mwriterow\u001b[0m\u001b[1;33m(\u001b[0m\u001b[0mrow\u001b[0m\u001b[1;33m)\u001b[0m\u001b[1;33m\u001b[0m\u001b[0m\n\u001b[0;32m     21\u001b[0m \u001b[1;33m\u001b[0m\u001b[0m\n",
      "\u001b[1;31mIOError\u001b[0m: File not open for reading"
     ]
    }
   ],
   "source": []
  },
  {
   "cell_type": "code",
   "execution_count": 2,
   "metadata": {
    "collapsed": false
   },
   "outputs": [
    {
     "name": "stdout",
     "output_type": "stream",
     "text": [
      "3801 Brooklyn Ave NE\n",
      "1201 NE Campus Pkwy\n",
      "4000 15th Avenue NE\n"
     ]
    }
   ],
   "source": [
    "# Franz Arend and Spencer Jaquish\n",
    "# GEOG 465\n",
    "# April 19th, 2016\n",
    "# Dictionary Reading and Writing assignment\n",
    "\n",
    "import csv\n",
    "\n",
    "f = open(\"U:/GEOG 465/CSV_tables/Addresses_of_Students.csv\")\n",
    "\n",
    "#This is where the Dictionary reader begins.\n",
    "my_dictreader = csv.DictReader(f) # delimiter is optional\n",
    "\n",
    "for row in my_dictreader:\n",
    "    print row[\"Address\"]\n",
    "    \n",
    "f.close()\n",
    "\n",
    "# This is where the Dictionary writer begins.\n",
    "columnnames = [\"Address\", \"Latitude\", \"Longitude\"]\n",
    "\n",
    "test_csv_2 = open(\"U:/GEOG 465/CSV_tables/Addresses_of_Students.csv\", \"w\")\n",
    "\n",
    "my_dictwriter = csv.DictWriter(test_csv_2, fieldnames = columnnames)\n",
    "\n",
    "my_dictwriter.writeheader()\n",
    "\n",
    "#This part creates the rows below in the table for us.\n",
    "my_dictwriter.writerow({\"Address\" : \"3801 Brooklyn Ave NE\", \"Latitude\" : -47.0, \"Longitude\" : 122.0})\n",
    "my_dictwriter.writerow({\"Address\" : \"1201 NE Campus Pkwy\", \"Latitude\" : -47.1, \"Longitude\" : 122.1})\n",
    "my_dictwriter.writerow({\"Address\" : \"4000 15th Avenue NE\", \"Latitude\" : -47.2, \"Longitude\" : 122.2})\n",
    "\n",
    "test_csv_2.close()"
   ]
  },
  {
   "cell_type": "code",
   "execution_count": null,
   "metadata": {
    "collapsed": true
   },
   "outputs": [],
   "source": []
  }
 ],
 "metadata": {
  "kernelspec": {
   "display_name": "Python 2",
   "language": "python",
   "name": "python2"
  },
  "language_info": {
   "codemirror_mode": {
    "name": "ipython",
    "version": 2
   },
   "file_extension": ".py",
   "mimetype": "text/x-python",
   "name": "python",
   "nbconvert_exporter": "python",
   "pygments_lexer": "ipython2",
   "version": "2.7.10"
  }
 },
 "nbformat": 4,
 "nbformat_minor": 0
}
