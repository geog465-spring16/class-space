{
 "cells": [
  {
   "cell_type": "code",
   "execution_count": 43,
   "metadata": {
    "collapsed": false
   },
   "outputs": [],
   "source": [
    "new_csv = open('C:/Users/loperz23/Desktop/Class Assignment/new_csv_1', 'w')\n",
    "# create a new csv file with a file object that we can write"
   ]
  },
  {
   "cell_type": "code",
   "execution_count": 44,
   "metadata": {
    "collapsed": true
   },
   "outputs": [],
   "source": [
    "columns = ['id', 'applicant_id', 'First', 'Last']\n",
    "# create a list of column names for the new csv file"
   ]
  },
  {
   "cell_type": "code",
   "execution_count": 45,
   "metadata": {
    "collapsed": true
   },
   "outputs": [],
   "source": [
    "my_dwriter = csv.DictWriter(new_csv, fieldnames = columns)\n",
    "# creates a dictionary from the new file and assigns the columns list as the field names \n",
    "# the new dictionary now has a field object my_dwriter"
   ]
  },
  {
   "cell_type": "code",
   "execution_count": 46,
   "metadata": {
    "collapsed": true
   },
   "outputs": [],
   "source": [
    "my_dwriter.writeheader()\n",
    "# looks at the field names from the dictionary my_dwriter and makes those the headers"
   ]
  },
  {
   "cell_type": "code",
   "execution_count": 47,
   "metadata": {
    "collapsed": false
   },
   "outputs": [],
   "source": [
    "my_dwriter.writerow({'id':1, 'applicant_id':1, 'First':'Kennedy', 'Last':'Simmon'})\n",
    "# puts values in the dictionary based on the headers associated with them"
   ]
  },
  {
   "cell_type": "code",
   "execution_count": 48,
   "metadata": {
    "collapsed": true
   },
   "outputs": [],
   "source": [
    "new_csv.close()\n",
    "# we must check to see if everything went in the file correctly \n",
    "# close the file so we can read it"
   ]
  },
  {
   "cell_type": "code",
   "execution_count": 49,
   "metadata": {
    "collapsed": true
   },
   "outputs": [],
   "source": [
    "test_csv = open('C:/Users/loperz23/Desktop/Class Assignment/new_csv_1', 'r')\n",
    "# open the file so we can read it and have a file object test_csv"
   ]
  },
  {
   "cell_type": "code",
   "execution_count": 50,
   "metadata": {
    "collapsed": true
   },
   "outputs": [],
   "source": [
    "my_dreader = csv.DictReader(test_csv)\n",
    "# create a dictionary of the opened file the can be read and has file object my_dreader"
   ]
  },
  {
   "cell_type": "code",
   "execution_count": 51,
   "metadata": {
    "collapsed": false
   },
   "outputs": [
    {
     "name": "stdout",
     "output_type": "stream",
     "text": [
      "{'Last': 'Simmon', 'id': '1', 'applicant_id': '1', 'First': 'Kennedy'}\n"
     ]
    }
   ],
   "source": [
    "for row in my_dreader: # for each column in dictionary my_dreader\n",
    "    print row   # print the column and the value associated with it until all columns have been printed"
   ]
  },
  {
   "cell_type": "code",
   "execution_count": 52,
   "metadata": {
    "collapsed": true
   },
   "outputs": [],
   "source": [
    "new_csv.close()"
   ]
  }
 ],
 "metadata": {
  "kernelspec": {
   "display_name": "Python 2",
   "language": "python",
   "name": "python2"
  },
  "language_info": {
   "codemirror_mode": {
    "name": "ipython",
    "version": 2
   },
   "file_extension": ".py",
   "mimetype": "text/x-python",
   "name": "python",
   "nbconvert_exporter": "python",
   "pygments_lexer": "ipython2",
   "version": "2.7.10"
  }
 },
 "nbformat": 4,
 "nbformat_minor": 0
}
