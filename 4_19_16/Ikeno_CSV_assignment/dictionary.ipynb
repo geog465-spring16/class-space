{
 "cells": [
  {
   "cell_type": "code",
   "execution_count": 1,
   "metadata": {
    "collapsed": true
   },
   "outputs": [],
   "source": [
    "import csv"
   ]
  },
  {
   "cell_type": "code",
   "execution_count": 2,
   "metadata": {
    "collapsed": true
   },
   "outputs": [],
   "source": [
    "csv_file = open('/Users/mikeno/Desktop/College/Spring 2016/Geog 465/CSV Assignment/csv_assignment1.csv', 'w')"
   ]
  },
  {
   "cell_type": "code",
   "execution_count": 3,
   "metadata": {
    "collapsed": true
   },
   "outputs": [],
   "source": [
    "columns = ['Year','Brand','Model','Color'] #part of schema to create "
   ]
  },
  {
   "cell_type": "code",
   "execution_count": 4,
   "metadata": {
    "collapsed": true
   },
   "outputs": [],
   "source": [
    "my_dwriter = csv.DictWriter(csv_file, fieldnames = columns) #passing schema in by using keyworld 'fieldnames'"
   ]
  },
  {
   "cell_type": "code",
   "execution_count": 5,
   "metadata": {
    "collapsed": false
   },
   "outputs": [],
   "source": [
    "my_dwriter.writeheader() #call writeheader() in newly created dictWriter"
   ]
  },
  {
   "cell_type": "code",
   "execution_count": 7,
   "metadata": {
    "collapsed": false
   },
   "outputs": [],
   "source": [
    "my_dwriter.writerow({'Year': 2005,'Brand':'Toyota','Model':'Prius','Color':'Silver'})"
   ]
  },
  {
   "cell_type": "code",
   "execution_count": 8,
   "metadata": {
    "collapsed": true
   },
   "outputs": [],
   "source": [
    "my_dwriter.writerow({'Year': 2007,'Brand':'Ford','Model':'Ranger','Color':'White'})"
   ]
  },
  {
   "cell_type": "code",
   "execution_count": 9,
   "metadata": {
    "collapsed": true
   },
   "outputs": [],
   "source": [
    "my_dwriter.writerow({'Year': 1991,'Brand':'Cheverolet','Model':'Mobile Precinct','Color':'Green'})"
   ]
  },
  {
   "cell_type": "code",
   "execution_count": 10,
   "metadata": {
    "collapsed": true
   },
   "outputs": [],
   "source": [
    "csv_file.close()"
   ]
  },
  {
   "cell_type": "code",
   "execution_count": 11,
   "metadata": {
    "collapsed": true
   },
   "outputs": [],
   "source": [
    "read_file = open('/Users/mikeno/Desktop/College/Spring 2016/Geog 465/CSV Assignment/csv_assignment1.csv','r')"
   ]
  },
  {
   "cell_type": "code",
   "execution_count": 12,
   "metadata": {
    "collapsed": false
   },
   "outputs": [],
   "source": [
    "reader = csv.reader(read_file, delimiter = ',')"
   ]
  },
  {
   "cell_type": "code",
   "execution_count": 13,
   "metadata": {
    "collapsed": false
   },
   "outputs": [
    {
     "name": "stdout",
     "output_type": "stream",
     "text": [
      "['Year', 'Brand', 'Model', 'Color']\n",
      "['1991', 'Toyota', 'Prius', 'Silver']\n",
      "['2005', 'Toyota', 'Prius', 'Silver']\n",
      "['2007', 'Ford', 'Ranger', 'White']\n",
      "['1991', 'Cheverolet', 'Mobile Precinct', 'Green']\n"
     ]
    }
   ],
   "source": [
    "for row in reader:\n",
    "    print row"
   ]
  },
  {
   "cell_type": "raw",
   "metadata": {},
   "source": []
  }
 ],
 "metadata": {
  "kernelspec": {
   "display_name": "Python 2",
   "language": "python",
   "name": "python2"
  },
  "language_info": {
   "codemirror_mode": {
    "name": "ipython",
    "version": 2
   },
   "file_extension": ".py",
   "mimetype": "text/x-python",
   "name": "python",
   "nbconvert_exporter": "python",
   "pygments_lexer": "ipython2",
   "version": "2.7.10"
  }
 },
 "nbformat": 4,
 "nbformat_minor": 0
}
