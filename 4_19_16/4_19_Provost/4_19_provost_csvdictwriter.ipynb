{
 "cells": [
  {
   "cell_type": "markdown",
   "metadata": {},
   "source": [
    "Naomi Provost\n",
    "data from: https://data.seattle.gov/Public-Safety/Seattle-Police-Department-Police-Report-Incident/7ais-f98f"
   ]
  },
  {
   "cell_type": "code",
   "execution_count": 19,
   "metadata": {
    "collapsed": false
   },
   "outputs": [],
   "source": [
    "import csv\n",
    "\n",
    "open_input = open('C:/Users/Niniprincess/Desktop/police_report.csv') #opens downloaded csv file\n",
    "\n",
    "read_input = csv.DictReader(open_input) #reads the input file\n",
    "file_output = open(\"C:/Users/Niniprincess/Desktop/output.csv\", 'w') #opens output file\n",
    "\n",
    "column_names = [\"RMS CDW ID\", \"General Offense Number\", \"Offense Type\", \"Date Reported\", \"Location\"] #defines field names\n",
    "\n",
    "#write to output csv and ignores columns that aren't listed\n",
    "write_output = csv.DictWriter(file_output, fieldnames = column_names, extrasaction = 'ignore', delimiter = \",\") \n",
    "\n",
    "write_output.writeheader() \n",
    "\n",
    "for row in read_input: #iterates through rows in input file\n",
    "    write_output.writerow(row) #writes each row in input file to output file\n",
    "    \n",
    "file_output.close() #closes output file\n",
    "open_input.close() #closes input file"
   ]
  }
 ],
 "metadata": {
  "kernelspec": {
   "display_name": "Python 2",
   "language": "python",
   "name": "python2"
  }
 },
 "nbformat": 4,
 "nbformat_minor": 0
}
