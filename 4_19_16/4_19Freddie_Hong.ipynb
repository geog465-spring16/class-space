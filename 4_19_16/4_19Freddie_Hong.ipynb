{
 "cells": [
  {
   "cell_type": "code",
   "execution_count": 1,
   "metadata": {
    "collapsed": true
   },
   "outputs": [],
   "source": [
    "import csv\n"
   ]
  },
  {
   "cell_type": "code",
   "execution_count": 7,
   "metadata": {
    "collapsed": true
   },
   "outputs": [],
   "source": [
    "f = open('C:/Users/sphong91/cellphones.csv', 'w')\n",
    "fieldnames = ['ID', 'Product_Name', 'Quantity', 'Model']\n",
    "cellphones_csv = csv.DictWriter(f, fieldnames = fieldnames)\n",
    "cellphones_csv.writeheader()"
   ]
  },
  {
   "cell_type": "code",
   "execution_count": 8,
   "metadata": {
    "collapsed": false
   },
   "outputs": [],
   "source": [
    "cellphones_csv.writerow({'ID':'1', 'Product_Name':'iPhone', 'Quantity':'6','Model':'iPhone 6S'})\n",
    "cellphones_csv.writerow({'ID':'2', 'Product_Name':'Galaxy', 'Quantity':'7','Model':'Galaxy S7'})\n",
    "cellphones_csv.writerow({'ID':'3', 'Product_Name':'Galaxy', 'Quantity':'3','Model':'Galaxy S7 Edge'})"
   ]
  },
  {
   "cell_type": "code",
   "execution_count": null,
   "metadata": {
    "collapsed": true
   },
   "outputs": [],
   "source": []
  },
  {
   "cell_type": "code",
   "execution_count": 9,
   "metadata": {
    "collapsed": true
   },
   "outputs": [],
   "source": [
    "f.close()"
   ]
  }
 ],
 "metadata": {
  "kernelspec": {
   "display_name": "Python 2",
   "language": "python",
   "name": "python2"
  },
  "language_info": {
   "codemirror_mode": {
    "name": "ipython",
    "version": 2
   },
   "file_extension": ".py",
   "mimetype": "text/x-python",
   "name": "python",
   "nbconvert_exporter": "python",
   "pygments_lexer": "ipython2",
   "version": "2.7.10"
  }
 },
 "nbformat": 4,
 "nbformat_minor": 0
}
