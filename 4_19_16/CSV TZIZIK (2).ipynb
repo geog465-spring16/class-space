{
 "cells": [
  {
   "cell_type": "code",
   "execution_count": 14,
   "metadata": {
    "collapsed": true
   },
   "outputs": [],
   "source": [
    "import csv"
   ]
  },
  {
   "cell_type": "code",
   "execution_count": 15,
   "metadata": {
    "collapsed": false
   },
   "outputs": [],
   "source": [
    "f = open('cultspace.csv', 'w')\n",
    "columnnames = ['id', 'name', 'phone_num', 'addressid', 'address']"
   ]
  },
  {
   "cell_type": "code",
   "execution_count": 16,
   "metadata": {
    "collapsed": true
   },
   "outputs": [],
   "source": [
    "cultspace_csv = csv.DictWriter(f, fieldnames = columnnames)\n",
    "cultspace_csv.writeheader()"
   ]
  },
  {
   "cell_type": "code",
   "execution_count": 18,
   "metadata": {
    "collapsed": false
   },
   "outputs": [],
   "source": [
    "cultspace_csv.writerow({'id':'1', 'name':'Seattle Public Library Delridge', 'phone_num':'2067339125', 'addressid':'1', 'address':'5423 Delridge Way SW'})\n",
    "cultspace_csv.writerow({'id':'2', 'name':'C & P Coffee Company', 'phone_num':'2069333125', 'addressid':'2', 'address':'5612 California Ave SW'})\n",
    "cultspace_csv.writerow({'id':'3', 'name':'Avalon Glassworks', 'phone_num':'2069376369', 'addressid':'3', 'address':'2914 Avalon Way SW'})"
   ]
  },
  {
   "cell_type": "code",
   "execution_count": 19,
   "metadata": {
    "collapsed": true
   },
   "outputs": [],
   "source": [
    "f.close()"
   ]
  },
  {
   "cell_type": "code",
   "execution_count": 20,
   "metadata": {
    "collapsed": true
   },
   "outputs": [],
   "source": [
    "read_file = open('cultspace.csv', 'r')\n",
    "reader = csv.reader(read_file, delimiter = ',')"
   ]
  },
  {
   "cell_type": "code",
   "execution_count": 21,
   "metadata": {
    "collapsed": false
   },
   "outputs": [
    {
     "name": "stdout",
     "output_type": "stream",
     "text": [
      "['id', 'name', 'phone_num', 'addressid', 'address']\n",
      "['1', 'Seattle Public Library Delridge', '2067339125', '1', '5423 Delridge Way SW']\n",
      "['2', 'C & P Coffee Company', '2069333125', '2', '5612 California Ave SW']\n",
      "['3', 'Avalon Glassworks', '2069376369', '3', '2914 Avalon Way SW']\n"
     ]
    }
   ],
   "source": [
    "for row in reader:\n",
    "    print row"
   ]
  },
  {
   "cell_type": "code",
   "execution_count": null,
   "metadata": {
    "collapsed": true
   },
   "outputs": [],
   "source": []
  }
 ],
 "metadata": {
  "kernelspec": {
   "display_name": "Python 2",
   "language": "python",
   "name": "python2"
  },
  "language_info": {
   "codemirror_mode": {
    "name": "ipython",
    "version": 2
   },
   "file_extension": ".py",
   "mimetype": "text/x-python",
   "name": "python",
   "nbconvert_exporter": "python",
   "pygments_lexer": "ipython2",
   "version": "2.7.10"
  }
 },
 "nbformat": 4,
 "nbformat_minor": 0
}
