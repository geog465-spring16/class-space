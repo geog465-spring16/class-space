{
 "cells": [
  {
   "cell_type": "code",
   "execution_count": 24,
   "metadata": {
    "collapsed": false
   },
   "outputs": [
    {
     "name": "stdout",
     "output_type": "stream",
     "text": [
      "finished\n"
     ]
    }
   ],
   "source": [
    "import csv\n",
    "\n",
    "input_file = csv.DictReader(open(\"nfldraft2015.csv\"))\n",
    "output_file = open(\"C:\\\\Users\\\\knny\\\\Desktop\\\\output.csv\", 'w')\n",
    "fieldnames = [\"Rnd\", \"Pick\", \"Tm\", \"Name\", \"Pos\", \"Age\", \"G\", \"College/Univ\"]\n",
    "\n",
    "dwriter = csv.DictWriter(output_file, fieldnames = fieldnames, extrasaction='ignore', delimiter = \",\")\n",
    "dwriter.writeheader()\n",
    "for row in input_file:\n",
    "    dwriter.writerow(row)\n",
    "output_file.close()\n",
    "print \"finished\""
   ]
  },
  {
   "cell_type": "code",
   "execution_count": null,
   "metadata": {
    "collapsed": true
   },
   "outputs": [],
   "source": []
  }
 ],
 "metadata": {
  "kernelspec": {
   "display_name": "Python 2",
   "language": "python",
   "name": "python2"
  },
  "language_info": {
   "codemirror_mode": {
    "name": "ipython",
    "version": 2
   },
   "file_extension": ".py",
   "mimetype": "text/x-python",
   "name": "python",
   "nbconvert_exporter": "python",
   "pygments_lexer": "ipython2",
   "version": "2.7.10"
  }
 },
 "nbformat": 4,
 "nbformat_minor": 0
}
