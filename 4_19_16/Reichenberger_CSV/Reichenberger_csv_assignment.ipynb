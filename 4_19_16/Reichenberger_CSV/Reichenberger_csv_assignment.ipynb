{
 "cells": [
  {
   "cell_type": "code",
   "execution_count": 5,
   "metadata": {
    "collapsed": false
   },
   "outputs": [],
   "source": [
    "import csv\n",
    "\n",
    "csv_file = open('C:/Users/reichg/Documents/GEOG 465/Seattle_Police_Department_Police_Report_Incident.csv')\n",
    "\n",
    "read_input = csv.DictReader(csv_file)\n",
    "\n",
    "file_output = open('C:/Users/reichg/Documents/GEOG 465/output.csv', 'w')\n",
    "\n",
    "columns = ['RMS CDW ID', 'General Offense Number', 'Offense Type', 'Summarized Offense Description']\n",
    "\n",
    "my_dwriter = csv.DictWriter(csv_file, fieldnames = columns)\n",
    "\n",
    "write_output = csv.DictWriter(file_output, fieldnames = columns, extrasaction = 'ignore', delimiter = \",\") \n",
    "\n",
    "write_output.writeheader()\n",
    "for row in read_input: #iterates through rows in input file\n",
    "    write_output.writerow(row)\n",
    "    \n",
    "file_output.close()\n",
    "csv_file.close()\n"
   ]
  },
  {
   "cell_type": "code",
   "execution_count": null,
   "metadata": {
    "collapsed": true
   },
   "outputs": [],
   "source": []
  }
 ],
 "metadata": {
  "kernelspec": {
   "display_name": "Python 2",
   "language": "python",
   "name": "python2"
  },
  "language_info": {
   "codemirror_mode": {
    "name": "ipython",
    "version": 2
   },
   "file_extension": ".py",
   "mimetype": "text/x-python",
   "name": "python",
   "nbconvert_exporter": "python",
   "pygments_lexer": "ipython2",
   "version": "2.7.10"
  }
 },
 "nbformat": 4,
 "nbformat_minor": 0
}
