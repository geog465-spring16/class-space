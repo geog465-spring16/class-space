import csv

f= open('U:\Geog 465\Building_Permits___Current.csv')
downloaded_csv = csv.reader(f, delimiter = ',')
for col in downloaded_csv:
    print col[0] + " " + col[1] + " " + col[4] + " " + col[8]
    
new_csv_1 = open('U:\Geog 465\csv_1.csv', 'w')
columnnames = ['permit_id', 'permit_type', 'action_type', 'applicant_name']
new_dwriter = csv.DictWriter(new_csv_1, fieldnames = columnnames)
new_dwriter.writeheader()
new_dwriter.writerow({'permit_id' : 63224650, 'permit_type' : 'Construction', 'action_type' : 'ADD/ALT', 'applicant_name' : 'Denny'})
new_dwriter.writerow({'permit_id' : 63224651, 'permit_type' : 'Demolition', 'action_type' : 'DEMOLITION', 'applicant_name' :'Ali'})
new_dwriter.writerow({'permit_id' : 63224652, 'permit_type' : 'Demolition', 'action_type' : 'DEMOLITION', 'applicant_name' : 'Zen'})'
