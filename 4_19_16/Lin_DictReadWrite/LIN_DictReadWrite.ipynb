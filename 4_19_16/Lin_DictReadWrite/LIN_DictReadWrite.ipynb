{
 "cells": [
  {
   "cell_type": "code",
   "execution_count": 2,
   "metadata": {
    "collapsed": true
   },
   "outputs": [],
   "source": [
    "import csv #imports csv module"
   ]
  },
  {
   "cell_type": "code",
   "execution_count": 33,
   "metadata": {
    "collapsed": false
   },
   "outputs": [],
   "source": [
    "newFile = open(\"DictionaryReadWrite.csv\",'wb') # opens up a new .csv file for later "
   ]
  },
  {
   "cell_type": "code",
   "execution_count": 34,
   "metadata": {
    "collapsed": true
   },
   "outputs": [],
   "source": [
    "columnNames = ['id', 'name', 'category'] #defines the column names"
   ]
  },
  {
   "cell_type": "code",
   "execution_count": 35,
   "metadata": {
    "collapsed": true
   },
   "outputs": [],
   "source": [
    "my_dwriter = csv.DictWriter(newFile, fieldnames = columnNames) #writes the file to a dictionary"
   ]
  },
  {
   "cell_type": "code",
   "execution_count": 36,
   "metadata": {
    "collapsed": true
   },
   "outputs": [],
   "source": [
    "my_dwriter.writeheader() #writes the headers"
   ]
  },
  {
   "cell_type": "code",
   "execution_count": 37,
   "metadata": {
    "collapsed": false
   },
   "outputs": [],
   "source": [
    "# writes the data to the rows \n",
    "my_dwriter.writerow({'id' : 1, 'name' : 'Franklin', 'category' : 'Assistant'}) \n",
    "my_dwriter.writerow({'id' : 2, 'name' : 'Bob', 'category' : 'Scribe'}) \n",
    "my_dwriter.writerow({'id' : 3, 'name' : 'Thorgeous', 'category' : 'Supervisor'}) "
   ]
  },
  {
   "cell_type": "code",
   "execution_count": 40,
   "metadata": {
    "collapsed": false
   },
   "outputs": [],
   "source": [
    "newFile.close() #closes the file "
   ]
  },
  {
   "cell_type": "code",
   "execution_count": 47,
   "metadata": {
    "collapsed": true
   },
   "outputs": [],
   "source": [
    "# opens the file and reads it to the dictionary \n",
    "newFile = open('DictionaryReadWrite.csv', 'r') \n",
    "my_dreader_2 = csv.DictReader(newFile, delimiter = ',') "
   ]
  },
  {
   "cell_type": "code",
   "execution_count": 48,
   "metadata": {
    "collapsed": false
   },
   "outputs": [
    {
     "name": "stdout",
     "output_type": "stream",
     "text": [
      "{'category': 'Assistant', 'id': '1', 'name': 'Franklin'}\n",
      "{'category': 'Scribe', 'id': '2', 'name': 'Bob'}\n",
      "{'category': 'Supervisor', 'id': '3', 'name': 'Thorgeous'}\n"
     ]
    }
   ],
   "source": [
    "# prints the data in the file \n",
    "for row in my_dreader_2: \n",
    "    print row "
   ]
  },
  {
   "cell_type": "code",
   "execution_count": null,
   "metadata": {
    "collapsed": true
   },
   "outputs": [],
   "source": [
    "newFile.close()"
   ]
  }
 ],
 "metadata": {
  "kernelspec": {
   "display_name": "Python 2",
   "language": "python",
   "name": "python2"
  },
  "language_info": {
   "codemirror_mode": {
    "name": "ipython",
    "version": 2
   },
   "file_extension": ".py",
   "mimetype": "text/x-python",
   "name": "python",
   "nbconvert_exporter": "python",
   "pygments_lexer": "ipython2",
   "version": "2.7.10"
  }
 },
 "nbformat": 4,
 "nbformat_minor": 0
}
