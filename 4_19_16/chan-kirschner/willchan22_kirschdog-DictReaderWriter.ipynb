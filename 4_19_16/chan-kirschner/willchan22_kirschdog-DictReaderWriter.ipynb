{
 "cells": [
  {
   "cell_type": "markdown",
   "metadata": {},
   "source": [
    "Will Chan and Rachel Kirschner - 4/19/2016"
   ]
  },
  {
   "cell_type": "code",
   "execution_count": 2,
   "metadata": {
    "collapsed": true
   },
   "outputs": [],
   "source": [
    "import csv"
   ]
  },
  {
   "cell_type": "code",
   "execution_count": 26,
   "metadata": {
    "collapsed": false
   },
   "outputs": [],
   "source": [
    "# set a folder path and open source file and new file\n",
    "folderPath = \"U:\\\\GEOG 465\\\\\"\n",
    "origFile = open(folderPath + \"Seattle_Police_Department_Police_Report_Incident.csv\")\n",
    "newFile = open(folderPath + \"subset.csv\", \"wb\")"
   ]
  },
  {
   "cell_type": "code",
   "execution_count": 27,
   "metadata": {
    "collapsed": false
   },
   "outputs": [],
   "source": [
    "# create reader to parse source file\n",
    "reader = csv.DictReader(origFile)\n",
    "\n",
    "# test printing NOT EVERYTHING\n",
    "#print reader.next()\n",
    "#for x in range(0,3):\n",
    "#    print reader.next()"
   ]
  },
  {
   "cell_type": "code",
   "execution_count": 28,
   "metadata": {
    "collapsed": true
   },
   "outputs": [],
   "source": [
    "# list of fields we want in new file as columns\n",
    "listFields = ['RMS CDW ID', 'Offense Type', 'Date Reported', 'Zone/Beat', 'Longitude', 'Latitude']\n",
    "\n",
    "# create writer and write 3 rows to new file\n",
    "writer = csv.DictWriter(newFile, fieldnames = listFields)\n",
    "\n",
    "# skip first row of CSV which contains all column names\n",
    "writer.writeheader()\n",
    "\n",
    "# write x number of rows (3 in this case)\n",
    "for x in range(0,3):\n",
    "    tempDict1 = reader.next()\n",
    "    tempDict2 = {}\n",
    "    for field in listFields:\n",
    "        tempDict2[field] = tempDict1[field]\n",
    "    writer.writerow(tempDict2)\n",
    "newFile.close()"
   ]
  },
  {
   "cell_type": "code",
   "execution_count": null,
   "metadata": {
    "collapsed": true
   },
   "outputs": [],
   "source": []
  }
 ],
 "metadata": {
  "kernelspec": {
   "display_name": "Python 2",
   "language": "python",
   "name": "python2"
  },
  "language_info": {
   "codemirror_mode": {
    "name": "ipython",
    "version": 2
   },
   "file_extension": ".py",
   "mimetype": "text/x-python",
   "name": "python",
   "nbconvert_exporter": "python",
   "pygments_lexer": "ipython2",
   "version": "2.7.10"
  }
 },
 "nbformat": 4,
 "nbformat_minor": 0
}
