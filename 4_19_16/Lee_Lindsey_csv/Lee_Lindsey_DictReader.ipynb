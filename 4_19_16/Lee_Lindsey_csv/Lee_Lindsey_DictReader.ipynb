{
 "cells": [
  {
   "cell_type": "code",
   "execution_count": 1,
   "metadata": {
    "collapsed": true
   },
   "outputs": [],
   "source": [
    "import csv"
   ]
  },
  {
   "cell_type": "code",
   "execution_count": 4,
   "metadata": {
    "collapsed": false
   },
   "outputs": [],
   "source": [
    "f = open('/Users/AlexLee/Desktop/sales.csv', 'w')\n",
    "columnnames = ['ID', 'Seller_ID', 'Equipment_ID', 'Sale_Price', 'Sale_Date']"
   ]
  },
  {
   "cell_type": "code",
   "execution_count": 5,
   "metadata": {
    "collapsed": false
   },
   "outputs": [],
   "source": [
    "sales_csv = csv.DictWriter(f, fieldnames = columnnames)\n",
    "sales_csv.writeheader()"
   ]
  },
  {
   "cell_type": "code",
   "execution_count": 6,
   "metadata": {
    "collapsed": true
   },
   "outputs": [],
   "source": [
    "sales_csv.writerow({'ID':'1', 'Seller_ID':'1', 'Equipment_ID':'1', 'Sale_Price':'370000.00', 'Sale_Date':'19-Dec-13'})\n",
    "sales_csv.writerow({'ID':'2', 'Seller_ID':'2', 'Equipment_ID':'2', 'Sale_Price':'5000.00', 'Sale_Date':'02-Oct-13'})\n",
    "sales_csv.writerow({'ID':'3', 'Seller_ID':'3', 'Equipment_ID':'3', 'Sale_Price':'6100.00', 'Sale_Date':'23-Oct-14'})"
   ]
  },
  {
   "cell_type": "code",
   "execution_count": 7,
   "metadata": {
    "collapsed": true
   },
   "outputs": [],
   "source": [
    "f.close()"
   ]
  }
 ],
 "metadata": {
  "kernelspec": {
   "display_name": "Python 2",
   "language": "python",
   "name": "python2"
  },
  "language_info": {
   "codemirror_mode": {
    "name": "ipython",
    "version": 2
   },
   "file_extension": ".py",
   "mimetype": "text/x-python",
   "name": "python",
   "nbconvert_exporter": "python",
   "pygments_lexer": "ipython2",
   "version": "2.7.10"
  }
 },
 "nbformat": 4,
 "nbformat_minor": 0
}
