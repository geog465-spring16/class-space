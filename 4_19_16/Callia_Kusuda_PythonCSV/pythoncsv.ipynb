{
 "cells": [
  {
   "cell_type": "markdown",
   "metadata": {},
   "source": [
    "Evan Callia\n",
    "\n",
    "Kyle Kusuda\n",
    "\n",
    "4/20/16\n",
    "\n",
    "Python CSV Reader"
   ]
  },
  {
   "cell_type": "markdown",
   "metadata": {},
   "source": [
    "reading csv file into dictionaries"
   ]
  },
  {
   "cell_type": "code",
   "execution_count": 30,
   "metadata": {
    "collapsed": false,
    "scrolled": false
   },
   "outputs": [],
   "source": [
    "import csv\n",
    "my_file = 'grants.csv'\n",
    "csv_file = csv.DictReader(open(my_file, 'rb'), delimiter=',', quotechar='\"')\n",
    "\n",
    "# for line in csv_file:\n",
    "#     print line['Deadline']"
   ]
  },
  {
   "cell_type": "markdown",
   "metadata": {},
   "source": [
    "create a list of all the field names"
   ]
  },
  {
   "cell_type": "code",
   "execution_count": 31,
   "metadata": {
    "collapsed": false
   },
   "outputs": [],
   "source": [
    "field_names = []\n",
    "for line in csv_file:\n",
    "    for key in line:\n",
    "        field_names.append(key)\n",
    "    break"
   ]
  },
  {
   "cell_type": "markdown",
   "metadata": {},
   "source": [
    "writing specified fields to a new csv resebmling the schema of our relational database"
   ]
  },
  {
   "cell_type": "code",
   "execution_count": 32,
   "metadata": {
    "collapsed": false
   },
   "outputs": [],
   "source": [
    "fields = ['ID', 'Fund', 'Description', 'Award', 'Eligibility', 'Website']\n",
    "fund_file = open('fund.csv','wb')\n",
    "csvwriter = csv.DictWriter(fund_file, delimiter=',', fieldnames=fields)\n",
    "csvwriter.writerow(dict((fn,fn) for fn in fields))\n",
    "id_count = 1\n",
    "for row in csv_file:\n",
    "    new_row = {}\n",
    "    new_row[\"ID\"] = id_count\n",
    "    for key in row:\n",
    "        if key in fields:\n",
    "            new_row[key] = row[key]\n",
    "    csvwriter.writerow(new_row)\n",
    "    if id_count == 3:\n",
    "        break\n",
    "    id_count += 1\n",
    "fund_file.close()"
   ]
  },
  {
   "cell_type": "code",
   "execution_count": null,
   "metadata": {
    "collapsed": true
   },
   "outputs": [],
   "source": []
  }
 ],
 "metadata": {
  "kernelspec": {
   "display_name": "Python 2",
   "language": "python",
   "name": "python2"
  },
  "language_info": {
   "codemirror_mode": {
    "name": "ipython",
    "version": 2
   },
   "file_extension": ".py",
   "mimetype": "text/x-python",
   "name": "python",
   "nbconvert_exporter": "python",
   "pygments_lexer": "ipython2",
   "version": "2.7.10"
  }
 },
 "nbformat": 4,
 "nbformat_minor": 0
}
