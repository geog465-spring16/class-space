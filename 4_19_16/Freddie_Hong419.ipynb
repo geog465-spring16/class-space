{
 "cells": [
  {
   "cell_type": "code",
   "execution_count": 1,
   "metadata": {
    "collapsed": true
   },
   "outputs": [],
   "source": [
    "import csv"
   ]
  },
  {
   "cell_type": "code",
   "execution_count": 7,
   "metadata": {
    "collapsed": false
   },
   "outputs": [],
   "source": [
    "f = open('/Users/Freddie/Documents/cellphones.csv', 'w')\n",
    "fieldnames = ['ID', 'Company', 'Quantity', 'Model']\n",
    "cellphones_csv = csv.DictWriter(f, fieldnames = fieldnames)\n",
    "cellphones_csv.writeheader()"
   ]
  },
  {
   "cell_type": "code",
   "execution_count": 8,
   "metadata": {
    "collapsed": false
   },
   "outputs": [],
   "source": [
    "cellphones_csv.writerow({'ID':'1', 'Company':'iPhone', 'Quantity':'6','Model':'iPhone 6S'})\n",
    "cellphones_csv.writerow({'ID':'2', 'Company':'Galaxy', 'Quantity':'7','Model':'Galaxy S7'})\n",
    "cellphones_csv.writerow({'ID':'3', 'Company':'Galaxy', 'Quantity':'3','Model':'Galaxy S7 Edge'})"
   ]
  },
  {
   "cell_type": "code",
   "execution_count": 9,
   "metadata": {
    "collapsed": true
   },
   "outputs": [],
   "source": [
    "f.close()"
   ]
  },
  {
   "cell_type": "code",
   "execution_count": 10,
   "metadata": {
    "collapsed": true
   },
   "outputs": [],
   "source": [
    "read_file = open('/Users/Freddie/Documents/cellphones.csv', 'r')\n",
    "reader = csv.reader(read_file, delimiter = ',')"
   ]
  },
  {
   "cell_type": "code",
   "execution_count": 11,
   "metadata": {
    "collapsed": false
   },
   "outputs": [
    {
     "name": "stdout",
     "output_type": "stream",
     "text": [
      "['ID', 'Company', 'Quantity', 'Model']\n",
      "['1', 'iPhone', '6', 'iPhone 6S']\n",
      "['2', 'Galaxy', '7', 'Galaxy S7']\n",
      "['3', 'Galaxy', '3', 'Galaxy S7 Edge']\n"
     ]
    }
   ],
   "source": [
    "for row in reader:\n",
    "    print row"
   ]
  },
  {
   "cell_type": "code",
   "execution_count": null,
   "metadata": {
    "collapsed": true
   },
   "outputs": [],
   "source": []
  }
 ],
 "metadata": {
  "kernelspec": {
   "display_name": "Python 2",
   "language": "python",
   "name": "python2"
  },
  "language_info": {
   "codemirror_mode": {
    "name": "ipython",
    "version": 2
   },
   "file_extension": ".py",
   "mimetype": "text/x-python",
   "name": "python",
   "nbconvert_exporter": "python",
   "pygments_lexer": "ipython2",
   "version": "2.7.10"
  }
 },
 "nbformat": 4,
 "nbformat_minor": 0
}
