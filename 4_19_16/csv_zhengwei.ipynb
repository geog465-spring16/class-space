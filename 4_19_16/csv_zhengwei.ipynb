{
 "cells": [
  {
   "cell_type": "code",
   "execution_count": 26,
   "metadata": {
    "collapsed": false
   },
   "outputs": [
    {
     "name": "stdout",
     "output_type": "stream",
     "text": [
      "{'school': 'University of Washington', 'major': 'GEOG', 'id': '1', 'name': 'Nick'}\n"
     ]
    }
   ],
   "source": [
    "import csv\n",
    "nick_csv = open ('C:/Users/sunz4/Downloads/nick.csv', 'w')\n",
    "columnnames = ['id', 'name', 'school', 'major']\n",
    "my_diwriter = csv.DictWriter(nick_csv, fieldnames = columnnames)\n",
    "my_diwriter.writeheader()\n",
    "my_diwriter.writerow ({'id':1, 'name': 'Nick', 'school':'University of Washington',\n",
    "                      'major': 'GEOG'})\n",
    "nick_csv = open('C:/Users/sunz4/Downloads/nick.csv', 'r')\n",
    "my_reader = csv.DictReader(nick_csv)\n",
    "for row in my_reader:\n",
    "    print row\n",
    "    "
   ]
  },
  {
   "cell_type": "code",
   "execution_count": null,
   "metadata": {
    "collapsed": true
   },
   "outputs": [],
   "source": []
  },
  {
   "cell_type": "code",
   "execution_count": null,
   "metadata": {
    "collapsed": true
   },
   "outputs": [],
   "source": []
  },
  {
   "cell_type": "code",
   "execution_count": null,
   "metadata": {
    "collapsed": true
   },
   "outputs": [],
   "source": []
  }
 ],
 "metadata": {
  "kernelspec": {
   "display_name": "Python 2",
   "language": "python",
   "name": "python2"
  },
  "language_info": {
   "codemirror_mode": {
    "name": "ipython",
    "version": 2
   },
   "file_extension": ".py",
   "mimetype": "text/x-python",
   "name": "python",
   "nbconvert_exporter": "python",
   "pygments_lexer": "ipython2",
   "version": "2.7.10"
  }
 },
 "nbformat": 4,
 "nbformat_minor": 0
}
