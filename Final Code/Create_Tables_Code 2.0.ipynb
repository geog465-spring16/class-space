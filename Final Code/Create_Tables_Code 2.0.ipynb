{
 "cells": [
  {
   "cell_type": "code",
   "execution_count": 361,
   "metadata": {
    "collapsed": true
   },
   "outputs": [],
   "source": [
    "import csv"
   ]
  },
  {
   "cell_type": "code",
   "execution_count": 362,
   "metadata": {
    "collapsed": true
   },
   "outputs": [],
   "source": [
    "f = open('U:/GEOG 465/Seattle_Parks_Features.csv') # open file"
   ]
  },
  {
   "cell_type": "code",
   "execution_count": 363,
   "metadata": {
    "collapsed": true
   },
   "outputs": [],
   "source": [
    "my_csv = csv.DictReader(f) # read file"
   ]
  },
  {
   "cell_type": "code",
   "execution_count": 364,
   "metadata": {
    "collapsed": false
   },
   "outputs": [],
   "source": [
    "# open file to write on\n",
    "parks_csv = open('U:/GEOG 465/Lab 2/parks_csv.csv', 'w')\n",
    "park_location_csv = open('U:/GEOG 465/Lab 2/park_location_csv.csv', 'w')\n",
    "features_csv = open('U:/GEOG 465/Lab 2/features_csv.csv', 'w')\n",
    "child_desc_csv = open('U:/GEOG 465/Lab 2/child_desc_csv.csv', 'w')\n",
    "field_type_csv = open('U:/GEOG 465/Lab 2/field_type_csv.csv', 'w')"
   ]
  },
  {
   "cell_type": "code",
   "execution_count": 365,
   "metadata": {
    "collapsed": true
   },
   "outputs": [],
   "source": [
    "# creates empty lists to write onto\n",
    "parks = []\n",
    "park_location = []\n",
    "features = []\n",
    "child_desc_list = []\n",
    "field_type_list = []"
   ]
  },
  {
   "cell_type": "code",
   "execution_count": 366,
   "metadata": {
    "collapsed": true
   },
   "outputs": [],
   "source": [
    "# create column names for each new csv file\n",
    "parks_colnames = ['id', 'name', 'altname', 'hours', 'youth_only','lighting', 'park_location_id']\n",
    "park_location_colnames = ['id', 'xPos', 'yPos', 'location', 'parks_id']\n",
    "features_colnames = ['id', 'feature_desc', 'child_desc_id', 'field_type_id']\n",
    "child_desc_colnames = ['id', 'child_desc']\n",
    "field_type_colnames = ['id', 'field_type']"
   ]
  },
  {
   "cell_type": "code",
   "execution_count": 367,
   "metadata": {
    "collapsed": false
   },
   "outputs": [],
   "source": [
    "# read through original file, writing select data onto new lists\n",
    "i = 1\n",
    "for row in my_csv:\n",
    "    parks.append({'id': i, 'name': row['Name'], 'altname': row['Alt_Name'],'hours': row['hours'], 'youth_only':\n",
    "                  row['YOUTH_ONLY'], 'lighting': row['LIGHTING'], 'park_location_id' : ''})\n",
    "    park_location.append({'id': i, 'xPos': row['xPos'], 'yPos': row['yPos'], 'location': row['Location 1'], 'parks_id' : ''})\n",
    "    features.append({'id': i, 'feature_desc': row['Feature_Desc'], 'child_desc_id': '', 'field_type_id': ''})\n",
    "    #child_desc_list.append({'id': i, 'child_desc': row['CHILD_DESC']})\n",
    "    #field_type.append({'id': i, 'field_type': row['FIELD_TYPE']})\n",
    "    i += 1"
   ]
  },
  {
   "cell_type": "code",
   "execution_count": 368,
   "metadata": {
    "collapsed": false
   },
   "outputs": [],
   "source": [
    "# write newly created lists into the open csv files\n",
    "my_dwriter = csv.DictWriter(parks_csv, fieldnames = parks_colnames)\n",
    "my_dwriter.writeheader()\n",
    "my_dwriter.writerows(parks)"
   ]
  },
  {
   "cell_type": "code",
   "execution_count": 369,
   "metadata": {
    "collapsed": false
   },
   "outputs": [],
   "source": [
    "my_dwriter = csv.DictWriter(park_location_csv, fieldnames = park_location_colnames)\n",
    "my_dwriter.writeheader()\n",
    "my_dwriter.writerows(park_location)"
   ]
  },
  {
   "cell_type": "code",
   "execution_count": 370,
   "metadata": {
    "collapsed": false
   },
   "outputs": [],
   "source": [
    "my_dwriter = csv.DictWriter(features_csv, fieldnames = features_colnames)\n",
    "my_dwriter.writeheader()\n",
    "my_dwriter.writerows(features)"
   ]
  },
  {
   "cell_type": "code",
   "execution_count": 371,
   "metadata": {
    "collapsed": false
   },
   "outputs": [],
   "source": [
    "# Remove redundancy from tables, write new dictionaries onto open csv files\n",
    "f = open('U:/GEOG 465/Seattle_Parks_Features.csv') # re-open file \n",
    "my_csv = csv.DictReader(f) # read file\n",
    "my_dwriter = csv.DictWriter(child_desc_csv, fieldnames = child_desc_colnames)\n",
    "my_dwriter.writeheader()\n",
    "for row in my_csv:\n",
    "    if row['CHILD_DESC'] not in child_desc_list:\n",
    "        child_desc_list.append(row['CHILD_DESC'])\n",
    "child_desc_dict = []\n",
    "i = 1\n",
    "for row in child_desc_list:\n",
    "    child_desc_dict.append({'id': i, 'child_desc': row})\n",
    "    i += 1\n",
    "my_dwriter.writerows(child_desc_dict)\n"
   ]
  },
  {
   "cell_type": "code",
   "execution_count": 372,
   "metadata": {
    "collapsed": false
   },
   "outputs": [],
   "source": [
    "f = open('U:/GEOG 465/Seattle_Parks_Features.csv')\n",
    "my_csv = csv.DictReader(f) \n",
    "my_dwriter = csv.DictWriter(field_type_csv, fieldnames = field_type_colnames)\n",
    "my_dwriter.writeheader()\n",
    "for row in my_csv:\n",
    "    if row['FIELD_TYPE'] not in field_type_list:\n",
    "        field_type_list.append(row['FIELD_TYPE'])\n",
    "field_type_dict = []\n",
    "i = 1\n",
    "for row in field_type_list:\n",
    "    field_type_dict.append({'id': i, 'field_type': row})\n",
    "    i += 1\n",
    "my_dwriter.writerows(field_type_dict)"
   ]
  },
  {
   "cell_type": "code",
   "execution_count": 373,
   "metadata": {
    "collapsed": false
   },
   "outputs": [],
   "source": [
    "# close newly filled csv files and original file\n",
    "parks_csv.close()\n",
    "park_location_csv.close()\n",
    "features_csv.close()\n",
    "child_desc_csv.close()\n",
    "field_type_csv.close()\n",
    "f.close()"
   ]
  },
  {
   "cell_type": "code",
   "execution_count": null,
   "metadata": {
    "collapsed": true
   },
   "outputs": [],
   "source": []
  },
  {
   "cell_type": "code",
   "execution_count": null,
   "metadata": {
    "collapsed": true
   },
   "outputs": [],
   "source": []
  }
 ],
 "metadata": {
  "kernelspec": {
   "display_name": "Python 2",
   "language": "python",
   "name": "python2"
  },
  "language_info": {
   "codemirror_mode": {
    "name": "ipython",
    "version": 2
   },
   "file_extension": ".py",
   "mimetype": "text/x-python",
   "name": "python",
   "nbconvert_exporter": "python",
   "pygments_lexer": "ipython2",
   "version": "2.7.10"
  }
 },
 "nbformat": 4,
 "nbformat_minor": 0
}
