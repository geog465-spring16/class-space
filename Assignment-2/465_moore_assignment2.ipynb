{
 "cells": [
  {
   "cell_type": "code",
   "execution_count": 1,
   "metadata": {
    "collapsed": true
   },
   "outputs": [],
   "source": [
    "import csv"
   ]
  },
  {
   "cell_type": "code",
   "execution_count": 3,
   "metadata": {
    "collapsed": false
   },
   "outputs": [],
   "source": [
    "f = open('C:\\Users\\Zenmaster\\Desktop\\Geog 465\\Moore_Assignment2\\Seattle_Police_Department_Police_Report_Incident.csv')"
   ]
  },
  {
   "cell_type": "code",
   "execution_count": 7,
   "metadata": {
    "collapsed": true
   },
   "outputs": [],
   "source": [
    "SPD_csv = csv.reader (f, delimiter = ',')"
   ]
  },
  {
   "cell_type": "code",
   "execution_count": 73,
   "metadata": {
    "collapsed": true
   },
   "outputs": [],
   "source": [
    "incidents = open('C:\\Users\\Zenmaster\\Desktop\\Geog 465\\Moore_Assignment2\\incidents.csv', 'w')"
   ]
  },
  {
   "cell_type": "code",
   "execution_count": 74,
   "metadata": {
    "collapsed": true
   },
   "outputs": [],
   "source": [
    "columnnames = ['id', 'offense_id', 'location_id', 'general_offense_number']"
   ]
  },
  {
   "cell_type": "code",
   "execution_count": 75,
   "metadata": {
    "collapsed": false
   },
   "outputs": [],
   "source": [
    "incidents_dwriter = csv.DictWriter(incidents, fieldnames = columnnames)"
   ]
  },
  {
   "cell_type": "code",
   "execution_count": 76,
   "metadata": {
    "collapsed": true
   },
   "outputs": [],
   "source": [
    "incidents_dwriter.writeheader()"
   ]
  },
  {
   "cell_type": "code",
   "execution_count": 77,
   "metadata": {
    "collapsed": true
   },
   "outputs": [],
   "source": [
    "incidents_list = []"
   ]
  },
  {
   "cell_type": "code",
   "execution_count": 78,
   "metadata": {
    "collapsed": true
   },
   "outputs": [],
   "source": [
    "incidents_dreader = csv.DictReader(open('C:\\Users\\Zenmaster\\Desktop\\Geog 465\\Moore_Assignment2\\Seattle_Police_Department_Police_Report_Incident.csv', 'r'))"
   ]
  },
  {
   "cell_type": "code",
   "execution_count": 79,
   "metadata": {
    "collapsed": false
   },
   "outputs": [],
   "source": [
    "i = 1\n",
    "for row in incidents_dreader:\n",
    "    incidents_list.append({'id' : row['RMS CDW ID'], 'offense_id' : '', 'location_id' : '', 'general_offense_number' : row['General Offense Number']})\n",
    "    i += 1\n",
    "\n"
   ]
  },
  {
   "cell_type": "code",
   "execution_count": 80,
   "metadata": {
    "collapsed": false
   },
   "outputs": [],
   "source": [
    "incidents_dwriter.writerows(incidents_list)"
   ]
  },
  {
   "cell_type": "code",
   "execution_count": 81,
   "metadata": {
    "collapsed": false
   },
   "outputs": [],
   "source": [
    "incidents.close()"
   ]
  },
  {
   "cell_type": "code",
   "execution_count": 25,
   "metadata": {
    "collapsed": true
   },
   "outputs": [],
   "source": [
    "incidents = open('C:\\Users\\Zenmaster\\Desktop\\Geog 465\\Moore_Assignment2\\incidents.csv')"
   ]
  },
  {
   "cell_type": "code",
   "execution_count": 27,
   "metadata": {
    "collapsed": false
   },
   "outputs": [],
   "source": [
    "incidents_dreader = csv.DictReader(incidents)"
   ]
  },
  {
   "cell_type": "code",
   "execution_count": 28,
   "metadata": {
    "collapsed": false
   },
   "outputs": [
    {
     "name": "stdout",
     "output_type": "stream",
     "text": [
      "{'general_offense_number': '2015442566', 'id': '660646'}\n",
      "{'general_offense_number': '201526382', 'id': '723562'}\n",
      "{'general_offense_number': '2015442522', 'id': '660648'}\n",
      "{'general_offense_number': '2015442702', 'id': '660649'}\n",
      "{'general_offense_number': '2015441909', 'id': '660650'}\n",
      "{'general_offense_number': '2015441968', 'id': '660651'}\n",
      "{'general_offense_number': '2015442013', 'id': '660652'}\n",
      "{'general_offense_number': '2015442089', 'id': '660653'}\n",
      "{'general_offense_number': '2015442107', 'id': '660654'}\n",
      "{'general_offense_number': '2015442219', 'id': '660655'}\n"
     ]
    }
   ],
   "source": [
    "\n",
    "for i in range (0, 10):\n",
    "    print incidents_dreader.next()"
   ]
  },
  {
   "cell_type": "code",
   "execution_count": 51,
   "metadata": {
    "collapsed": true
   },
   "outputs": [],
   "source": [
    "offense = open('C:\\Users\\Zenmaster\\Desktop\\Geog 465\\Moore_Assignment2\\offense.csv', 'w')\n",
    "\n",
    "columnnames = ['id', 'offense_type', 'offense_description']\n",
    "\n",
    "offense_dwriter = csv.DictWriter(offense, fieldnames = columnnames)\n",
    "\n",
    "offense_dwriter.writeheader()\n",
    "\n",
    "offense_list = []\n",
    "\n",
    "offense_dreader = csv.DictReader(open('C:\\Users\\Zenmaster\\Desktop\\Geog 465\\Moore_Assignment2\\Seattle_Police_Department_Police_Report_Incident.csv', 'r'))\n",
    "\n"
   ]
  },
  {
   "cell_type": "code",
   "execution_count": 53,
   "metadata": {
    "collapsed": false
   },
   "outputs": [],
   "source": [
    "i = 1\n",
    "for row in offense_dreader:\n",
    "    offense_list.append({'id' : i, 'offense_type' : row['Summarized Offense Description'], 'offense_description' : row['Offense Type']})\n",
    "    i += 1\n",
    "    "
   ]
  },
  {
   "cell_type": "code",
   "execution_count": 54,
   "metadata": {
    "collapsed": false
   },
   "outputs": [],
   "source": [
    "offense_dwriter.writerows(offense_list)\n",
    "\n",
    "offense.close()"
   ]
  },
  {
   "cell_type": "code",
   "execution_count": 49,
   "metadata": {
    "collapsed": false
   },
   "outputs": [],
   "source": [
    "zone = open('C:\\Users\\Zenmaster\\Desktop\\Geog 465\\Moore_Assignment2\\zone.csv', 'w')\n",
    "\n",
    "columnnames = ['id', 'district', 'police_beat']\n",
    "\n",
    "zone_dwriter = csv.DictWriter(zone, fieldnames = columnnames)\n",
    "\n",
    "zone_dwriter.writeheader()\n",
    "\n",
    "zone_list = []\n",
    "\n",
    "zone_dreader = csv.DictReader(open('C:\\Users\\Zenmaster\\Desktop\\Geog 465\\Moore_Assignment2\\Seattle_Police_Department_Police_Report_Incident.csv', 'r'))\n",
    "\n",
    "i = 1\n",
    "for row in zone_dreader:\n",
    "    zone_list.append({'id' : i, 'district' : row['District/Sector'], 'police_beat' : row['Zone/Beat']})\n",
    "    i += 1\n",
    "    \n",
    "zone_dwriter.writerows(zone_list)\n",
    "\n",
    "zone.close()"
   ]
  },
  {
   "cell_type": "code",
   "execution_count": 82,
   "metadata": {
    "collapsed": true
   },
   "outputs": [],
   "source": [
    "location = open('C:\\Users\\Zenmaster\\Desktop\\Geog 465\\Moore_Assignment2\\location.csv', 'w')\n",
    "\n",
    "columnnames = ['id', 'zone_id', 'address', 'latitude', 'longitude']\n",
    "\n",
    "location_dwriter = csv.DictWriter(location, fieldnames = columnnames)\n",
    "\n",
    "location_dwriter.writeheader()\n",
    "\n",
    "location_list = []\n",
    "\n",
    "location_dreader = csv.DictReader(open('C:\\Users\\Zenmaster\\Desktop\\Geog 465\\Moore_Assignment2\\Seattle_Police_Department_Police_Report_Incident.csv', 'r'))\n",
    "\n",
    "i = 1\n",
    "for row in location_dreader:\n",
    "    location_list.append({'id' : i, 'zone_id' : '', 'address' : row['Hundred Block Location'], 'latitude' : row['Latitude'], 'longitude' : row['Longitude']})\n",
    "    i += 1\n",
    "    \n",
    "location_dwriter.writerows(location_list)\n",
    "\n",
    "location.close()"
   ]
  },
  {
   "cell_type": "code",
   "execution_count": null,
   "metadata": {
    "collapsed": true
   },
   "outputs": [],
   "source": []
  }
 ],
 "metadata": {
  "kernelspec": {
   "display_name": "Python 2",
   "language": "python",
   "name": "python2"
  },
  "language_info": {
   "codemirror_mode": {
    "name": "ipython",
    "version": 2
   },
   "file_extension": ".py",
   "mimetype": "text/x-python",
   "name": "python",
   "nbconvert_exporter": "python",
   "pygments_lexer": "ipython2",
   "version": "2.7.11"
  }
 },
 "nbformat": 4,
 "nbformat_minor": 0
}
