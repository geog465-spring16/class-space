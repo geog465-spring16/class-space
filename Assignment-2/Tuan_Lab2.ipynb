{
 "cells": [
  {
   "cell_type": "code",
   "execution_count": 2,
   "metadata": {
    "collapsed": true
   },
   "outputs": [],
   "source": [
    "import csv"
   ]
  },
  {
   "cell_type": "code",
   "execution_count": 3,
   "metadata": {
    "collapsed": false
   },
   "outputs": [],
   "source": [
    "f = open('C:\\Users\\LeslieT\\lab2\\Seattle_code_violations_database.csv', 'r') "
   ]
  },
  {
   "cell_type": "code",
   "execution_count": 4,
   "metadata": {
    "collapsed": false
   },
   "outputs": [],
   "source": [
    "code_violations_csv = csv.DictReader(f, delimiter = ',')"
   ]
  },
  {
   "cell_type": "code",
   "execution_count": null,
   "metadata": {
    "collapsed": false
   },
   "outputs": [],
   "source": [
    "case_table = open('C:\\Users\\LeslieT\\lab2\\case.csv', 'w')\n",
    "column_names = ['number', 'address', 'description']\n",
    "case_table_dwriter = csv.DictWriter(case_table, fieldnames = column_names)\n",
    "case_table_dwriter.writeheader()\n",
    "case_table_dreader = csv.DictReader(open('C:\\Users\\LeslieT\\lab2\\Seattle_code_violations_database.csv', 'r'))"
   ]
  },
  {
   "cell_type": "code",
   "execution_count": null,
   "metadata": {
    "collapsed": false
   },
   "outputs": [],
   "source": [
    "list_of_rows = []\n",
    "for row in case_table_dreader:\n",
    "    row_dict = {'number': row['Case Number'], 'address': row['Address'], 'description': row['Description']}\n",
    "    list_of_rows.append(row_dict)\n",
    "\n",
    "case_table_dwriter.writerows(list_of_rows)\n",
    "case_table.close()\n"
   ]
  },
  {
   "cell_type": "code",
   "execution_count": null,
   "metadata": {
    "collapsed": true
   },
   "outputs": [],
   "source": [
    "case_table = open('C:\\Users\\LeslieT\\lab2\\case.csv')\n",
    "case_dreader = csv.DictReader(case_table)"
   ]
  },
  {
   "cell_type": "code",
   "execution_count": null,
   "metadata": {
    "collapsed": false
   },
   "outputs": [],
   "source": [
    "for i in range(0,3602):\n",
    "    print case_dreader.next()"
   ]
  },
  {
   "cell_type": "code",
   "execution_count": null,
   "metadata": {
    "collapsed": true
   },
   "outputs": [],
   "source": [
    "inspection_table = open('C:\\Users\\LeslieT\\lab2\\inspection.csv', 'w')\n",
    "column_names = ['id', 'date', 'result', 'case_id']\n",
    "inspection_table_dwriter = csv.DictWriter(inspection_table, fieldnames = column_names)\n",
    "inspection_table_dwriter.writeheader()\n",
    "inspection_table_dreader = csv.DictReader(open('C:\\Users\\LeslieT\\lab2\\Seattle_code_violations_database.csv', 'r'))"
   ]
  },
  {
   "cell_type": "code",
   "execution_count": null,
   "metadata": {
    "collapsed": false
   },
   "outputs": [],
   "source": [
    "list_of_rows2 = []\n",
    "i = 1\n",
    "for row in inspection_table_dreader:\n",
    "    row_dict = {'id': i, 'date': row['Date Case Created'], 'result': row['Last Inspection Result'], 'case_id': ''}\n",
    "    list_of_rows2.append(row_dict)\n",
    "    i += 1\n",
    "    \n",
    "inspection_table_dwriter.writerows(list_of_rows2)\n",
    "inspection_table.close()"
   ]
  },
  {
   "cell_type": "code",
   "execution_count": null,
   "metadata": {
    "collapsed": false
   },
   "outputs": [],
   "source": [
    "inspection_table = open('C:\\Users\\LeslieT\\lab2\\inspection.csv')\n",
    "inspection_dreader = csv.DictReader(inspection_table)"
   ]
  },
  {
   "cell_type": "code",
   "execution_count": null,
   "metadata": {
    "collapsed": false
   },
   "outputs": [],
   "source": [
    "for i in range(0,3602):\n",
    "    print inspection_dreader.next()"
   ]
  },
  {
   "cell_type": "code",
   "execution_count": null,
   "metadata": {
    "collapsed": false
   },
   "outputs": [],
   "source": [
    "type_table = open('C:/Users/LeslieT/lab2/type.csv', 'w')\n",
    "column_names = ['id', 'type of activity']\n",
    "type_table_dwriter = csv.DictWriter(type_table, fieldnames = column_names)\n",
    "type_table_dwriter.writeheader()\n",
    "type_table_dreader = csv.DictReader(open('C:\\Users\\LeslieT\\lab2\\Seattle_code_violations_database.csv', 'r'))"
   ]
  },
  {
   "cell_type": "code",
   "execution_count": null,
   "metadata": {
    "collapsed": false
   },
   "outputs": [],
   "source": [
    "list_of_rows3 = []\n",
    "i = 1\n",
    "for row in type_table_dreader:\n",
    "    row_dict = {'id': i, 'type of activity': row['Case Type']}\n",
    "    list_of_rows3.append(row_dict)\n",
    "    i += 1\n",
    "    \n",
    "type_table_dwriter.writerows(list_of_rows3)\n",
    "type_table.close()"
   ]
  },
  {
   "cell_type": "code",
   "execution_count": null,
   "metadata": {
    "collapsed": false
   },
   "outputs": [],
   "source": [
    "type_table = open('C:/Users/LeslieT/lab2/type.csv')\n",
    "type_dreader = csv.DictReader(type_table)"
   ]
  },
  {
   "cell_type": "code",
   "execution_count": null,
   "metadata": {
    "collapsed": false
   },
   "outputs": [],
   "source": [
    "for i in range(0,3602):\n",
    "    print type_dreader.next()"
   ]
  },
  {
   "cell_type": "code",
   "execution_count": null,
   "metadata": {
    "collapsed": false
   },
   "outputs": [],
   "source": [
    "group_table = open('C:/Users/LeslieT/lab2/casegroup.csv', 'w')\n",
    "column_names = ['id', 'case_group']\n",
    "group_table_dwriter = csv.DictWriter(group_table, fieldnames = column_names)\n",
    "group_table_dwriter.writeheader()\n",
    "group_table_dreader = csv.DictReader(open('C:\\Users\\LeslieT\\lab2\\Seattle_code_violations_database.csv', 'r'))"
   ]
  },
  {
   "cell_type": "code",
   "execution_count": null,
   "metadata": {
    "collapsed": false
   },
   "outputs": [],
   "source": [
    "list_of_rows4 = []\n",
    "i = 1\n",
    "for row in group_table_dreader:\n",
    "    row_dict = {'id': i, 'case_group': row['Case Group']}\n",
    "    list_of_rows4.append(row_dict)\n",
    "    i += 1\n",
    "    \n",
    "group_table_dwriter.writerows(list_of_rows4)\n",
    "group_table.close()"
   ]
  },
  {
   "cell_type": "code",
   "execution_count": null,
   "metadata": {
    "collapsed": true
   },
   "outputs": [],
   "source": [
    "group_table = open('C:/Users/LeslieT/lab2/casegroup.csv')\n",
    "group_dreader = csv.DictReader(group_table)"
   ]
  },
  {
   "cell_type": "code",
   "execution_count": null,
   "metadata": {
    "collapsed": false
   },
   "outputs": [],
   "source": [
    "for i in range(0,3602):\n",
    "    print group_dreader.next()"
   ]
  },
  {
   "cell_type": "code",
   "execution_count": null,
   "metadata": {
    "collapsed": false
   },
   "outputs": [],
   "source": [
    "specific_type_table = open('C:/Users/LeslieT/lab2/spectype.csv', 'w')\n",
    "column_names = ['id', 'type_id', 'group_id']\n",
    "specific_type_table_dwriter = csv.DictWriter(specific_type_table, fieldnames = column_names)\n",
    "specific_type_table_dwriter.writeheader()\n",
    "specific_type_table_dreader = csv.DictReader(open('C:\\Users\\LeslieT\\lab2\\Seattle_code_violations_database.csv', 'r'))"
   ]
  },
  {
   "cell_type": "code",
   "execution_count": null,
   "metadata": {
    "collapsed": false
   },
   "outputs": [],
   "source": [
    "list_of_rows5 = []\n",
    "i = 1\n",
    "for row in specific_type_table_dreader:\n",
    "    row_dict = {'id': i, 'type_id': '','group_id': ''}\n",
    "    list_of_rows5.append(row_dict)\n",
    "    i += 1\n",
    "    \n",
    "specific_type_table_dwriter.writerows(list_of_rows5)\n",
    "specific_type_table.close()"
   ]
  },
  {
   "cell_type": "code",
   "execution_count": null,
   "metadata": {
    "collapsed": true
   },
   "outputs": [],
   "source": [
    "specific_type_table = open('C:/Users/LeslieT/lab2/spectype.csv')\n",
    "specific_type_dreader = csv.DictReader(specific_type_table)"
   ]
  },
  {
   "cell_type": "code",
   "execution_count": null,
   "metadata": {
    "collapsed": false
   },
   "outputs": [],
   "source": [
    "for i in range(0,3602):\n",
    "    print specific_type_dreader.next()"
   ]
  },
  {
   "cell_type": "code",
   "execution_count": null,
   "metadata": {
    "collapsed": false
   },
   "outputs": [],
   "source": [
    "case_type_table = open('C:/Users/LeslieT/lab2/casetype.csv', 'w')\n",
    "column_names = ['id', 'case_id', 'type_id']\n",
    "case_type_table_dwriter = csv.DictWriter(case_type_table, fieldnames = column_names)\n",
    "case_type_table_dwriter.writeheader()\n",
    "case_type_table_dreader = csv.DictReader(open('C:\\Users\\LeslieT\\lab2\\Seattle_code_violations_database.csv', 'r'))"
   ]
  },
  {
   "cell_type": "code",
   "execution_count": null,
   "metadata": {
    "collapsed": true
   },
   "outputs": [],
   "source": [
    "list_of_rows6 = []\n",
    "i = 1\n",
    "for row in case_type_table_dreader:\n",
    "    row_dict = {'id': i, 'case_id': '','type_id': ''}\n",
    "    list_of_rows6.append(row_dict)\n",
    "    i += 1\n",
    "    \n",
    "case_type_table_dwriter.writerows(list_of_rows6)\n",
    "case_type_table.close()"
   ]
  },
  {
   "cell_type": "code",
   "execution_count": null,
   "metadata": {
    "collapsed": true
   },
   "outputs": [],
   "source": [
    "case_type_table = open('C:/Users/LeslieT/lab2/casetype.csv')\n",
    "case_type_dreader = csv.DictReader(case_type_table)"
   ]
  },
  {
   "cell_type": "code",
   "execution_count": null,
   "metadata": {
    "collapsed": false
   },
   "outputs": [],
   "source": [
    "for i in range(0,3602):\n",
    "    print case_type_dreader.next()"
   ]
  },
  {
   "cell_type": "code",
   "execution_count": null,
   "metadata": {
    "collapsed": true
   },
   "outputs": [],
   "source": [
    "outcome_table = open('C:/Users/LeslieT/lab2/finaloutcome.csv', 'w')\n",
    "column_names = ['id', 'status', 'case_id']\n",
    "outcome_table_dwriter = csv.DictWriter(outcome_table, fieldnames = column_names)\n",
    "outcome_table_dwriter.writeheader()\n",
    "outcome_table_dreader = csv.DictReader(open('C:\\Users\\LeslieT\\lab2\\Seattle_code_violations_database.csv', 'r'))"
   ]
  },
  {
   "cell_type": "code",
   "execution_count": null,
   "metadata": {
    "collapsed": true
   },
   "outputs": [],
   "source": [
    "list_of_rows7 = []\n",
    "i = 1\n",
    "for row in outcome_table_dreader:\n",
    "    row_dict = {'id': i, 'status': row['Status'],'case_id': ''}\n",
    "    list_of_rows7.append(row_dict)\n",
    "    i += 1\n",
    "    \n",
    "outcome_table_dwriter.writerows(list_of_rows7)\n",
    "outcome_table.close()"
   ]
  },
  {
   "cell_type": "code",
   "execution_count": null,
   "metadata": {
    "collapsed": true
   },
   "outputs": [],
   "source": [
    "outcome_table = open('C:/Users/LeslieT/lab2/finaloutcome.csv')\n",
    "outcome_dreader = csv.DictReader(outcome_table)"
   ]
  },
  {
   "cell_type": "code",
   "execution_count": null,
   "metadata": {
    "collapsed": false
   },
   "outputs": [],
   "source": [
    "for i in range(0,3602):\n",
    "    print outcome_dreader.next()"
   ]
  }
 ],
 "metadata": {
  "kernelspec": {
   "display_name": "Python 2",
   "language": "python",
   "name": "python2"
  },
  "language_info": {
   "codemirror_mode": {
    "name": "ipython",
    "version": 2
   },
   "file_extension": ".py",
   "mimetype": "text/x-python",
   "name": "python",
   "nbconvert_exporter": "python",
   "pygments_lexer": "ipython2",
   "version": "2.7.10"
  }
 },
 "nbformat": 4,
 "nbformat_minor": 0
}
