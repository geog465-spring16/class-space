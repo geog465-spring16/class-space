{
 "cells": [
  {
   "cell_type": "code",
   "execution_count": null,
   "metadata": {
    "collapsed": true
   },
   "outputs": [],
   "source": [
    "import sys\n",
    "sys.path.append('C:\\\\Program Files (x86)\\\\ArcGIS\\\\Desktop10.3\\\\bin')\n",
    "sys.path.append('C:\\\\Program Files (x86)\\\\ArcGIS\\\\Desktop10.3\\\\arcpy')\n",
    "sys.path.append('C:\\\\Program Files (x86)\\\\ArcGIS\\\\Desktop10.3\\\\ArcToolbox\\\\Scripts')\n",
    "import arcpy\n",
    "import csv\n",
    "\n",
    "test_file = \"C:\\Users\\Rich\\Desktop\\S1.csv\"\n",
    "csv_file = csv.DictReader(open(test_file, 'rb'), delimiter=',', quotechar='\"')\n",
    "test_array = []\n",
    "\n",
    "for line in csv_file:\n",
    "    test_array.append({'BeatID': line['Police Beat']});\n",
    "   \n",
    "\n",
    "fieldnames = ['BeatID']\n",
    "test_file = open('BeatID.csv','wb')\n",
    "csvwriter = csv.DictWriter(test_file, delimiter=',', fieldnames=fieldnames)\n",
    "csvwriter.writerow(dict((fn,fn) for fn in fieldnames))\n",
    "for row in test_array:\n",
    "     csvwriter.writerow(row)\n",
    "test_file.close()"
   ]
  },
  {
   "cell_type": "code",
   "execution_count": null,
   "metadata": {
    "collapsed": true
   },
   "outputs": [],
   "source": [
    "import sys\n",
    "sys.path.append('C:\\\\Program Files (x86)\\\\ArcGIS\\\\Desktop10.3\\\\bin')\n",
    "sys.path.append('C:\\\\Program Files (x86)\\\\ArcGIS\\\\Desktop10.3\\\\arcpy')\n",
    "sys.path.append('C:\\\\Program Files (x86)\\\\ArcGIS\\\\Desktop10.3\\\\ArcToolbox\\\\Scripts')\n",
    "import arcpy\n",
    "import csv\n",
    "\n",
    "test_file = \"C:\\Users\\Rich\\Desktop\\S1.csv\"\n",
    "csv_file = csv.DictReader(open(test_file, 'rb'), delimiter=',', quotechar='\"')\n",
    "test_array = []\n",
    "\n",
    "i = 1\n",
    "\n",
    "for line in csv_file:\n",
    "    test_array.append({'CrimeID': i, 'Crime_Type': line['CRIME_TYPE'], 'Crime_Description': line['CRIME_DESCRIPTION']});\n",
    "    i += 1;\n",
    "    if i == 8:\n",
    "        i = 1\n",
    "\n",
    "fieldnames = ['CrimeID', 'Crime_Type', 'Crime_Description']\n",
    "test_file = open('CrimeID.csv','wb')\n",
    "csvwriter = csv.DictWriter(test_file, delimiter=',', fieldnames=fieldnames)\n",
    "csvwriter.writerow(dict((fn,fn) for fn in fieldnames))\n",
    "for row in test_array:\n",
    "     csvwriter.writerow(row)\n",
    "test_file.close()\n"
   ]
  },
  {
   "cell_type": "code",
   "execution_count": null,
   "metadata": {
    "collapsed": true
   },
   "outputs": [],
   "source": [
    "import sys\n",
    "sys.path.append('C:\\\\Program Files (x86)\\\\ArcGIS\\\\Desktop10.3\\\\bin')\n",
    "sys.path.append('C:\\\\Program Files (x86)\\\\ArcGIS\\\\Desktop10.3\\\\arcpy')\n",
    "sys.path.append('C:\\\\Program Files (x86)\\\\ArcGIS\\\\Desktop10.3\\\\ArcToolbox\\\\Scripts')\n",
    "import arcpy\n",
    "import csv\n",
    "\n",
    "test_file = \"C:\\Users\\Rich\\Desktop\\S1.csv\"\n",
    "csv_file = csv.DictReader(open(test_file, 'rb'), delimiter=',', quotechar='\"')\n",
    "test_array = []\n",
    "\n",
    "for line in csv_file:\n",
    "    test_array.append({'SectorID': line['Sector'], 'PrecinctID': line['Precinct']});\n",
    "   \n",
    "\n",
    "fieldnames = ['SectorID', 'PrecinctID']\n",
    "test_file = open('LocationID.csv','wb')\n",
    "csvwriter = csv.DictWriter(test_file, delimiter=',', fieldnames=fieldnames)\n",
    "csvwriter.writerow(dict((fn,fn) for fn in fieldnames))\n",
    "for row in test_array:\n",
    "     csvwriter.writerow(row)\n",
    "test_file.close()\n"
   ]
  },
  {
   "cell_type": "code",
   "execution_count": null,
   "metadata": {
    "collapsed": true
   },
   "outputs": [],
   "source": [
    "import sys\n",
    "sys.path.append('C:\\\\Program Files (x86)\\\\ArcGIS\\\\Desktop10.3\\\\bin')\n",
    "sys.path.append('C:\\\\Program Files (x86)\\\\ArcGIS\\\\Desktop10.3\\\\arcpy')\n",
    "sys.path.append('C:\\\\Program Files (x86)\\\\ArcGIS\\\\Desktop10.3\\\\ArcToolbox\\\\Scripts')\n",
    "import arcpy\n",
    "import csv\n",
    "\n",
    "test_file = \"C:\\Users\\Rich\\Desktop\\S1.csv\"\n",
    "csv_file = csv.DictReader(open(test_file, 'rb'), delimiter=',', quotechar='\"')\n",
    "\n",
    "test_file2 = \"C:\\Users\\Rich\\Desktop\\CrimeID.csv\"\n",
    "csv_file2 = csv.DictReader(open(test_file2, 'rb'), delimiter=',', quotechar='\"')\n",
    "\n",
    "test_file3 = \"C:\\Users\\Rich\\Desktop\\BeatID.csv\"\n",
    "csv_file3 = csv.DictReader(open(test_file3, 'rb'), delimiter=',', quotechar='\"')\n",
    "\n",
    "test_array = []\n",
    "\n",
    "rows = list(csv_file)\n",
    "totalrows = len(rows)\n",
    "\n",
    "with open(test_file2, 'rb') as f2: #opens test_file2(CrimeID.csv)\n",
    "    reader2 = csv.reader(f2) #reads CrimeID.csv\n",
    "    reader2.next() #throw first line away since we dont need it\n",
    "\n",
    "    with open(test_file, 'rb') as f: #opens test_file(S1.csv)\n",
    "        reader = csv.reader(f) #reads S1.csv\n",
    "        reader.next()    #throw first line away since we dont need it\n",
    "\n",
    "\n",
    "        with open(test_file3, 'rb') as f3: #opens test_file3(BeatID.csv)\n",
    "            reader3 = csv.reader(f3) #reads BeatID.csv\n",
    "            reader3.next()  #throw first line away since we dont need it\n",
    "\n",
    "            for i in range (0, totalrows): #loops from 0 - max row#\n",
    "                s1Row = reader.next() #Gets next row of s1.csv\n",
    "                s1Date = s1Row[4]  #since date is in 5th column in s1.csv           \n",
    "            \n",
    "                crimeIDRow = reader2.next() #Gets next row of CrimeID.csv\n",
    "                crimeID = crimeIDRow[0] #since date is in 1st column in CrimeID.csv \n",
    "            \n",
    "                beatIDRow = reader3.next() #Gets next row of BeatID.csv\n",
    "                beatID = beatIDRow[0] #since date is in 1st column in BeatID.csv \n",
    "\n",
    "                test_array.append({'CrimeID': crimeID,'DateID': s1Date, 'BeatID': beatID});\n",
    "\n",
    "fieldnames = ['CrimeID', 'DateID', 'BeatID']\n",
    "test_file = open('IncidentLocationID.csv','wb')\n",
    "csvwriter = csv.DictWriter(test_file, delimiter=',', fieldnames=fieldnames)\n",
    "csvwriter.writerow(dict((fn,fn) for fn in fieldnames))\n",
    "for row in test_array:\n",
    "    csvwriter.writerow(row)\n",
    "test_file.close()"
   ]
  }
 ],
 "metadata": {
  "kernelspec": {
   "display_name": "Python 2",
   "language": "python",
   "name": "python2"
  },
  "language_info": {
   "codemirror_mode": {
    "name": "ipython",
    "version": 2
   },
   "file_extension": ".py",
   "mimetype": "text/x-python",
   "name": "python",
   "nbconvert_exporter": "python",
   "pygments_lexer": "ipython2",
   "version": "2.7.10"
  }
 },
 "nbformat": 4,
 "nbformat_minor": 0
}
