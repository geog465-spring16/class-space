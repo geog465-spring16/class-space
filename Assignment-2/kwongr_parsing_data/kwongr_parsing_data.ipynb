{
 "cells": [
  {
   "cell_type": "code",
   "execution_count": null,
   "metadata": {
    "collapsed": true
   },
   "outputs": [],
   "source": [
    "import csv"
   ]
  },
  {
   "cell_type": "code",
   "execution_count": null,
   "metadata": {
    "collapsed": true
   },
   "outputs": [],
   "source": [
    "permit = open('/Users/kwongr/Desktop/electric.csv')"
   ]
  },
  {
   "cell_type": "code",
   "execution_count": null,
   "metadata": {
    "collapsed": true
   },
   "outputs": [],
   "source": [
    "my_csv = csv.reader(permit, delimiter = ',')"
   ]
  },
  {
   "cell_type": "code",
   "execution_count": null,
   "metadata": {
    "collapsed": true
   },
   "outputs": [],
   "source": [
    "dict_reader = csv.DictReader(my_csv)"
   ]
  },
  {
   "cell_type": "code",
   "execution_count": null,
   "metadata": {
    "collapsed": true
   },
   "outputs": [],
   "source": [
    "#Creates several csv files where I will write the new data.\n",
    "application_csv = open('/Users/kwongr/Desktop/application_csv.csv', 'w')\n",
    "customer_csv = open('/Users/kwongr/Desktop/customer_csv.csv', 'w')\n",
    "location_csv = open('/Users/kwongr/Desktop/location_csv.csv', 'w')\n",
    "electrical_permits_csv = open('/Users/kwongr/Desktop/electrical_permits_csv.csv', 'w')"
   ]
  },
  {
   "cell_type": "code",
   "execution_count": null,
   "metadata": {
    "collapsed": true
   },
   "outputs": [],
   "source": [
    "#Creates the different dictionaries for each csv file.\n",
    "application_column = ['id', 'customer_ID', 'application_date', 'permit_ID', 'permit_status', 'approval_date', 'requires_review']\n",
    "customer_column = ['id', 'customer_ID', 'applicant_name']\n",
    "location_column = ['id', 'customer_ID', 'latitude', 'longitude', 'permit_ID']\n",
    "electrical_permits_column = ['id', 'customer_ID', 'address_ID', 'building_type']"
   ]
  },
  {
   "cell_type": "code",
   "execution_count": null,
   "metadata": {
    "collapsed": true
   },
   "outputs": [],
   "source": [
    "#Creates the dictionary writer for each dictionary.\n",
    "my_dwriter_a = csv.DictWriter(application_csv, fieldnames = application_column)\n",
    "my_dwriter_c = csv.DictWriter(customer_csv, fieldnames = customer_column)\n",
    "my_dwriter_l = csv.DictWriter(location_csv, fieldnames = location_column)\n",
    "my_dwriter_e = csv.DictWriter(electrical_permits_csv, fieldnames = electrical_permits_column)"
   ]
  },
  {
   "cell_type": "code",
   "execution_count": null,
   "metadata": {
    "collapsed": true
   },
   "outputs": [],
   "source": [
    "#Initializes each variable found in the dictionaries.\n",
    "id = []\n",
    "customer_ID = []\n",
    "application_date = []\n",
    "permit_ID = []\n",
    "permit_status = []\n",
    "approval_date = []\n",
    "requires_review = []\n",
    "applicant_name =[]\n",
    "latitude =[]\n",
    "longitude =[]\n",
    "address_ID = []\n",
    "building_type=[]\n",
    "counter = 0"
   ]
  },
  {
   "cell_type": "code",
   "execution_count": null,
   "metadata": {
    "collapsed": true
   },
   "outputs": [],
   "source": [
    "#Loops each row in my csv file and appends the appropriate data to each dictionary. \n",
    "#Each dictionary is then written in a new row in their appropriate csv files.\n",
    "for row in my_csv:\n",
    "  id.append(counter)\n",
    "  customer_ID.append(row[0])\n",
    "  application_date.append(row[9])\n",
    "  permit_ID.append(row[0])\n",
    "  permit_status.append(row[13])\n",
    "  approval_date.append(row[10])\n",
    "  requires_review.append(row[6])\n",
    "  applicant_name.append(row[8])\n",
    "  latitude.append(row[16])\n",
    "  longitude.append(row[17])\n",
    "  address_ID.append(row[3])\n",
    "  building_type.append(row[4])\n",
    "  counter+=1\n",
    "  my_dwriter_a.writerow({'id': id[counter-1], 'customer_ID': customer_ID[counter-1], 'application_date': application_date[counter-1], 'permit_ID': permit_ID[counter-1], 'permit_status': permit_status[counter-1], 'approval_date': approval_date[counter-1], 'requires_review': requires_review[counter-1]})\n",
    "  my_dwriter_c.writerow({'id': id[counter-1], 'customer_ID': customer_ID[counter-1], 'applicant_name': applicant_name[counter-1]})\n",
    "  my_dwriter_l.writerow({'id': id[counter-1], 'latitude': latitude[counter-1], 'longitude': longitude[counter-1], 'permit_ID': permit_ID[counter-1]})\n",
    "  my_dwriter_e.writerow({'id': id[counter-1], 'customer_ID': customer_ID[counter-1], 'address_ID': address_ID[counter-1], 'building_type': building_type[counter-1]})"
   ]
  },
  {
   "cell_type": "code",
   "execution_count": null,
   "metadata": {
    "collapsed": true
   },
   "outputs": [],
   "source": [
    "#Closes each csv file.\n",
    "my_dwriter_a.writeheader()\n",
    "application_csv.close()\n",
    "my_dwriter_c.writeheader()\n",
    "customer_csv.close()\n",
    "my_dwriter_l.writeheader()\n",
    "location_csv.close()\n",
    "my_dwriter_e.writeheader()\n",
    "electrical_permits_csv.close()"
   ]
  }
 ],
 "metadata": {
  "kernelspec": {
   "display_name": "Python 2",
   "language": "python",
   "name": "python2"
  },
  "language_info": {
   "codemirror_mode": {
    "name": "ipython",
    "version": 2
   },
   "file_extension": ".py",
   "mimetype": "text/x-python",
   "name": "python",
   "nbconvert_exporter": "python",
   "pygments_lexer": "ipython2",
   "version": "2.7.10"
  }
 },
 "nbformat": 4,
 "nbformat_minor": 0
}
