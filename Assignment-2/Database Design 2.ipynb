{
 "cells": [
  {
   "cell_type": "code",
   "execution_count": 6,
   "metadata": {
    "collapsed": true
   },
   "outputs": [],
   "source": [
    "#import the csv module\n",
    "import csv"
   ]
  },
  {
   "cell_type": "code",
   "execution_count": 7,
   "metadata": {
    "collapsed": false
   },
   "outputs": [],
   "source": [
    "#set up the workspaces, I had a lot of difficulty at firts because I\n",
    "#kept getting an error message that said \"new-line character seen in unquoted field - \n",
    "#do you need to open the file in universal-newline mode?\". I fixed this by adding an \"rU\" in my parameters.\n",
    "\n",
    "f = '/Users/kirschdog/Documents/GEOG 465/Trade_Permits.csv'\n",
    "my_csv = csv.DictReader(open(f, 'rU'), delimiter = ',', quotechar='\"')"
   ]
  },
  {
   "cell_type": "code",
   "execution_count": 8,
   "metadata": {
    "collapsed": true
   },
   "outputs": [],
   "source": [
    "#Here I'm setting up my tables that will be sepraete CSV files. These are the four that were based off my vertabelo assignment.\n",
    "Permit_Types = ['not unique', 'id', 'Permit Type']\n",
    "Trade_Per = ['id', 'Application/Permit Number', 'Address', 'Permit_Type_ID', 'Category_ID', 'Contractor_ID']\n",
    "Categor = ['not unique', 'id', 'Category']\n",
    "Contractt = ['not unique', 'id', 'Contractor']"
   ]
  },
  {
   "cell_type": "code",
   "execution_count": 9,
   "metadata": {
    "collapsed": false
   },
   "outputs": [],
   "source": [
    "#Now I'm setting up my list and the name of the tables.\n",
    "t_list = [Permit_Types, Trade_Per, Categor, Contractt]\n",
    "tables = ['Permit_Types', 'Trade_Per', 'Categor', 'Contractt']"
   ]
  },
  {
   "cell_type": "code",
   "execution_count": 10,
   "metadata": {
    "collapsed": false
   },
   "outputs": [],
   "source": [
    "#The countname is used to start working on the first tables, the first ID in the table will be 1\n",
    "countname = 0\n",
    "#This \"for\" loop is used to iterate through the tables and if \"not unique\" \n",
    "#my code will later deal with these differently\n",
    "for table in t_list:\n",
    "    if \"not unique\" in table:\n",
    "        not_unique = True\n",
    "        table.remove(\"not unique\")\n",
    "    else:\n",
    "        not_unique = False\n",
    "#List_unique will be used to store values that repeat        \n",
    "    List_Unique = []\n",
    "#create a variable that will form my table names    \n",
    "    newfile = open(tables[countname] + '.csv','wb')\n",
    "    csv_dwriter = csv.DictWriter(newfile, delimiter=',', fieldnames=table)\n",
    "#Write code for a header\n",
    "    csv_dwriter.writeheader() \n",
    "    countid = 1 \n",
    "    for row in my_csv:\n",
    "        append = True\n",
    "        new = {} #new row for the previously mentioned csv files\n",
    "        if \"id\" in table:\n",
    "            new[\"id\"] = countid #this will start at 1\n",
    "        for key in row:\n",
    "            if key in table: \n",
    "                if not_unique: #this deals primarily with repeating value coulmns\n",
    "                    if row[key] not in List_Unique:\n",
    "                        List_Unique.append(row[key]) #this takes the repeating value and instead associates it with a unique id \n",
    "                        new[key] = row[key] \n",
    "                    else:\n",
    "                        countid -= 1\n",
    "                        append = False\n",
    "                else:\n",
    "                    new[key] = row[key] #links it with the correct id\n",
    "        if append:\n",
    "            csv_dwriter.writerow(new) #when everything looks good it writes the new row\n",
    "        countid += 1  \n",
    "    #goes to the next id\n",
    "     #restart the code   \n",
    "    f = '/Users/kirschdog/Documents/GEOG 465/Trade_Permits.csv'\n",
    "    my_csv = csv.DictReader(open(f, 'rU'), delimiter = ',', quotechar='\"')   \n",
    "    #Go to the next table\n",
    "    newfile.close()\n",
    "    countname += 1\n",
    "    "
   ]
  },
  {
   "cell_type": "code",
   "execution_count": null,
   "metadata": {
    "collapsed": true
   },
   "outputs": [],
   "source": []
  }
 ],
 "metadata": {
  "kernelspec": {
   "display_name": "Python 2",
   "language": "python",
   "name": "python2"
  },
  "language_info": {
   "codemirror_mode": {
    "name": "ipython",
    "version": 2
   },
   "file_extension": ".py",
   "mimetype": "text/x-python",
   "name": "python",
   "nbconvert_exporter": "python",
   "pygments_lexer": "ipython2",
   "version": "2.7.10"
  }
 },
 "nbformat": 4,
 "nbformat_minor": 0
}
