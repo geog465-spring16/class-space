{
 "cells": [
  {
   "cell_type": "code",
   "execution_count": 1,
   "metadata": {
    "collapsed": false
   },
   "outputs": [],
   "source": [
    "#import module\n",
    "import csv"
   ]
  },
  {
   "cell_type": "code",
   "execution_count": 2,
   "metadata": {
    "collapsed": false
   },
   "outputs": [],
   "source": [
    "#open csv file and create DictReader object\n",
    "file = open('/Users/AlexLee/Desktop/Land_Use_Permits.csv','rb')\n",
    "reader = csv.DictReader(file)"
   ]
  },
  {
   "cell_type": "code",
   "execution_count": 12,
   "metadata": {
    "collapsed": false
   },
   "outputs": [],
   "source": [
    "#Create column headers for tables\n",
    "permit_columns = ['id', 'Type', 'Description', 'Value']\n",
    "location_columns = ['id', 'Address', 'Latitude', 'Longitude']\n",
    "application_columns = ['id', 'ApplicationDate', 'DecisionDate', 'Appealed', 'Status']\n",
    "applicant_columns = ['id', 'ApplicantName']\n",
    "design_columns = ['id', 'Category', 'DesignType', 'DesignIncluded']"
   ]
  },
  {
   "cell_type": "code",
   "execution_count": 4,
   "metadata": {
    "collapsed": false
   },
   "outputs": [],
   "source": [
    "#Create permit DictWriter and fill header\n",
    "permits = open('/Users/AlexLee/Desktop/Database_Design_II/permits.csv', 'w')\n",
    "permits_dwriter = csv.DictWriter(permits, fieldnames = permit_columns)\n",
    "permits_dwriter.writeheader()"
   ]
  },
  {
   "cell_type": "code",
   "execution_count": 5,
   "metadata": {
    "collapsed": false
   },
   "outputs": [],
   "source": [
    "#Fill in permit table\n",
    "permits_list = []\n",
    "for row in reader: \n",
    "    permits_list.append({'id': row['Application/Permit Number'], 'Type': row['Permit Type'], 'Description': row['Description'], 'Value': row['Value']})\n",
    "permits_dwriter.writerows(permits_list)\n",
    "permits.close()"
   ]
  },
  {
   "cell_type": "code",
   "execution_count": 6,
   "metadata": {
    "collapsed": true
   },
   "outputs": [],
   "source": [
    "#Create location DictWriter and fill header\n",
    "locations = open('/Users/AlexLee/Desktop/Database_Design_II/locations.csv', 'w')\n",
    "locations_dwriter = csv.DictWriter(locations, fieldnames = location_columns)\n",
    "locations_dwriter.writeheader()\n",
    "locations_reader = csv.DictReader (open('/Users/AlexLee/Desktop/Land_Use_Permits.csv','r'))"
   ]
  },
  {
   "cell_type": "code",
   "execution_count": 7,
   "metadata": {
    "collapsed": false
   },
   "outputs": [],
   "source": [
    "#Fill in location table\n",
    "locations_list = []\n",
    "i = 1\n",
    "for row in locations_reader: \n",
    "    locations_list.append({'id': i, 'Address': row['Address'], 'Latitude': row['Latitude'], 'Longitude': row['Longitude']})\n",
    "    i += 1\n",
    "locations_dwriter.writerows(locations_list)\n",
    "locations.close()"
   ]
  },
  {
   "cell_type": "code",
   "execution_count": 8,
   "metadata": {
    "collapsed": true
   },
   "outputs": [],
   "source": [
    "#Create application DictWriter and fill header\n",
    "applications = open('/Users/AlexLee/Desktop/Database_Design_II/applications.csv', 'w')\n",
    "applications_dwriter = csv.DictWriter(applications, fieldnames = application_columns)\n",
    "applications_dwriter.writeheader()\n",
    "applications_reader = csv.DictReader (open('/Users/AlexLee/Desktop/Land_Use_Permits.csv','r'))"
   ]
  },
  {
   "cell_type": "code",
   "execution_count": 9,
   "metadata": {
    "collapsed": false
   },
   "outputs": [],
   "source": [
    "#Fill in applications\n",
    "applications_list = []\n",
    "j = 1\n",
    "for row in applications_reader: \n",
    "    applications_list.append({'id': j, 'ApplicationDate': row['Application Date'], 'DecisionDate': row['Decision Date'], 'Appealed': row['Appealed?'], 'Status': row['Status']})\n",
    "    j += 1\n",
    "applications_dwriter.writerows(applications_list)\n",
    "applications.close()"
   ]
  },
  {
   "cell_type": "code",
   "execution_count": 10,
   "metadata": {
    "collapsed": true
   },
   "outputs": [],
   "source": [
    "#Create applicant DictWriter and fill header\n",
    "applicants = open('/Users/AlexLee/Desktop/Database_Design_II/applicants.csv', 'w')\n",
    "applicants_dwriter = csv.DictWriter(applicants, fieldnames = applicant_columns)\n",
    "applicants_dwriter.writeheader()\n",
    "applicants_reader = csv.DictReader (open('/Users/AlexLee/Desktop/Land_Use_Permits.csv','r'))"
   ]
  },
  {
   "cell_type": "code",
   "execution_count": 11,
   "metadata": {
    "collapsed": true
   },
   "outputs": [],
   "source": [
    "#Fill in applicant table\n",
    "applicants_list = []\n",
    "k = 1\n",
    "for row in applicants_reader: \n",
    "    applicants_list.append({'id': k, 'ApplicantName': row['Applicant Name']})\n",
    "    k += 1\n",
    "applicants_dwriter.writerows(applicants_list)\n",
    "applicants.close()"
   ]
  },
  {
   "cell_type": "code",
   "execution_count": 13,
   "metadata": {
    "collapsed": true
   },
   "outputs": [],
   "source": [
    "##Create design DictWriter and fill header\n",
    "designs = open('/Users/AlexLee/Desktop/Database_Design_II/designs.csv', 'w')\n",
    "designs_dwriter = csv.DictWriter(designs, fieldnames = design_columns)\n",
    "designs_dwriter.writeheader()\n",
    "designs_reader = csv.DictReader (open('/Users/AlexLee/Desktop/Land_Use_Permits.csv','r'))"
   ]
  },
  {
   "cell_type": "code",
   "execution_count": 15,
   "metadata": {
    "collapsed": false
   },
   "outputs": [],
   "source": [
    "#Fill in design table\n",
    "designs_list = []\n",
    "l = 1\n",
    "for row in designs_reader: \n",
    "    designs_list.append({'id': l, 'Category': row['Category'], 'DesignType': row['Decision Type'], 'DesignIncluded': row['Design Review Included']})\n",
    "    l += 1\n",
    "designs_dwriter.writerows(designs_list)\n",
    "designs.close()"
   ]
  }
 ],
 "metadata": {
  "kernelspec": {
   "display_name": "Python 2",
   "language": "python",
   "name": "python2"
  },
  "language_info": {
   "codemirror_mode": {
    "name": "ipython",
    "version": 2
   },
   "file_extension": ".py",
   "mimetype": "text/x-python",
   "name": "python",
   "nbconvert_exporter": "python",
   "pygments_lexer": "ipython2",
   "version": "2.7.10"
  }
 },
 "nbformat": 4,
 "nbformat_minor": 0
}
