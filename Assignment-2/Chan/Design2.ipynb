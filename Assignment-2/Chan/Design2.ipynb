{
 "cells": [
  {
   "cell_type": "markdown",
   "metadata": {},
   "source": [
    "### Will Chan, Database Design 2: Generating tables using Python DictWriter, 5/01/2016"
   ]
  },
  {
   "cell_type": "code",
   "execution_count": 1,
   "metadata": {
    "collapsed": true
   },
   "outputs": [],
   "source": [
    "import csv"
   ]
  },
  {
   "cell_type": "code",
   "execution_count": null,
   "metadata": {
    "collapsed": false
   },
   "outputs": [],
   "source": [
    "string = \"thiskey_FK\"\n",
    "if \"fk\" in string:\n",
    "    print \"yes\"\n",
    "else:\n",
    "    print \"no\""
   ]
  },
  {
   "cell_type": "code",
   "execution_count": null,
   "metadata": {
    "collapsed": false
   },
   "outputs": [],
   "source": [
    "# Test box: random things\n",
    "\n",
    "origfile = open(\"S:\\\\School Things\\\\Senior Year 2015-2016\\\\Spring Quarter\\\\GEOG 465\\\\Database Design 2\\\\test.csv\")\n",
    "reader = csv.DictReader(origfile)\n",
    "\n",
    "#for values in origfile:\n",
    "#print reader.next()\n",
    "\n",
    "csvLength = len(list(origfile))\n",
    "print csvLength"
   ]
  },
  {
   "cell_type": "code",
   "execution_count": 12,
   "metadata": {
    "collapsed": false
   },
   "outputs": [
    {
     "ename": "StopIteration",
     "evalue": "",
     "output_type": "error",
     "traceback": [
      "\u001b[1;31m---------------------------------------------------------------------------\u001b[0m",
      "\u001b[1;31mStopIteration\u001b[0m                             Traceback (most recent call last)",
      "\u001b[1;32m<ipython-input-12-5dff5085e982>\u001b[0m in \u001b[0;36m<module>\u001b[1;34m()\u001b[0m\n\u001b[0;32m     22\u001b[0m \u001b[1;33m\u001b[0m\u001b[0m\n\u001b[0;32m     23\u001b[0m \u001b[1;33m\u001b[0m\u001b[0m\n\u001b[1;32m---> 24\u001b[1;33m \u001b[0mcreateCSV\u001b[0m\u001b[1;33m(\u001b[0m\u001b[1;34m\"test2\"\u001b[0m\u001b[1;33m,\u001b[0m \u001b[1;33m[\u001b[0m\u001b[1;34m\"RMS CDW ID\"\u001b[0m\u001b[1;33m,\u001b[0m \u001b[1;34m\"Offense Type\"\u001b[0m\u001b[1;33m]\u001b[0m\u001b[1;33m)\u001b[0m\u001b[1;33m\u001b[0m\u001b[0m\n\u001b[0m",
      "\u001b[1;32m<ipython-input-12-5dff5085e982>\u001b[0m in \u001b[0;36mcreateCSV\u001b[1;34m(tableName, tableFields)\u001b[0m\n\u001b[0;32m     14\u001b[0m     \u001b[0mwriter\u001b[0m\u001b[1;33m.\u001b[0m\u001b[0mwriteheader\u001b[0m\u001b[1;33m(\u001b[0m\u001b[1;33m)\u001b[0m\u001b[1;33m\u001b[0m\u001b[0m\n\u001b[0;32m     15\u001b[0m     \u001b[1;32mfor\u001b[0m \u001b[0mx\u001b[0m \u001b[1;32min\u001b[0m \u001b[0mrange\u001b[0m\u001b[1;33m(\u001b[0m\u001b[1;36m0\u001b[0m\u001b[1;33m,\u001b[0m \u001b[0mlength\u001b[0m \u001b[1;33m-\u001b[0m \u001b[1;36m1\u001b[0m\u001b[1;33m)\u001b[0m\u001b[1;33m:\u001b[0m\u001b[1;33m\u001b[0m\u001b[0m\n\u001b[1;32m---> 16\u001b[1;33m         \u001b[0mtempDict1\u001b[0m \u001b[1;33m=\u001b[0m \u001b[0mreader\u001b[0m\u001b[1;33m.\u001b[0m\u001b[0mnext\u001b[0m\u001b[1;33m(\u001b[0m\u001b[1;33m)\u001b[0m\u001b[1;33m\u001b[0m\u001b[0m\n\u001b[0m\u001b[0;32m     17\u001b[0m         \u001b[0mtempDict2\u001b[0m \u001b[1;33m=\u001b[0m \u001b[1;33m{\u001b[0m\u001b[1;33m}\u001b[0m\u001b[1;33m\u001b[0m\u001b[0m\n\u001b[0;32m     18\u001b[0m         \u001b[1;32mfor\u001b[0m \u001b[0mfield\u001b[0m \u001b[1;32min\u001b[0m \u001b[0mtableFields\u001b[0m\u001b[1;33m:\u001b[0m\u001b[1;33m\u001b[0m\u001b[0m\n",
      "\u001b[1;32mC:\\Users\\billi\\AppData\\Local\\Enthought\\Canopy32\\App\\appdata\\canopy-1.6.2.3262.win-x86\\lib\\csv.pyc\u001b[0m in \u001b[0;36mnext\u001b[1;34m(self)\u001b[0m\n\u001b[0;32m    106\u001b[0m             \u001b[1;31m# Used only for its side effect.\u001b[0m\u001b[1;33m\u001b[0m\u001b[1;33m\u001b[0m\u001b[0m\n\u001b[0;32m    107\u001b[0m             \u001b[0mself\u001b[0m\u001b[1;33m.\u001b[0m\u001b[0mfieldnames\u001b[0m\u001b[1;33m\u001b[0m\u001b[0m\n\u001b[1;32m--> 108\u001b[1;33m         \u001b[0mrow\u001b[0m \u001b[1;33m=\u001b[0m \u001b[0mself\u001b[0m\u001b[1;33m.\u001b[0m\u001b[0mreader\u001b[0m\u001b[1;33m.\u001b[0m\u001b[0mnext\u001b[0m\u001b[1;33m(\u001b[0m\u001b[1;33m)\u001b[0m\u001b[1;33m\u001b[0m\u001b[0m\n\u001b[0m\u001b[0;32m    109\u001b[0m         \u001b[0mself\u001b[0m\u001b[1;33m.\u001b[0m\u001b[0mline_num\u001b[0m \u001b[1;33m=\u001b[0m \u001b[0mself\u001b[0m\u001b[1;33m.\u001b[0m\u001b[0mreader\u001b[0m\u001b[1;33m.\u001b[0m\u001b[0mline_num\u001b[0m\u001b[1;33m\u001b[0m\u001b[0m\n\u001b[0;32m    110\u001b[0m \u001b[1;33m\u001b[0m\u001b[0m\n",
      "\u001b[1;31mStopIteration\u001b[0m: "
     ]
    }
   ],
   "source": [
    "# Test box 2: mini CSV file test, showcase problem setting length within function, related to .next() somehow\n",
    "\n",
    "folderPath = \"S:\\\\School Things\\\\Senior Year 2015-2016\\\\Spring Quarter\\\\GEOG 465\\\\Database Design 2\\\\\"\n",
    "\n",
    "#length = len(list(open(folderPath + \"test.csv\")))\n",
    "#print length\n",
    "\n",
    "def createCSV(tableName, tableFields):\n",
    "    origFile = open(folderPath + \"test.csv\")\n",
    "    newFile = open(folderPath + tableName + \".csv\", \"wb\")\n",
    "    reader = csv.DictReader(origFile)\n",
    "    length = len(list(origFile))\n",
    "    writer = csv.DictWriter(newFile, fieldnames = tableFields)\n",
    "    writer.writeheader()\n",
    "    for x in range(0, length - 1):\n",
    "        tempDict1 = reader.next()\n",
    "        tempDict2 = {}\n",
    "        for field in tableFields:\n",
    "            tempDict2[field] = tempDict1[field]\n",
    "        writer.writerow(tempDict2)\n",
    "    newFile.close()\n",
    "    \n",
    "\n",
    "createCSV(\"test2\", [\"RMS CDW ID\", \"Offense Type\"])"
   ]
  },
  {
   "cell_type": "code",
   "execution_count": null,
   "metadata": {
    "collapsed": false
   },
   "outputs": [],
   "source": [
    "# Test box 3: mini CSV file test version\n",
    "\n",
    "folderPath = \"S:\\\\School Things\\\\Senior Year 2015-2016\\\\Spring Quarter\\\\GEOG 465\\\\Database Design 2\\\\\"\n",
    "\n",
    "length = len(list(open(folderPath + \"test.csv\")))\n",
    "#print length\n",
    "\n",
    "def createCSV(tableName, tableFields, length):\n",
    "    origFile = open(folderPath + \"test.csv\")\n",
    "    newFile = open(folderPath + tableName + \".csv\", \"wb\")\n",
    "    reader = csv.DictReader(origFile)\n",
    "    writer = csv.DictWriter(newFile, fieldnames = tableFields)\n",
    "    writer.writeheader()\n",
    "    tempID = 0\n",
    "    for x in range(0, length - 1):\n",
    "        tempDict1 = reader.next()\n",
    "        tempDict2 = {}\n",
    "        tempID += 1\n",
    "        \n",
    "        for n in range(1, len(tableFields)):\n",
    "            tempDict2['id'] = tempID\n",
    "            if \"_FK\" in tableFields[n]:\n",
    "                tempDict2[tableFields[n]] = \"\"\n",
    "            else:\n",
    "                tempDict2[tableFields[n]] = tempDict1[tableFields[n]]\n",
    "            \n",
    "        writer.writerow(tempDict2)\n",
    "    newFile.close()\n",
    "    \n",
    "# Why to not use \"ID\" as your column name:\n",
    "# https://annalear.ca/2010/06/10/why-excel-thinks-your-csv-is-a-sylk/\n",
    "# Note, doesn't actually cause Excel issue, just an annoyance to click through dialog boxes\n",
    "createCSV(\"test3\", ['id', 'RMS CDW ID', 'Offense Type'], length)\n",
    "createCSV(\"test4\", ['id', 'Zone/Beat', 'some_FK'], length)"
   ]
  },
  {
   "cell_type": "markdown",
   "metadata": {},
   "source": [
    "### Will need two different functions for table creation, though both will be similar, some notable differences"
   ]
  },
  {
   "cell_type": "code",
   "execution_count": null,
   "metadata": {
    "collapsed": true
   },
   "outputs": [],
   "source": [
    "# set up a folder path\n",
    "folderPath = \"S:\\\\School Things\\\\Senior Year 2015-2016\\\\Spring Quarter\\\\GEOG 465\\\\Database Design 2\\\\\"\n",
    "\n",
    "# For some reason, this part can't be in the function. It causes a StopIteration and doesn't explain\n",
    "# why, but somehow breaks something related to the .next() even though it's not in that loop at all.\n",
    "# Because of this, needs to be set then passed in as a parameter\n",
    "length = len(list(open(folderPath + \"Seattle_Police_Department_Police_Report_Incident.csv\")))\n",
    "\n",
    "def createCSV(tableName, tableFields, csvLength):\n",
    "    origFile = open(folderPath + \"Seattle_Police_Department_Police_Report_Incident.csv\")\n",
    "    newFile = open(folderPath + tableName + \".csv\", \"wb\")\n",
    "    reader = csv.DictReader(origFile)\n",
    "    writer = csv.DictWriter(newFile, fieldnames = tableFields)\n",
    "    writer.writeheader()\n",
    "    tempID = 0\n",
    "    for x in range(0, length - 1):\n",
    "        tempDict1 = reader.next()\n",
    "        tempDict2 = {}\n",
    "        tempID += 1\n",
    "        for n in range(1, len(tableFields)):\n",
    "            tempDict2[\"id\"] = tempID\n",
    "            if \"_id\" in tableFields[n]:\n",
    "                tempDict2[tableFields[n]] = \"\"\n",
    "            else:\n",
    "                tempDict2[tableFields[n]] = tempDict1[tableFields[n]]\n",
    "        writer.writerow(tempDict2)\n",
    "    newFile.close()\n",
    "\n",
    "    \n",
    "# Generate the 2 appropriate tables\n",
    "createCSV(\"Offense\", [\"id\", \"Offense_General_id\", \"Offense_Detail_id\", \"City_Zone_id\"], length)\n",
    "createCSV(\"Offense_Location\", [\"id\", \"RMS CDW ID\", \"Date Reported\", \"Latitude\", \"Longitude\", \"Offense_id\"], length)"
   ]
  },
  {
   "cell_type": "code",
   "execution_count": 11,
   "metadata": {
    "collapsed": false
   },
   "outputs": [],
   "source": [
    "# set up a folder path\n",
    "folderPath = \"S:\\\\School Things\\\\Senior Year 2015-2016\\\\Spring Quarter\\\\GEOG 465\\\\Database Design 2\\\\\"\n",
    "\n",
    "# For some reason, this part can't be in the function. It causes a StopIteration and doesn't explain\n",
    "# why, but somehow breaks something related to the .next() even though it's not in that loop at all.\n",
    "# Because of this, needs to be set then passed in as a parameter\n",
    "length = len(list(open(folderPath + \"Seattle_Police_Department_Police_Report_Incident.csv\")))\n",
    "\n",
    "def createCSVUnique(tableName, tableFields, csvLength):\n",
    "    origFile = open(folderPath + \"Seattle_Police_Department_Police_Report_Incident.csv\")\n",
    "    newFile = open(folderPath + tableName + \".csv\", \"wb\")\n",
    "    reader = csv.DictReader(origFile)\n",
    "    writer = csv.DictWriter(newFile, fieldnames = tableFields)\n",
    "    writer.writeheader()\n",
    "    tempList = []\n",
    "    tempDict2 = {}\n",
    "    for x in range(0, length - 1):\n",
    "        tempDict1 = reader.next()\n",
    "        for n in range(1, len(tableFields)):\n",
    "            if tempDict1[tableFields[n]] not in tempList:\n",
    "                tempList.append(tempDict1[tableFields[n]])\n",
    "    for i in range(0, len(tempList)):\n",
    "        tempDict2[\"id\"] = i + 1\n",
    "        tempDict2[tableFields[1]] = tempList[i]\n",
    "        writer.writerow(tempDict2)\n",
    "    newFile.close()\n",
    "\n",
    "\n",
    "# Generate 3 appropriate tables\n",
    "createCSVUnique(\"City_Zone\", [\"id\", \"Zone/Beat\"], length)\n",
    "createCSVUnique(\"Offense_General\", [\"id\", \"Summarized Offense Description\"], length)\n",
    "createCSVUnique(\"Offense_Detail\", [\"id\", \"Offense Type\"], length)"
   ]
  },
  {
   "cell_type": "code",
   "execution_count": null,
   "metadata": {
    "collapsed": true
   },
   "outputs": [],
   "source": []
  }
 ],
 "metadata": {
  "kernelspec": {
   "display_name": "Python 2",
   "language": "python",
   "name": "python2"
  },
  "language_info": {
   "codemirror_mode": {
    "name": "ipython",
    "version": 2
   },
   "file_extension": ".py",
   "mimetype": "text/x-python",
   "name": "python",
   "nbconvert_exporter": "python",
   "pygments_lexer": "ipython2",
   "version": "2.7.10"
  }
 },
 "nbformat": 4,
 "nbformat_minor": 0
}
