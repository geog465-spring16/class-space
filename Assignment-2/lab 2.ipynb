{
 "cells": [
  {
   "cell_type": "code",
   "execution_count": 138,
   "metadata": {
    "collapsed": true
   },
   "outputs": [],
   "source": [
    "import csv"
   ]
  },
  {
   "cell_type": "code",
   "execution_count": 139,
   "metadata": {
    "collapsed": true
   },
   "outputs": [],
   "source": [
    "# Defining Column headers for each table\n",
    "\n",
    "building_permit = ['id', 'PermitType', 'PermitNumber', 'PerrmitStatus']\n",
    "address = ['id', 'Street', 'Longitude', 'Latitude', 'BuildingPermit_id']\n",
    "value = ['id', 'ValueAmount', 'BuildingPermit_id']\n",
    "applicant = ['id', 'Name', 'BuildingPermit_id']\n",
    "date = ['id', 'ApplicationDate', 'IssueDate', 'ExpirationDate', 'BuildingPermit_id']"
   ]
  },
  {
   "cell_type": "code",
   "execution_count": 140,
   "metadata": {
    "collapsed": false
   },
   "outputs": [],
   "source": [
    "table_1 = open('C:/Users/Denny/Desktop/Spring 2016/geog 465/file_1.csv', 'w')"
   ]
  },
  {
   "cell_type": "code",
   "execution_count": 141,
   "metadata": {
    "collapsed": false
   },
   "outputs": [],
   "source": [
    "my_dwriter = csv.DictWriter(table_1, fieldnames = building_permit)"
   ]
  },
  {
   "cell_type": "code",
   "execution_count": 142,
   "metadata": {
    "collapsed": false
   },
   "outputs": [],
   "source": [
    "my_dwriter.writeheader()"
   ]
  },
  {
   "cell_type": "code",
   "execution_count": 143,
   "metadata": {
    "collapsed": false
   },
   "outputs": [],
   "source": [
    "loop_dreader = csv.DictReader(open('C:\\Users\\Denny\\Desktop\\Spring 2016\\geog 465\\Building_Permits.csv', 'r'))"
   ]
  },
  {
   "cell_type": "code",
   "execution_count": 144,
   "metadata": {
    "collapsed": true
   },
   "outputs": [],
   "source": [
    "buildingpermit_list = []"
   ]
  },
  {
   "cell_type": "code",
   "execution_count": 145,
   "metadata": {
    "collapsed": false
   },
   "outputs": [],
   "source": [
    "i = 1\n",
    "for row in loop_dreader:\n",
    "    buildingpermit_list.append({'id': i, 'PermitType': row['Permit Type'], 'PermitNumber': row['Application/Permit Number'], 'PerrmitStatus': row['Status']})\n",
    "    i += 1"
   ]
  },
  {
   "cell_type": "code",
   "execution_count": 146,
   "metadata": {
    "collapsed": false
   },
   "outputs": [],
   "source": [
    "my_dwriter.writerows(buildingpermit_list)"
   ]
  },
  {
   "cell_type": "code",
   "execution_count": 147,
   "metadata": {
    "collapsed": true
   },
   "outputs": [],
   "source": [
    "table_1.close()"
   ]
  },
  {
   "cell_type": "code",
   "execution_count": 148,
   "metadata": {
    "collapsed": false
   },
   "outputs": [],
   "source": [
    "# doing the same exact steps as above - but for \"Address Table\"\n",
    "\n",
    "table_2 = open('C:/Users/Denny/Desktop/Spring 2016/geog 465/file_2.csv', 'w')\n",
    "\n",
    "my_dwriter_2 = csv.DictWriter(table_2, fieldnames = address)\n",
    "my_dwriter_2.writeheader()\n",
    "loop_dreader_2 = csv.DictReader(open('C:\\Users\\Denny\\Desktop\\Spring 2016\\geog 465\\Building_Permits.csv', 'r'))\n",
    "address_list = []\n",
    "i = 1\n",
    "for row in loop_dreader_2:\n",
    "    address_list.append({'id': i, 'Street': row['Address'], 'Longitude': row['Longitude'], 'Latitude': row['Latitude'], 'BuildingPermit_id': ''})\n",
    "    i += 1\n",
    "my_dwriter_2.writerows(address_list)\n",
    "\n",
    "table_2.close()"
   ]
  },
  {
   "cell_type": "code",
   "execution_count": 149,
   "metadata": {
    "collapsed": false
   },
   "outputs": [],
   "source": [
    "# doing the same exact steps as above - but for \"Value Table\"\n",
    "\n",
    "table_3 = open('C:/Users/Denny/Desktop/Spring 2016/geog 465/file_3.csv', 'w')\n",
    "\n",
    "my_dwriter_3 = csv.DictWriter(table_3, fieldnames = value)\n",
    "my_dwriter_3.writeheader()\n",
    "loop_dreader_3 = csv.DictReader(open('C:\\Users\\Denny\\Desktop\\Spring 2016\\geog 465\\Building_Permits.csv', 'r'))\n",
    "value_list = []\n",
    "i = 1\n",
    "for row in loop_dreader_3:\n",
    "    value_list.append({'id': i, 'ValueAmount': row['Value'], 'BuildingPermit_id': ''})\n",
    "    i += 1\n",
    "my_dwriter_3.writerows(value_list)\n",
    "\n",
    "table_3.close()"
   ]
  },
  {
   "cell_type": "code",
   "execution_count": 150,
   "metadata": {
    "collapsed": false
   },
   "outputs": [],
   "source": [
    "# doing the same exact steps as above - but for \"Applicant Table\"\n",
    "\n",
    "table_4 = open('C:/Users/Denny/Desktop/Spring 2016/geog 465/file_4.csv', 'w')\n",
    "\n",
    "my_dwriter_4 = csv.DictWriter(table_4, fieldnames = applicant)\n",
    "my_dwriter_4.writeheader()\n",
    "loop_dreader_4 = csv.DictReader(open('C:\\Users\\Denny\\Desktop\\Spring 2016\\geog 465\\Building_Permits.csv', 'r'))\n",
    "applicant_list = []\n",
    "i = 1\n",
    "for row in loop_dreader_4:\n",
    "    applicant_list.append({'id': i, 'Name': row['Applicant Name'], 'BuildingPermit_id': ''})\n",
    "    i += 1\n",
    "my_dwriter_4.writerows(applicant_list)\n",
    "\n",
    "table_4.close()"
   ]
  },
  {
   "cell_type": "code",
   "execution_count": 153,
   "metadata": {
    "collapsed": false
   },
   "outputs": [],
   "source": [
    "# doing the same exact steps as above - but for \"Date Table\"\n",
    "\n",
    "table_5 = open('C:/Users/Denny/Desktop/Spring 2016/geog 465/file_5.csv', 'w')\n",
    "\n",
    "my_dwriter_5 = csv.DictWriter(table_5, fieldnames = date)\n",
    "my_dwriter_5.writeheader()\n",
    "loop_dreader_5 = csv.DictReader(open('C:\\Users\\Denny\\Desktop\\Spring 2016\\geog 465\\Building_Permits.csv', 'r'))\n",
    "date_list = []\n",
    "i = 1\n",
    "for row in loop_dreader_5:\n",
    "    date_list.append({'id': i, 'ApplicationDate': row['Application Date'], 'IssueDate': row['Issue Date'], 'ExpirationDate': row['Expiration Date'], 'BuildingPermit_id': ''})\n",
    "    i += 1\n",
    "my_dwriter_5.writerows(date_list)\n",
    "\n",
    "table_5.close()"
   ]
  },
  {
   "cell_type": "code",
   "execution_count": null,
   "metadata": {
    "collapsed": true
   },
   "outputs": [],
   "source": []
  },
  {
   "cell_type": "code",
   "execution_count": null,
   "metadata": {
    "collapsed": true
   },
   "outputs": [],
   "source": []
  }
 ],
 "metadata": {
  "kernelspec": {
   "display_name": "Python 2",
   "language": "python",
   "name": "python2"
  },
  "language_info": {
   "codemirror_mode": {
    "name": "ipython",
    "version": 2
   },
   "file_extension": ".py",
   "mimetype": "text/x-python",
   "name": "python",
   "nbconvert_exporter": "python",
   "pygments_lexer": "ipython2",
   "version": "2.7.11"
  }
 },
 "nbformat": 4,
 "nbformat_minor": 0
}
