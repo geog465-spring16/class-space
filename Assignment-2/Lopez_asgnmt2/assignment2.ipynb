{
 "cells": [
  {
   "cell_type": "code",
   "execution_count": 1,
   "metadata": {
    "collapsed": true
   },
   "outputs": [],
   "source": [
    "import csv "
   ]
  },
  {
   "cell_type": "code",
   "execution_count": 2,
   "metadata": {
    "collapsed": true
   },
   "outputs": [],
   "source": [
    "#start of artist table"
   ]
  },
  {
   "cell_type": "code",
   "execution_count": 3,
   "metadata": {
    "collapsed": false
   },
   "outputs": [],
   "source": [
    "artist_csv = open('U:/Notebook/artist.csv', 'w')"
   ]
  },
  {
   "cell_type": "code",
   "execution_count": 4,
   "metadata": {
    "collapsed": true
   },
   "outputs": [],
   "source": [
    "artistcolumns = ['id', 'name_last', 'name_first']"
   ]
  },
  {
   "cell_type": "code",
   "execution_count": 5,
   "metadata": {
    "collapsed": false
   },
   "outputs": [],
   "source": [
    "artist_dwriter = csv.DictWriter(artist_csv, fieldnames = artistcolumns )"
   ]
  },
  {
   "cell_type": "code",
   "execution_count": 6,
   "metadata": {
    "collapsed": false
   },
   "outputs": [],
   "source": [
    "artist_dwriter.writeheader()"
   ]
  },
  {
   "cell_type": "code",
   "execution_count": 9,
   "metadata": {
    "collapsed": false
   },
   "outputs": [],
   "source": [
    "artist_loop = csv.DictReader(open('U:/Notebook/values.csv', 'r'))"
   ]
  },
  {
   "cell_type": "code",
   "execution_count": 10,
   "metadata": {
    "collapsed": false,
    "scrolled": true
   },
   "outputs": [],
   "source": [
    "artist_dict_list = []\n",
    "i = 1\n",
    "for row in artist_loop:\n",
    "    artist_dict_list.append({'id': i, 'name_last': row['artist_last_name'], 'name_first': row['artist_first_name']})\n",
    "    i = i + 1"
   ]
  },
  {
   "cell_type": "code",
   "execution_count": 11,
   "metadata": {
    "collapsed": true
   },
   "outputs": [],
   "source": [
    "artist_dwriter.writerows(artist_dict_list)"
   ]
  },
  {
   "cell_type": "code",
   "execution_count": 12,
   "metadata": {
    "collapsed": true
   },
   "outputs": [],
   "source": [
    "artist_csv.close()"
   ]
  },
  {
   "cell_type": "code",
   "execution_count": 13,
   "metadata": {
    "collapsed": true
   },
   "outputs": [],
   "source": [
    "artist_table = open('U:/Notebook/artist.csv', 'r')"
   ]
  },
  {
   "cell_type": "code",
   "execution_count": 14,
   "metadata": {
    "collapsed": false
   },
   "outputs": [],
   "source": [
    "artist_dreader = csv.DictReader(artist_table)"
   ]
  },
  {
   "cell_type": "code",
   "execution_count": 15,
   "metadata": {
    "collapsed": false,
    "scrolled": true
   },
   "outputs": [
    {
     "name": "stdout",
     "output_type": "stream",
     "text": [
      "{'name_first': 'George', 'id': '1', 'name_last': 'Tsutakawa'}\n",
      "{'name_first': 'Doris', 'id': '2', 'name_last': 'Chase'}\n",
      "{'name_first': 'Mark', 'id': '3', 'name_last': 'Lere'}\n",
      "{'name_first': 'Kurt', 'id': '4', 'name_last': 'Kiefer'}\n",
      "{'name_first': 'Edgar ', 'id': '5', 'name_last': 'Hachivi'}\n",
      "{'name_first': 'Val', 'id': '6', 'name_last': 'Laigo'}\n",
      "{'name_first': 'Bartoldi', 'id': '7', 'name_last': 'After'}\n",
      "{'name_first': 'Mandy', 'id': '8', 'name_last': 'Greer'}\n",
      "{'name_first': 'Gary', 'id': '9', 'name_last': 'Hill'}\n",
      "{'name_first': 'James', 'id': '10', 'name_last': 'Schoppert'}\n"
     ]
    }
   ],
   "source": [
    "for i in range (0, 10):\n",
    "    print artist_dreader.next()\n",
    "    "
   ]
  },
  {
   "cell_type": "code",
   "execution_count": 16,
   "metadata": {
    "collapsed": true
   },
   "outputs": [],
   "source": [
    "artist_table.close()"
   ]
  },
  {
   "cell_type": "code",
   "execution_count": 17,
   "metadata": {
    "collapsed": true
   },
   "outputs": [],
   "source": [
    "#End of art table"
   ]
  },
  {
   "cell_type": "code",
   "execution_count": 18,
   "metadata": {
    "collapsed": true
   },
   "outputs": [],
   "source": [
    "#Start of Location table"
   ]
  },
  {
   "cell_type": "code",
   "execution_count": 19,
   "metadata": {
    "collapsed": true
   },
   "outputs": [],
   "source": [
    "location_csv = open('U:/Notebook/location.csv', 'w')"
   ]
  },
  {
   "cell_type": "code",
   "execution_count": 20,
   "metadata": {
    "collapsed": true
   },
   "outputs": [],
   "source": [
    "locationcolumns = ['id', 'location', 'address', 'latitude', 'longitude']"
   ]
  },
  {
   "cell_type": "code",
   "execution_count": 21,
   "metadata": {
    "collapsed": true
   },
   "outputs": [],
   "source": [
    "location_dwriter = csv.DictWriter(location_csv, fieldnames = locationcolumns)"
   ]
  },
  {
   "cell_type": "code",
   "execution_count": 22,
   "metadata": {
    "collapsed": false
   },
   "outputs": [],
   "source": [
    "location_dwriter.writeheader()"
   ]
  },
  {
   "cell_type": "code",
   "execution_count": 23,
   "metadata": {
    "collapsed": true
   },
   "outputs": [],
   "source": [
    "location_loop = csv.DictReader(open('U:/Notebook/Public_Art_Data.csv', 'r'))"
   ]
  },
  {
   "cell_type": "code",
   "execution_count": 24,
   "metadata": {
    "collapsed": false
   },
   "outputs": [],
   "source": [
    "location_dict_list = []\n",
    "i = 1\n",
    "for row in location_loop:\n",
    "    location_dict_list.append({'id': i, 'location': row['location'], 'address': row['address'], 'latitude': row['latitude'], 'longitude': row['longitude']})\n",
    "    i = i + 1"
   ]
  },
  {
   "cell_type": "code",
   "execution_count": 25,
   "metadata": {
    "collapsed": false
   },
   "outputs": [],
   "source": [
    "location_dwriter.writerows(location_dict_list)"
   ]
  },
  {
   "cell_type": "code",
   "execution_count": 26,
   "metadata": {
    "collapsed": true
   },
   "outputs": [],
   "source": [
    "location_csv.close()"
   ]
  },
  {
   "cell_type": "code",
   "execution_count": 27,
   "metadata": {
    "collapsed": true
   },
   "outputs": [],
   "source": [
    "location_table = open('U:/Notebook/location.csv', 'r')"
   ]
  },
  {
   "cell_type": "code",
   "execution_count": 28,
   "metadata": {
    "collapsed": false
   },
   "outputs": [],
   "source": [
    "location_dreader = csv.DictReader(location_table)"
   ]
  },
  {
   "cell_type": "code",
   "execution_count": 29,
   "metadata": {
    "collapsed": false
   },
   "outputs": [
    {
     "name": "stdout",
     "output_type": "stream",
     "text": [
      "{'latitude': '47.6065', 'address': '1000 4th Ave', 'id': '1', 'longitude': '-122.33312', 'location': 'Central Library, Spring St Plaza'}\n",
      "{'latitude': '47.620033', 'address': '305 Harrison St', 'id': '2', 'longitude': '-122.348917', 'location': 'Space Needle Sculpture Garden'}\n",
      "{'latitude': '47.632467', 'address': ' 23rd Ave W & Gilman Ave W', 'id': '3', 'longitude': '-122.37565', 'location': 'West Gilman Bridge'}\n",
      "{'latitude': '47.601833', 'address': '2300 E Yesler St', 'id': '4', 'longitude': '-122.301767', 'location': 'Douglas Truth Branch Library '}\n",
      "{'latitude': '47.61805', 'address': '2nd Ave & Denny Wy', 'id': '5', 'longitude': '-122.35205', 'location': '2nd Ave & Denny Wy'}\n",
      "{'latitude': '47.615617', 'address': '4th Ave & Bell St', 'id': '6', 'longitude': '-122.344583', 'location': 'Belltown'}\n",
      "{'latitude': '47.601983', 'address': '1st Ave & Yesler Wy', 'id': '7', 'longitude': '-122.33395', 'location': 'Pioneer Square'}\n",
      "{'latitude': '47.59205', 'address': '1008 12th Ave S', 'id': '8', 'longitude': '-122.317417', 'location': 'Dr. Jose P. Rizal Park'}\n",
      "{'latitude': '47.579383', 'address': '61st Ave SW & Alki Ave SW', 'id': '9', 'longitude': '-122.410633', 'location': 'Alki Beach'}\n",
      "{'latitude': '47.6065', 'address': '1000 4th Ave', 'id': '10', 'longitude': '-122.333117', 'location': \"Central Library, Faye G. Allen Children's Center\"}\n"
     ]
    }
   ],
   "source": [
    "for i in range (0, 10):\n",
    "    print location_dreader.next()"
   ]
  },
  {
   "cell_type": "code",
   "execution_count": 30,
   "metadata": {
    "collapsed": true
   },
   "outputs": [],
   "source": [
    "location_table.close()"
   ]
  },
  {
   "cell_type": "code",
   "execution_count": 31,
   "metadata": {
    "collapsed": true
   },
   "outputs": [],
   "source": [
    "#End locatin table"
   ]
  },
  {
   "cell_type": "code",
   "execution_count": 32,
   "metadata": {
    "collapsed": true
   },
   "outputs": [],
   "source": [
    "#start class table"
   ]
  },
  {
   "cell_type": "code",
   "execution_count": 33,
   "metadata": {
    "collapsed": false
   },
   "outputs": [],
   "source": [
    "class_csv = open('U:/Notebook/classification.csv', 'w')"
   ]
  },
  {
   "cell_type": "code",
   "execution_count": 34,
   "metadata": {
    "collapsed": true
   },
   "outputs": [],
   "source": [
    "classcolumns = ['id', 'classification']"
   ]
  },
  {
   "cell_type": "code",
   "execution_count": 35,
   "metadata": {
    "collapsed": true
   },
   "outputs": [],
   "source": [
    "class_dwriter = csv.DictWriter(class_csv, fieldnames = classcolumns)"
   ]
  },
  {
   "cell_type": "code",
   "execution_count": 36,
   "metadata": {
    "collapsed": false
   },
   "outputs": [],
   "source": [
    "class_dwriter.writeheader()"
   ]
  },
  {
   "cell_type": "code",
   "execution_count": 37,
   "metadata": {
    "collapsed": true
   },
   "outputs": [],
   "source": [
    "class_loop = csv.DictReader(open('U:/Notebook/values.csv', 'r'))"
   ]
  },
  {
   "cell_type": "code",
   "execution_count": 38,
   "metadata": {
    "collapsed": true
   },
   "outputs": [],
   "source": [
    "class_dict_list = []\n",
    "i = 1\n",
    "for row in class_loop:\n",
    "    class_dict_list.append({'id': i, 'classification': row['classification'], })\n",
    "    i = i + 1"
   ]
  },
  {
   "cell_type": "code",
   "execution_count": 39,
   "metadata": {
    "collapsed": true
   },
   "outputs": [],
   "source": [
    "class_dwriter.writerows(class_dict_list)"
   ]
  },
  {
   "cell_type": "code",
   "execution_count": 40,
   "metadata": {
    "collapsed": true
   },
   "outputs": [],
   "source": [
    "class_csv.close()"
   ]
  },
  {
   "cell_type": "code",
   "execution_count": 41,
   "metadata": {
    "collapsed": true
   },
   "outputs": [],
   "source": [
    "class_table = open('U:/Notebook/classification.csv', 'r')"
   ]
  },
  {
   "cell_type": "code",
   "execution_count": 42,
   "metadata": {
    "collapsed": true
   },
   "outputs": [],
   "source": [
    "class_dreader = csv.DictReader(class_table)"
   ]
  },
  {
   "cell_type": "code",
   "execution_count": 43,
   "metadata": {
    "collapsed": false
   },
   "outputs": [
    {
     "name": "stdout",
     "output_type": "stream",
     "text": [
      "{'id': '1', 'classification': 'Sculpture'}\n",
      "{'id': '2', 'classification': 'IN PUBLIC: SEATTLE 1991'}\n",
      "{'id': '3', 'classification': '2-Dimensional'}\n",
      "{'id': '4', 'classification': 'VIDEO Installation'}\n",
      "{'id': '5', 'classification': 'Bronze'}\n",
      "{'id': '6', 'classification': 'Environments'}\n",
      "{'id': '7', 'classification': 'Mixed Media'}\n",
      "{'id': '8', 'classification': 'Installation'}\n",
      "{'id': '9', 'classification': 'DRAWINGS'}\n",
      "{'id': '10', 'classification': 'Print/PHOTO TRANSFER'}\n"
     ]
    }
   ],
   "source": [
    "for i in range (0, 10):\n",
    "    print class_dreader.next()"
   ]
  },
  {
   "cell_type": "code",
   "execution_count": 44,
   "metadata": {
    "collapsed": true
   },
   "outputs": [],
   "source": [
    "class_table.close()"
   ]
  },
  {
   "cell_type": "code",
   "execution_count": 45,
   "metadata": {
    "collapsed": true
   },
   "outputs": [],
   "source": [
    "# end class table"
   ]
  },
  {
   "cell_type": "code",
   "execution_count": 46,
   "metadata": {
    "collapsed": true
   },
   "outputs": [],
   "source": [
    "# start material table"
   ]
  },
  {
   "cell_type": "code",
   "execution_count": 47,
   "metadata": {
    "collapsed": true
   },
   "outputs": [],
   "source": [
    "material_csv = open('U:/Notebook/material.csv', 'w')"
   ]
  },
  {
   "cell_type": "code",
   "execution_count": 48,
   "metadata": {
    "collapsed": true
   },
   "outputs": [],
   "source": [
    "materialcolumns = ['id', 'type']"
   ]
  },
  {
   "cell_type": "code",
   "execution_count": 49,
   "metadata": {
    "collapsed": true
   },
   "outputs": [],
   "source": [
    "material_dwriter = csv.DictWriter(material_csv, fieldnames = materialcolumns)"
   ]
  },
  {
   "cell_type": "code",
   "execution_count": 50,
   "metadata": {
    "collapsed": true
   },
   "outputs": [],
   "source": [
    "material_dwriter.writeheader()"
   ]
  },
  {
   "cell_type": "code",
   "execution_count": 51,
   "metadata": {
    "collapsed": true
   },
   "outputs": [],
   "source": [
    "material_loop = csv.DictReader(open('U:/Notebook/values.csv', 'r'))"
   ]
  },
  {
   "cell_type": "code",
   "execution_count": 52,
   "metadata": {
    "collapsed": true
   },
   "outputs": [],
   "source": [
    "material_dict_list = []\n",
    "i = 1\n",
    "for row in material_loop:\n",
    "    material_dict_list.append({'id': i, 'type': row['Media'], })\n",
    "    i = i + 1"
   ]
  },
  {
   "cell_type": "code",
   "execution_count": 53,
   "metadata": {
    "collapsed": true
   },
   "outputs": [],
   "source": [
    "material_dwriter.writerows(material_dict_list)"
   ]
  },
  {
   "cell_type": "code",
   "execution_count": 54,
   "metadata": {
    "collapsed": true
   },
   "outputs": [],
   "source": [
    "material_csv.close()"
   ]
  },
  {
   "cell_type": "code",
   "execution_count": 55,
   "metadata": {
    "collapsed": true
   },
   "outputs": [],
   "source": [
    "material_table = open('U:/Notebook/material.csv', 'r')"
   ]
  },
  {
   "cell_type": "code",
   "execution_count": 56,
   "metadata": {
    "collapsed": true
   },
   "outputs": [],
   "source": [
    "material_dreader = csv.DictReader(material_table)"
   ]
  },
  {
   "cell_type": "code",
   "execution_count": 57,
   "metadata": {
    "collapsed": false
   },
   "outputs": [
    {
     "name": "stdout",
     "output_type": "stream",
     "text": [
      "{'type': '1/2 stainless steel screed', 'id': '1'}\n",
      "{'type': '2 projection lamps with steel gobos, timer and light sensor switch', 'id': '2'}\n",
      "{'type': 'Acrylic', 'id': '3'}\n",
      "{'type': 'Acrylic enamel on concrete', 'id': '4'}\n",
      "{'type': 'Acrylic, collage and varnish on recycled tin trays', 'id': '5'}\n",
      "{'type': 'Acrylic/plexiglas', 'id': '6'}\n",
      "{'type': 'African black granite', 'id': '7'}\n",
      "{'type': 'Aggregate', 'id': '8'}\n",
      "{'type': 'Aluminum ', 'id': '9'}\n",
      "{'type': 'Aluminum deck plating', 'id': '10'}\n"
     ]
    }
   ],
   "source": [
    "for i in range (0, 10):\n",
    "    print material_dreader.next()"
   ]
  },
  {
   "cell_type": "code",
   "execution_count": 58,
   "metadata": {
    "collapsed": true
   },
   "outputs": [],
   "source": [
    "material_table.close()"
   ]
  },
  {
   "cell_type": "code",
   "execution_count": 59,
   "metadata": {
    "collapsed": true
   },
   "outputs": [],
   "source": [
    "#end material table"
   ]
  },
  {
   "cell_type": "code",
   "execution_count": 60,
   "metadata": {
    "collapsed": true
   },
   "outputs": [],
   "source": [
    "#start art table"
   ]
  },
  {
   "cell_type": "code",
   "execution_count": 61,
   "metadata": {
    "collapsed": true
   },
   "outputs": [],
   "source": [
    "art_csv = open('U:/Notebook/art.csv', 'w')"
   ]
  },
  {
   "cell_type": "code",
   "execution_count": 62,
   "metadata": {
    "collapsed": true
   },
   "outputs": [],
   "source": [
    "artcolumns = ['id', 'title', 'description', 'location_id', 'measurements', 'date', 'project']"
   ]
  },
  {
   "cell_type": "code",
   "execution_count": 63,
   "metadata": {
    "collapsed": true
   },
   "outputs": [],
   "source": [
    "art_dwriter = csv.DictWriter(art_csv, fieldnames = artcolumns)"
   ]
  },
  {
   "cell_type": "code",
   "execution_count": 64,
   "metadata": {
    "collapsed": false
   },
   "outputs": [],
   "source": [
    "art_dwriter.writeheader()"
   ]
  },
  {
   "cell_type": "code",
   "execution_count": 65,
   "metadata": {
    "collapsed": true
   },
   "outputs": [],
   "source": [
    "art_loop = csv.DictReader(open('U:/Notebook/Public_Art_Data.csv', 'r'))"
   ]
  },
  {
   "cell_type": "code",
   "execution_count": 66,
   "metadata": {
    "collapsed": false
   },
   "outputs": [],
   "source": [
    "art_dict_list = []\n",
    "i = 1\n",
    "for row in art_loop:\n",
    "    art_dict_list.append({'id': i, 'title': row['title'], 'description':row['description'] , 'location_id':'' , 'measurements':row['measurements'], 'date':row['date'], 'project':row['project'] })\n",
    "    i = i + 1"
   ]
  },
  {
   "cell_type": "code",
   "execution_count": 67,
   "metadata": {
    "collapsed": false
   },
   "outputs": [],
   "source": [
    "art_dwriter.writerows(art_dict_list)"
   ]
  },
  {
   "cell_type": "code",
   "execution_count": 68,
   "metadata": {
    "collapsed": true
   },
   "outputs": [],
   "source": [
    "art_csv.close()"
   ]
  },
  {
   "cell_type": "code",
   "execution_count": 69,
   "metadata": {
    "collapsed": true
   },
   "outputs": [],
   "source": [
    "art_table = open('U:/Notebook/art.csv', 'r')"
   ]
  },
  {
   "cell_type": "code",
   "execution_count": 70,
   "metadata": {
    "collapsed": true
   },
   "outputs": [],
   "source": [
    "art_dreader = csv.DictReader(art_table)"
   ]
  },
  {
   "cell_type": "code",
   "execution_count": 71,
   "metadata": {
    "collapsed": false,
    "scrolled": true
   },
   "outputs": [
    {
     "name": "stdout",
     "output_type": "stream",
     "text": [
      "{'description': \"''\", 'title': 'Fountain of Wisdom', 'measurements': '', 'project': 'CENTRAL LIBRARY', 'date': '1957-60', 'location_id': '', 'id': '1'}\n",
      "{'description': \"''\", 'title': 'Moon Gates', 'measurements': '', 'project': 'SEATTLE CENTER SCULPTURE GARDEN', 'date': '6/23/99', 'location_id': '', 'id': '2'}\n",
      "{'description': \"''\", 'title': 'Seattle Scatter Piece', 'measurements': '', 'project': 'WEST GILMAN BRIDGE', 'date': '1991', 'location_id': '', 'id': '3'}\n",
      "{'description': \"''\", 'title': 'Renouveau', 'measurements': '', 'project': 'DOUGLAS-TRUTH BRANCH LIBRARY', 'date': '1979', 'location_id': '', 'id': '4'}\n",
      "{'description': \"''\", 'title': 'Second Avenue Additions', 'measurements': '', 'project': 'SECOND AVENUE PROJECT', 'date': '2/15/00', 'location_id': '', 'id': '5'}\n",
      "{'description': \"''\", 'title': 'Untitled (Kiosk)', 'measurements': '108x45x22\"', 'project': 'SEATTLE ARTISTS 1990', 'date': 'MARCH- JUNE 1994', 'location_id': '', 'id': '6'}\n",
      "{'description': \"'Lutshootseed and English texts painted on panels  installed on either side of a historical bust of Chief Sealth dedicated to the many transient intertribal native people who live on the streets of Seattle.'\", 'title': 'Day/Night', 'measurements': '42\" X 84\" EACH', 'project': 'IN PUBLIC: SEATTLE 1991', 'date': 'JUNE 1991-JANUARY 1992', 'location_id': '', 'id': '7'}\n",
      "{'description': \"'Wall mural of ceramic and glass tile depicting Filipino history.'\", 'title': 'East is West', 'measurements': '12\\'x14\\'7x3\\'2.5\"', 'project': 'JOSE RIZAL PARK', 'date': 'FEBRUARY 1978- JUNE 1981', 'location_id': '', 'id': '8'}\n",
      "{'description': \"'Replica of the Statue of Liberty'\", 'title': 'Little Liberty', 'measurements': '6\\'10\"x3\\'6\"x2\\'11\"', 'project': 'ALKI BEACH', 'date': 'ca. 1952', 'location_id': '', 'id': '9'}\n",
      "{'description': \"'The three artworks for the Faye G. Allen Children's Center are based on a series of folk tale themes found in the folklore section of the Central Library.  '\", 'title': 'Babe, The Phoenix Fairy, and The Magic Grove', 'measurements': \"Babe - .01: 4'h x 8'w x 3.5'd; Phoenix Fairy - .02:  5'h x 6.5'w x 4'd; Magic Grove - .03  4'h x 8'w x 10'd\", 'project': 'LIBRARIES FOR ALL - CENTRAL LIBRARY/LIBRARY UNBOUND', 'date': '2005. 2005, 2006', 'location_id': '', 'id': '10'}\n"
     ]
    }
   ],
   "source": [
    "for i in range (0, 10):\n",
    "    print art_dreader.next()"
   ]
  },
  {
   "cell_type": "code",
   "execution_count": 72,
   "metadata": {
    "collapsed": true
   },
   "outputs": [],
   "source": [
    "art_table.close()"
   ]
  },
  {
   "cell_type": "code",
   "execution_count": 73,
   "metadata": {
    "collapsed": true
   },
   "outputs": [],
   "source": [
    "#end art table"
   ]
  },
  {
   "cell_type": "code",
   "execution_count": 74,
   "metadata": {
    "collapsed": true
   },
   "outputs": [],
   "source": [
    "#start artist_art"
   ]
  },
  {
   "cell_type": "code",
   "execution_count": 75,
   "metadata": {
    "collapsed": true
   },
   "outputs": [],
   "source": [
    "artist_art_csv = open('U:/Notebook/artist_art.csv', 'w')"
   ]
  },
  {
   "cell_type": "code",
   "execution_count": 80,
   "metadata": {
    "collapsed": true
   },
   "outputs": [],
   "source": [
    "artist_art_columns = ['art_id', 'artist_id' ]"
   ]
  },
  {
   "cell_type": "code",
   "execution_count": 81,
   "metadata": {
    "collapsed": false
   },
   "outputs": [],
   "source": [
    "artist_art_dwriter = csv.DictWriter(artist_art_csv, fieldnames = artist_art_columns)"
   ]
  },
  {
   "cell_type": "code",
   "execution_count": 82,
   "metadata": {
    "collapsed": true
   },
   "outputs": [],
   "source": [
    "artist_art_dwriter.writeheader()"
   ]
  },
  {
   "cell_type": "code",
   "execution_count": 83,
   "metadata": {
    "collapsed": true
   },
   "outputs": [],
   "source": [
    "artist_art_dwriter.writerow({'art_id': 1 , 'artist_id': 1})"
   ]
  },
  {
   "cell_type": "code",
   "execution_count": 84,
   "metadata": {
    "collapsed": true
   },
   "outputs": [],
   "source": [
    "artist_art_csv.close()"
   ]
  },
  {
   "cell_type": "code",
   "execution_count": 85,
   "metadata": {
    "collapsed": true
   },
   "outputs": [],
   "source": [
    "#end art table"
   ]
  },
  {
   "cell_type": "code",
   "execution_count": 86,
   "metadata": {
    "collapsed": true
   },
   "outputs": [],
   "source": [
    "#start art_class"
   ]
  },
  {
   "cell_type": "code",
   "execution_count": 87,
   "metadata": {
    "collapsed": true
   },
   "outputs": [],
   "source": [
    "art_class_csv = open('U:/Notebook/art_class.csv', 'w')"
   ]
  },
  {
   "cell_type": "code",
   "execution_count": 88,
   "metadata": {
    "collapsed": true
   },
   "outputs": [],
   "source": [
    "art_class_columns = ['art_id', 'class_id' ]"
   ]
  },
  {
   "cell_type": "code",
   "execution_count": 89,
   "metadata": {
    "collapsed": true
   },
   "outputs": [],
   "source": [
    "art_class_dwriter = csv.DictWriter(art_class_csv, fieldnames = art_class_columns)"
   ]
  },
  {
   "cell_type": "code",
   "execution_count": 90,
   "metadata": {
    "collapsed": false
   },
   "outputs": [],
   "source": [
    "art_class_dwriter.writeheader()"
   ]
  },
  {
   "cell_type": "code",
   "execution_count": 91,
   "metadata": {
    "collapsed": false
   },
   "outputs": [],
   "source": [
    "art_class_dwriter.writerow({'art_id': 1 , 'class_id': 1})"
   ]
  },
  {
   "cell_type": "code",
   "execution_count": 92,
   "metadata": {
    "collapsed": true
   },
   "outputs": [],
   "source": [
    "art_class_csv.close()"
   ]
  },
  {
   "cell_type": "code",
   "execution_count": 93,
   "metadata": {
    "collapsed": true
   },
   "outputs": [],
   "source": [
    "#end art_class table"
   ]
  },
  {
   "cell_type": "code",
   "execution_count": 94,
   "metadata": {
    "collapsed": true
   },
   "outputs": [],
   "source": [
    "#start art_material table"
   ]
  },
  {
   "cell_type": "code",
   "execution_count": 95,
   "metadata": {
    "collapsed": true
   },
   "outputs": [],
   "source": [
    "art_material_csv = open('U:/Notebook/art_material.csv', 'w')"
   ]
  },
  {
   "cell_type": "code",
   "execution_count": 96,
   "metadata": {
    "collapsed": true
   },
   "outputs": [],
   "source": [
    "art_material_columns = ['art_id', 'material_id' ]"
   ]
  },
  {
   "cell_type": "code",
   "execution_count": 97,
   "metadata": {
    "collapsed": true
   },
   "outputs": [],
   "source": [
    "art_material_dwriter = csv.DictWriter(art_material_csv, fieldnames = art_material_columns)"
   ]
  },
  {
   "cell_type": "code",
   "execution_count": 98,
   "metadata": {
    "collapsed": true
   },
   "outputs": [],
   "source": [
    "art_material_dwriter.writeheader()"
   ]
  },
  {
   "cell_type": "code",
   "execution_count": 99,
   "metadata": {
    "collapsed": false
   },
   "outputs": [],
   "source": [
    "art_material_dwriter.writerow({'art_id': 1 , 'material_id': 1})"
   ]
  },
  {
   "cell_type": "code",
   "execution_count": 100,
   "metadata": {
    "collapsed": true
   },
   "outputs": [],
   "source": [
    "art_material_csv.close()"
   ]
  },
  {
   "cell_type": "code",
   "execution_count": 101,
   "metadata": {
    "collapsed": true
   },
   "outputs": [],
   "source": [
    "#end art_material table"
   ]
  },
  {
   "cell_type": "code",
   "execution_count": null,
   "metadata": {
    "collapsed": true
   },
   "outputs": [],
   "source": []
  }
 ],
 "metadata": {
  "kernelspec": {
   "display_name": "Python 2",
   "language": "python",
   "name": "python2"
  },
  "language_info": {
   "codemirror_mode": {
    "name": "ipython",
    "version": 2
   },
   "file_extension": ".py",
   "mimetype": "text/x-python",
   "name": "python",
   "nbconvert_exporter": "python",
   "pygments_lexer": "ipython2",
   "version": "2.7.11"
  }
 },
 "nbformat": 4,
 "nbformat_minor": 0
}
