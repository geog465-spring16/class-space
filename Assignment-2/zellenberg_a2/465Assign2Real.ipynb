{
 "cells": [
  {
   "cell_type": "code",
   "execution_count": 1,
   "metadata": {
    "collapsed": true
   },
   "outputs": [],
   "source": [
    "import csv"
   ]
  },
  {
   "cell_type": "code",
   "execution_count": 2,
   "metadata": {
    "collapsed": true
   },
   "outputs": [],
   "source": [
    "csvFile = open(\"//Users//Abraham//Downloads//Seattle_Cultural_Space_Inventory.csv\")"
   ]
  },
  {
   "cell_type": "code",
   "execution_count": 3,
   "metadata": {
    "collapsed": true
   },
   "outputs": [],
   "source": [
    "cultural_spaces_fields = ['id', 'name', 'phone', 'sq_ft_total', 'address', 'location', 'dom_disc_id', 'sec_disc_id', \n",
    "                   'third_disc_id', 'neighborhood_id', 'constituency_id']\n",
    "discipline_fields = ['id', 'discipline']\n",
    "neighborhood_fields = ['id', 'neighborhood']\n",
    "constituency_fields = ['id', 'constituency']"
   ]
  },
  {
   "cell_type": "code",
   "execution_count": 4,
   "metadata": {
    "collapsed": false
   },
   "outputs": [],
   "source": [
    "reader = csv.DictReader(csvFile)\n",
    "\n",
    "#ld = list of dictionaries\n",
    "cultural_spaces_ld = []\n",
    "discipline_ld = []\n",
    "neighborhood_ld = []\n",
    "constituency_ld = []\n",
    "\n",
    "unique_discipline = ['']\n",
    "unique_neighborhood = ['']\n",
    "unique_constituency = ['']\n",
    "\n",
    "#Creating initial row for null or blank values\n",
    "discipline_ld.append({'id': 1, 'discipline': ''})\n",
    "neighborhood_ld.append({'id': 1, 'neighborhood': ''})\n",
    "constituency_ld.append({'id': 1, 'constituency': ''})\n",
    "\n",
    "cultural_spaces_id = 1\n",
    "discipline_id = 2\n",
    "neighborhood_id = 2\n",
    "constituency_id = 2\n",
    "\n",
    "for i in range(0,862):\n",
    "    row = reader.next()\n",
    "    cultural_spaces_ld.append({'id': cultural_spaces_id, 'name': row['Name'], 'phone': row['Phone'],\n",
    "                               'sq_ft_total': row['Square Feet Total'], 'address': row['Address'],\n",
    "                               'location': row['Location'], 'dom_disc_id': 0, 'sec_disc_id': 0,\n",
    "                               'third_disc_id': 0, 'neighborhood_id': 0, 'constituency_id': 0})\n",
    "    cultural_spaces_id += 1\n",
    "    \n",
    "    discipline_1 = row['Dominant Discipline']\n",
    "    discipline_2 = row['2nd Discipline']\n",
    "    discipline_3 = row['3rd Discipline']\n",
    "    if (discipline_1 not in unique_discipline):\n",
    "        unique_discipline.append(discipline_1)\n",
    "        discipline_ld.append({'id': discipline_id, 'discipline': discipline_1})\n",
    "        discipline_id += 1\n",
    "    if (discipline_2 not in unique_discipline):\n",
    "        unique_discipline.append(discipline_2)\n",
    "        discipline_ld.append({'id': discipline_id, 'discipline': discipline_2})\n",
    "        discipline_id += 1\n",
    "    if (discipline_3 not in unique_discipline):\n",
    "        unique_discipline.append(discipline_3)\n",
    "        discipline_ld.append({'id': discipline_id, 'discipline': discipline_3})\n",
    "        discipline_id += 1\n",
    "        \n",
    "    neighborhood = row['Neighborhood']\n",
    "    if (neighborhood not in unique_neighborhood):\n",
    "        unique_neighborhood.append(neighborhood)\n",
    "        neighborhood_ld.append({'id': neighborhood_id, 'neighborhood': neighborhood})\n",
    "        neighborhood_id += 1\n",
    "        \n",
    "    constituency = row['Constituency over 50% one race?']\n",
    "    if (constituency not in unique_constituency):\n",
    "        unique_constituency.append(constituency)\n",
    "        constituency_ld.append({'id': constituency_id, 'constituency': constituency})\n",
    "        constituency_id += 1"
   ]
  },
  {
   "cell_type": "code",
   "execution_count": 5,
   "metadata": {
    "collapsed": false
   },
   "outputs": [],
   "source": [
    "cultural_spaces_csv = open(\"//Users//Abraham//Desktop//465 CSVs//cultural spaces.csv\", \"wb\")\n",
    "discipline_csv = open(\"//Users//Abraham//Desktop//465 CSVs//discipline.csv\", \"wb\")\n",
    "neighborhood_csv = open(\"//Users//Abraham//Desktop//465 CSVs//neighborhood.csv\", \"wb\")\n",
    "constituency_csv = open(\"//Users//Abraham//Desktop//465 CSVs//constituency.csv\", \"wb\")\n",
    "\n",
    "cultural_spaces_writer = csv.DictWriter(cultural_spaces_csv, fieldnames = cultural_spaces_fields)\n",
    "cultural_spaces_writer.writeheader()\n",
    "for row in cultural_spaces_ld:\n",
    "    cultural_spaces_writer.writerow(row)\n",
    "cultural_spaces_csv.close()\n",
    "\n",
    "discipline_writer = csv.DictWriter(discipline_csv, fieldnames = discipline_fields)\n",
    "discipline_writer.writeheader()\n",
    "for row in discipline_ld:\n",
    "    discipline_writer.writerow(row)\n",
    "discipline_csv.close()\n",
    "\n",
    "neighborhood_writer = csv.DictWriter(neighborhood_csv, fieldnames = neighborhood_fields)\n",
    "neighborhood_writer.writeheader()\n",
    "for row in neighborhood_ld:\n",
    "    neighborhood_writer.writerow(row)\n",
    "neighborhood_csv.close()\n",
    "\n",
    "constituency_writer = csv.DictWriter(constituency_csv, fieldnames = constituency_fields)\n",
    "constituency_writer.writeheader()\n",
    "for row in constituency_ld:\n",
    "    constituency_writer.writerow(row)\n",
    "constituency_csv.close()"
   ]
  },
  {
   "cell_type": "code",
   "execution_count": null,
   "metadata": {
    "collapsed": true
   },
   "outputs": [],
   "source": []
  }
 ],
 "metadata": {
  "kernelspec": {
   "display_name": "Python 2",
   "language": "python",
   "name": "python2"
  },
  "language_info": {
   "codemirror_mode": {
    "name": "ipython",
    "version": 2
   },
   "file_extension": ".py",
   "mimetype": "text/x-python",
   "name": "python",
   "nbconvert_exporter": "python",
   "pygments_lexer": "ipython2",
   "version": "2.7.10"
  }
 },
 "nbformat": 4,
 "nbformat_minor": 0
}
