{
 "cells": [
  {
   "cell_type": "code",
   "execution_count": 24,
   "metadata": {
    "collapsed": true
   },
   "outputs": [],
   "source": [
    "import csv"
   ]
  },
  {
   "cell_type": "code",
   "execution_count": 25,
   "metadata": {
    "collapsed": true
   },
   "outputs": [],
   "source": [
    "f = open('/Users/Freddie/Documents/School stuff/GEOG 465/Land_Use_Permits.csv','rb') #opens csv file I've been working with\n",
    "read = csv.DictReader(f) #reads the input file"
   ]
  },
  {
   "cell_type": "code",
   "execution_count": 26,
   "metadata": {
    "collapsed": true
   },
   "outputs": [],
   "source": [
    "applicant_output = open('/Users/Freddie/Documents/School stuff/GEOG 465/applicants.csv', 'w') #creates new csv files\n",
    "applicant_columns = ['id', 'name', 'category'] #defines field names\n",
    "applicant_dwriter = csv.DictWriter(applicant_output, fieldnames = applicant_columns) #writes and populates csv files\n",
    "applicant_dwriter.writeheader()\n",
    "applicant = [] #appends rows from the table to lists"
   ]
  },
  {
   "cell_type": "code",
   "execution_count": 27,
   "metadata": {
    "collapsed": true
   },
   "outputs": [],
   "source": [
    "value_output = open('/Users/Freddie/Documents/School stuff/GEOG 465/value.csv', 'w')\n",
    "value_columns = ['id', 'value', 'applicant_id']\n",
    "value_dwriter = csv.DictWriter(value_output, fieldnames = value_columns)\n",
    "value_dwriter.writeheader()\n",
    "value = []"
   ]
  },
  {
   "cell_type": "code",
   "execution_count": 28,
   "metadata": {
    "collapsed": true
   },
   "outputs": [],
   "source": [
    "address_output = open('/Users/Freddie/Documents/School stuff/GEOG 465/address.csv', 'w')\n",
    "address_columns = ['id', 'street', 'longitude', 'latitude', 'applicant_id']\n",
    "address_dwriter = csv.DictWriter(address_output, fieldnames = address_columns)\n",
    "address_dwriter.writeheader()\n",
    "address = []"
   ]
  },
  {
   "cell_type": "code",
   "execution_count": 29,
   "metadata": {
    "collapsed": true
   },
   "outputs": [],
   "source": [
    "status_output = open('/Users/Freddie/Documents/School stuff/GEOG 465/status.csv', 'w')\n",
    "status_columns = ['id', 'applicant_id', 'permit_type', 'decision_type', 'design_review_included', 'status']\n",
    "status_dwriter = csv.DictWriter(status_output, fieldnames = status_columns)\n",
    "status_dwriter.writeheader()\n",
    "status = []"
   ]
  },
  {
   "cell_type": "code",
   "execution_count": 30,
   "metadata": {
    "collapsed": true
   },
   "outputs": [],
   "source": [
    "date_output = open('/Users/Freddie/Documents/School stuff/GEOG 465/date.csv', 'w')\n",
    "date_columns = ['id', 'applicant_id', 'application_date', 'decision_date', 'issue_date']\n",
    "date_dwriter = csv.DictWriter(date_output, fieldnames = date_columns)\n",
    "date_dwriter.writeheader()\n",
    "date = []"
   ]
  },
  {
   "cell_type": "code",
   "execution_count": 31,
   "metadata": {
    "collapsed": false
   },
   "outputs": [],
   "source": [
    "#populates lists\n",
    "i = 1\n",
    "for row in read:\n",
    "    applicant.append({'id': row['Application/Permit Number'], 'name': row['Applicant Name'], 'category': row['Category']})\n",
    "    value.append({'id': i, 'value': row['Value'], 'applicant_id': ''})\n",
    "    address.append({'id': i, 'street': row['Address'], 'longitude': row['Longitude'], 'latitude': row['Latitude'], 'applicant_id':''})\n",
    "    status.append({'id': i, 'applicant_id': '', 'permit_type': row['Permit Type'], 'decision_type': row['Decision Type'], 'design_review_included': row['Design Review Included'], 'status': row['Status'] })\n",
    "    date.append({'id': i, 'applicant_id': '', 'application_date': row['Application Date'], 'decision_date': row['Decision Date'], 'issue_date': row['Decision Date']})\n",
    "    i += 1"
   ]
  },
  {
   "cell_type": "code",
   "execution_count": 32,
   "metadata": {
    "collapsed": true
   },
   "outputs": [],
   "source": [
    "#closes files\n",
    "f.close()"
   ]
  },
  {
   "cell_type": "code",
   "execution_count": 33,
   "metadata": {
    "collapsed": true
   },
   "outputs": [],
   "source": [
    "#writes and populates csv files\n",
    "applicant_dwriter.writerows(applicant)\n",
    "value_dwriter.writerows(value)\n",
    "address_dwriter.writerows(address)\n",
    "status_dwriter.writerows(status)\n",
    "date_dwriter.writerows(date)"
   ]
  },
  {
   "cell_type": "code",
   "execution_count": 34,
   "metadata": {
    "collapsed": true
   },
   "outputs": [],
   "source": [
    "#closes files\n",
    "applicant_output.close()\n",
    "value_output.close()\n",
    "address_output.close()\n",
    "status_output.close()\n",
    "date_output.close()"
   ]
  },
  {
   "cell_type": "code",
   "execution_count": null,
   "metadata": {
    "collapsed": true
   },
   "outputs": [],
   "source": []
  }
 ],
 "metadata": {
  "kernelspec": {
   "display_name": "Python 2",
   "language": "python",
   "name": "python2"
  },
  "language_info": {
   "codemirror_mode": {
    "name": "ipython",
    "version": 2
   },
   "file_extension": ".py",
   "mimetype": "text/x-python",
   "name": "python",
   "nbconvert_exporter": "python",
   "pygments_lexer": "ipython2",
   "version": "2.7.10"
  }
 },
 "nbformat": 4,
 "nbformat_minor": 0
}
