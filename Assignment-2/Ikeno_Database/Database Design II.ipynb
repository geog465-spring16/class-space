{
 "cells": [
  {
   "cell_type": "code",
   "execution_count": 26,
   "metadata": {
    "collapsed": true
   },
   "outputs": [],
   "source": [
    "import csv"
   ]
  },
  {
   "cell_type": "code",
   "execution_count": 27,
   "metadata": {
    "collapsed": true
   },
   "outputs": [],
   "source": [
    "permits_file = open('/Users/mikeno/Desktop/Building_Permits_Current.csv','rb')\n",
    "reader = csv.DictReader(permits_file)"
   ]
  },
  {
   "cell_type": "code",
   "execution_count": 28,
   "metadata": {
    "collapsed": false
   },
   "outputs": [],
   "source": [
    "location_file = open('/Users/mikeno/Desktop/Database Design II/location.csv', 'w')"
   ]
  },
  {
   "cell_type": "code",
   "execution_count": 29,
   "metadata": {
    "collapsed": true
   },
   "outputs": [],
   "source": [
    "columns = ['id', 'Address', 'Latitude', 'Longitude', 'Location','Value']"
   ]
  },
  {
   "cell_type": "code",
   "execution_count": 30,
   "metadata": {
    "collapsed": true
   },
   "outputs": [],
   "source": [
    "my_dwriter = csv.DictWriter(location_file, fieldnames = columns)"
   ]
  },
  {
   "cell_type": "code",
   "execution_count": 31,
   "metadata": {
    "collapsed": true
   },
   "outputs": [],
   "source": [
    "my_dwriter.writeheader()"
   ]
  },
  {
   "cell_type": "code",
   "execution_count": 32,
   "metadata": {
    "collapsed": true
   },
   "outputs": [],
   "source": [
    "location_list = []"
   ]
  },
  {
   "cell_type": "code",
   "execution_count": 33,
   "metadata": {
    "collapsed": true
   },
   "outputs": [],
   "source": [
    "contractor = open('/Users/mikeno/Desktop/Database Design II/contractor.csv', 'w')\n",
    "c = ['id', 'Contractor']\n",
    "contractor_writer = csv.DictWriter(contractor, fieldnames = c)\n",
    "contractor_writer.writeheader()\n",
    "contract_list = []"
   ]
  },
  {
   "cell_type": "code",
   "execution_count": 34,
   "metadata": {
    "collapsed": true
   },
   "outputs": [],
   "source": [
    "permit_application = open('/Users/mikeno/Desktop/Database Design II/permit_application.csv', 'w')\n",
    "p = ['id', 'contractor_id', 'master_permit_id', 'Applicant Name',\n",
    "     'Application Date', 'Permit Type', 'Description', 'Category','Status', \n",
    "     'Issue Date', 'Final Date', 'Expiration Date', 'Status URL']\n",
    "permit_app_writer = csv.DictWriter(permit_application, fieldnames = p)\n",
    "permit_app_writer.writeheader()\n",
    "permit_app_list = []"
   ]
  },
  {
   "cell_type": "code",
   "execution_count": 35,
   "metadata": {
    "collapsed": true
   },
   "outputs": [],
   "source": [
    "master_permit = open('/Users/mikeno/Desktop/Database Design II/master_permit.csv', 'w')\n",
    "m = ['id', 'Master Use Permit']\n",
    "master_writer = csv.DictWriter(master_permit, fieldnames = m)\n",
    "master_writer.writeheader()\n",
    "master_list = []"
   ]
  },
  {
   "cell_type": "code",
   "execution_count": 36,
   "metadata": {
    "collapsed": false
   },
   "outputs": [],
   "source": [
    "action_plan = open('/Users/mikeno/Desktop/Database Design II/action_plan.csv', 'w')\n",
    "a = ['id', 'Action Type', 'Work Type']\n",
    "action_writer = csv.DictWriter(action_plan, fieldnames = a)\n",
    "action_writer.writeheader()\n",
    "action_list = []"
   ]
  },
  {
   "cell_type": "code",
   "execution_count": 37,
   "metadata": {
    "collapsed": true
   },
   "outputs": [],
   "source": [
    "building_permits = open('/Users/mikeno/Desktop/Database Design II/building_permits.csv', 'w')\n",
    "bp = ['Application Permit Number', 'location_id', 'action_plan_id', 'permit_application_id']\n",
    "building_writer = csv.DictWriter(building_permits, fieldnames = bp)\n",
    "building_writer.writeheader()\n",
    "building_list = []"
   ]
  },
  {
   "cell_type": "code",
   "execution_count": 38,
   "metadata": {
    "collapsed": false
   },
   "outputs": [],
   "source": [
    "i = 1\n",
    "for row in reader: \n",
    "    location_list.append({'id': i, 'Address': row['Address'], 'Latitude': row['Latitude'], 'Longitude': row['Longitude'], \n",
    "                          'Location': row['Location'],'Value': row['Value']})\n",
    "    contract_list.append({'id': i, 'Contractor': row['Contractor']})\n",
    "    permit_app_list.append({'id': i, 'contractor_id': 'null', 'master_permit_id': 'null', 'Applicant Name': row['Applicant Name'],\n",
    "                            'Application Date': row['Application Date'],'Permit Type': row['Permit Type'], \n",
    "                            'Description': row['Description'], 'Category': row['Category'], 'Status': row['Status'],\n",
    "                            'Issue Date': row['Issue Date'],\n",
    "                            'Final Date': row['Final Date'], 'Expiration Date': row['Expiration Date'], \n",
    "                        'Status URL': row['Permit and Complaint Status URL']})\n",
    "    master_list.append({'id': i, 'Master Use Permit': row['Master Use Permit']})\n",
    "    action_list.append({'id': i, 'Action Type': row['Action Type'], 'Work Type': row['Work Type']})\n",
    "    building_list.append({'Application Permit Number': row['Application/Permit Number'], 'location_id': 'null', \n",
    "                          'action_plan_id': 'null', 'permit_application_id': 'null'})\n",
    "    i = i + 1"
   ]
  },
  {
   "cell_type": "code",
   "execution_count": 39,
   "metadata": {
    "collapsed": false
   },
   "outputs": [],
   "source": [
    "my_dwriter.writerows(location_list)"
   ]
  },
  {
   "cell_type": "raw",
   "metadata": {},
   "source": [
    "location_file.close()"
   ]
  },
  {
   "cell_type": "code",
   "execution_count": 40,
   "metadata": {
    "collapsed": false
   },
   "outputs": [],
   "source": [
    "contractor_writer.writerows(contract_list)"
   ]
  },
  {
   "cell_type": "code",
   "execution_count": 41,
   "metadata": {
    "collapsed": true
   },
   "outputs": [],
   "source": [
    "contractor.close()"
   ]
  },
  {
   "cell_type": "code",
   "execution_count": 42,
   "metadata": {
    "collapsed": false
   },
   "outputs": [],
   "source": [
    "permit_app_writer.writerows(permit_app_list)"
   ]
  },
  {
   "cell_type": "code",
   "execution_count": 43,
   "metadata": {
    "collapsed": true
   },
   "outputs": [],
   "source": [
    "permit_application.close()"
   ]
  },
  {
   "cell_type": "code",
   "execution_count": 44,
   "metadata": {
    "collapsed": true
   },
   "outputs": [],
   "source": [
    "master_writer.writerows(master_list)"
   ]
  },
  {
   "cell_type": "code",
   "execution_count": 45,
   "metadata": {
    "collapsed": true
   },
   "outputs": [],
   "source": [
    "master_permit.close()"
   ]
  },
  {
   "cell_type": "code",
   "execution_count": 46,
   "metadata": {
    "collapsed": true
   },
   "outputs": [],
   "source": [
    "action_writer.writerows(action_list)"
   ]
  },
  {
   "cell_type": "code",
   "execution_count": 47,
   "metadata": {
    "collapsed": true
   },
   "outputs": [],
   "source": [
    "action_plan.close()"
   ]
  },
  {
   "cell_type": "code",
   "execution_count": 48,
   "metadata": {
    "collapsed": true
   },
   "outputs": [],
   "source": [
    "building_writer.writerows(building_list)"
   ]
  },
  {
   "cell_type": "code",
   "execution_count": 49,
   "metadata": {
    "collapsed": true
   },
   "outputs": [],
   "source": [
    "building_permits.close()"
   ]
  },
  {
   "cell_type": "code",
   "execution_count": null,
   "metadata": {
    "collapsed": true
   },
   "outputs": [],
   "source": []
  }
 ],
 "metadata": {
  "kernelspec": {
   "display_name": "Python 2",
   "language": "python",
   "name": "python2"
  },
  "language_info": {
   "codemirror_mode": {
    "name": "ipython",
    "version": 2
   },
   "file_extension": ".py",
   "mimetype": "text/x-python",
   "name": "python",
   "nbconvert_exporter": "python",
   "pygments_lexer": "ipython2",
   "version": "2.7.10"
  }
 },
 "nbformat": 4,
 "nbformat_minor": 0
}
