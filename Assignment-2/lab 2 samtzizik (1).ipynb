{
 "cells": [
  {
   "cell_type": "code",
   "execution_count": 1,
   "metadata": {
    "collapsed": true
   },
   "outputs": [],
   "source": [
    "import csv"
   ]
  },
  {
   "cell_type": "code",
   "execution_count": 2,
   "metadata": {
    "collapsed": true
   },
   "outputs": [],
   "source": [
    "f = open('U:/python/Seattle_Cultural_Space_Inventory_A.csv','rb') \n",
    "read = csv.DictReader(f) "
   ]
  },
  {
   "cell_type": "code",
   "execution_count": 3,
   "metadata": {
    "collapsed": true
   },
   "outputs": [],
   "source": [
    "address_output = open('U:/python/address.csv', 'w') \n",
    "address_columns = ['id', 'address'] \n",
    "address_dwriter = csv.DictWriter(address_output, fieldnames = address_columns) \n",
    "address_dwriter.writeheader()\n",
    "address = [] "
   ]
  },
  {
   "cell_type": "code",
   "execution_count": 4,
   "metadata": {
    "collapsed": true
   },
   "outputs": [],
   "source": [
    "cultspc_output = open('U:/python/cultspc.csv', 'w')\n",
    "cultspc_columns = ['id', 'name', 'phone_num', 'address_id']\n",
    "cultspc_dwriter = csv.DictWriter(cultspc_output, fieldnames = cultspc_columns)\n",
    "cultspc_dwriter.writeheader()\n",
    "cultspc = []"
   ]
  },
  {
   "cell_type": "code",
   "execution_count": 5,
   "metadata": {
    "collapsed": true
   },
   "outputs": [],
   "source": [
    "spctype_output = open('U:/python/spctype.csv', 'w')\n",
    "spctype_columns = ['dom_disc', 'sec_disc', 'thrd_disc', 'cultspc_id']\n",
    "spctype_dwriter = csv.DictWriter(spctype_output, fieldnames = spctype_columns)\n",
    "spctype_dwriter.writeheader()\n",
    "spctype = []"
   ]
  },
  {
   "cell_type": "code",
   "execution_count": 6,
   "metadata": {
    "collapsed": true
   },
   "outputs": [],
   "source": [
    "building_output = open('U:/python/building.csv', 'w')\n",
    "building_columns = ['cultspc_id', 'year_occup', 'own_rent', 'yr_built', 'NBHD_id', 'address_id']\n",
    "building_dwriter = csv.DictWriter(building_output, fieldnames = building_columns)\n",
    "building_dwriter.writeheader()\n",
    "building = []"
   ]
  },
  {
   "cell_type": "code",
   "execution_count": 7,
   "metadata": {
    "collapsed": true
   },
   "outputs": [],
   "source": [
    "NBHD_output = open('U:/python/NBHD.csv', 'w')\n",
    "NBHD_columns = ['id', 'NBHD']\n",
    "NBHD_dwriter = csv.DictWriter(NBHD_output, fieldnames = NBHD_columns)\n",
    "NBHD_dwriter.writeheader()\n",
    "NBHD = []"
   ]
  },
  {
   "cell_type": "code",
   "execution_count": 8,
   "metadata": {
    "collapsed": true
   },
   "outputs": [],
   "source": [
    "i = 1\n",
    "for row in read:\n",
    "    address.append({'id': i, 'address': row['Address']})\n",
    "    cultspc.append({'id': i, 'name': row['Name'], 'phone_num': row['Phone'], 'address_id':''})\n",
    "    spctype.append({'dom_disc': row['Dominant Discipline'], 'sec_disc': row['2nd Discipline'], 'thrd_disc': row['3rd Discipline'], 'cultspc_id':''})\n",
    "    building.append({'cultspc_id':'', 'year_occup': row['Year of Occupation'], 'own_rent': row['Own or Rent?'], 'yr_built': row['Year bldg built?'], 'NBHD_id':'', 'address_id':''})\n",
    "    NBHD.append({'id': i, 'NBHD': row['Neighborhood']})\n",
    "    i += 1"
   ]
  },
  {
   "cell_type": "code",
   "execution_count": 9,
   "metadata": {
    "collapsed": true
   },
   "outputs": [],
   "source": [
    "\n",
    "f.close()"
   ]
  },
  {
   "cell_type": "code",
   "execution_count": 10,
   "metadata": {
    "collapsed": true
   },
   "outputs": [],
   "source": [
    "\n",
    "address_dwriter.writerows(address)\n",
    "cultspc_dwriter.writerows(cultspc)\n",
    "spctype_dwriter.writerows(spctype)\n",
    "building_dwriter.writerows(building)\n",
    "NBHD_dwriter.writerows(NBHD)"
   ]
  },
  {
   "cell_type": "code",
   "execution_count": 11,
   "metadata": {
    "collapsed": true
   },
   "outputs": [],
   "source": [
    "\n",
    "address_output.close()\n",
    "cultspc_output.close()\n",
    "spctype_output.close()\n",
    "building_output.close()\n",
    "NBHD_output.close()"
   ]
  },
  {
   "cell_type": "code",
   "execution_count": null,
   "metadata": {
    "collapsed": true
   },
   "outputs": [],
   "source": []
  }
 ],
 "metadata": {
  "kernelspec": {
   "display_name": "Python 2",
   "language": "python",
   "name": "python2"
  },
  "language_info": {
   "codemirror_mode": {
    "name": "ipython",
    "version": 2
   },
   "file_extension": ".py",
   "mimetype": "text/x-python",
   "name": "python",
   "nbconvert_exporter": "python",
   "pygments_lexer": "ipython2",
   "version": "2.7.10"
  }
 },
 "nbformat": 4,
 "nbformat_minor": 0
}
