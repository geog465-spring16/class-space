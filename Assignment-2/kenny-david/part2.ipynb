{
 "cells": [
  {
   "cell_type": "code",
   "execution_count": 13,
   "metadata": {
    "collapsed": true
   },
   "outputs": [],
   "source": [
    "def get_division(team):\n",
    "    if team in ['Jets', 'Bills', 'Patriots', 'Dolphins']:\n",
    "        return 'AFC East'\n",
    "    elif team in ['Bengals', 'Browns', 'Ravens', 'Steelers']:\n",
    "        return 'AFC North'\n",
    "    elif team in ['Colts', 'Jaguars', 'Texans', 'Titans']:\n",
    "        return 'AFC South'\n",
    "    elif team in ['Broncos', 'Chargers', 'Chiefs', 'Raiders']:\n",
    "        return 'AFC West'\n",
    "    elif team in ['Cowboys', 'Eagles', 'Giants', 'Redskins']:\n",
    "        return 'NFC East'\n",
    "    elif team in ['Bears', 'Lions', 'Packers', 'Vikings']:\n",
    "        return 'NFC North'\n",
    "    elif team in ['Buccaneers', 'Falcons', 'Panthers', 'Saints']:\n",
    "        return 'NFC South'\n",
    "    else:\n",
    "        return 'NFC West'"
   ]
  },
  {
   "cell_type": "code",
   "execution_count": 30,
   "metadata": {
    "collapsed": false
   },
   "outputs": [
    {
     "name": "stdout",
     "output_type": "stream",
     "text": [
      "finished\n"
     ]
    }
   ],
   "source": [
    "import csv\n",
    "\n",
    "input_file = csv.DictReader(open(\"C:\\\\Users\\\\knny\\\\Desktop\\\\nflsched2015.csv\"))\n",
    "team_table = open(\"C:\\\\Users\\\\knny\\\\Desktop\\\\team_table.csv\", 'w')\n",
    "stadium_table = open(\"C:\\\\Users\\\\knny\\\\Desktop\\\\stadium_table.csv\", 'w')\n",
    "game_table = open(\"C:\\\\Users\\\\knny\\\\Desktop\\\\game_table.csv\", 'w')\n",
    "team_fields = [\"id\", \"Name\", \"Division\", \"StadiumID\"]\n",
    "stadium_fields = [\"id\", \"Name\", \"Address\", \"Seating\"]\n",
    "game_fields = [\"id\", \"Week\", \"Day\", \"Date\", \"HometeamID\", \"AwayteamID\", \"StadiumID\"]\n",
    "\n",
    "team_writer = csv.DictWriter(team_table, fieldnames = team_fields, extrasaction='ignore', delimiter = \",\")\n",
    "stadium_writer = csv.DictWriter(stadium_table, fieldnames = stadium_fields, extrasaction='ignore', delimiter = \",\")\n",
    "game_writer = csv.DictWriter(game_table, fieldnames = game_fields, extrasaction='ignore', delimiter = \",\")\n",
    "team_writer.writeheader()\n",
    "stadium_writer.writeheader()\n",
    "game_writer.writeheader()\n",
    "team_list = []\n",
    "stadium_list = []\n",
    "game_list = []\n",
    "\n",
    "for row in input_file:\n",
    "    team_d = {}\n",
    "    team_d[\"id\"] = 0\n",
    "    team_d[\"Name\"] = row['Home']\n",
    "    team_d[\"Division\"] = get_division(row['Home'])\n",
    "    team_d[\"StadiumID\"] = \"\"\n",
    "    team_list.append(team_d)\n",
    "    stadium_d = {}\n",
    "    stadium_d[\"id\"] = 0\n",
    "    stadium_d[\"Name\"] = row['Stadium']\n",
    "    stadium_d[\"Address\"] = row['Address']\n",
    "    stadium_d[\"Seating\"] = row['Capacity']\n",
    "    stadium_list.append(stadium_d)\n",
    "    game_d = {}\n",
    "    game_d[\"id\"] = row['Game']\n",
    "    game_d[\"Week\"] = row['Week']\n",
    "    game_d[\"Day\"] = row['Day']\n",
    "    game_d[\"Date\"] = row['GameDate']\n",
    "    game_d[\"Time\"] = row['Time']\n",
    "    game_d[\"HometeamID\"] = \"\"\n",
    "    game_d[\"AwayteamID\"] = \"\"\n",
    "    game_d[\"StadiumID\"] = \"\"\n",
    "    game_list.append(game_d)\n",
    "\n",
    "for team in team_list:\n",
    "    team_writer.writerow(team)\n",
    "    \n",
    "for stadium in stadium_list:\n",
    "    stadium_writer.writerow(stadium)\n",
    "\n",
    "for game in game_list:\n",
    "    game_writer.writerow(game)\n",
    "\n",
    "team_table.close()\n",
    "stadium_table.close()\n",
    "game_table.close()\n",
    "\n",
    "print \"finished\"\n",
    "\n"
   ]
  },
  {
   "cell_type": "code",
   "execution_count": null,
   "metadata": {
    "collapsed": true
   },
   "outputs": [],
   "source": []
  }
 ],
 "metadata": {
  "kernelspec": {
   "display_name": "Python 2",
   "language": "python",
   "name": "python2"
  },
  "language_info": {
   "codemirror_mode": {
    "name": "ipython",
    "version": 2
   },
   "file_extension": ".py",
   "mimetype": "text/x-python",
   "name": "python",
   "nbconvert_exporter": "python",
   "pygments_lexer": "ipython2",
   "version": "2.7.10"
  }
 },
 "nbformat": 4,
 "nbformat_minor": 0
}
