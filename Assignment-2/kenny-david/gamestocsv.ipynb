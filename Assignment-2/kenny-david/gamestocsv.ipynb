{
 "cells": [
  {
   "cell_type": "code",
   "execution_count": 1,
   "metadata": {
    "collapsed": true
   },
   "outputs": [],
   "source": [
    "def get_division(team):\n",
    "    if team in ['Jets', 'Bills', 'Patriots', 'Dolphins']:\n",
    "        return 1\n",
    "    elif team in ['Bengals', 'Browns', 'Ravens', 'Steelers']:\n",
    "        return 2\n",
    "    elif team in ['Colts', 'Jaguars', 'Texans', 'Titans']:\n",
    "        return 3\n",
    "    elif team in ['Broncos', 'Chargers', 'Chiefs', 'Raiders']:\n",
    "        return 4\n",
    "    elif team in ['Cowboys', 'Eagles', 'Giants', 'Redskins']:\n",
    "        return 5\n",
    "    elif team in ['Bears', 'Lions', 'Packers', 'Vikings']:\n",
    "        return 6\n",
    "    elif team in ['Buccaneers', 'Falcons', 'Panthers', 'Saints']:\n",
    "        return 7\n",
    "    else:\n",
    "        return 8"
   ]
  },
  {
   "cell_type": "code",
   "execution_count": 15,
   "metadata": {
    "collapsed": false
   },
   "outputs": [
    {
     "name": "stdout",
     "output_type": "stream",
     "text": [
      "finished\n"
     ]
    }
   ],
   "source": [
    "import csv\n",
    "\n",
    "input_file = csv.DictReader(open(\"C:\\\\Users\\\\knny\\\\Desktop\\\\nflsched2015.csv\"))\n",
    "team_table = open(\"C:\\\\Users\\\\knny\\\\Desktop\\\\team_table.csv\", 'w')\n",
    "division_table = open(\"C:\\\\Users\\\\knny\\\\Desktop\\\\division_table.csv\", 'w')\n",
    "stadium_table = open(\"C:\\\\Users\\\\knny\\\\Desktop\\\\stadium_table.csv\", 'w')\n",
    "game_table = open(\"C:\\\\Users\\\\knny\\\\Desktop\\\\game_table.csv\", 'w')\n",
    "team_fields = [\"id\", \"Name\", \"DivisionID\", \"StadiumID\"]\n",
    "division_fields = [\"id\", \"Name\"]\n",
    "stadium_fields = [\"id\", \"Name\", \"Address\", \"Seating\"]\n",
    "game_fields = [\"id\", \"Week\", \"Day\", \"Date\", \"Time\", \"HometeamID\", \"AwayteamID\", \"StadiumID\"]\n",
    "\n",
    "team_writer = csv.DictWriter(team_table, fieldnames = team_fields, extrasaction='ignore', delimiter = \",\", lineterminator='\\n',)\n",
    "division_writer = csv.DictWriter(division_table, fieldnames = division_fields, extrasaction='ignore', delimiter = \",\", lineterminator='\\n',)\n",
    "stadium_writer = csv.DictWriter(stadium_table, fieldnames = stadium_fields, extrasaction='ignore', delimiter = \",\", lineterminator='\\n',)\n",
    "game_writer = csv.DictWriter(game_table, fieldnames = game_fields, extrasaction='ignore', delimiter = \",\", lineterminator='\\n',)\n",
    "team_writer.writeheader()\n",
    "division_writer.writeheader()\n",
    "stadium_writer.writeheader()\n",
    "game_writer.writeheader()\n",
    "team_list = []\n",
    "stadium_list = []\n",
    "game_list = []\n",
    "\n",
    "divisions = ['AFC East', 'AFC North', 'AFC South', 'AFC West', 'NFC East', 'NFC North', 'NFC South', 'NFC West']\n",
    "for div in divisions:\n",
    "    division_d = {}\n",
    "    division_d[\"id\"] = (divisions.index(div) + 1)\n",
    "    division_d[\"Name\"] = div\n",
    "    division_writer.writerow(division_d)\n",
    "\n",
    "for row in input_file:\n",
    "    team_d = {}\n",
    "    team_d[\"id\"] = 0\n",
    "    team_d[\"Name\"] = row['Home']\n",
    "    team_d[\"Division\"] = get_division(row['Home'])\n",
    "    team_d[\"StadiumID\"] = \"\"\n",
    "    team_list.append(team_d)\n",
    "    stadium_d = {}\n",
    "    stadium_d[\"id\"] = 0\n",
    "    stadium_d[\"Name\"] = row['Stadium']\n",
    "    stadium_d[\"Address\"] = row['Address']\n",
    "    stadium_d[\"Seating\"] = row['Capacity']\n",
    "    stadium_list.append(stadium_d)\n",
    "    game_d = {}\n",
    "    game_d[\"id\"] = row['Game']\n",
    "    game_d[\"Week\"] = row['Week']\n",
    "    game_d[\"Day\"] = row['Day']\n",
    "    game_d[\"Date\"] = row['GameDate']\n",
    "    game_d[\"Time\"] = row['Time']\n",
    "    game_d[\"HometeamID\"] = \"\"\n",
    "    game_d[\"AwayteamID\"] = \"\"\n",
    "    game_d[\"StadiumID\"] = \"\"\n",
    "    game_list.append(game_d)\n",
    "\n",
    "team_list = sorted({team['Name']:team for team in team_list}.values(), key=lambda k: k['Name']) \n",
    "for team in team_list:\n",
    "    team['id'] = team_list.index(team) + 1\n",
    "    team_writer.writerow(team)\n",
    "    \n",
    "stadium_list = sorted({stadium['Name']:stadium for stadium in stadium_list}.values(), key=lambda k: k['Name'])     \n",
    "for stadium in stadium_list:\n",
    "    stadium['id'] = stadium_list.index(stadium) + 1\n",
    "    stadium_writer.writerow(stadium)\n",
    "\n",
    "for game in game_list:\n",
    "    game_writer.writerow(game)\n",
    "\n",
    "team_table.close()\n",
    "division_table.close()\n",
    "stadium_table.close()\n",
    "game_table.close()\n",
    "\n",
    "print \"finished\""
   ]
  },
  {
   "cell_type": "code",
   "execution_count": null,
   "metadata": {
    "collapsed": true
   },
   "outputs": [],
   "source": []
  }
 ],
 "metadata": {
  "kernelspec": {
   "display_name": "Python 2",
   "language": "python",
   "name": "python2"
  },
  "language_info": {
   "codemirror_mode": {
    "name": "ipython",
    "version": 2
   },
   "file_extension": ".py",
   "mimetype": "text/x-python",
   "name": "python",
   "nbconvert_exporter": "python",
   "pygments_lexer": "ipython2",
   "version": "2.7.10"
  }
 },
 "nbformat": 4,
 "nbformat_minor": 0
}
