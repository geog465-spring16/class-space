{
 "cells": [
  {
   "cell_type": "code",
   "execution_count": 715,
   "metadata": {
    "collapsed": true
   },
   "outputs": [],
   "source": [
    "import csv\n"
   ]
  },
  {
   "cell_type": "code",
   "execution_count": 716,
   "metadata": {
    "collapsed": false
   },
   "outputs": [],
   "source": [
    "file = open('C:/Users/Zhengwei Sun/Downloads/Private_Schools.csv', 'r')"
   ]
  },
  {
   "cell_type": "code",
   "execution_count": 717,
   "metadata": {
    "collapsed": false
   },
   "outputs": [],
   "source": [
    "Zhengwei_csv = csv.reader(file, delimiter = ',')"
   ]
  },
  {
   "cell_type": "code",
   "execution_count": 718,
   "metadata": {
    "collapsed": false
   },
   "outputs": [
    {
     "name": "stdout",
     "output_type": "stream",
     "text": [
      "['OBJECTID', 'Shape', 'NAME', 'ADDRESS', 'PHONE', 'WEBSITE', 'GRADE', 'CITY', 'ZIP']\n",
      "['1', '(47.51042025500004, -122.26276562799995)', 'St. Paul School', '10001 57th Ave S', '206.725.0780', 'www.seattlestpaul.org', 'P-8', 'Seattle', '98178_2299']\n",
      "['2', '(47.61118419300004, -122.28800275799995)', 'St. Therese Catholic Academy ', '900 35th Ave', '206.324.0460', 'www.stthereseseattle.org', 'P-8', 'Seattle', '98122_5299']\n",
      "['3', '(47.671198606000075, -122.37568393199996)', 'St. Alphonsus School', '5816 15th Ave NW', '206.782.4363', 'http://www.stalseattle.org/', 'P-8', 'Seattle', '98107_3096']\n",
      "['4', '(47.62547818300004, -122.30827667399996)', 'St. Joseph School', '700 18th Ave E', '206.329.3260', 'www.stjosephsea.org', 'K-8', 'Seattle', '98112_3900']\n",
      "['5', '(47.55063310300005, -122.27991364999997)', 'St. Edwards School', '4200 S Mead St', '206.725.1774', 'www.saintedwardseattle.org', 'P-8', 'Seattle', '98118_2795']\n",
      "['6', '(47.51697570700003, -122.35946395399998)', 'Holy Family School', '9615 20th Ave SW', '206.767.6640', 'www.hfseattle.org/school', 'P-8', 'Seattle', '98106_2786']\n",
      "['7', '(47.51087089100008, -122.25975656099996)', 'Amazing Grace Christian School', '10056 Renton Ave S', '206.723.5526', 'www.agcschool.org', 'K-9', 'Seattle', '98178_2255']\n",
      "['8', '(47.609618357000045, -122.308640992)', 'Lake WA Girls Middle School', '810 18th Ave', '206.709.3800', 'www.lwgms.org', '6-8', 'Seattle', '98122_4747']\n",
      "['9', '(47.53826769700004, -122.28405606099994)', 'Seattle Urban Academy', '3800 S Othello St', '206.723.0333', 'www.seattleurbanacademy.org', '9-12', 'Seattle', '98118_3562']\n",
      "['10', '(47.69050261900003, -122.31319531099996)', 'MMSC Day School', '8511 15th Avenue NE', '206.523.9766', 'www.mmscdayschool.org', 'P-6', 'Seattle', '98115_3101']\n",
      "['11', '(47.68085752800005, -122.32512336599996)', 'Billings Middle School', '7217 Woodlawn Ave NE', '206.547.4614', 'www.billingsmiddleschool.org', '6-8', 'Seattle', '98115_5335']\n",
      "['12', '(47.677248150000025, -122.32231534799996)', 'Seattle Area German American School', '520 NE Ravenna Blvd', '206.235.5969', 'www.sagaschool.org', 'P-3', 'Seattle', '98115_6460']\n",
      "['13', '(47.52065571900005, -122.339114113)', 'Sound View Education ', '9205 3rd Ave Sw', '206.214.1011', 'sterlinged.org', '3-12', 'Seattle', '98106_3106']\n",
      "['14', '(47.58880002400008, -122.29647558499994)', 'Seattle Nativity School', '2800 S Massachusetts St', '206.384.2126', 'www.seattlenativity.org', '5-8', 'Seattle', '98144_3870']\n",
      "['15', '(47.61996669400003, -122.33885846399994)', 'Morningside Academy', '201 Westlake Ave N', '206.709.9500', 'www.morningsideacademy.org', '1-10', 'Seattle', '98109_5217']\n",
      "['16', '(47.67745644100006, -122.38474299599994)', 'Matheia School', '2205 NW 67th St', '206.283.1828', 'www.matheia.org', 'K-5', 'Seattle', '98117_5737']\n",
      "['17', '(47.56614859200005, -122.38719025499995)', 'Tilden School', '4105 California Ave SW', '206.938.4628', 'www.tildenschool.org', 'K-5', 'Seattle', '98116_4101']\n",
      "['18', '(47.596919265000054, -122.30601201299999)', 'Giddens School', '620 20th Ave S', '206.324.4847', 'www.giddensschool.org', 'P-5', 'Seattle', '98144_2209']\n",
      "['19', '(47.664760381000065, -122.35247907899998)', 'Kapka Cooperative School', '510 N 49th St', '206.522.0350', 'www.kapkaschool.org', 'K-3', 'Seattle', '98103_6420']\n",
      "['20', '(47.574986531000036, -122.28536135499996)', 'The Lake and Park School', '3201 Hunter Blvd S', '206.721.3480', 'www.lakeandpark.org', 'K-4', 'Seattle', '98144_7029']\n",
      "['21', '(47.69353537300003, -122.28935521999995)', 'Our Lady Of The Lake School', '3520 NE 89th St', '206.525.9980', 'www.ollseattle.org', 'P-8', 'Seattle', '98115_3648']\n",
      "['22', '(47.66410110100003, -122.33117847699998)', 'Meridian School', '4629 Sunnyside Ave N  Ste 242', '206.632.7154', 'www.meridianschool.edu', 'K-5', 'Seattle', '98103']\n",
      "['23', '(47.68699883700003, -122.30013291199998)', 'University Preparatory', '8000 25th Ave NE', '206.525.2714', 'www.universityprep.org', '6-12', 'Seattle', '98115_4600']\n",
      "['24', '(47.56503750600007, -122.38454732599996)', 'Seattle Lutheran High School', '4100 SW Genesee St', '206.937.7722', 'www.seattlelutheran.org', '9-12', 'Seattle', '98116_4216']\n",
      "['25', '(47.61806725100007, -122.28675729799994)', 'Epiphany School', '3611 E Denny Way', '206.323.9011', 'www.epiphanyschool.org', 'P-5', 'Seattle', '98122_3423']\n",
      "['26', '(47.53283766000004, -122.37492741399996)', 'Westside School', '7740 34th Ave SW', '206.932.2511', 'www.westsideschool.org', 'P-8', 'Seattle', '98126_3503']\n",
      "['27', '(47.66567842400008, -122.31368391399997)', 'Academy for Precision Learning ', '5031 University Way NE     ', '206.427.0115', 'www.aplschool.org', 'K-10', 'Seattle', '98105_4341']\n",
      "['28', '(47.66023161000004, -122.36416921999995)', 'Pacific Crest Schools', '600 NW Bright St', '206.789.7889', 'www.pacificcrest.org', 'P-8', 'Seattle', '98107_4451']\n",
      "['29', '(47.664806672000054, -122.35356919499998)', 'Northwest Montessori', '4910 Phinney Ave N                   ', '206.524.4244', 'www.northwestmontessori.org', 'P-6', 'Seattle', '98103_6347']\n",
      "['30', '(47.663800941000034, -122.33676626399995)', 'St. Benedict School', '4811 Wallingford Ave N', '206.633.3375', 'www.stbens.net', 'P-8', 'Seattle', '98103_6899']\n",
      "['31', '(47.632387599000026, -122.32072223999995)', 'Bright Water School', '1501 Tenth Ave E  Suite 100', '206.624.6176', 'www.brightwaterschool.org', 'P-8', 'Seattle', '98102_4256']\n",
      "['32', '(47.701580756000055, -122.29732953699994)', 'Seattle Waldorf School', '2728 NE 100th St', '206.524.5320', 'www.seattlewaldorf.org', 'P-12', 'Seattle', '98125_7712']\n",
      "['33', '(47.622907283000075, -122.28879287899997)', 'The Bush School', '3400 E Harrison', '206.322.7978', 'www.bush.edu', 'K-12', 'Seattle', '98112_4268']\n",
      "['34', '(47.538873059000025, -122.375636843)', 'Our Lady of Guadalupe School', '3401 SW Myrtle St', '206.935.0651', 'guadalupe_school.org', 'P-8', 'Seattle', '98126_3399']\n",
      "['35', '(47.55909180800006, -122.29275405799996)', 'Koinonia Learning Academy', '3019 S Angeline St                                  ', '206.721.2446', 'www.Koinonia.edu', 'P-12', 'Seattle', '98118']\n",
      "['36', '(47.64132161800006, -122.31643691399995)', 'Seattle Prep/Matteo Ricci College', '2400 11th Ave E', '206.577.2102', 'www.seaprep.org', '9-12', 'Seattle', '98102_4016']\n",
      "['37', '(47.719225624000046, -122.32171104999998)', 'Seattle Jewish Community School', '12351 8th Ave NE', '206.522.5212', 'www.sjcs.net', 'K-5', 'Seattle', '98125_4805']\n",
      "['38', '(47.72154541300006, -122.31392479799996)', 'St. Matthew School', '1230 NE 127th St', '206.362.2785', 'www.stmattschool.org', 'P-8', 'Seattle', '98125_4021']\n",
      "['39', '(47.52190441300007, -122.38787410599997)', 'Taproot School', '9131 California Ave SW', '206.849.7146', 'www.taprootschool.org', 'K-5', 'Seattle', '98136_2551']\n",
      "['40', '(47.69421986200007, -122.31806523499995)', 'Perkins School', '9005 Roosevelt Way NE', '206.526.8217', 'www.perkinsschool.com', 'K-5', 'Seattle', '98115_3030']\n",
      "['41', '(47.56052763500003, -122.29107783899997)', 'Zion Preparatory Academy', '4730 32nd Ave S', '206.721.1586', 'www.zionprep.org', 'P-1', 'Seattle', '98118_1702']\n",
      "['42', '(47.61265937500008, -122.31629868699997)', 'Seattle Academy of Arts/Sciences', '1201 E Union St', '206.323.6600', 'www.seattleacademy.org', '6-12', 'Seattle', '98122_3925']\n",
      "['43', '(47.67485323900007, -122.29283895299994)', 'Assumption St. Bridget', '6220 32nd Ave NE', '206.524.7452', 'www.asbschool.org', 'K-8', 'Seattle', '98115_7233']\n",
      "['44', '(47.71071886000004, -122.32022443599999)', 'Spring Academy', '113045 8th Ave NE  Suite A', '206.363.3600', 'www.springacademy.com', '6-12', 'Seattle', '98125']\n",
      "['45', '(47.677248150000025, -122.32231534799996)', 'Applied Scholastics Academy of Seattle', '520 NE Ravenna Blvd', '206.522.5992 206.369.7833', 'www.asa_seattle.org', 'P-6', 'Seattle', '98115_6460']\n",
      "['46', '(47.638569070000074, -122.36049003)', 'Alcuin School', '216 W Boston', '206.286.0771', 'www.alcuinschool.com', 'P-1', 'Seattle', '98119_2641']\n",
      "['47', '(47.731430630000034, -122.32784327799999)', 'Lakeside School', '14050 1st Ave NE', '206.368.3600', 'www.lakesideschool.org', '5-12', 'Seattle', '98125_3099']\n",
      "['48', '(47.61337341500007, -122.30928640299999)', 'Hamlin Robinson School', '1700 E Union St.', '206.763.1167', 'www.hamlinrobinson.org', '1-8', 'Seattle', '98122_4140']\n",
      "['49', '(47.616873190000035, -122.33533240599996)', 'Spruce Street School', '914 Virginia St', '206.621.9211', 'www.sprucestreetschool.org', 'K-5', 'Seattle', '98101_1426']\n",
      "['50', '(47.60320134800003, -122.30595623399995)', 'First Place', '172 20th Avenue                                   ', '206.323.6715', 'www.firstplaceschool.org', 'K-6', 'Seattle', '98122_5862']\n",
      "['51', '(47.66368030600006, -122.27324033099995)', 'Villa Academy', '5001 NE 50th St', '206.524.8885', 'www.thevilla.org', 'P-8', 'Seattle', '98105_2899']\n",
      "['52', '(47.56503750600007, -122.38454732599996)', 'St. Christopher Academy', '4100 SW Genesee St', '206.246.9751', 'www.stchristopheracademy.com', '9-12', 'Seattle', '98116_4282']\n",
      "['53', '(47.68072946700005, -122.28904754099995)', 'Concordia Lutheran School', '7040 36th Ave NE', '206.525.7407', 'www.concordiaseattle.com', 'P-8', 'Seattle', '98115_5966']\n",
      "['54', '(47.63931582500004, -122.32034868699998)', 'Bertschi School', '2227 10th Ave E', '206.324.5476', 'www.bertschi.org', 'P-5', 'Seattle', '98102_4177']\n",
      "['55', '(47.56542100400003, -122.38501808299998)', 'Holy Rosary Elementary', '4142 42nd Ave SW', '206.937.7255', 'www.holyrosaryws.org', 'K-8', 'Seattle', '98116_4202']\n",
      "['56', '(47.677368175000026, -122.35284455799996)', 'North Seattle French School', '6615 Dayton Ave N', '206.218.2175', 'www.northseattlefrenchschool.com', 'K-1', 'Seattle', '98103_5215']\n",
      "['57', '(47.59628876700003, -122.32426859099996)', 'Puget Sound Community School', '660 S Dearborn St', '206.324.4350', 'www.pscs.org', '6-12', 'Seattle', '98134_1328']\n",
      "['58', '(47.607756351000035, -122.32481339899999)', \"O'Dea High School\", '802 Terry Ave', '206.622.6596', 'www.odea.org', '9-12', 'Seattle', '98104_1294']\n",
      "['59', '(47.69112059200006, -122.32011434399999)', 'St. Catherine School', '8524 8th Ave NE', '206.525.0582', 'www.stcatherineschool.net', 'P-8', 'Seattle', '98115_3099']\n",
      "['60', '(47.68891058400004, -122.33552591299997)', 'Bishop Blanchet High School', '8200 Wallingford Ave N', '206.527.7711', 'www.bishopblanchet.org', '9-12', 'Seattle', '98103_4599']\n",
      "['61', '(47.61339106600008, -122.32594232899999)', 'Northwest School', '1415 Summit Ave', '206.682.7309', 'www.northwestschool.org', '6-12', 'Seattle', '98122_3619']\n",
      "['62', '(47.71387447800004, -122.35349994099994)', 'Christ the King School', '415 N 117th St', '206.364.6890', 'www.ckseattle.org', 'P-8', 'Seattle', '98133_8309']\n",
      "['63', '(47.62169507800007, -122.29231491799999)', 'Valley School', '309 31st Ave E', '206.328.4475', 'www.thevalleyschool.org', 'P-5', 'Seattle', '98112_4819']\n",
      "['64', '(47.59949202100006, -122.29691214499996)', 'Seattle Girls School', '2706 S Jackson St ', '206.709.2228', 'www.seattlegirlsschool.org', '5-12', 'Seattle', '98144_2442']\n",
      "['65', '(47.699165582000035, -122.31722234299997)', 'Dartmoor School__Seattle', '9618 Roosevelt Way NE          ', '425.885.1123', 'www.dartmoor.org', '1-12', 'Seattle', '98115_2236']\n",
      "['66', '(47.56341896500004, -122.38508785899995)', 'Hope Lutheran School', '4456 42nd Ave SW', '206.935.8500', 'www.hopeseattle.org', 'P-8', 'Seattle', '98116_4223']\n",
      "['67', '(47.643440690000034, -122.35089961399996)', 'Seattle Country Day School', '2619 4th Ave N', '206.284.6220', 'www.seattlecountryday.org', 'K-8', 'Seattle', '98109_1903']\n",
      "['68', '(47.55586612600007, -122.31641140799996)', 'St. George School', '5117 13th Ave S', '206.762.0656', 'www.saintgeorgeseattle.org', 'P-8', 'Seattle', '98108_2309']\n",
      "['69', '(47.700629744000025, -122.32486573799997)', 'Brightmont Academy_Seattle Campus', '9750 Third Ave NE  Ste 102   ', '206.284.2300', 'www.brightmontacademy.com ', '6-12', 'Seattle', '98115_2022']\n",
      "['70', '(47.56224453500005, -122.31217720599994)', 'Torah Day School of Seattle', '1625 S Columbia Way', '206.722.1200', 'www.tdsseattle.org', 'P-8', 'Seattle', '98108']\n",
      "['71', '(47.66664859500003, -122.31817801899996)', 'University Child Development School', '5062 9th Ave NE', '206.547.8237', 'www.ucds.org', 'P-5', 'Seattle', '98105_3605']\n",
      "['72', '(47.63442242900004, -122.30792638599996)', 'Seattle Hebrew Academy', '1617 Interlaken Dr E', '206.323.5750', 'www.seattlehebrewacademy.org', 'P-8', 'Seattle', '98112_3499']\n",
      "['73', '(47.60842417100008, -122.30092573399997)', 'Seattle Amistad School', '2410 E Cherry', '206.330.6373', 'seattleamistadschool.org', 'P-1', 'Seattle', '98122']\n",
      "['74', '(47.68566025400003, -122.31849399699996)', 'Fairview Christian School                                              ', '844 NE 78th St', '206.526.0762', 'www.fcsseattle.org', 'P-8', 'Seattle', '98115_4202']\n",
      "['75', '(47.626443907000066, -122.30429422899999)', 'Holy Names Academy', '728 21st Ave E', '206.323.4272', 'www.holynames_sea.org', '9-12', 'Seattle', '98112_4058']\n",
      "['76', '(47.66965404300004, -122.31336034299994)', 'University Cooperative School', '5601 University Ave NE', '206.524.0653', 'www.ucoopschool.org', 'K-5', 'Seattle', '98105_2619']\n",
      "['77', '(47.68639414100005, -122.357634556)', 'St. John School', '120 N 79th St', '206.783.0337', 'www.stjohnsea.org', 'P-8', 'Seattle', '98103_4688']\n",
      "['78', '(47.64724668500003, -122.39976574299999)', 'Our Lady of Fatima School', '3301 W Dravus St', '206.283.7031', 'www.olfatima.org', 'P-8', 'Seattle', '98199_2624']\n",
      "['79', '(47.63110511300005, -122.35813769699996)', 'St. Anne School', '101 W Lee St', '206.282.3538', 'www.stannesea.org', 'P-8', 'Seattle', '98119_3321']\n",
      "['80', '(47.551960371000064, -122.32518291899999)', 'Derech Emunah dba Seattle Jewish Girls High School', '650 S Orcas   Suite 200', '206.790.1475', 'www.derechemunah.com', '9-10', 'Seattle', '98108']\n"
     ]
    }
   ],
   "source": [
    "for row in Zhengwei_csv:\n",
    "    print row \n"
   ]
  },
  {
   "cell_type": "code",
   "execution_count": 719,
   "metadata": {
    "collapsed": false
   },
   "outputs": [],
   "source": [
    "shape = open('C:/Users/Zhengwei Sun/Desktop/geog465/shape.csv', 'w')\n",
    "columnnames = ['id', 'coordinates']\n",
    "shape_dwriter = csv.DictWriter(shape, fieldnames = columnnames)\n",
    "shape_dwriter.writeheader()\n",
    "shape_dreader = csv.DictReader(open('C:/Users/Zhengwei Sun/Downloads/Private_Schools.csv', 'r'))\n",
    "list_1 = []\n",
    "   \n",
    "   "
   ]
  },
  {
   "cell_type": "code",
   "execution_count": 720,
   "metadata": {
    "collapsed": false
   },
   "outputs": [],
   "source": [
    " i = 1\n",
    "for row in shape_dreader:\n",
    "        list_1.append({'id': i, 'coordinates': row['Shape']})\n",
    "        i += 1\n",
    "        "
   ]
  },
  {
   "cell_type": "code",
   "execution_count": 721,
   "metadata": {
    "collapsed": false
   },
   "outputs": [],
   "source": [
    "shape_dwriter.writerows(list_1)\n",
    "shape.close()"
   ]
  },
  {
   "cell_type": "code",
   "execution_count": 722,
   "metadata": {
    "collapsed": true
   },
   "outputs": [],
   "source": [
    "shape = open('C:/Users/Zhengwei Sun/Desktop/geog465/shape.csv')\n",
    "shape_dreader = csv.DictReader(shape)\n"
   ]
  },
  {
   "cell_type": "code",
   "execution_count": 723,
   "metadata": {
    "collapsed": false
   },
   "outputs": [
    {
     "name": "stdout",
     "output_type": "stream",
     "text": [
      "{'id': '1', 'coordinates': '(47.51042025500004, -122.26276562799995)'}\n",
      "{'id': '2', 'coordinates': '(47.61118419300004, -122.28800275799995)'}\n",
      "{'id': '3', 'coordinates': '(47.671198606000075, -122.37568393199996)'}\n",
      "{'id': '4', 'coordinates': '(47.62547818300004, -122.30827667399996)'}\n",
      "{'id': '5', 'coordinates': '(47.55063310300005, -122.27991364999997)'}\n",
      "{'id': '6', 'coordinates': '(47.51697570700003, -122.35946395399998)'}\n",
      "{'id': '7', 'coordinates': '(47.51087089100008, -122.25975656099996)'}\n",
      "{'id': '8', 'coordinates': '(47.609618357000045, -122.308640992)'}\n",
      "{'id': '9', 'coordinates': '(47.53826769700004, -122.28405606099994)'}\n",
      "{'id': '10', 'coordinates': '(47.69050261900003, -122.31319531099996)'}\n",
      "{'id': '11', 'coordinates': '(47.68085752800005, -122.32512336599996)'}\n",
      "{'id': '12', 'coordinates': '(47.677248150000025, -122.32231534799996)'}\n",
      "{'id': '13', 'coordinates': '(47.52065571900005, -122.339114113)'}\n",
      "{'id': '14', 'coordinates': '(47.58880002400008, -122.29647558499994)'}\n",
      "{'id': '15', 'coordinates': '(47.61996669400003, -122.33885846399994)'}\n",
      "{'id': '16', 'coordinates': '(47.67745644100006, -122.38474299599994)'}\n",
      "{'id': '17', 'coordinates': '(47.56614859200005, -122.38719025499995)'}\n",
      "{'id': '18', 'coordinates': '(47.596919265000054, -122.30601201299999)'}\n",
      "{'id': '19', 'coordinates': '(47.664760381000065, -122.35247907899998)'}\n",
      "{'id': '20', 'coordinates': '(47.574986531000036, -122.28536135499996)'}\n",
      "{'id': '21', 'coordinates': '(47.69353537300003, -122.28935521999995)'}\n",
      "{'id': '22', 'coordinates': '(47.66410110100003, -122.33117847699998)'}\n",
      "{'id': '23', 'coordinates': '(47.68699883700003, -122.30013291199998)'}\n",
      "{'id': '24', 'coordinates': '(47.56503750600007, -122.38454732599996)'}\n",
      "{'id': '25', 'coordinates': '(47.61806725100007, -122.28675729799994)'}\n",
      "{'id': '26', 'coordinates': '(47.53283766000004, -122.37492741399996)'}\n",
      "{'id': '27', 'coordinates': '(47.66567842400008, -122.31368391399997)'}\n",
      "{'id': '28', 'coordinates': '(47.66023161000004, -122.36416921999995)'}\n",
      "{'id': '29', 'coordinates': '(47.664806672000054, -122.35356919499998)'}\n",
      "{'id': '30', 'coordinates': '(47.663800941000034, -122.33676626399995)'}\n",
      "{'id': '31', 'coordinates': '(47.632387599000026, -122.32072223999995)'}\n",
      "{'id': '32', 'coordinates': '(47.701580756000055, -122.29732953699994)'}\n",
      "{'id': '33', 'coordinates': '(47.622907283000075, -122.28879287899997)'}\n",
      "{'id': '34', 'coordinates': '(47.538873059000025, -122.375636843)'}\n",
      "{'id': '35', 'coordinates': '(47.55909180800006, -122.29275405799996)'}\n",
      "{'id': '36', 'coordinates': '(47.64132161800006, -122.31643691399995)'}\n",
      "{'id': '37', 'coordinates': '(47.719225624000046, -122.32171104999998)'}\n",
      "{'id': '38', 'coordinates': '(47.72154541300006, -122.31392479799996)'}\n",
      "{'id': '39', 'coordinates': '(47.52190441300007, -122.38787410599997)'}\n",
      "{'id': '40', 'coordinates': '(47.69421986200007, -122.31806523499995)'}\n",
      "{'id': '41', 'coordinates': '(47.56052763500003, -122.29107783899997)'}\n",
      "{'id': '42', 'coordinates': '(47.61265937500008, -122.31629868699997)'}\n",
      "{'id': '43', 'coordinates': '(47.67485323900007, -122.29283895299994)'}\n",
      "{'id': '44', 'coordinates': '(47.71071886000004, -122.32022443599999)'}\n",
      "{'id': '45', 'coordinates': '(47.677248150000025, -122.32231534799996)'}\n",
      "{'id': '46', 'coordinates': '(47.638569070000074, -122.36049003)'}\n",
      "{'id': '47', 'coordinates': '(47.731430630000034, -122.32784327799999)'}\n",
      "{'id': '48', 'coordinates': '(47.61337341500007, -122.30928640299999)'}\n",
      "{'id': '49', 'coordinates': '(47.616873190000035, -122.33533240599996)'}\n",
      "{'id': '50', 'coordinates': '(47.60320134800003, -122.30595623399995)'}\n",
      "{'id': '51', 'coordinates': '(47.66368030600006, -122.27324033099995)'}\n",
      "{'id': '52', 'coordinates': '(47.56503750600007, -122.38454732599996)'}\n",
      "{'id': '53', 'coordinates': '(47.68072946700005, -122.28904754099995)'}\n",
      "{'id': '54', 'coordinates': '(47.63931582500004, -122.32034868699998)'}\n",
      "{'id': '55', 'coordinates': '(47.56542100400003, -122.38501808299998)'}\n",
      "{'id': '56', 'coordinates': '(47.677368175000026, -122.35284455799996)'}\n",
      "{'id': '57', 'coordinates': '(47.59628876700003, -122.32426859099996)'}\n",
      "{'id': '58', 'coordinates': '(47.607756351000035, -122.32481339899999)'}\n",
      "{'id': '59', 'coordinates': '(47.69112059200006, -122.32011434399999)'}\n",
      "{'id': '60', 'coordinates': '(47.68891058400004, -122.33552591299997)'}\n",
      "{'id': '61', 'coordinates': '(47.61339106600008, -122.32594232899999)'}\n",
      "{'id': '62', 'coordinates': '(47.71387447800004, -122.35349994099994)'}\n",
      "{'id': '63', 'coordinates': '(47.62169507800007, -122.29231491799999)'}\n",
      "{'id': '64', 'coordinates': '(47.59949202100006, -122.29691214499996)'}\n",
      "{'id': '65', 'coordinates': '(47.699165582000035, -122.31722234299997)'}\n",
      "{'id': '66', 'coordinates': '(47.56341896500004, -122.38508785899995)'}\n",
      "{'id': '67', 'coordinates': '(47.643440690000034, -122.35089961399996)'}\n",
      "{'id': '68', 'coordinates': '(47.55586612600007, -122.31641140799996)'}\n",
      "{'id': '69', 'coordinates': '(47.700629744000025, -122.32486573799997)'}\n",
      "{'id': '70', 'coordinates': '(47.56224453500005, -122.31217720599994)'}\n",
      "{'id': '71', 'coordinates': '(47.66664859500003, -122.31817801899996)'}\n",
      "{'id': '72', 'coordinates': '(47.63442242900004, -122.30792638599996)'}\n",
      "{'id': '73', 'coordinates': '(47.60842417100008, -122.30092573399997)'}\n",
      "{'id': '74', 'coordinates': '(47.68566025400003, -122.31849399699996)'}\n",
      "{'id': '75', 'coordinates': '(47.626443907000066, -122.30429422899999)'}\n",
      "{'id': '76', 'coordinates': '(47.66965404300004, -122.31336034299994)'}\n",
      "{'id': '77', 'coordinates': '(47.68639414100005, -122.357634556)'}\n",
      "{'id': '78', 'coordinates': '(47.64724668500003, -122.39976574299999)'}\n",
      "{'id': '79', 'coordinates': '(47.63110511300005, -122.35813769699996)'}\n",
      "{'id': '80', 'coordinates': '(47.551960371000064, -122.32518291899999)'}\n"
     ]
    }
   ],
   "source": [
    "for i in range(0, 80):\n",
    "    print shape_dreader.next()"
   ]
  },
  {
   "cell_type": "code",
   "execution_count": 724,
   "metadata": {
    "collapsed": false
   },
   "outputs": [],
   "source": [
    "city = open('C:/Users/Zhengwei Sun/Desktop/geog465/city.csv', 'w')\n",
    "columnnames = ['id', 'city']\n",
    "city_dwriter = csv.DictWriter(city, fieldnames = columnnames)\n",
    "city_dwriter.writeheader()\n",
    "city_dreader = csv.DictReader (open('C:/Users/Zhengwei Sun/Downloads/Private_Schools.csv', 'r'))\n"
   ]
  },
  {
   "cell_type": "code",
   "execution_count": 725,
   "metadata": {
    "collapsed": true
   },
   "outputs": [],
   "source": [
    "list_2 = []"
   ]
  },
  {
   "cell_type": "code",
   "execution_count": 726,
   "metadata": {
    "collapsed": false
   },
   "outputs": [],
   "source": [
    "i = 1\n",
    "for row in city_dreader:\n",
    "    list_2.append({'id': i, 'city': row['CITY']})\n",
    "    i += 1"
   ]
  },
  {
   "cell_type": "code",
   "execution_count": 727,
   "metadata": {
    "collapsed": true
   },
   "outputs": [],
   "source": [
    "city_dwriter.writerows(list_2)\n",
    "city.close()"
   ]
  },
  {
   "cell_type": "code",
   "execution_count": 728,
   "metadata": {
    "collapsed": true
   },
   "outputs": [],
   "source": [
    "city = open('C:/Users/Zhengwei Sun/Desktop/geog465/city.csv')\n",
    "city_dreader = csv.DictReader(city)"
   ]
  },
  {
   "cell_type": "code",
   "execution_count": 729,
   "metadata": {
    "collapsed": false
   },
   "outputs": [
    {
     "name": "stdout",
     "output_type": "stream",
     "text": [
      "{'city': 'Seattle', 'id': '1'}\n",
      "{'city': 'Seattle', 'id': '2'}\n",
      "{'city': 'Seattle', 'id': '3'}\n",
      "{'city': 'Seattle', 'id': '4'}\n",
      "{'city': 'Seattle', 'id': '5'}\n",
      "{'city': 'Seattle', 'id': '6'}\n",
      "{'city': 'Seattle', 'id': '7'}\n",
      "{'city': 'Seattle', 'id': '8'}\n",
      "{'city': 'Seattle', 'id': '9'}\n",
      "{'city': 'Seattle', 'id': '10'}\n",
      "{'city': 'Seattle', 'id': '11'}\n",
      "{'city': 'Seattle', 'id': '12'}\n",
      "{'city': 'Seattle', 'id': '13'}\n",
      "{'city': 'Seattle', 'id': '14'}\n",
      "{'city': 'Seattle', 'id': '15'}\n",
      "{'city': 'Seattle', 'id': '16'}\n",
      "{'city': 'Seattle', 'id': '17'}\n",
      "{'city': 'Seattle', 'id': '18'}\n",
      "{'city': 'Seattle', 'id': '19'}\n",
      "{'city': 'Seattle', 'id': '20'}\n",
      "{'city': 'Seattle', 'id': '21'}\n",
      "{'city': 'Seattle', 'id': '22'}\n",
      "{'city': 'Seattle', 'id': '23'}\n",
      "{'city': 'Seattle', 'id': '24'}\n",
      "{'city': 'Seattle', 'id': '25'}\n",
      "{'city': 'Seattle', 'id': '26'}\n",
      "{'city': 'Seattle', 'id': '27'}\n",
      "{'city': 'Seattle', 'id': '28'}\n",
      "{'city': 'Seattle', 'id': '29'}\n",
      "{'city': 'Seattle', 'id': '30'}\n",
      "{'city': 'Seattle', 'id': '31'}\n",
      "{'city': 'Seattle', 'id': '32'}\n",
      "{'city': 'Seattle', 'id': '33'}\n",
      "{'city': 'Seattle', 'id': '34'}\n",
      "{'city': 'Seattle', 'id': '35'}\n",
      "{'city': 'Seattle', 'id': '36'}\n",
      "{'city': 'Seattle', 'id': '37'}\n",
      "{'city': 'Seattle', 'id': '38'}\n",
      "{'city': 'Seattle', 'id': '39'}\n",
      "{'city': 'Seattle', 'id': '40'}\n",
      "{'city': 'Seattle', 'id': '41'}\n",
      "{'city': 'Seattle', 'id': '42'}\n",
      "{'city': 'Seattle', 'id': '43'}\n",
      "{'city': 'Seattle', 'id': '44'}\n",
      "{'city': 'Seattle', 'id': '45'}\n",
      "{'city': 'Seattle', 'id': '46'}\n",
      "{'city': 'Seattle', 'id': '47'}\n",
      "{'city': 'Seattle', 'id': '48'}\n",
      "{'city': 'Seattle', 'id': '49'}\n",
      "{'city': 'Seattle', 'id': '50'}\n",
      "{'city': 'Seattle', 'id': '51'}\n",
      "{'city': 'Seattle', 'id': '52'}\n",
      "{'city': 'Seattle', 'id': '53'}\n",
      "{'city': 'Seattle', 'id': '54'}\n",
      "{'city': 'Seattle', 'id': '55'}\n",
      "{'city': 'Seattle', 'id': '56'}\n",
      "{'city': 'Seattle', 'id': '57'}\n",
      "{'city': 'Seattle', 'id': '58'}\n",
      "{'city': 'Seattle', 'id': '59'}\n",
      "{'city': 'Seattle', 'id': '60'}\n",
      "{'city': 'Seattle', 'id': '61'}\n",
      "{'city': 'Seattle', 'id': '62'}\n",
      "{'city': 'Seattle', 'id': '63'}\n",
      "{'city': 'Seattle', 'id': '64'}\n",
      "{'city': 'Seattle', 'id': '65'}\n",
      "{'city': 'Seattle', 'id': '66'}\n",
      "{'city': 'Seattle', 'id': '67'}\n",
      "{'city': 'Seattle', 'id': '68'}\n",
      "{'city': 'Seattle', 'id': '69'}\n",
      "{'city': 'Seattle', 'id': '70'}\n",
      "{'city': 'Seattle', 'id': '71'}\n",
      "{'city': 'Seattle', 'id': '72'}\n",
      "{'city': 'Seattle', 'id': '73'}\n",
      "{'city': 'Seattle', 'id': '74'}\n",
      "{'city': 'Seattle', 'id': '75'}\n",
      "{'city': 'Seattle', 'id': '76'}\n",
      "{'city': 'Seattle', 'id': '77'}\n",
      "{'city': 'Seattle', 'id': '78'}\n",
      "{'city': 'Seattle', 'id': '79'}\n",
      "{'city': 'Seattle', 'id': '80'}\n"
     ]
    }
   ],
   "source": [
    "for i in range (0, 80):\n",
    "    print city_dreader.next()"
   ]
  },
  {
   "cell_type": "code",
   "execution_count": 730,
   "metadata": {
    "collapsed": false
   },
   "outputs": [],
   "source": [
    "grade = open ('C:/Users/Zhengwei Sun/Desktop/geog465/grade.csv', 'w')\n",
    "columnnames = ['id', 'grade']\n",
    "grade_dwriter = csv.DictWriter(grade, fieldnames = columnnames)\n",
    "grade_dwriter.writeheader()\n",
    "grade_dreader = csv.DictReader(open('C:/Users/Zhengwei Sun/Downloads/Private_Schools.csv', 'r'))"
   ]
  },
  {
   "cell_type": "code",
   "execution_count": 731,
   "metadata": {
    "collapsed": true
   },
   "outputs": [],
   "source": [
    "list_3 = []"
   ]
  },
  {
   "cell_type": "code",
   "execution_count": 732,
   "metadata": {
    "collapsed": true
   },
   "outputs": [],
   "source": [
    "i = 1\n",
    "for row in grade_dreader:\n",
    "    list_3.append({'id': i, 'grade': row['GRADE']})\n",
    "    i += 1"
   ]
  },
  {
   "cell_type": "code",
   "execution_count": 733,
   "metadata": {
    "collapsed": false
   },
   "outputs": [],
   "source": [
    "grade_dwriter.writerows(list_3)\n",
    "grade.close()"
   ]
  },
  {
   "cell_type": "code",
   "execution_count": 734,
   "metadata": {
    "collapsed": true
   },
   "outputs": [],
   "source": [
    "grade = open('C:/Users/Zhengwei Sun/Desktop/geog465/grade.csv')\n",
    "grade_dreader = csv.DictReader(grade)"
   ]
  },
  {
   "cell_type": "code",
   "execution_count": 735,
   "metadata": {
    "collapsed": false
   },
   "outputs": [
    {
     "name": "stdout",
     "output_type": "stream",
     "text": [
      "{'grade': 'P-8', 'id': '1'}\n",
      "{'grade': 'P-8', 'id': '2'}\n",
      "{'grade': 'P-8', 'id': '3'}\n",
      "{'grade': 'K-8', 'id': '4'}\n",
      "{'grade': 'P-8', 'id': '5'}\n",
      "{'grade': 'P-8', 'id': '6'}\n",
      "{'grade': 'K-9', 'id': '7'}\n",
      "{'grade': '6-8', 'id': '8'}\n",
      "{'grade': '9-12', 'id': '9'}\n",
      "{'grade': 'P-6', 'id': '10'}\n",
      "{'grade': '6-8', 'id': '11'}\n",
      "{'grade': 'P-3', 'id': '12'}\n",
      "{'grade': '3-12', 'id': '13'}\n",
      "{'grade': '5-8', 'id': '14'}\n",
      "{'grade': '1-10', 'id': '15'}\n",
      "{'grade': 'K-5', 'id': '16'}\n",
      "{'grade': 'K-5', 'id': '17'}\n",
      "{'grade': 'P-5', 'id': '18'}\n",
      "{'grade': 'K-3', 'id': '19'}\n",
      "{'grade': 'K-4', 'id': '20'}\n",
      "{'grade': 'P-8', 'id': '21'}\n",
      "{'grade': 'K-5', 'id': '22'}\n",
      "{'grade': '6-12', 'id': '23'}\n",
      "{'grade': '9-12', 'id': '24'}\n",
      "{'grade': 'P-5', 'id': '25'}\n",
      "{'grade': 'P-8', 'id': '26'}\n",
      "{'grade': 'K-10', 'id': '27'}\n",
      "{'grade': 'P-8', 'id': '28'}\n",
      "{'grade': 'P-6', 'id': '29'}\n",
      "{'grade': 'P-8', 'id': '30'}\n",
      "{'grade': 'P-8', 'id': '31'}\n",
      "{'grade': 'P-12', 'id': '32'}\n",
      "{'grade': 'K-12', 'id': '33'}\n",
      "{'grade': 'P-8', 'id': '34'}\n",
      "{'grade': 'P-12', 'id': '35'}\n",
      "{'grade': '9-12', 'id': '36'}\n",
      "{'grade': 'K-5', 'id': '37'}\n",
      "{'grade': 'P-8', 'id': '38'}\n",
      "{'grade': 'K-5', 'id': '39'}\n",
      "{'grade': 'K-5', 'id': '40'}\n",
      "{'grade': 'P-1', 'id': '41'}\n",
      "{'grade': '6-12', 'id': '42'}\n",
      "{'grade': 'K-8', 'id': '43'}\n",
      "{'grade': '6-12', 'id': '44'}\n",
      "{'grade': 'P-6', 'id': '45'}\n",
      "{'grade': 'P-1', 'id': '46'}\n",
      "{'grade': '5-12', 'id': '47'}\n",
      "{'grade': '1-8', 'id': '48'}\n",
      "{'grade': 'K-5', 'id': '49'}\n",
      "{'grade': 'K-6', 'id': '50'}\n",
      "{'grade': 'P-8', 'id': '51'}\n",
      "{'grade': '9-12', 'id': '52'}\n",
      "{'grade': 'P-8', 'id': '53'}\n",
      "{'grade': 'P-5', 'id': '54'}\n",
      "{'grade': 'K-8', 'id': '55'}\n",
      "{'grade': 'K-1', 'id': '56'}\n",
      "{'grade': '6-12', 'id': '57'}\n",
      "{'grade': '9-12', 'id': '58'}\n",
      "{'grade': 'P-8', 'id': '59'}\n",
      "{'grade': '9-12', 'id': '60'}\n",
      "{'grade': '6-12', 'id': '61'}\n",
      "{'grade': 'P-8', 'id': '62'}\n",
      "{'grade': 'P-5', 'id': '63'}\n",
      "{'grade': '5-12', 'id': '64'}\n",
      "{'grade': '1-12', 'id': '65'}\n",
      "{'grade': 'P-8', 'id': '66'}\n",
      "{'grade': 'K-8', 'id': '67'}\n",
      "{'grade': 'P-8', 'id': '68'}\n",
      "{'grade': '6-12', 'id': '69'}\n",
      "{'grade': 'P-8', 'id': '70'}\n",
      "{'grade': 'P-5', 'id': '71'}\n",
      "{'grade': 'P-8', 'id': '72'}\n",
      "{'grade': 'P-1', 'id': '73'}\n",
      "{'grade': 'P-8', 'id': '74'}\n",
      "{'grade': '9-12', 'id': '75'}\n",
      "{'grade': 'K-5', 'id': '76'}\n",
      "{'grade': 'P-8', 'id': '77'}\n",
      "{'grade': 'P-8', 'id': '78'}\n",
      "{'grade': 'P-8', 'id': '79'}\n",
      "{'grade': '9-10', 'id': '80'}\n"
     ]
    }
   ],
   "source": [
    "for i in range (0, 80):\n",
    "    print grade_dreader.next()"
   ]
  },
  {
   "cell_type": "code",
   "execution_count": 736,
   "metadata": {
    "collapsed": false
   },
   "outputs": [],
   "source": [
    "school = open('C:/Users/Zhengwei Sun/Desktop/geog465/school.csv', 'w')\n",
    "columnnames = ['id', 'school_name', 'phone_number', 'address', 'zip_code', 'website',\n",
    "              'shape_id', 'grade_id', 'city_id']\n",
    "school_dwriter = csv.DictWriter(school, fieldnames = columnnames)\n",
    "school_dwriter.writeheader()\n",
    "school_dreader = csv.DictReader(open('C:/Users/Zhengwei Sun/Downloads/Private_Schools.csv', 'r'))"
   ]
  },
  {
   "cell_type": "code",
   "execution_count": 737,
   "metadata": {
    "collapsed": true
   },
   "outputs": [],
   "source": [
    "list_4 = []"
   ]
  },
  {
   "cell_type": "code",
   "execution_count": 738,
   "metadata": {
    "collapsed": true
   },
   "outputs": [],
   "source": [
    "i = 1\n",
    "p = 'NULL'\n",
    "for row in school_dreader:\n",
    "    list_4.append({'id': i, 'school_name': row['NAME'], 'phone_number': row['PHONE'], \n",
    "                  'address': row['ADDRESS'], 'zip_code': row['ZIP'], 'website': row['WEBSITE'], \n",
    "                  'shape_id': p, 'grade_id': p, 'city_id': p})\n",
    "    i += 1"
   ]
  },
  {
   "cell_type": "code",
   "execution_count": 739,
   "metadata": {
    "collapsed": true
   },
   "outputs": [],
   "source": [
    "school_dwriter.writerows(list_4)\n",
    "school.close()"
   ]
  },
  {
   "cell_type": "code",
   "execution_count": 740,
   "metadata": {
    "collapsed": false
   },
   "outputs": [],
   "source": [
    "school = open('C:/Users/Zhengwei Sun/Desktop/geog465/school.csv')\n",
    "school_dreader = csv.DictReader(school)"
   ]
  },
  {
   "cell_type": "code",
   "execution_count": 741,
   "metadata": {
    "collapsed": false
   },
   "outputs": [
    {
     "name": "stdout",
     "output_type": "stream",
     "text": [
      "{'phone_number': '206.725.0780', 'website': 'www.seattlestpaul.org', 'city_id': 'NULL', 'school_name': 'St. Paul School', 'grade_id': 'NULL', 'address': '10001 57th Ave S', 'shape_id': 'NULL', 'id': '1', 'zip_code': '98178_2299'}\n",
      "{'phone_number': '206.324.0460', 'website': 'www.stthereseseattle.org', 'city_id': 'NULL', 'school_name': 'St. Therese Catholic Academy ', 'grade_id': 'NULL', 'address': '900 35th Ave', 'shape_id': 'NULL', 'id': '2', 'zip_code': '98122_5299'}\n",
      "{'phone_number': '206.782.4363', 'website': 'http://www.stalseattle.org/', 'city_id': 'NULL', 'school_name': 'St. Alphonsus School', 'grade_id': 'NULL', 'address': '5816 15th Ave NW', 'shape_id': 'NULL', 'id': '3', 'zip_code': '98107_3096'}\n",
      "{'phone_number': '206.329.3260', 'website': 'www.stjosephsea.org', 'city_id': 'NULL', 'school_name': 'St. Joseph School', 'grade_id': 'NULL', 'address': '700 18th Ave E', 'shape_id': 'NULL', 'id': '4', 'zip_code': '98112_3900'}\n",
      "{'phone_number': '206.725.1774', 'website': 'www.saintedwardseattle.org', 'city_id': 'NULL', 'school_name': 'St. Edwards School', 'grade_id': 'NULL', 'address': '4200 S Mead St', 'shape_id': 'NULL', 'id': '5', 'zip_code': '98118_2795'}\n",
      "{'phone_number': '206.767.6640', 'website': 'www.hfseattle.org/school', 'city_id': 'NULL', 'school_name': 'Holy Family School', 'grade_id': 'NULL', 'address': '9615 20th Ave SW', 'shape_id': 'NULL', 'id': '6', 'zip_code': '98106_2786'}\n",
      "{'phone_number': '206.723.5526', 'website': 'www.agcschool.org', 'city_id': 'NULL', 'school_name': 'Amazing Grace Christian School', 'grade_id': 'NULL', 'address': '10056 Renton Ave S', 'shape_id': 'NULL', 'id': '7', 'zip_code': '98178_2255'}\n",
      "{'phone_number': '206.709.3800', 'website': 'www.lwgms.org', 'city_id': 'NULL', 'school_name': 'Lake WA Girls Middle School', 'grade_id': 'NULL', 'address': '810 18th Ave', 'shape_id': 'NULL', 'id': '8', 'zip_code': '98122_4747'}\n",
      "{'phone_number': '206.723.0333', 'website': 'www.seattleurbanacademy.org', 'city_id': 'NULL', 'school_name': 'Seattle Urban Academy', 'grade_id': 'NULL', 'address': '3800 S Othello St', 'shape_id': 'NULL', 'id': '9', 'zip_code': '98118_3562'}\n",
      "{'phone_number': '206.523.9766', 'website': 'www.mmscdayschool.org', 'city_id': 'NULL', 'school_name': 'MMSC Day School', 'grade_id': 'NULL', 'address': '8511 15th Avenue NE', 'shape_id': 'NULL', 'id': '10', 'zip_code': '98115_3101'}\n",
      "{'phone_number': '206.547.4614', 'website': 'www.billingsmiddleschool.org', 'city_id': 'NULL', 'school_name': 'Billings Middle School', 'grade_id': 'NULL', 'address': '7217 Woodlawn Ave NE', 'shape_id': 'NULL', 'id': '11', 'zip_code': '98115_5335'}\n",
      "{'phone_number': '206.235.5969', 'website': 'www.sagaschool.org', 'city_id': 'NULL', 'school_name': 'Seattle Area German American School', 'grade_id': 'NULL', 'address': '520 NE Ravenna Blvd', 'shape_id': 'NULL', 'id': '12', 'zip_code': '98115_6460'}\n",
      "{'phone_number': '206.214.1011', 'website': 'sterlinged.org', 'city_id': 'NULL', 'school_name': 'Sound View Education ', 'grade_id': 'NULL', 'address': '9205 3rd Ave Sw', 'shape_id': 'NULL', 'id': '13', 'zip_code': '98106_3106'}\n",
      "{'phone_number': '206.384.2126', 'website': 'www.seattlenativity.org', 'city_id': 'NULL', 'school_name': 'Seattle Nativity School', 'grade_id': 'NULL', 'address': '2800 S Massachusetts St', 'shape_id': 'NULL', 'id': '14', 'zip_code': '98144_3870'}\n",
      "{'phone_number': '206.709.9500', 'website': 'www.morningsideacademy.org', 'city_id': 'NULL', 'school_name': 'Morningside Academy', 'grade_id': 'NULL', 'address': '201 Westlake Ave N', 'shape_id': 'NULL', 'id': '15', 'zip_code': '98109_5217'}\n",
      "{'phone_number': '206.283.1828', 'website': 'www.matheia.org', 'city_id': 'NULL', 'school_name': 'Matheia School', 'grade_id': 'NULL', 'address': '2205 NW 67th St', 'shape_id': 'NULL', 'id': '16', 'zip_code': '98117_5737'}\n",
      "{'phone_number': '206.938.4628', 'website': 'www.tildenschool.org', 'city_id': 'NULL', 'school_name': 'Tilden School', 'grade_id': 'NULL', 'address': '4105 California Ave SW', 'shape_id': 'NULL', 'id': '17', 'zip_code': '98116_4101'}\n",
      "{'phone_number': '206.324.4847', 'website': 'www.giddensschool.org', 'city_id': 'NULL', 'school_name': 'Giddens School', 'grade_id': 'NULL', 'address': '620 20th Ave S', 'shape_id': 'NULL', 'id': '18', 'zip_code': '98144_2209'}\n",
      "{'phone_number': '206.522.0350', 'website': 'www.kapkaschool.org', 'city_id': 'NULL', 'school_name': 'Kapka Cooperative School', 'grade_id': 'NULL', 'address': '510 N 49th St', 'shape_id': 'NULL', 'id': '19', 'zip_code': '98103_6420'}\n",
      "{'phone_number': '206.721.3480', 'website': 'www.lakeandpark.org', 'city_id': 'NULL', 'school_name': 'The Lake and Park School', 'grade_id': 'NULL', 'address': '3201 Hunter Blvd S', 'shape_id': 'NULL', 'id': '20', 'zip_code': '98144_7029'}\n",
      "{'phone_number': '206.525.9980', 'website': 'www.ollseattle.org', 'city_id': 'NULL', 'school_name': 'Our Lady Of The Lake School', 'grade_id': 'NULL', 'address': '3520 NE 89th St', 'shape_id': 'NULL', 'id': '21', 'zip_code': '98115_3648'}\n",
      "{'phone_number': '206.632.7154', 'website': 'www.meridianschool.edu', 'city_id': 'NULL', 'school_name': 'Meridian School', 'grade_id': 'NULL', 'address': '4629 Sunnyside Ave N  Ste 242', 'shape_id': 'NULL', 'id': '22', 'zip_code': '98103'}\n",
      "{'phone_number': '206.525.2714', 'website': 'www.universityprep.org', 'city_id': 'NULL', 'school_name': 'University Preparatory', 'grade_id': 'NULL', 'address': '8000 25th Ave NE', 'shape_id': 'NULL', 'id': '23', 'zip_code': '98115_4600'}\n",
      "{'phone_number': '206.937.7722', 'website': 'www.seattlelutheran.org', 'city_id': 'NULL', 'school_name': 'Seattle Lutheran High School', 'grade_id': 'NULL', 'address': '4100 SW Genesee St', 'shape_id': 'NULL', 'id': '24', 'zip_code': '98116_4216'}\n",
      "{'phone_number': '206.323.9011', 'website': 'www.epiphanyschool.org', 'city_id': 'NULL', 'school_name': 'Epiphany School', 'grade_id': 'NULL', 'address': '3611 E Denny Way', 'shape_id': 'NULL', 'id': '25', 'zip_code': '98122_3423'}\n",
      "{'phone_number': '206.932.2511', 'website': 'www.westsideschool.org', 'city_id': 'NULL', 'school_name': 'Westside School', 'grade_id': 'NULL', 'address': '7740 34th Ave SW', 'shape_id': 'NULL', 'id': '26', 'zip_code': '98126_3503'}\n",
      "{'phone_number': '206.427.0115', 'website': 'www.aplschool.org', 'city_id': 'NULL', 'school_name': 'Academy for Precision Learning ', 'grade_id': 'NULL', 'address': '5031 University Way NE     ', 'shape_id': 'NULL', 'id': '27', 'zip_code': '98105_4341'}\n",
      "{'phone_number': '206.789.7889', 'website': 'www.pacificcrest.org', 'city_id': 'NULL', 'school_name': 'Pacific Crest Schools', 'grade_id': 'NULL', 'address': '600 NW Bright St', 'shape_id': 'NULL', 'id': '28', 'zip_code': '98107_4451'}\n",
      "{'phone_number': '206.524.4244', 'website': 'www.northwestmontessori.org', 'city_id': 'NULL', 'school_name': 'Northwest Montessori', 'grade_id': 'NULL', 'address': '4910 Phinney Ave N                   ', 'shape_id': 'NULL', 'id': '29', 'zip_code': '98103_6347'}\n",
      "{'phone_number': '206.633.3375', 'website': 'www.stbens.net', 'city_id': 'NULL', 'school_name': 'St. Benedict School', 'grade_id': 'NULL', 'address': '4811 Wallingford Ave N', 'shape_id': 'NULL', 'id': '30', 'zip_code': '98103_6899'}\n",
      "{'phone_number': '206.624.6176', 'website': 'www.brightwaterschool.org', 'city_id': 'NULL', 'school_name': 'Bright Water School', 'grade_id': 'NULL', 'address': '1501 Tenth Ave E  Suite 100', 'shape_id': 'NULL', 'id': '31', 'zip_code': '98102_4256'}\n",
      "{'phone_number': '206.524.5320', 'website': 'www.seattlewaldorf.org', 'city_id': 'NULL', 'school_name': 'Seattle Waldorf School', 'grade_id': 'NULL', 'address': '2728 NE 100th St', 'shape_id': 'NULL', 'id': '32', 'zip_code': '98125_7712'}\n",
      "{'phone_number': '206.322.7978', 'website': 'www.bush.edu', 'city_id': 'NULL', 'school_name': 'The Bush School', 'grade_id': 'NULL', 'address': '3400 E Harrison', 'shape_id': 'NULL', 'id': '33', 'zip_code': '98112_4268'}\n",
      "{'phone_number': '206.935.0651', 'website': 'guadalupe_school.org', 'city_id': 'NULL', 'school_name': 'Our Lady of Guadalupe School', 'grade_id': 'NULL', 'address': '3401 SW Myrtle St', 'shape_id': 'NULL', 'id': '34', 'zip_code': '98126_3399'}\n",
      "{'phone_number': '206.721.2446', 'website': 'www.Koinonia.edu', 'city_id': 'NULL', 'school_name': 'Koinonia Learning Academy', 'grade_id': 'NULL', 'address': '3019 S Angeline St                                  ', 'shape_id': 'NULL', 'id': '35', 'zip_code': '98118'}\n",
      "{'phone_number': '206.577.2102', 'website': 'www.seaprep.org', 'city_id': 'NULL', 'school_name': 'Seattle Prep/Matteo Ricci College', 'grade_id': 'NULL', 'address': '2400 11th Ave E', 'shape_id': 'NULL', 'id': '36', 'zip_code': '98102_4016'}\n",
      "{'phone_number': '206.522.5212', 'website': 'www.sjcs.net', 'city_id': 'NULL', 'school_name': 'Seattle Jewish Community School', 'grade_id': 'NULL', 'address': '12351 8th Ave NE', 'shape_id': 'NULL', 'id': '37', 'zip_code': '98125_4805'}\n",
      "{'phone_number': '206.362.2785', 'website': 'www.stmattschool.org', 'city_id': 'NULL', 'school_name': 'St. Matthew School', 'grade_id': 'NULL', 'address': '1230 NE 127th St', 'shape_id': 'NULL', 'id': '38', 'zip_code': '98125_4021'}\n",
      "{'phone_number': '206.849.7146', 'website': 'www.taprootschool.org', 'city_id': 'NULL', 'school_name': 'Taproot School', 'grade_id': 'NULL', 'address': '9131 California Ave SW', 'shape_id': 'NULL', 'id': '39', 'zip_code': '98136_2551'}\n",
      "{'phone_number': '206.526.8217', 'website': 'www.perkinsschool.com', 'city_id': 'NULL', 'school_name': 'Perkins School', 'grade_id': 'NULL', 'address': '9005 Roosevelt Way NE', 'shape_id': 'NULL', 'id': '40', 'zip_code': '98115_3030'}\n",
      "{'phone_number': '206.721.1586', 'website': 'www.zionprep.org', 'city_id': 'NULL', 'school_name': 'Zion Preparatory Academy', 'grade_id': 'NULL', 'address': '4730 32nd Ave S', 'shape_id': 'NULL', 'id': '41', 'zip_code': '98118_1702'}\n",
      "{'phone_number': '206.323.6600', 'website': 'www.seattleacademy.org', 'city_id': 'NULL', 'school_name': 'Seattle Academy of Arts/Sciences', 'grade_id': 'NULL', 'address': '1201 E Union St', 'shape_id': 'NULL', 'id': '42', 'zip_code': '98122_3925'}\n",
      "{'phone_number': '206.524.7452', 'website': 'www.asbschool.org', 'city_id': 'NULL', 'school_name': 'Assumption St. Bridget', 'grade_id': 'NULL', 'address': '6220 32nd Ave NE', 'shape_id': 'NULL', 'id': '43', 'zip_code': '98115_7233'}\n",
      "{'phone_number': '206.363.3600', 'website': 'www.springacademy.com', 'city_id': 'NULL', 'school_name': 'Spring Academy', 'grade_id': 'NULL', 'address': '113045 8th Ave NE  Suite A', 'shape_id': 'NULL', 'id': '44', 'zip_code': '98125'}\n",
      "{'phone_number': '206.522.5992 206.369.7833', 'website': 'www.asa_seattle.org', 'city_id': 'NULL', 'school_name': 'Applied Scholastics Academy of Seattle', 'grade_id': 'NULL', 'address': '520 NE Ravenna Blvd', 'shape_id': 'NULL', 'id': '45', 'zip_code': '98115_6460'}\n",
      "{'phone_number': '206.286.0771', 'website': 'www.alcuinschool.com', 'city_id': 'NULL', 'school_name': 'Alcuin School', 'grade_id': 'NULL', 'address': '216 W Boston', 'shape_id': 'NULL', 'id': '46', 'zip_code': '98119_2641'}\n",
      "{'phone_number': '206.368.3600', 'website': 'www.lakesideschool.org', 'city_id': 'NULL', 'school_name': 'Lakeside School', 'grade_id': 'NULL', 'address': '14050 1st Ave NE', 'shape_id': 'NULL', 'id': '47', 'zip_code': '98125_3099'}\n",
      "{'phone_number': '206.763.1167', 'website': 'www.hamlinrobinson.org', 'city_id': 'NULL', 'school_name': 'Hamlin Robinson School', 'grade_id': 'NULL', 'address': '1700 E Union St.', 'shape_id': 'NULL', 'id': '48', 'zip_code': '98122_4140'}\n",
      "{'phone_number': '206.621.9211', 'website': 'www.sprucestreetschool.org', 'city_id': 'NULL', 'school_name': 'Spruce Street School', 'grade_id': 'NULL', 'address': '914 Virginia St', 'shape_id': 'NULL', 'id': '49', 'zip_code': '98101_1426'}\n",
      "{'phone_number': '206.323.6715', 'website': 'www.firstplaceschool.org', 'city_id': 'NULL', 'school_name': 'First Place', 'grade_id': 'NULL', 'address': '172 20th Avenue                                   ', 'shape_id': 'NULL', 'id': '50', 'zip_code': '98122_5862'}\n",
      "{'phone_number': '206.524.8885', 'website': 'www.thevilla.org', 'city_id': 'NULL', 'school_name': 'Villa Academy', 'grade_id': 'NULL', 'address': '5001 NE 50th St', 'shape_id': 'NULL', 'id': '51', 'zip_code': '98105_2899'}\n",
      "{'phone_number': '206.246.9751', 'website': 'www.stchristopheracademy.com', 'city_id': 'NULL', 'school_name': 'St. Christopher Academy', 'grade_id': 'NULL', 'address': '4100 SW Genesee St', 'shape_id': 'NULL', 'id': '52', 'zip_code': '98116_4282'}\n",
      "{'phone_number': '206.525.7407', 'website': 'www.concordiaseattle.com', 'city_id': 'NULL', 'school_name': 'Concordia Lutheran School', 'grade_id': 'NULL', 'address': '7040 36th Ave NE', 'shape_id': 'NULL', 'id': '53', 'zip_code': '98115_5966'}\n",
      "{'phone_number': '206.324.5476', 'website': 'www.bertschi.org', 'city_id': 'NULL', 'school_name': 'Bertschi School', 'grade_id': 'NULL', 'address': '2227 10th Ave E', 'shape_id': 'NULL', 'id': '54', 'zip_code': '98102_4177'}\n",
      "{'phone_number': '206.937.7255', 'website': 'www.holyrosaryws.org', 'city_id': 'NULL', 'school_name': 'Holy Rosary Elementary', 'grade_id': 'NULL', 'address': '4142 42nd Ave SW', 'shape_id': 'NULL', 'id': '55', 'zip_code': '98116_4202'}\n",
      "{'phone_number': '206.218.2175', 'website': 'www.northseattlefrenchschool.com', 'city_id': 'NULL', 'school_name': 'North Seattle French School', 'grade_id': 'NULL', 'address': '6615 Dayton Ave N', 'shape_id': 'NULL', 'id': '56', 'zip_code': '98103_5215'}\n",
      "{'phone_number': '206.324.4350', 'website': 'www.pscs.org', 'city_id': 'NULL', 'school_name': 'Puget Sound Community School', 'grade_id': 'NULL', 'address': '660 S Dearborn St', 'shape_id': 'NULL', 'id': '57', 'zip_code': '98134_1328'}\n",
      "{'phone_number': '206.622.6596', 'website': 'www.odea.org', 'city_id': 'NULL', 'school_name': \"O'Dea High School\", 'grade_id': 'NULL', 'address': '802 Terry Ave', 'shape_id': 'NULL', 'id': '58', 'zip_code': '98104_1294'}\n",
      "{'phone_number': '206.525.0582', 'website': 'www.stcatherineschool.net', 'city_id': 'NULL', 'school_name': 'St. Catherine School', 'grade_id': 'NULL', 'address': '8524 8th Ave NE', 'shape_id': 'NULL', 'id': '59', 'zip_code': '98115_3099'}\n",
      "{'phone_number': '206.527.7711', 'website': 'www.bishopblanchet.org', 'city_id': 'NULL', 'school_name': 'Bishop Blanchet High School', 'grade_id': 'NULL', 'address': '8200 Wallingford Ave N', 'shape_id': 'NULL', 'id': '60', 'zip_code': '98103_4599'}\n",
      "{'phone_number': '206.682.7309', 'website': 'www.northwestschool.org', 'city_id': 'NULL', 'school_name': 'Northwest School', 'grade_id': 'NULL', 'address': '1415 Summit Ave', 'shape_id': 'NULL', 'id': '61', 'zip_code': '98122_3619'}\n",
      "{'phone_number': '206.364.6890', 'website': 'www.ckseattle.org', 'city_id': 'NULL', 'school_name': 'Christ the King School', 'grade_id': 'NULL', 'address': '415 N 117th St', 'shape_id': 'NULL', 'id': '62', 'zip_code': '98133_8309'}\n",
      "{'phone_number': '206.328.4475', 'website': 'www.thevalleyschool.org', 'city_id': 'NULL', 'school_name': 'Valley School', 'grade_id': 'NULL', 'address': '309 31st Ave E', 'shape_id': 'NULL', 'id': '63', 'zip_code': '98112_4819'}\n",
      "{'phone_number': '206.709.2228', 'website': 'www.seattlegirlsschool.org', 'city_id': 'NULL', 'school_name': 'Seattle Girls School', 'grade_id': 'NULL', 'address': '2706 S Jackson St ', 'shape_id': 'NULL', 'id': '64', 'zip_code': '98144_2442'}\n",
      "{'phone_number': '425.885.1123', 'website': 'www.dartmoor.org', 'city_id': 'NULL', 'school_name': 'Dartmoor School__Seattle', 'grade_id': 'NULL', 'address': '9618 Roosevelt Way NE          ', 'shape_id': 'NULL', 'id': '65', 'zip_code': '98115_2236'}\n",
      "{'phone_number': '206.935.8500', 'website': 'www.hopeseattle.org', 'city_id': 'NULL', 'school_name': 'Hope Lutheran School', 'grade_id': 'NULL', 'address': '4456 42nd Ave SW', 'shape_id': 'NULL', 'id': '66', 'zip_code': '98116_4223'}\n",
      "{'phone_number': '206.284.6220', 'website': 'www.seattlecountryday.org', 'city_id': 'NULL', 'school_name': 'Seattle Country Day School', 'grade_id': 'NULL', 'address': '2619 4th Ave N', 'shape_id': 'NULL', 'id': '67', 'zip_code': '98109_1903'}\n",
      "{'phone_number': '206.762.0656', 'website': 'www.saintgeorgeseattle.org', 'city_id': 'NULL', 'school_name': 'St. George School', 'grade_id': 'NULL', 'address': '5117 13th Ave S', 'shape_id': 'NULL', 'id': '68', 'zip_code': '98108_2309'}\n",
      "{'phone_number': '206.284.2300', 'website': 'www.brightmontacademy.com ', 'city_id': 'NULL', 'school_name': 'Brightmont Academy_Seattle Campus', 'grade_id': 'NULL', 'address': '9750 Third Ave NE  Ste 102   ', 'shape_id': 'NULL', 'id': '69', 'zip_code': '98115_2022'}\n",
      "{'phone_number': '206.722.1200', 'website': 'www.tdsseattle.org', 'city_id': 'NULL', 'school_name': 'Torah Day School of Seattle', 'grade_id': 'NULL', 'address': '1625 S Columbia Way', 'shape_id': 'NULL', 'id': '70', 'zip_code': '98108'}\n",
      "{'phone_number': '206.547.8237', 'website': 'www.ucds.org', 'city_id': 'NULL', 'school_name': 'University Child Development School', 'grade_id': 'NULL', 'address': '5062 9th Ave NE', 'shape_id': 'NULL', 'id': '71', 'zip_code': '98105_3605'}\n",
      "{'phone_number': '206.323.5750', 'website': 'www.seattlehebrewacademy.org', 'city_id': 'NULL', 'school_name': 'Seattle Hebrew Academy', 'grade_id': 'NULL', 'address': '1617 Interlaken Dr E', 'shape_id': 'NULL', 'id': '72', 'zip_code': '98112_3499'}\n",
      "{'phone_number': '206.330.6373', 'website': 'seattleamistadschool.org', 'city_id': 'NULL', 'school_name': 'Seattle Amistad School', 'grade_id': 'NULL', 'address': '2410 E Cherry', 'shape_id': 'NULL', 'id': '73', 'zip_code': '98122'}\n",
      "{'phone_number': '206.526.0762', 'website': 'www.fcsseattle.org', 'city_id': 'NULL', 'school_name': 'Fairview Christian School                                              ', 'grade_id': 'NULL', 'address': '844 NE 78th St', 'shape_id': 'NULL', 'id': '74', 'zip_code': '98115_4202'}\n",
      "{'phone_number': '206.323.4272', 'website': 'www.holynames_sea.org', 'city_id': 'NULL', 'school_name': 'Holy Names Academy', 'grade_id': 'NULL', 'address': '728 21st Ave E', 'shape_id': 'NULL', 'id': '75', 'zip_code': '98112_4058'}\n",
      "{'phone_number': '206.524.0653', 'website': 'www.ucoopschool.org', 'city_id': 'NULL', 'school_name': 'University Cooperative School', 'grade_id': 'NULL', 'address': '5601 University Ave NE', 'shape_id': 'NULL', 'id': '76', 'zip_code': '98105_2619'}\n",
      "{'phone_number': '206.783.0337', 'website': 'www.stjohnsea.org', 'city_id': 'NULL', 'school_name': 'St. John School', 'grade_id': 'NULL', 'address': '120 N 79th St', 'shape_id': 'NULL', 'id': '77', 'zip_code': '98103_4688'}\n",
      "{'phone_number': '206.283.7031', 'website': 'www.olfatima.org', 'city_id': 'NULL', 'school_name': 'Our Lady of Fatima School', 'grade_id': 'NULL', 'address': '3301 W Dravus St', 'shape_id': 'NULL', 'id': '78', 'zip_code': '98199_2624'}\n",
      "{'phone_number': '206.282.3538', 'website': 'www.stannesea.org', 'city_id': 'NULL', 'school_name': 'St. Anne School', 'grade_id': 'NULL', 'address': '101 W Lee St', 'shape_id': 'NULL', 'id': '79', 'zip_code': '98119_3321'}\n",
      "{'phone_number': '206.790.1475', 'website': 'www.derechemunah.com', 'city_id': 'NULL', 'school_name': 'Derech Emunah dba Seattle Jewish Girls High School', 'grade_id': 'NULL', 'address': '650 S Orcas   Suite 200', 'shape_id': 'NULL', 'id': '80', 'zip_code': '98108'}\n"
     ]
    }
   ],
   "source": [
    "for i in range (0, 80):\n",
    "    print school_dreader.next()"
   ]
  }
 ],
 "metadata": {
  "kernelspec": {
   "display_name": "Python 2",
   "language": "python",
   "name": "python2"
  },
  "language_info": {
   "codemirror_mode": {
    "name": "ipython",
    "version": 2
   },
   "file_extension": ".py",
   "mimetype": "text/x-python",
   "name": "python",
   "nbconvert_exporter": "python",
   "pygments_lexer": "ipython2",
   "version": "2.7.11"
  }
 },
 "nbformat": 4,
 "nbformat_minor": 0
}
