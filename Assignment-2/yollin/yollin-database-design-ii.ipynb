{
 "cells": [
  {
   "cell_type": "markdown",
   "metadata": {},
   "source": [
    "Bethany Yollin"
   ]
  },
  {
   "cell_type": "code",
   "execution_count": 1,
   "metadata": {
    "collapsed": true
   },
   "outputs": [],
   "source": [
    "# setup stuff\n",
    "import csv\n",
    "\n",
    "f = 'C:\\\\Users\\\\Bethany\\\\Dropbox\\\\GEOG\\\\data\\\\incident-response-clean.csv'\n",
    "\n",
    "incidents = []\n",
    "desc      = {}\n",
    "group     = {}\n",
    "type      = {}"
   ]
  },
  {
   "cell_type": "code",
   "execution_count": 2,
   "metadata": {
    "collapsed": true
   },
   "outputs": [],
   "source": [
    "# read data from csv file\n",
    "(i,j,k) = (0,0,0)\n",
    "with open(f) as csvfile:\n",
    "        reader = csv.DictReader(csvfile)\n",
    "        for row in reader:\n",
    "            \n",
    "            # add incidents to list\n",
    "            incidents.append({'id':row['id'],'date':row['date'],'arrive':row['arrive'],\n",
    "                              'lat':row['lat'],'long':row['long'],'block':row['block'],\n",
    "                              'incident_tract_id':None,'incident_beat_id':None,\n",
    "                              'incident_desc_id':None})\n",
    "                              \n",
    "            # add crime descriptions to dictionary                  \n",
    "            if row['desc'] in desc.values():\n",
    "                pass\n",
    "            else:\n",
    "                desc[i] = row['desc']\n",
    "                i = i + 1\n",
    "                \n",
    "            # add crime groups to dictionary\n",
    "            if row['group'] in group.values():\n",
    "                pass\n",
    "            else:\n",
    "                group[j] = row['group']\n",
    "                j = j + 1\n",
    "                \n",
    "            # add crime types to dictionary\n",
    "            if row['type'] in type.values():\n",
    "                pass\n",
    "            else:\n",
    "                type[k] = row['type']\n",
    "                k = k + 1"
   ]
  },
  {
   "cell_type": "code",
   "execution_count": 4,
   "metadata": {
    "collapsed": true
   },
   "outputs": [],
   "source": [
    "# create files and define column headers\n",
    "(f1, fields1) = (open('incidents.csv', 'wb'), ['id','date','arrive','lat','long',\n",
    "                                               'block','incident_tract_id','incident_beat_id',\n",
    "                                               'incident_desc_id'])\n",
    "(f2, fields2) = (open('description.csv', 'wb'), ['desc_id','desc_group_id','desc'])\n",
    "(f3, fields3) = (open('group.csv', 'wb'), ['group_id','group_type_id','group'])\n",
    "(f4, fields4) = (open('type.csv', 'wb'), ['type_id','type'])"
   ]
  },
  {
   "cell_type": "code",
   "execution_count": 5,
   "metadata": {
    "collapsed": true
   },
   "outputs": [],
   "source": [
    "# write data to csv files\n",
    "with f1 as csvfile:\n",
    "    writer = csv.DictWriter(csvfile, fields1)\n",
    "    writer.writeheader()\n",
    "    writer.writerows(incidents)\n",
    "\n",
    "with f2 as csvfile:\n",
    "    writer = csv.DictWriter(f2, fields2)\n",
    "    writer.writeheader()\n",
    "    for key, value in desc.items():\n",
    "        writer.writerow({fields2[0]:key, fields2[1]:None, fields2[2]:value})\n",
    "   \n",
    "with f3 as csvfile:\n",
    "    writer = csv.DictWriter(f3, fields3)\n",
    "    writer.writeheader()\n",
    "    for key, value in group.items():\n",
    "        writer.writerow({fields3[0]:key, fields3[1]:None, fields3[2]:value})\n",
    "\n",
    "with f4 as csvfile:\n",
    "    writer = csv.DictWriter(f4, fields4)\n",
    "    writer.writeheader()\n",
    "    for key, value in type.items():\n",
    "        writer.writerow({fields4[0]:key, fields4[1]:value})"
   ]
  }
 ],
 "metadata": {
  "kernelspec": {
   "display_name": "Python 2",
   "language": "python",
   "name": "python2"
  },
  "language_info": {
   "codemirror_mode": {
    "name": "ipython",
    "version": 2
   },
   "file_extension": ".py",
   "mimetype": "text/x-python",
   "name": "python",
   "nbconvert_exporter": "python",
   "pygments_lexer": "ipython2",
   "version": "2.7.10"
  }
 },
 "nbformat": 4,
 "nbformat_minor": 0
}
