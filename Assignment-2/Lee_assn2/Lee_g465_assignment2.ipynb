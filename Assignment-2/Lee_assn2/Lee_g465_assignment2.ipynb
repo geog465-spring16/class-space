{
 "cells": [
  {
   "cell_type": "code",
   "execution_count": 324,
   "metadata": {
    "collapsed": true
   },
   "outputs": [],
   "source": [
    "#Open the .csv file representing the table that I've been working with\n",
    "import csv\n",
    "f = open('/Users/marina/Desktop/G465/Grocery_Stores.csv')\n",
    "my_csv = csv.reader(f, delimiter = ',')"
   ]
  },
  {
   "cell_type": "code",
   "execution_count": 325,
   "metadata": {
    "collapsed": true
   },
   "outputs": [],
   "source": [
    "#Define column headers and lists for each new table based on the schemas\n",
    "Market_Type = ['id', 'Type']\n",
    "Grocery = ['id', 'Name', 'Address','Zip_Code','Market_Type_id']\n",
    "Neighborhood =['id', 'Name']\n",
    "Neighborhood_Grocery_Location = ['id','Grocery_id','Neighborhood_id']"
   ]
  },
  {
   "cell_type": "code",
   "execution_count": 326,
   "metadata": {
    "collapsed": true
   },
   "outputs": [],
   "source": [
    "# Creating new .csv file for new table\n",
    "Market_Type = open('/Users/marina/Desktop/G465/Market_Type.csv', 'w')"
   ]
  },
  {
   "cell_type": "code",
   "execution_count": 327,
   "metadata": {
    "collapsed": true
   },
   "outputs": [],
   "source": [
    "Market_Type_dwriter = csv.DictWriter(Market_Type, fieldnames = ['id', 'Type'])"
   ]
  },
  {
   "cell_type": "code",
   "execution_count": 328,
   "metadata": {
    "collapsed": false
   },
   "outputs": [],
   "source": [
    "Market_Type_dwriter.writeheader()"
   ]
  },
  {
   "cell_type": "code",
   "execution_count": 329,
   "metadata": {
    "collapsed": true
   },
   "outputs": [],
   "source": [
    "Market_Type_dreader = csv.DictReader (open('/Users/marina/Desktop/G465/Grocery_Stores.csv','r'))"
   ]
  },
  {
   "cell_type": "code",
   "execution_count": 330,
   "metadata": {
    "collapsed": true
   },
   "outputs": [],
   "source": [
    "#Appendding rows from original table to lists\n",
    "Market_Type_list = []"
   ]
  },
  {
   "cell_type": "code",
   "execution_count": 331,
   "metadata": {
    "collapsed": false
   },
   "outputs": [],
   "source": [
    "i = 1\n",
    "for row in Market_Type_dreader:\n",
    "    Market_Type_list.append({'id': i, 'Type': row['type']})\n",
    "    i +=1"
   ]
  },
  {
   "cell_type": "code",
   "execution_count": 332,
   "metadata": {
    "collapsed": false
   },
   "outputs": [],
   "source": [
    "Market_Type_dwriter.writerows(Market_Type_list)"
   ]
  },
  {
   "cell_type": "code",
   "execution_count": 333,
   "metadata": {
    "collapsed": true
   },
   "outputs": [],
   "source": [
    "Market_Type.close()"
   ]
  },
  {
   "cell_type": "code",
   "execution_count": 334,
   "metadata": {
    "collapsed": true
   },
   "outputs": [],
   "source": [
    "#Read rows from new table that I created\n",
    "Market_Type = open('/Users/marina/Desktop/G465/Market_Type.csv')\n",
    "Market_Type_dreader = csv.DictReader(Market_Type)"
   ]
  },
  {
   "cell_type": "code",
   "execution_count": 335,
   "metadata": {
    "collapsed": false
   },
   "outputs": [
    {
     "name": "stdout",
     "output_type": "stream",
     "text": [
      "{'Type': 'Limited Supermarket', 'id': '1'}\n",
      "{'Type': 'Limited Supermarket', 'id': '2'}\n",
      "{'Type': 'Limited Supermarket', 'id': '3'}\n",
      "{'Type': 'Limited Supermarket', 'id': '4'}\n",
      "{'Type': 'Full Supermarket', 'id': '5'}\n",
      "{'Type': 'Small Supermarket', 'id': '6'}\n",
      "{'Type': 'Full Supermarket', 'id': '7'}\n",
      "{'Type': 'Limited Supermarket', 'id': '8'}\n",
      "{'Type': 'Full Supermarket', 'id': '9'}\n",
      "{'Type': 'Limited Supermarket', 'id': '10'}\n",
      "{'Type': 'Limited Supermarket', 'id': '11'}\n",
      "{'Type': 'Limited Supermarket', 'id': '12'}\n",
      "{'Type': 'Limited Supermarket', 'id': '13'}\n",
      "{'Type': 'Limited Supermarket', 'id': '14'}\n",
      "{'Type': 'Full Supermarket', 'id': '15'}\n",
      "{'Type': 'Full Supermarket', 'id': '16'}\n",
      "{'Type': 'Full Supermarket', 'id': '17'}\n",
      "{'Type': 'Full Supermarket', 'id': '18'}\n",
      "{'Type': 'Limited Supermarket', 'id': '19'}\n",
      "{'Type': 'Full Supermarket', 'id': '20'}\n",
      "{'Type': 'Limited Supermarket', 'id': '21'}\n",
      "{'Type': 'Small Supermarket', 'id': '22'}\n",
      "{'Type': 'Limited Supermarket', 'id': '23'}\n",
      "{'Type': 'Limited Supermarket', 'id': '24'}\n",
      "{'Type': 'Full Supermarket', 'id': '25'}\n",
      "{'Type': 'Full Supermarket', 'id': '26'}\n",
      "{'Type': 'Limited Supermarket', 'id': '27'}\n",
      "{'Type': 'Small Supermarket', 'id': '28'}\n",
      "{'Type': 'Full Supermarket', 'id': '29'}\n",
      "{'Type': 'Small Supermarket', 'id': '30'}\n",
      "{'Type': 'Limited Supermarket', 'id': '31'}\n",
      "{'Type': 'Small Supermarket', 'id': '32'}\n",
      "{'Type': 'Limited Supermarket', 'id': '33'}\n",
      "{'Type': 'Limited Supermarket', 'id': '34'}\n",
      "{'Type': 'Limited Supermarket', 'id': '35'}\n",
      "{'Type': 'Limited Supermarket', 'id': '36'}\n",
      "{'Type': 'Full Supermarket', 'id': '37'}\n",
      "{'Type': 'Small Supermarket', 'id': '38'}\n",
      "{'Type': 'Limited Supermarket', 'id': '39'}\n",
      "{'Type': 'Full Supermarket', 'id': '40'}\n",
      "{'Type': 'Small Supermarket', 'id': '41'}\n",
      "{'Type': 'Full Supermarket', 'id': '42'}\n",
      "{'Type': 'Small Supermarket', 'id': '43'}\n",
      "{'Type': 'Full Supermarket', 'id': '44'}\n"
     ]
    }
   ],
   "source": [
    "for i in range(0, 44):\n",
    "    print Market_Type_dreader.next()"
   ]
  },
  {
   "cell_type": "code",
   "execution_count": 336,
   "metadata": {
    "collapsed": false
   },
   "outputs": [
    {
     "name": "stdout",
     "output_type": "stream",
     "text": [
      "{'Zip_Code': '21217', 'Address': '250 MCMECHEN st\\nBaltimore, MD\\n', 'Market_Type_id': '', 'id': '1', 'Name': 'SAVE-A-LOT'}\n",
      "{'Zip_Code': '21215', 'Address': '3601 COLD SPRING LN\\nBaltimore, MD\\n', 'Market_Type_id': '', 'id': '2', 'Name': 'ALDI'}\n",
      "{'Zip_Code': '21230', 'Address': '3140 WASHINGTON BLVD\\nBaltimore, MD\\n', 'Market_Type_id': '', 'id': '3', 'Name': 'ALDI     (A.K.A. 3000 ATCO AVENUE)'}\n",
      "{'Zip_Code': '21231', 'Address': '517 BROADWAY\\nBaltimore, MD\\n', 'Market_Type_id': '', 'id': '4', 'Name': 'SAVE A LOT OF FELLS  POINT'}\n",
      "{'Zip_Code': '21218', 'Address': '2401 CHARLES ST\\nBaltimore, MD\\n', 'Market_Type_id': '', 'id': '5', 'Name': 'SAFEWAY, INC.'}\n",
      "{'Zip_Code': '21224', 'Address': '3800 LOMBARD ST\\nBaltimore, MD\\n', 'Market_Type_id': '', 'id': '6', 'Name': \"SANTONI'S, INC.\"}\n",
      "{'Zip_Code': '21224', 'Address': '6500 EASTERN AVE\\nBaltimore, MD\\n', 'Market_Type_id': '', 'id': '7', 'Name': 'SHOPPERS FOOD & PHARMACY # 7567'}\n",
      "{'Zip_Code': '21225', 'Address': '413 PATAPSCO AVE\\nBaltimore, MD\\n', 'Market_Type_id': '', 'id': '8', 'Name': 'SAVE-ON-FOOD SUPERMARKET'}\n",
      "{'Zip_Code': '21229', 'Address': '4624 EDMONDSON AVE\\nBaltimore, MD\\n', 'Market_Type_id': '', 'id': '9', 'Name': 'GIANT FOOD STORE # 317'}\n",
      "{'Zip_Code': '21217', 'Address': '1400 MONROE ST\\nBaltimore, MD\\n', 'Market_Type_id': '', 'id': '10', 'Name': 'STOP, SHOP & SAVE'}\n",
      "{'Zip_Code': '21201', 'Address': '1101 PENNSYLVANIA AVE\\nBaltimore, MD\\n', 'Market_Type_id': '', 'id': '11', 'Name': 'STOP-SHOP & SAVE'}\n",
      "{'Zip_Code': '21230', 'Address': '2601 PORT COVINGTON dr\\nBaltimore, MD\\n', 'Market_Type_id': '', 'id': '12', 'Name': \"SAM'S CLUB # 4771\"}\n",
      "{'Zip_Code': '21202', 'Address': '1600 HARFORD AVE\\nBaltimore, MD\\n', 'Market_Type_id': '', 'id': '13', 'Name': 'STOP-SHOP & SAVE'}\n",
      "{'Zip_Code': '21224', 'Address': '3250 FAYETTE ST\\nBaltimore, MD\\n', 'Market_Type_id': '', 'id': '14', 'Name': 'ALDI,  INC.'}\n",
      "{'Zip_Code': '21224', 'Address': '2610 BOSTON ST\\nBaltimore, MD\\n', 'Market_Type_id': '', 'id': '15', 'Name': 'SAFEWAY   (STORE #1481)'}\n",
      "{'Zip_Code': '21211', 'Address': '711 40TH ST\\nBaltimore, MD\\n', 'Market_Type_id': '', 'id': '16', 'Name': 'GIANT FOOD STORE #124'}\n",
      "{'Zip_Code': '21211', 'Address': '1020 41ST ST\\nBaltimore, MD\\n', 'Market_Type_id': '', 'id': '17', 'Name': 'SUPERFRESH'}\n",
      "{'Zip_Code': '21218', 'Address': '601 33RD ST\\nBaltimore, MD\\n', 'Market_Type_id': '', 'id': '18', 'Name': 'GIANT FOODS #303'}\n",
      "{'Zip_Code': '21213', 'Address': '4001 ERDMAN AVE\\nBaltimore, MD\\n', 'Market_Type_id': '', 'id': '19', 'Name': 'SAVE-A-LOT'}\n",
      "{'Zip_Code': '21209', 'Address': '1330 SMITH AVE\\nBaltimore, MD\\n', 'Market_Type_id': '', 'id': '20', 'Name': 'WHOLE FOODS MARKET'}\n",
      "{'Zip_Code': '21239', 'Address': '5600 THE\\nBaltimore, MD\\n', 'Market_Type_id': '', 'id': '21', 'Name': 'STOP SHOP SAVE FOOD MARKET'}\n",
      "{'Zip_Code': '21239', 'Address': '1700 NORTHERN PKWY\\nBaltimore, MD\\n', 'Market_Type_id': '', 'id': '22', 'Name': 'MARS SUPER MARKETS INC.'}\n",
      "{'Zip_Code': '21205', 'Address': '929 CAROLINE ST\\nBaltimore, MD\\n', 'Market_Type_id': '', 'id': '23', 'Name': 'STOP, SHOP & SAVE'}\n",
      "{'Zip_Code': '21215', 'Address': '2701 COLD SPRING LN\\nBaltimore, MD\\n', 'Market_Type_id': '', 'id': '24', 'Name': 'BAINES STOP SHOP & SAVE #04'}\n",
      "{'Zip_Code': '21223', 'Address': '1205 PRATT ST\\nBaltimore, MD\\n', 'Market_Type_id': '', 'id': '25', 'Name': 'SAFEWAY STORES, INC. #1153'}\n",
      "{'Zip_Code': '21206', 'Address': '5150 SINCLAIR LN\\nBaltimore, MD\\n', 'Market_Type_id': '', 'id': '26', 'Name': 'GIANT FOOD STORE #145'}\n",
      "{'Zip_Code': '21206', 'Address': '5950 BELAIR RD\\nBaltimore, MD\\n', 'Market_Type_id': '', 'id': '27', 'Name': 'BI-RITE'}\n",
      "{'Zip_Code': '21218', 'Address': '3117 ST PAUL ST\\nBaltimore, MD\\n', 'Market_Type_id': '', 'id': '28', 'Name': \"EDDIE'S SUPERMARKET\"}\n",
      "{'Zip_Code': '21223', 'Address': '2495 FREDERICK AVE\\nBaltimore, MD\\n', 'Market_Type_id': '', 'id': '29', 'Name': 'SUPER FRESH FOOD MARKETS #813'}\n",
      "{'Zip_Code': '21227', 'Address': '3400 ANNAPOLIS RD\\nBaltimore, MD\\n', 'Market_Type_id': '', 'id': '30', 'Name': 'FOOD KING SUPERMARKET'}\n",
      "{'Zip_Code': '21230', 'Address': '717 WASHINGTON BLVD\\nBaltimore, MD\\n', 'Market_Type_id': '', 'id': '31', 'Name': 'SAVE-A-LOT'}\n",
      "{'Zip_Code': '21215', 'Address': '5700 WABASH AVE\\nBaltimore, MD\\n', 'Market_Type_id': '', 'id': '32', 'Name': 'FOOD KING SUPERMARKET'}\n",
      "{'Zip_Code': '21215', 'Address': '2301 LIBERTY HEIGHTS AVE\\nBaltimore, MD\\n', 'Market_Type_id': '', 'id': '33', 'Name': 'STOP, SHOP & SAVE'}\n",
      "{'Zip_Code': '21216', 'Address': '3427 CLIFTON AVE\\nBaltimore, MD\\n', 'Market_Type_id': '', 'id': '34', 'Name': 'STOP, SHOP & SAVE'}\n",
      "{'Zip_Code': '21215', 'Address': '6836 REISTERSTOWN RD\\nBaltimore, MD\\n', 'Market_Type_id': '', 'id': '35', 'Name': 'SAVE-A-LOT'}\n",
      "{'Zip_Code': '21218', 'Address': '2008 MARYLAND AVE\\nBaltimore, MD\\n', 'Market_Type_id': '', 'id': '36', 'Name': 'SAVE-A-LOT'}\n",
      "{'Zip_Code': '21214', 'Address': '4401 HARFORD RD\\nBaltimore, MD\\n', 'Market_Type_id': '', 'id': '37', 'Name': 'SAFEWAY, INC. # 1513'}\n",
      "{'Zip_Code': '21210', 'Address': '5113 ROLAND AVE\\nBaltimore, MD\\n', 'Market_Type_id': '', 'id': '38', 'Name': \"EDDIE'S SUPER MARKET\"}\n",
      "{'Zip_Code': '21218', 'Address': '1500 HAVENWOOD\\nBaltimore, MD\\n', 'Market_Type_id': '', 'id': '39', 'Name': 'SAVE-A-LOT'}\n",
      "{'Zip_Code': '21202', 'Address': '1001 FLEET ST\\nBaltimore, MD\\n', 'Market_Type_id': '', 'id': '40', 'Name': 'WHOLE FOODS MARKET'}\n",
      "{'Zip_Code': '21239', 'Address': '5830 HILLEN RD\\nBaltimore, MD\\n', 'Market_Type_id': '', 'id': '41', 'Name': 'FOOD KING'}\n",
      "{'Zip_Code': '21215', 'Address': '6620 REISTERSTOWN RD\\nBaltimore, MD\\n', 'Market_Type_id': '', 'id': '42', 'Name': 'GIANT FOOD # 397'}\n",
      "{'Zip_Code': '21224', 'Address': '19 HIGHLAND AVE\\nBaltimore, MD\\n', 'Market_Type_id': '', 'id': '43', 'Name': 'HIGHLANDTOWN  GROCERY  &  DELI'}\n",
      "{'Zip_Code': '21230', 'Address': '900 Fort Ave\\nBaltimore, MD\\n', 'Market_Type_id': '', 'id': '44', 'Name': 'SHOPPERS'}\n"
     ]
    }
   ],
   "source": [
    "#Create new table for Grocery.csv file by using same path above\n",
    "Grocery = open('/Users/marina/Desktop/G465/Grocery.csv', 'w')\n",
    "Grocery_dwriter = csv.DictWriter(Grocery, fieldnames = ['id', 'Name', 'Address','Zip_Code','Market_Type_id'])\n",
    "Grocery_dwriter.writeheader()\n",
    "Grocery_dreader = csv.DictReader (open('/Users/marina/Desktop/G465/Grocery_Stores.csv','r'))\n",
    "Grocery_list = []\n",
    "i = 1\n",
    "for row in Grocery_dreader:\n",
    "    Grocery_list.append({'id': i, 'Name': row['name'], 'Address': row['Location 1'], 'Zip_Code': row['zipCode'], 'Market_Type_id': ''})\n",
    "    i +=1\n",
    "Grocery_dwriter.writerows(Grocery_list)\n",
    "Grocery.close()\n",
    "Grocery = open('/Users/marina/Desktop/G465/Grocery.csv')\n",
    "Grocery_dreader = csv.DictReader(Grocery)\n",
    "for i in range(0, 44):\n",
    "    print Grocery_dreader.next()"
   ]
  },
  {
   "cell_type": "code",
   "execution_count": 337,
   "metadata": {
    "collapsed": false
   },
   "outputs": [
    {
     "name": "stdout",
     "output_type": "stream",
     "text": [
      "{'id': '1', 'Name': 'Bolton Hill'}\n",
      "{'id': '2', 'Name': 'Ashburton'}\n",
      "{'id': '3', 'Name': 'Morrell Park'}\n",
      "{'id': '4', 'Name': 'Fells Point'}\n",
      "{'id': '5', 'Name': 'Charles Village'}\n",
      "{'id': '6', 'Name': 'Baltimore Highlands'}\n",
      "{'id': '7', 'Name': 'Pulaski Industrial Area'}\n",
      "{'id': '8', 'Name': 'Brooklyn'}\n",
      "{'id': '9', 'Name': 'Hunting Ridge'}\n",
      "{'id': '10', 'Name': 'Bridgeview/Greenlawn'}\n",
      "{'id': '11', 'Name': 'Upton'}\n",
      "{'id': '12', 'Name': 'Port Covington'}\n",
      "{'id': '13', 'Name': 'Oliver'}\n",
      "{'id': '14', 'Name': 'Ellwood Park/Monument'}\n",
      "{'id': '15', 'Name': 'Canton'}\n",
      "{'id': '16', 'Name': 'Hampden'}\n",
      "{'id': '17', 'Name': 'Hoes Heights'}\n",
      "{'id': '18', 'Name': 'Better Waverly'}\n",
      "{'id': '19', 'Name': 'Belair-Edison'}\n",
      "{'id': '20', 'Name': 'Sabina-Mattfeldt'}\n",
      "{'id': '21', 'Name': 'Glen Oaks'}\n",
      "{'id': '22', 'Name': 'Loch Raven'}\n",
      "{'id': '23', 'Name': 'Gay Street'}\n",
      "{'id': '24', 'Name': 'Central Park Heights'}\n",
      "{'id': '25', 'Name': 'Washington Village'}\n",
      "{'id': '26', 'Name': 'Frankford'}\n",
      "{'id': '27', 'Name': 'Glenham-Belford'}\n",
      "{'id': '28', 'Name': 'Charles Village'}\n",
      "{'id': '29', 'Name': 'Millhill'}\n",
      "{'id': '30', 'Name': 'Cherry Hill'}\n",
      "{'id': '31', 'Name': 'Washington Village'}\n",
      "{'id': '32', 'Name': 'Seton Business Park'}\n",
      "{'id': '33', 'Name': 'Mondawmin'}\n",
      "{'id': '34', 'Name': 'Mount Holly'}\n",
      "{'id': '35', 'Name': 'Reisterstown Station'}\n",
      "{'id': '36', 'Name': 'Charles North'}\n",
      "{'id': '37', 'Name': 'Beverly Hills'}\n",
      "{'id': '38', 'Name': 'Wyndhurst'}\n",
      "{'id': '39', 'Name': 'Hillen'}\n",
      "{'id': '40', 'Name': 'Inner Harbor'}\n",
      "{'id': '41', 'Name': 'Loch Raven'}\n",
      "{'id': '42', 'Name': 'Reisterstown Station'}\n",
      "{'id': '43', 'Name': 'Baltimore Highlands'}\n",
      "{'id': '44', 'Name': 'Riverside'}\n"
     ]
    }
   ],
   "source": [
    "#Create new table for Neighborhood.csv file by using same path as above \n",
    "Neighborhood = open('/Users/marina/Desktop/G465/Neighborhood.csv', 'w')\n",
    "Neighborhood_dwriter = csv.DictWriter(Neighborhood, fieldnames = ['id', 'Name'])\n",
    "Neighborhood_dwriter.writeheader()\n",
    "Neighborhood_dreader = csv.DictReader (open('/Users/marina/Desktop/G465/Grocery_Stores.csv','r'))\n",
    "Neighborhood_list = []\n",
    "i = 1\n",
    "for row in Neighborhood_dreader:\n",
    "    Neighborhood_list.append({'id': i, 'Name': row['neighborhood']})\n",
    "    i +=1\n",
    "Neighborhood_dwriter.writerows(Neighborhood_list)\n",
    "Neighborhood.close()\n",
    "Neighborhood = open('/Users/marina/Desktop/G465/Neighborhood.csv')\n",
    "Neighborhood_dreader = csv.DictReader(Neighborhood)\n",
    "for i in range(0, 44):\n",
    "    print Neighborhood_dreader.next()"
   ]
  },
  {
   "cell_type": "code",
   "execution_count": 338,
   "metadata": {
    "collapsed": false
   },
   "outputs": [
    {
     "name": "stdout",
     "output_type": "stream",
     "text": [
      "{'Neighborhood_id': '', 'id': '1', 'Grocery_id': ''}\n",
      "{'Neighborhood_id': '', 'id': '2', 'Grocery_id': ''}\n",
      "{'Neighborhood_id': '', 'id': '3', 'Grocery_id': ''}\n",
      "{'Neighborhood_id': '', 'id': '4', 'Grocery_id': ''}\n",
      "{'Neighborhood_id': '', 'id': '5', 'Grocery_id': ''}\n",
      "{'Neighborhood_id': '', 'id': '6', 'Grocery_id': ''}\n",
      "{'Neighborhood_id': '', 'id': '7', 'Grocery_id': ''}\n",
      "{'Neighborhood_id': '', 'id': '8', 'Grocery_id': ''}\n",
      "{'Neighborhood_id': '', 'id': '9', 'Grocery_id': ''}\n",
      "{'Neighborhood_id': '', 'id': '10', 'Grocery_id': ''}\n",
      "{'Neighborhood_id': '', 'id': '11', 'Grocery_id': ''}\n",
      "{'Neighborhood_id': '', 'id': '12', 'Grocery_id': ''}\n",
      "{'Neighborhood_id': '', 'id': '13', 'Grocery_id': ''}\n",
      "{'Neighborhood_id': '', 'id': '14', 'Grocery_id': ''}\n",
      "{'Neighborhood_id': '', 'id': '15', 'Grocery_id': ''}\n",
      "{'Neighborhood_id': '', 'id': '16', 'Grocery_id': ''}\n",
      "{'Neighborhood_id': '', 'id': '17', 'Grocery_id': ''}\n",
      "{'Neighborhood_id': '', 'id': '18', 'Grocery_id': ''}\n",
      "{'Neighborhood_id': '', 'id': '19', 'Grocery_id': ''}\n",
      "{'Neighborhood_id': '', 'id': '20', 'Grocery_id': ''}\n",
      "{'Neighborhood_id': '', 'id': '21', 'Grocery_id': ''}\n",
      "{'Neighborhood_id': '', 'id': '22', 'Grocery_id': ''}\n",
      "{'Neighborhood_id': '', 'id': '23', 'Grocery_id': ''}\n",
      "{'Neighborhood_id': '', 'id': '24', 'Grocery_id': ''}\n",
      "{'Neighborhood_id': '', 'id': '25', 'Grocery_id': ''}\n",
      "{'Neighborhood_id': '', 'id': '26', 'Grocery_id': ''}\n",
      "{'Neighborhood_id': '', 'id': '27', 'Grocery_id': ''}\n",
      "{'Neighborhood_id': '', 'id': '28', 'Grocery_id': ''}\n",
      "{'Neighborhood_id': '', 'id': '29', 'Grocery_id': ''}\n",
      "{'Neighborhood_id': '', 'id': '30', 'Grocery_id': ''}\n",
      "{'Neighborhood_id': '', 'id': '31', 'Grocery_id': ''}\n",
      "{'Neighborhood_id': '', 'id': '32', 'Grocery_id': ''}\n",
      "{'Neighborhood_id': '', 'id': '33', 'Grocery_id': ''}\n",
      "{'Neighborhood_id': '', 'id': '34', 'Grocery_id': ''}\n",
      "{'Neighborhood_id': '', 'id': '35', 'Grocery_id': ''}\n",
      "{'Neighborhood_id': '', 'id': '36', 'Grocery_id': ''}\n",
      "{'Neighborhood_id': '', 'id': '37', 'Grocery_id': ''}\n",
      "{'Neighborhood_id': '', 'id': '38', 'Grocery_id': ''}\n",
      "{'Neighborhood_id': '', 'id': '39', 'Grocery_id': ''}\n",
      "{'Neighborhood_id': '', 'id': '40', 'Grocery_id': ''}\n",
      "{'Neighborhood_id': '', 'id': '41', 'Grocery_id': ''}\n",
      "{'Neighborhood_id': '', 'id': '42', 'Grocery_id': ''}\n",
      "{'Neighborhood_id': '', 'id': '43', 'Grocery_id': ''}\n",
      "{'Neighborhood_id': '', 'id': '44', 'Grocery_id': ''}\n"
     ]
    }
   ],
   "source": [
    "#Create new table for Neighborhood_Grocery_Location.csv file by using same path as above \n",
    "Neighborhood_Grocery_Location = open('/Users/marina/Desktop/G465/Neighborhood_Grocery_Location.csv', 'w')\n",
    "Neighborhood_Grocery_Location_dwriter = csv.DictWriter(Neighborhood_Grocery_Location, fieldnames = ['id','Grocery_id','Neighborhood_id'])\n",
    "Neighborhood_Grocery_Location_dwriter.writeheader()\n",
    "Neighborhood_Grocery_Location_dreader = csv.DictReader (open('/Users/marina/Desktop/G465/Grocery_Stores.csv','r'))\n",
    "Neighborhood_Grocery_Location_list = []\n",
    "i = 1\n",
    "for row in Neighborhood_Grocery_Location_dreader:\n",
    "    Neighborhood_Grocery_Location_list.append({'id': i, 'Grocery_id': '', 'Neighborhood_id': ''})\n",
    "    i +=1\n",
    "Neighborhood_Grocery_Location_dwriter.writerows(Neighborhood_Grocery_Location_list)\n",
    "Neighborhood_Grocery_Location.close()\n",
    "Neighborhood_Grocery_Location = open('/Users/marina/Desktop/G465/Neighborhood_Grocery_Location.csv')\n",
    "Neighborhood_Grocery_Location_dreader = csv.DictReader(Neighborhood_Grocery_Location)\n",
    "for i in range(0, 44):\n",
    "    print Neighborhood_Grocery_Location_dreader.next()"
   ]
  }
 ],
 "metadata": {
  "kernelspec": {
   "display_name": "Python 2",
   "language": "python",
   "name": "python2"
  },
  "language_info": {
   "codemirror_mode": {
    "name": "ipython",
    "version": 2
   },
   "file_extension": ".py",
   "mimetype": "text/x-python",
   "name": "python",
   "nbconvert_exporter": "python",
   "pygments_lexer": "ipython2",
   "version": "2.7.10"
  }
 },
 "nbformat": 4,
 "nbformat_minor": 0
}
