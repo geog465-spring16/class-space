{
 "cells": [
  {
   "cell_type": "code",
   "execution_count": 1,
   "metadata": {
    "collapsed": true
   },
   "outputs": [],
   "source": [
    "import csv"
   ]
  },
  {
   "cell_type": "code",
   "execution_count": 2,
   "metadata": {
    "collapsed": true
   },
   "outputs": [],
   "source": [
    "code_violations = open('/Users/Steven/Desktop/GEOG465/Database_Design_2/Seattle_code_violations.csv', 'rb')"
   ]
  },
  {
   "cell_type": "code",
   "execution_count": 3,
   "metadata": {
    "collapsed": true
   },
   "outputs": [],
   "source": [
    "seattle_code_violations = ['case_number', 'case', 'status', 'location', 'date']"
   ]
  },
  {
   "cell_type": "code",
   "execution_count": 4,
   "metadata": {
    "collapsed": true
   },
   "outputs": [],
   "source": [
    "location = ['id', 'address']"
   ]
  },
  {
   "cell_type": "code",
   "execution_count": 5,
   "metadata": {
    "collapsed": true
   },
   "outputs": [],
   "source": [
    "case = ['id', 'case_type', 'description', 'case_group']"
   ]
  },
  {
   "cell_type": "code",
   "execution_count": 6,
   "metadata": {
    "collapsed": true
   },
   "outputs": [],
   "source": [
    "status = ['id', 'last_inspection_result', 'current_status']"
   ]
  },
  {
   "cell_type": "code",
   "execution_count": 7,
   "metadata": {
    "collapsed": true
   },
   "outputs": [],
   "source": [
    "date = ['id', 'case_created', 'date_last_inspect']"
   ]
  },
  {
   "cell_type": "code",
   "execution_count": 8,
   "metadata": {
    "collapsed": true
   },
   "outputs": [],
   "source": [
    "table_one = open('/Users/Steven/Desktop/GEOG465/Database_Design_2/table.csv', 'w')"
   ]
  },
  {
   "cell_type": "code",
   "execution_count": 9,
   "metadata": {
    "collapsed": true
   },
   "outputs": [],
   "source": [
    "dwriter = csv.DictWriter(table_one, fieldnames = seattle_code_violations)"
   ]
  },
  {
   "cell_type": "code",
   "execution_count": 10,
   "metadata": {
    "collapsed": true
   },
   "outputs": [],
   "source": [
    "dwriter.writeheader()"
   ]
  },
  {
   "cell_type": "code",
   "execution_count": 11,
   "metadata": {
    "collapsed": true
   },
   "outputs": [],
   "source": [
    "read_dreader = csv.DictReader(code_violations)"
   ]
  },
  {
   "cell_type": "code",
   "execution_count": 12,
   "metadata": {
    "collapsed": true
   },
   "outputs": [],
   "source": [
    "table_one_data = []"
   ]
  },
  {
   "cell_type": "code",
   "execution_count": 13,
   "metadata": {
    "collapsed": true
   },
   "outputs": [],
   "source": [
    "i = 1\n",
    "for row in read_dreader:\n",
    "    table_one_data.append({'case_number': 'NULL', 'case': 'NULL', 'status': 'NULL', 'location': 'NULL', 'date': 'NULL'})\n",
    "    i += 1"
   ]
  },
  {
   "cell_type": "code",
   "execution_count": 14,
   "metadata": {
    "collapsed": false
   },
   "outputs": [],
   "source": [
    "dwriter.writerows(table_one_data)"
   ]
  },
  {
   "cell_type": "code",
   "execution_count": 15,
   "metadata": {
    "collapsed": true
   },
   "outputs": [],
   "source": [
    "table_one.close()"
   ]
  },
  {
   "cell_type": "code",
   "execution_count": 16,
   "metadata": {
    "collapsed": false
   },
   "outputs": [],
   "source": [
    "table_location = open('/Users/Steven/Desktop/GEOG465/Database_Design_2/table_location.csv', 'w')\n",
    "dwriter_two = csv.DictWriter(table_location, fieldnames = location)\n",
    "dwriter_two.writeheader()"
   ]
  },
  {
   "cell_type": "code",
   "execution_count": 17,
   "metadata": {
    "collapsed": true
   },
   "outputs": [],
   "source": [
    "table_two_data = []"
   ]
  },
  {
   "cell_type": "code",
   "execution_count": 18,
   "metadata": {
    "collapsed": true
   },
   "outputs": [],
   "source": [
    "i = 1\n",
    "for row in read_dreader:\n",
    "    table_two_data.append({'id': i, 'Address': row['Address']})\n",
    "    i = i + 1"
   ]
  },
  {
   "cell_type": "code",
   "execution_count": 19,
   "metadata": {
    "collapsed": true
   },
   "outputs": [],
   "source": [
    "dwriter_two.writerows(table_two_data)\n",
    "table_location.close()"
   ]
  },
  {
   "cell_type": "code",
   "execution_count": null,
   "metadata": {
    "collapsed": true
   },
   "outputs": [],
   "source": [
    "table_case = open('/Users/Steven/Desktop/GEOG465/Database_Design_2/table_case.csv', 'w')\n",
    "dwriter_three = csv.DictWriter(table_case, fieldnames = case)\n",
    "dwriter_three.writeheader()\n",
    "read_dreader_three = csv.DictReader(code_violations)\n",
    "table_three_data = []\n",
    "i = 1\n",
    "for row in read_dreader_three:\n",
    "    table_three_data.append({'id': i, 'case_type': row['Case Type'], 'description': row['Description'], 'case_group': row['Case Group']})\n",
    "    i += 1\n",
    "dwriter_three.writerows(table_three_data)\n",
    "table_case.close()"
   ]
  },
  {
   "cell_type": "code",
   "execution_count": null,
   "metadata": {
    "collapsed": true
   },
   "outputs": [],
   "source": [
    "table_status = open('/Users/Steven/Desktop/GEOG465/Database_Design_2/table_status.csv', 'w')\n",
    "dwriter_four = csv.DictWriter(table_status, fieldnames = status)\n",
    "dwriter_four.writeheader()\n",
    "read_dreader_four = csv.DictReader(code_violations)\n",
    "table_four_data = []\n",
    "i = 1\n",
    "for row in read_dreader_four:\n",
    "    table_four_data.append({'id': i, 'last_inspection_result': row['Last Inspection Result'], 'current_status': row['Current Status']})\n",
    "    i += 1\n",
    "dwriter_four.writerows(table_four_data)\n",
    "table_status.close()"
   ]
  },
  {
   "cell_type": "code",
   "execution_count": null,
   "metadata": {
    "collapsed": true
   },
   "outputs": [],
   "source": [
    "table_date = open('/Users/Steven/Desktop/GEOG465/Database_Design_2/table_date.csv', 'w')\n",
    "dwriter_five = csv.DictWriter(table_date, fieldnames = date)\n",
    "dwriter_five.writeheader()\n",
    "read_dreader_five = csv.DictReader(code_violations)\n",
    "table_five_data = []\n",
    "i = 1\n",
    "for row in read_dreader_five:\n",
    "    table_five_data.append({'id': i, 'case_created': row['Case Created'], 'date_last_inspect': row['Last Inspection Date']})\n",
    "    i += 1\n",
    "dwriter_five.writerows(table_five_data)\n",
    "table_date.close()"
   ]
  },
  {
   "cell_type": "code",
   "execution_count": null,
   "metadata": {
    "collapsed": false
   },
   "outputs": [],
   "source": [
    "for row in read_dreader: \n",
    "    print row"
   ]
  },
  {
   "cell_type": "code",
   "execution_count": null,
   "metadata": {
    "collapsed": true
   },
   "outputs": [],
   "source": []
  }
 ],
 "metadata": {
  "kernelspec": {
   "display_name": "Python 2",
   "language": "python",
   "name": "python2"
  },
  "language_info": {
   "codemirror_mode": {
    "name": "ipython",
    "version": 2
   },
   "file_extension": ".py",
   "mimetype": "text/x-python",
   "name": "python",
   "nbconvert_exporter": "python",
   "pygments_lexer": "ipython2",
   "version": "2.7.10"
  }
 },
 "nbformat": 4,
 "nbformat_minor": 0
}
