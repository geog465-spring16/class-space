{
 "cells": [
  {
   "cell_type": "code",
   "execution_count": 32,
   "metadata": {
    "collapsed": true
   },
   "outputs": [],
   "source": [
    "import csv"
   ]
  },
  {
   "cell_type": "code",
   "execution_count": 129,
   "metadata": {
    "collapsed": false
   },
   "outputs": [],
   "source": [
    "permit_file = open('\\Users\\Troy\\Dropbox\\UW\\Geography\\Geog 465\\Asignments\\Building_Permits___Current.csv')"
   ]
  },
  {
   "cell_type": "code",
   "execution_count": 34,
   "metadata": {
    "collapsed": true
   },
   "outputs": [],
   "source": [
    "locations_csv = open('\\Users\\Troy\\Dropbox\\UW\\Geography\\Geog 465\\Asignments\\db_locations.csv', 'w')"
   ]
  },
  {
   "cell_type": "code",
   "execution_count": 35,
   "metadata": {
    "collapsed": true
   },
   "outputs": [],
   "source": [
    "columnnames = ['id', 'Address', 'Latitude', 'Longitude', 'Location']"
   ]
  },
  {
   "cell_type": "code",
   "execution_count": 36,
   "metadata": {
    "collapsed": true
   },
   "outputs": [],
   "source": [
    "db_dwriter = csv.DictWriter(locations_csv, fieldnames = columnnames)"
   ]
  },
  {
   "cell_type": "code",
   "execution_count": 37,
   "metadata": {
    "collapsed": false
   },
   "outputs": [],
   "source": [
    "db_dwriter.writeheader()"
   ]
  },
  {
   "cell_type": "code",
   "execution_count": 130,
   "metadata": {
    "collapsed": true
   },
   "outputs": [],
   "source": [
    "dicreader = csv.DictReader(permit_file)"
   ]
  },
  {
   "cell_type": "code",
   "execution_count": 39,
   "metadata": {
    "collapsed": true
   },
   "outputs": [],
   "source": [
    "loc_list = []"
   ]
  },
  {
   "cell_type": "code",
   "execution_count": 40,
   "metadata": {
    "collapsed": true
   },
   "outputs": [],
   "source": [
    "i = 1\n",
    "for row in dicreader:\n",
    "    loc_list.append({'id': i, 'Address': row['Address'], 'Latitude': row['Latitude'], 'Longitude': row['Longitude'], 'Location': row['Location']})\n",
    "    i+= 1"
   ]
  },
  {
   "cell_type": "code",
   "execution_count": 41,
   "metadata": {
    "collapsed": false
   },
   "outputs": [],
   "source": [
    "db_dwriter.writerows(loc_list)"
   ]
  },
  {
   "cell_type": "code",
   "execution_count": 42,
   "metadata": {
    "collapsed": true
   },
   "outputs": [],
   "source": [
    "locations_csv.close()"
   ]
  },
  {
   "cell_type": "code",
   "execution_count": 77,
   "metadata": {
    "collapsed": true
   },
   "outputs": [],
   "source": [
    "buildings_csv = open('\\Users\\Troy\\Dropbox\\UW\\Geography\\Geog 465\\Asignments\\db_buildings.csv', 'w')"
   ]
  },
  {
   "cell_type": "code",
   "execution_count": 78,
   "metadata": {
    "collapsed": true
   },
   "outputs": [],
   "source": [
    "b_columnnames = ['id', 'Description', 'Value', 'Category_ID', 'Location_ID']"
   ]
  },
  {
   "cell_type": "code",
   "execution_count": 79,
   "metadata": {
    "collapsed": true
   },
   "outputs": [],
   "source": [
    "b_dwriter = csv.DictWriter(buildings_csv, fieldnames = b_columnnames)"
   ]
  },
  {
   "cell_type": "code",
   "execution_count": 80,
   "metadata": {
    "collapsed": true
   },
   "outputs": [],
   "source": [
    "b_dwriter.writeheader()"
   ]
  },
  {
   "cell_type": "code",
   "execution_count": 81,
   "metadata": {
    "collapsed": true
   },
   "outputs": [],
   "source": [
    "build_list = []"
   ]
  },
  {
   "cell_type": "code",
   "execution_count": 156,
   "metadata": {
    "collapsed": true
   },
   "outputs": [],
   "source": [
    "dicreader = csv.DictReader(open('\\Users\\Troy\\Dropbox\\UW\\Geography\\Geog 465\\Asignments\\Building_Permits___Current.csv'))"
   ]
  },
  {
   "cell_type": "code",
   "execution_count": 82,
   "metadata": {
    "collapsed": true
   },
   "outputs": [],
   "source": [
    "i = 1\n",
    "for row in dicreader:\n",
    "    build_list.append({'id': i, 'Description': row['Description'], 'Value': row['Value'], 'Category_ID': \" \", 'Location_ID': \" \"})\n",
    "    i+= 1"
   ]
  },
  {
   "cell_type": "code",
   "execution_count": 83,
   "metadata": {
    "collapsed": true
   },
   "outputs": [],
   "source": [
    "b_dwriter.writerows(build_list)"
   ]
  },
  {
   "cell_type": "code",
   "execution_count": 85,
   "metadata": {
    "collapsed": true
   },
   "outputs": [],
   "source": [
    "buildings_csv.close()"
   ]
  },
  {
   "cell_type": "code",
   "execution_count": 108,
   "metadata": {
    "collapsed": false
   },
   "outputs": [],
   "source": [
    "projects_csv = open('\\Users\\Troy\\Dropbox\\UW\\Geography\\Geog 465\\Asignments\\db_projects.csv', 'w')"
   ]
  },
  {
   "cell_type": "code",
   "execution_count": 109,
   "metadata": {
    "collapsed": true
   },
   "outputs": [],
   "source": [
    "p_columnnames = ['id', 'Contractor', 'URL', 'Master_Use_Permit', 'Status_ID', 'Building_ID']"
   ]
  },
  {
   "cell_type": "code",
   "execution_count": 110,
   "metadata": {
    "collapsed": true
   },
   "outputs": [],
   "source": [
    "p_dwriter = csv.DictWriter(projects_csv, fieldnames = p_columnnames)"
   ]
  },
  {
   "cell_type": "code",
   "execution_count": 111,
   "metadata": {
    "collapsed": true
   },
   "outputs": [],
   "source": [
    "p_dwriter.writeheader()"
   ]
  },
  {
   "cell_type": "code",
   "execution_count": 112,
   "metadata": {
    "collapsed": true
   },
   "outputs": [],
   "source": [
    "project_list = []"
   ]
  },
  {
   "cell_type": "code",
   "execution_count": 157,
   "metadata": {
    "collapsed": true
   },
   "outputs": [],
   "source": [
    "dicreader = csv.DictReader(open('\\Users\\Troy\\Dropbox\\UW\\Geography\\Geog 465\\Asignments\\Building_Permits___Current.csv'))"
   ]
  },
  {
   "cell_type": "code",
   "execution_count": 113,
   "metadata": {
    "collapsed": true
   },
   "outputs": [],
   "source": [
    "i = 1\n",
    "for row in dicreader:\n",
    "    project_list.append({'id': i, 'Contractor': row['Contractor'], 'URL': row['Permit and Complaint Status URL'], \n",
    "                         'Master_Use_Permit': row['Master Use Permit'], 'Status_ID': \" \", 'Building_ID': \" \"})\n",
    "    i+= 1"
   ]
  },
  {
   "cell_type": "code",
   "execution_count": 114,
   "metadata": {
    "collapsed": true
   },
   "outputs": [],
   "source": [
    "p_dwriter.writerows(project_list)"
   ]
  },
  {
   "cell_type": "code",
   "execution_count": 115,
   "metadata": {
    "collapsed": true
   },
   "outputs": [],
   "source": [
    "projects_csv.close()"
   ]
  },
  {
   "cell_type": "code",
   "execution_count": 131,
   "metadata": {
    "collapsed": true
   },
   "outputs": [],
   "source": [
    "applications_csv = open('\\Users\\Troy\\Dropbox\\UW\\Geography\\Geog 465\\Asignments\\db_applications.csv', 'w')"
   ]
  },
  {
   "cell_type": "code",
   "execution_count": 132,
   "metadata": {
    "collapsed": true
   },
   "outputs": [],
   "source": [
    "a_columnnames = ['id', 'Applicant', 'Application_Date', 'Issue_Date', 'Final_Date', 'Expiration_Date', 'Project_ID', 'Permit_ID', \n",
    "                 'Action_ID', 'Work_ID']"
   ]
  },
  {
   "cell_type": "code",
   "execution_count": 133,
   "metadata": {
    "collapsed": true
   },
   "outputs": [],
   "source": [
    "a_dwriter = csv.DictWriter(applications_csv, fieldnames = a_columnnames)"
   ]
  },
  {
   "cell_type": "code",
   "execution_count": 134,
   "metadata": {
    "collapsed": false
   },
   "outputs": [],
   "source": [
    "a_dwriter.writeheader()"
   ]
  },
  {
   "cell_type": "code",
   "execution_count": 135,
   "metadata": {
    "collapsed": true
   },
   "outputs": [],
   "source": [
    "app_list = []"
   ]
  },
  {
   "cell_type": "code",
   "execution_count": 158,
   "metadata": {
    "collapsed": true
   },
   "outputs": [],
   "source": [
    "dicreader = csv.DictReader(open('\\Users\\Troy\\Dropbox\\UW\\Geography\\Geog 465\\Asignments\\Building_Permits___Current.csv'))"
   ]
  },
  {
   "cell_type": "code",
   "execution_count": 137,
   "metadata": {
    "collapsed": false
   },
   "outputs": [],
   "source": [
    "i = 1\n",
    "for row in dicreader:\n",
    "    app_list.append({'id': i, 'Applicant': row['Applicant Name'], 'Application_Date': row['Application Date'], \n",
    "                     'Issue_Date': row['Issue Date'], 'Final_Date': row['Final Date'], 'Expiration_Date': row['Expiration Date'], \n",
    "                     'Project_ID': \" \", 'Permit_ID': \" \", 'Action_ID': \" \", 'Work_ID': \" \"})\n",
    "    i+= 1"
   ]
  },
  {
   "cell_type": "code",
   "execution_count": 138,
   "metadata": {
    "collapsed": true
   },
   "outputs": [],
   "source": [
    "a_dwriter.writerows(app_list)"
   ]
  },
  {
   "cell_type": "code",
   "execution_count": 139,
   "metadata": {
    "collapsed": false
   },
   "outputs": [
    {
     "data": {
      "text/plain": [
       "<function close>"
      ]
     },
     "execution_count": 139,
     "metadata": {},
     "output_type": "execute_result"
    }
   ],
   "source": [
    "applications_csv.close"
   ]
  },
  {
   "cell_type": "code",
   "execution_count": 144,
   "metadata": {
    "collapsed": false
   },
   "outputs": [],
   "source": [
    "category_csv = open('\\Users\\Troy\\Dropbox\\UW\\Geography\\Geog 465\\Asignments\\db_category.csv', 'w')\n",
    "c_columnnames = ['id', 'Category']\n",
    "c_dwriter = csv.DictWriter(category_csv, fieldnames = c_columnnames)\n",
    "c_dwriter.writeheader()\n",
    "category_list = []\n",
    "dicreader = csv.DictReader(open('\\Users\\Troy\\Dropbox\\UW\\Geography\\Geog 465\\Asignments\\Building_Permits___Current.csv'))\n",
    "i = 1\n",
    "for row in dicreader:\n",
    "    category_list.append({'id': i, 'Category': row['Category']})\n",
    "    i += 1\n",
    "c_dwriter.writerows(category_list)"
   ]
  },
  {
   "cell_type": "code",
   "execution_count": 145,
   "metadata": {
    "collapsed": true
   },
   "outputs": [],
   "source": [
    "category_csv.close()"
   ]
  },
  {
   "cell_type": "code",
   "execution_count": 146,
   "metadata": {
    "collapsed": true
   },
   "outputs": [],
   "source": [
    "status_csv = open('\\Users\\Troy\\Dropbox\\UW\\Geography\\Geog 465\\Asignments\\db_status.csv', 'w')\n",
    "s_columnnames = ['id', 'Status']\n",
    "s_dwriter = csv.DictWriter(status_csv, fieldnames = s_columnnames)\n",
    "s_dwriter.writeheader()\n",
    "status_list = []\n",
    "dicreader = csv.DictReader(open('\\Users\\Troy\\Dropbox\\UW\\Geography\\Geog 465\\Asignments\\Building_Permits___Current.csv'))\n",
    "i = 1\n",
    "for row in dicreader:\n",
    "    status_list.append({'id': i, 'Status': row['Status']})\n",
    "    i += 1\n",
    "s_dwriter.writerows(status_list)"
   ]
  },
  {
   "cell_type": "code",
   "execution_count": 147,
   "metadata": {
    "collapsed": true
   },
   "outputs": [],
   "source": [
    "status_csv.close()"
   ]
  },
  {
   "cell_type": "code",
   "execution_count": 152,
   "metadata": {
    "collapsed": true
   },
   "outputs": [],
   "source": [
    "action_csv = open('\\Users\\Troy\\Dropbox\\UW\\Geography\\Geog 465\\Asignments\\db_action.csv', 'w')\n",
    "act_columnnames = ['id', 'Type']\n",
    "act_dwriter = csv.DictWriter(action_csv, fieldnames = act_columnnames)\n",
    "act_dwriter.writeheader()\n",
    "action_list = []\n",
    "dicreader = csv.DictReader(open('\\Users\\Troy\\Dropbox\\UW\\Geography\\Geog 465\\Asignments\\Building_Permits___Current.csv'))\n",
    "i = 1\n",
    "for row in dicreader:\n",
    "    action_list.append({'id': i, 'Type': row['Action Type']})\n",
    "    i += 1\n",
    "act_dwriter.writerows(action_list)"
   ]
  },
  {
   "cell_type": "code",
   "execution_count": 153,
   "metadata": {
    "collapsed": true
   },
   "outputs": [],
   "source": [
    "action_csv.close()"
   ]
  },
  {
   "cell_type": "code",
   "execution_count": 150,
   "metadata": {
    "collapsed": true
   },
   "outputs": [],
   "source": [
    "work_csv = open('\\Users\\Troy\\Dropbox\\UW\\Geography\\Geog 465\\Asignments\\db_work.csv', 'w')\n",
    "w_columnnames = ['id', 'Type']\n",
    "w_dwriter = csv.DictWriter(work_csv, fieldnames = w_columnnames)\n",
    "w_dwriter.writeheader()\n",
    "work_list = []\n",
    "dicreader = csv.DictReader(open('\\Users\\Troy\\Dropbox\\UW\\Geography\\Geog 465\\Asignments\\Building_Permits___Current.csv'))\n",
    "i = 1\n",
    "for row in dicreader:\n",
    "    work_list.append({'id': i, 'Type': row['Work Type']})\n",
    "    i += 1\n",
    "w_dwriter.writerows(work_list)"
   ]
  },
  {
   "cell_type": "code",
   "execution_count": 151,
   "metadata": {
    "collapsed": true
   },
   "outputs": [],
   "source": [
    "work_csv.close()"
   ]
  },
  {
   "cell_type": "code",
   "execution_count": 154,
   "metadata": {
    "collapsed": true
   },
   "outputs": [],
   "source": [
    "permit_csv = open('\\Users\\Troy\\Dropbox\\UW\\Geography\\Geog 465\\Asignments\\db_permit.csv', 'w')\n",
    "permit_columnnames = ['id', 'Type']\n",
    "permit_dwriter = csv.DictWriter(permit_csv, fieldnames = permit_columnnames)\n",
    "permit_dwriter.writeheader()\n",
    "permit_list = []\n",
    "dicreader = csv.DictReader(open('\\Users\\Troy\\Dropbox\\UW\\Geography\\Geog 465\\Asignments\\Building_Permits___Current.csv'))\n",
    "i = 1\n",
    "for row in dicreader:\n",
    "    permit_list.append({'id': i, 'Type': row['Permit Type']})\n",
    "    i += 1\n",
    "permit_dwriter.writerows(permit_list)"
   ]
  },
  {
   "cell_type": "code",
   "execution_count": 155,
   "metadata": {
    "collapsed": true
   },
   "outputs": [],
   "source": [
    "permit_csv.close()"
   ]
  },
  {
   "cell_type": "code",
   "execution_count": null,
   "metadata": {
    "collapsed": true
   },
   "outputs": [],
   "source": []
  }
 ],
 "metadata": {
  "kernelspec": {
   "display_name": "Python 2",
   "language": "python",
   "name": "python2"
  },
  "language_info": {
   "codemirror_mode": {
    "name": "ipython",
    "version": 2
   },
   "file_extension": ".py",
   "mimetype": "text/x-python",
   "name": "python",
   "nbconvert_exporter": "python",
   "pygments_lexer": "ipython2",
   "version": "2.7.10"
  }
 },
 "nbformat": 4,
 "nbformat_minor": 0
}
