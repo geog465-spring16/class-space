{
 "cells": [
  {
   "cell_type": "markdown",
   "metadata": {},
   "source": [
    "Kyle Kusuda\n",
    "5/1/16\n",
    "Database Design II"
   ]
  },
  {
   "cell_type": "code",
   "execution_count": 60,
   "metadata": {
    "collapsed": false
   },
   "outputs": [],
   "source": [
    "import csv\n",
    "#f = open('C:\\Users\\Administrator\\Downloads\\SDOT_Public_Garages_and_Parking_Lots.csv')\n",
    "lots_file = 'C:\\Users\\Administrator\\Downloads\\SDOT_Public_Garages_and_Parking_Lots.csv'"
   ]
  },
  {
   "cell_type": "code",
   "execution_count": 61,
   "metadata": {
    "collapsed": true
   },
   "outputs": [],
   "source": [
    "#creating a list for each table with the respective column headers\n",
    "parking_option = ['OBJECTID', 'BUSLIC_LOCATION_ID', 'DEA_FACILITY_ADDRESS', 'DEA_STALLS', 'FAC_NAME', 'Communication_id', 'Webname_id', 'Hours_id', 'Rate_id', 'Type_id']\n",
    "communication = ['id', 'OP_NAME', 'OP_PHONE', 'OP_PHONE2', 'OP_WEB', 'OTHER']\n",
    "web = ['id', 'WEBNAME', 'REGIONID', 'OUTOFSERV', 'VACANT', 'STATUS', 'DATETIME']\n",
    "rate = ['id', 'RTE_1HR', 'RTE_2HR', 'RTE_3HR', 'RTE_ALLDAY', 'PAYMENT_TYPE']\n",
    "hours = ['id', 'HRS_MONFRI', 'HRS_SAT', 'HRS_SUN']"
   ]
  },
  {
   "cell_type": "markdown",
   "metadata": {},
   "source": [
    "Creating each of the csv files separated into the tables with the headers I made\n",
    "The following 5 cells are the same, just one for each csv file."
   ]
  },
  {
   "cell_type": "code",
   "execution_count": 62,
   "metadata": {
    "collapsed": false
   },
   "outputs": [],
   "source": [
    "#Open a new csv to add data to\n",
    "Parking_Options = open('C:\\Users\\Administrator\\Google Drive\\GEOG 465\\parking_option.csv', 'w') \n",
    "#Creating a DictWriter object in order to add columns and rows to the csv file opened previously\n",
    "my_dwriter = csv.DictWriter(Parking_Options, fieldnames = parking_option)\n",
    "#Writing the header to the csv, which is the list of headers I made earlier\n",
    "my_dwriter.writeheader()\n",
    "#Opening the original parking garages/lots file to be read from\n",
    "csv_file = csv.DictReader(open(lots_file, 'rb'), delimiter=',', quotechar='\"')\n",
    "\n",
    "#List of soon to be dictionaires made from the original file\n",
    "Parking_option_list = []\n",
    "#an iterator for the id fields if needed\n",
    "i = 1\n",
    "#reading through the parking garages/lots file and adding the rows identified as dictionaries to the list\n",
    "for row in csv_file:\n",
    "    Parking_option_list.append({'OBJECTID': row['OBJECTID'],'BUSLIC_LOCATION_ID': row['BUSLIC_LOCATION_ID'], 'DEA_FACILITY_ADDRESS': row['DEA_FACILITY_ADDRESS'],'DEA_STALLS': row['DEA_STALLS'], 'FAC_NAME': row['FAC_NAME'], 'Communication_id': i,'Webname_id': i, 'Hours_id': i, 'Rate_id': i, 'Type_id': i })\n",
    "    i += 1\n",
    "\n",
    "#adding the list rows to the new csv we created    \n",
    "my_dwriter.writerows(Parking_option_list)\n",
    "Parking_Option.close()"
   ]
  },
  {
   "cell_type": "code",
   "execution_count": 63,
   "metadata": {
    "collapsed": false
   },
   "outputs": [],
   "source": [
    "Communication = open('C:\\Users\\Administrator\\Google Drive\\GEOG 465\\communication.csv', 'w')\n",
    "my_dwriter = csv.DictWriter(Communication, fieldnames = communication)\n",
    "my_dwriter.writeheader()\n",
    "csv_file = csv.DictReader(open(lots_file, 'rb'), delimiter=',', quotechar='\"')\n",
    "\n",
    "Comm_list = []\n",
    "i = 1\n",
    "for row in csv_file:\n",
    "    Comm_list.append({'id': i,'OP_NAME': row['OP_NAME'], 'OP_PHONE': row['OP_PHONE'],'OP_PHONE2': row['OP_PHONE2'], 'OP_WEB': row['OP_WEB'], 'OTHER': row['OTHER'] })\n",
    "    i += 1\n",
    "    \n",
    "my_dwriter.writerows(Comm_list)\n",
    "Communication.close()"
   ]
  },
  {
   "cell_type": "code",
   "execution_count": 64,
   "metadata": {
    "collapsed": false
   },
   "outputs": [],
   "source": [
    "Webname = open('C:\\Users\\Administrator\\Google Drive\\GEOG 465\\webname.csv', 'w')\n",
    "my_dwriter = csv.DictWriter(Webname, fieldnames = web)\n",
    "my_dwriter.writeheader()\n",
    "csv_file = csv.DictReader(open(lots_file, 'rb'), delimiter=',', quotechar='\"')\n",
    "\n",
    "Web_list = []\n",
    "i = 1\n",
    "for row in csv_file:\n",
    "    Web_list.append({'id': i,'WEBNAME': row['WEBNAME'], 'REGIONID': row['REGIONID'],'OUTOFSERV': row['OUTOFSERV'], 'VACANT': row['VACANT'], 'STATUS': row['STATUS'], 'DATETIME': ['DATETIME'] })\n",
    "    i += 1\n",
    "    \n",
    "my_dwriter.writerows(Web_list)\n",
    "Webname.close()"
   ]
  },
  {
   "cell_type": "code",
   "execution_count": 65,
   "metadata": {
    "collapsed": false
   },
   "outputs": [],
   "source": [
    "Rate = open('C:\\\\Users\\\\Administrator\\\\Google Drive\\\\GEOG 465\\\\rate.csv', 'w')\n",
    "my_dwriter = csv.DictWriter(Rate, fieldnames = rate)\n",
    "my_dwriter.writeheader()\n",
    "csv_file = csv.DictReader(open(lots_file, 'rb'), delimiter=',', quotechar='\"')\n",
    "\n",
    "Rate_list = []\n",
    "i = 1\n",
    "for row in csv_file:\n",
    "    Rate_list.append({'id': i,'RTE_1HR': row['RTE_1HR'],'RTE_2HR': row['RTE_2HR'],'RTE_3HR': row['RTE_3HR'],'RTE_ALLDAY': row['RTE_ALLDAY'] })\n",
    "    i += 1\n",
    "    \n",
    "my_dwriter.writerows(Rate_list)\n",
    "Rate.close()"
   ]
  },
  {
   "cell_type": "code",
   "execution_count": 56,
   "metadata": {
    "collapsed": true
   },
   "outputs": [],
   "source": [
    "Hours = open('C:\\\\Users\\\\Administrator\\\\Google Drive\\\\GEOG 465\\\\hours.csv', 'w')\n",
    "my_dwriter = csv.DictWriter(Hours, fieldnames = hours)\n",
    "my_dwriter.writeheader()\n",
    "csv_file = csv.DictReader(open(lots_file, 'rb'), delimiter=',', quotechar='\"')\n",
    "\n",
    "Hours_list = []\n",
    "i = 1\n",
    "for row in csv_file:\n",
    "    Hours_list.append({'id': i,'HRS_MONFRI': row['HRS_MONFRI'],'HRS_SAT': row['HRS_SAT'],'HRS_SUN': row['HRS_SUN'] })\n",
    "    i += 1\n",
    "    \n",
    "my_dwriter.writerows(Hours_list)\n",
    "Hours.close()"
   ]
  }
 ],
 "metadata": {
  "kernelspec": {
   "display_name": "Python 2",
   "language": "python",
   "name": "python2"
  },
  "language_info": {
   "codemirror_mode": {
    "name": "ipython",
    "version": 2
   },
   "file_extension": ".py",
   "mimetype": "text/x-python",
   "name": "python",
   "nbconvert_exporter": "python",
   "pygments_lexer": "ipython2",
   "version": "2.7.11"
  }
 },
 "nbformat": 4,
 "nbformat_minor": 0
}
