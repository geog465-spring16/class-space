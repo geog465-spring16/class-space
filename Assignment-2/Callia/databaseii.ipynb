{
 "cells": [
  {
   "cell_type": "markdown",
   "metadata": {},
   "source": [
    "Evan Callia\n",
    "\n",
    "5/1/16\n",
    "\n",
    "Importing and setting up file readers"
   ]
  },
  {
   "cell_type": "code",
   "execution_count": 27,
   "metadata": {
    "collapsed": true
   },
   "outputs": [],
   "source": [
    "import csv\n",
    "complete_file = 'Building_Permits_Current.csv'\n",
    "csv_file = csv.DictReader(open(complete_file, 'rb'), delimiter=',', quotechar='\"')"
   ]
  },
  {
   "cell_type": "markdown",
   "metadata": {},
   "source": [
    "Make lists of fields for each table"
   ]
  },
  {
   "cell_type": "code",
   "execution_count": 28,
   "metadata": {
    "collapsed": true
   },
   "outputs": [],
   "source": [
    "#make a list of fields for each table\n",
    "permits = ['Application/Permit Number', 'Description', 'Value', 'Applicant Name', 'Application Date', 'Issue Date', 'Final Date', 'Expiration Date', 'Contractor', 'Permit and Complaint Status URL', 'Master Use Permit', 'Statuses_id', 'Permit_Types_id', 'Categories_id', 'Work_Types_id', 'Sites_id', 'Actions_id']\n",
    "statuses = ['not unique', ' id', 'Status']\n",
    "permit_types = ['not unique', 'id', 'Work Type']\n",
    "categories = ['not unique', 'id', 'Category']\n",
    "work_types = ['not unique', 'id', 'Action Type']\n",
    "sites = ['id', 'Address', 'Longitude', 'Longitude']\n",
    "actions = ['not unique', 'id', 'Action Type']\n",
    "\n",
    "#list of all the tables contianing their fields. To be iterated over later\n",
    "table_list = [permits, statuses, permit_types, categories, work_types, sites, actions]\n",
    "\n",
    "#list of the names of each table. Used to make appropriate csv file names later\n",
    "names_of_tables = ['permits', 'statuses', 'permit_types', 'categories', 'work_types', 'sites', 'actions']"
   ]
  },
  {
   "cell_type": "markdown",
   "metadata": {},
   "source": [
    "Seperating entire csv into small csvs based off fields for each table"
   ]
  },
  {
   "cell_type": "code",
   "execution_count": 30,
   "metadata": {
    "collapsed": false
   },
   "outputs": [],
   "source": [
    "#keeps track of which table we're going over so outputted csv files have appripriate names\n",
    "name_count = 0\n",
    "for table in table_list:\n",
    "    #keeps track if values can repeat\n",
    "    if \"not unique\" in table:\n",
    "        not_unique = True\n",
    "        table.remove(\"not unique\")\n",
    "    else:\n",
    "        not_unique = False\n",
    "        \n",
    "    #keeps track of value that cannot repeat\n",
    "    not_unique_values = []\n",
    "    \n",
    "    #make new file with appropriate name\n",
    "    my_file = open(names_of_tables[name_count] + '.csv','wb')\n",
    "    csvwriter = csv.DictWriter(my_file, delimiter=',', fieldnames=table)\n",
    "    csvwriter.writeheader()\n",
    "    \n",
    "    #keeps track of the id number that should be assigned in case an id field needs to be created\n",
    "    id_count = 1\n",
    "    #go though each row looking for appropriate fields for the table and populating\n",
    "    for row in csv_file:\n",
    "        #wheather the row should be written (should't be if it's a duplicate for some tables)\n",
    "        append = True\n",
    "        #new row that will be added to and appended to the csv file\n",
    "        new_row = {}\n",
    "        if \"id\" in table:\n",
    "            new_row[\"id\"] = id_count\n",
    "        for key in row:\n",
    "            if key in table:\n",
    "                if not_unique:\n",
    "                    if row[key] not in not_unique_values:\n",
    "                        #if this code runs it means that the value for this key is an unseen value for a table that should only have unique values and it should be added to the table\n",
    "                        not_unique_values.append(row[key])\n",
    "                        new_row[key] = row[key]\n",
    "                    else:\n",
    "                        #count is subtracted so it we don't skip numbers in our id column\n",
    "                        id_count -= 1\n",
    "                        #append is false becasue we've seen this value and have already put it in the table. It does not need to be again\n",
    "                        append = False\n",
    "                else:\n",
    "                    new_row[key] = row[key]\n",
    "        if append:\n",
    "            csvwriter.writerow(new_row)\n",
    "        id_count += 1\n",
    "    \n",
    "    #re-initialize dict reader so it can be parsed again\n",
    "    complete_file = 'Building_Permits_Current.csv'\n",
    "    csv_file = csv.DictReader(open(complete_file, 'rb'), delimiter=',', quotechar='\"')\n",
    "    \n",
    "    my_file.close()\n",
    "    name_count += 1"
   ]
  },
  {
   "cell_type": "code",
   "execution_count": null,
   "metadata": {
    "collapsed": false
   },
   "outputs": [],
   "source": []
  },
  {
   "cell_type": "code",
   "execution_count": null,
   "metadata": {
    "collapsed": false
   },
   "outputs": [],
   "source": []
  },
  {
   "cell_type": "code",
   "execution_count": null,
   "metadata": {
    "collapsed": true
   },
   "outputs": [],
   "source": []
  },
  {
   "cell_type": "markdown",
   "metadata": {
    "collapsed": true
   },
   "source": [
    "Pervious Version of Code (in case I nded to go back to it)"
   ]
  },
  {
   "cell_type": "code",
   "execution_count": 17,
   "metadata": {
    "collapsed": true
   },
   "outputs": [],
   "source": [
    "# #keeps track of which table we're going over so outputted csv files have appripriate names\n",
    "# name_count = 0\n",
    "# for table in table_list:\n",
    "#     #make new file with appropriate name\n",
    "#     my_file = open(names_of_tables[name_count] + '.csv','wb')\n",
    "#     csvwriter = csv.DictWriter(my_file, delimiter=',', fieldnames=table)\n",
    "#     csvwriter.writeheader()\n",
    "    \n",
    "#     #keeps track of the id number that should be assigned in case an id field needs to be created\n",
    "#     id_count = 1\n",
    "#     #go though each row looking for appropriate fields for the table and populating\n",
    "#     for row in csv_file:\n",
    "#         new_row = {}\n",
    "#         if \"id\" in table:\n",
    "#             new_row[\"id\"] = id_count\n",
    "#         for key in row:\n",
    "#             if key in table:\n",
    "#                 new_row[key] = row[key]\n",
    "#         csvwriter.writerow(new_row)\n",
    "#         id_count += 1\n",
    "    \n",
    "#     #re-initialize dict reader so it can be parsed again\n",
    "#     complete_file = 'Building_Permits_Current.csv'\n",
    "#     csv_file = csv.DictReader(open(complete_file, 'rb'), delimiter=',', quotechar='\"')\n",
    "    \n",
    "#     my_file.close()\n",
    "#     name_count += 1"
   ]
  }
 ],
 "metadata": {
  "kernelspec": {
   "display_name": "Python 2",
   "language": "python",
   "name": "python2"
  },
  "language_info": {
   "codemirror_mode": {
    "name": "ipython",
    "version": 2
   },
   "file_extension": ".py",
   "mimetype": "text/x-python",
   "name": "python",
   "nbconvert_exporter": "python",
   "pygments_lexer": "ipython2",
   "version": "2.7.10"
  }
 },
 "nbformat": 4,
 "nbformat_minor": 0
}
