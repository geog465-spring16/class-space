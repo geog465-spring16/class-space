{
 "cells": [
  {
   "cell_type": "code",
   "execution_count": 1,
   "metadata": {
    "collapsed": true
   },
   "outputs": [],
   "source": [
    "import csv # imports csv module"
   ]
  },
  {
   "cell_type": "code",
   "execution_count": 2,
   "metadata": {
    "collapsed": true
   },
   "outputs": [],
   "source": [
    "newFile = open('Seattle_code_violations_database.csv', 'rb') #opens the database table\n",
    "reader = csv.DictReader(newFile, delimiter = ',') # creates reader to read in the data"
   ]
  },
  {
   "cell_type": "code",
   "execution_count": 3,
   "metadata": {
    "collapsed": true
   },
   "outputs": [],
   "source": [
    "# makes lists of headers for each table\n",
    "CaseNumbers = ['id', 'Case Number', 'Address', 'Description', 'Date Case Created']\n",
    "CaseTypes = ['id', 'Case Type', 'CaseNumber_id']\n",
    "StatusTypes = ['id', 'Status', 'CaseNumber_id'] \n",
    "LastInspections = ['id', 'Last Inspection Date', 'Last Inspection Result', 'CaseNumber_id']"
   ]
  },
  {
   "cell_type": "code",
   "execution_count": 4,
   "metadata": {
    "collapsed": false,
    "scrolled": true
   },
   "outputs": [],
   "source": [
    "# opens new csv file \n",
    "# creates writer object and sets fieldnames then writes fieldnames \n",
    "CaseNumber = open('U:\\GEOG 465\\DP8GE9~I\\CaseNumber.csv', 'w') \n",
    "case_writer = csv.DictWriter(CaseNumber, fieldnames = CaseNumbers)\n",
    "case_writer.writeheader()\n",
    "CaseNumberList = [] \n",
    "i = 1\n",
    "# for loop to read through the csv file and append the appropriate rows to the appropriate keys \n",
    "for row in reader:\n",
    "        CaseNumberList.append({'id' : i, 'Case Number': row['Case Number'], 'Address': row['Address'], \n",
    "                               'Description': row['Description'], 'Date Case Created': row['Date Case Created']})\n",
    "        i = i + 1 \n",
    "case_writer.writerows(CaseNumberList) \n",
    "CaseNumber.close() "
   ]
  },
  {
   "cell_type": "code",
   "execution_count": 8,
   "metadata": {
    "collapsed": false
   },
   "outputs": [],
   "source": [
    "CaseType = open('U:\\GEOG 465\\DP8GE9~I\\CaseType.csv', 'w') \n",
    "caseType_writer = csv.DictWriter(CaseType, fieldnames = CaseTypes) \n",
    "caseType_writer.writeheader()\n",
    "CaseTypeList = [] \n",
    "i = 1\n",
    "for row in reader:\n",
    "        CaseTypeList.append({'id' : i, 'Case Type': row['Case Type'], 'CaseNumber_id' : i})\n",
    "        i = i + 1 \n",
    "caseType_writer.writerows(CaseTypeList) \n",
    "CaseType.close() "
   ]
  },
  {
   "cell_type": "code",
   "execution_count": 9,
   "metadata": {
    "collapsed": false
   },
   "outputs": [],
   "source": [
    "Status = open('U:\\GEOG 465\\DP8GE9~I\\Status.csv', 'w') \n",
    "Status_writer = csv.DictWriter(Status, fieldnames = StatusTypes) \n",
    "Status_writer.writeheader()\n",
    "StatusList = [] \n",
    "i = 1\n",
    "for row in reader:\n",
    "        StatusList.append({'id' : i, 'Status': row['Status'], 'CaseNumber_id' : i})\n",
    "        i = i + 1 \n",
    "Status_writer.writerows(StatusList) \n",
    "Status.close() "
   ]
  },
  {
   "cell_type": "code",
   "execution_count": 7,
   "metadata": {
    "collapsed": false
   },
   "outputs": [],
   "source": [
    "LastInspection = open('U:\\GEOG 465\\DP8GE9~I\\LastInspection.csv', 'w') \n",
    "LastInspection_writer = csv.DictWriter(LastInspection, fieldnames = LastInspections) \n",
    "LastInspection_writer.writeheader()\n",
    "LastInspectionList = [] \n",
    "i = 1\n",
    "for row in reader:\n",
    "        LastInspectionList.append({'id' : i, 'Last Inspection Date': row['Last Inspection Date'], \n",
    "                                   'Last Inspection Result' :  row['Last Inspection Result'], 'CaseNumber_id' : i}) \n",
    "        i = i + 1 \n",
    "LastInspection_writer.writerows(LastInspectionList) \n",
    "LastInspection.close() "
   ]
  }
 ],
 "metadata": {
  "kernelspec": {
   "display_name": "Python 2",
   "language": "python",
   "name": "python2"
  },
  "language_info": {
   "codemirror_mode": {
    "name": "ipython",
    "version": 2
   },
   "file_extension": ".py",
   "mimetype": "text/x-python",
   "name": "python",
   "nbconvert_exporter": "python",
   "pygments_lexer": "ipython2",
   "version": "2.7.10"
  }
 },
 "nbformat": 4,
 "nbformat_minor": 0
}
