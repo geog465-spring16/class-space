{
 "cells": [
  {
   "cell_type": "code",
   "execution_count": 1,
   "metadata": {
    "collapsed": true
   },
   "outputs": [],
   "source": [
    "import csv"
   ]
  },
  {
   "cell_type": "code",
   "execution_count": 2,
   "metadata": {
    "collapsed": false
   },
   "outputs": [],
   "source": [
    "my_csv = open('/Users/kirschdog/Documents/GEOG 465/Trade_Permits.csv', 'rU')"
   ]
  },
  {
   "cell_type": "code",
   "execution_count": 3,
   "metadata": {
    "collapsed": true
   },
   "outputs": [],
   "source": [
    "myreader = csv.DictReader(my_csv) \n",
    "\n",
    "Permit_Types = ['id', 'Permit Type']\n",
    "Trade_Permits = ['id', 'Application/Permit Number', 'Address', 'Permit_Type_ID', 'Category_ID', 'Contractor_ID']\n",
    "Categories = ['id', 'Category']\n",
    "Contractors = ['id', 'Contractor']\n",
    "\n",
    "list_permittypes = []\n",
    "list_tradepermits =[]\n",
    "list_category = []\n",
    "list_contractor = []\n",
    "\n",
    "unique_permittypes = []\n",
    "unique_category = []\n",
    "unique_contractor = []\n"
   ]
  },
  {
   "cell_type": "code",
   "execution_count": 4,
   "metadata": {
    "collapsed": false
   },
   "outputs": [],
   "source": [
    "trade_permit_id = 1\n",
    "permit_type_id = 1\n",
    "category_id = 1\n",
    "contractor_id = 1\n",
    "\n",
    "for x in range (0, 67312):\n",
    "    row = myreader.next()\n",
    "    \n",
    "    list_tradepermits.append({'id': trade_permit_id, 'Application/Permit Number': row['Application/Permit Number'], \n",
    "                              'Address': row['Address'], 'Permit_Type_ID': 0, 'Category_ID': 0, 'Contractor_ID': 0})\n",
    "    trade_permit_id += 1\n",
    "    \n",
    "    ptype = row['Permit Type']\n",
    "    if (ptype not in unique_permittypes):\n",
    "        unique_permittypes.append(ptype)\n",
    "        list_permittypes.append({'id': permit_type_id, 'Permit Type': ptype})\n",
    "        permit_type_id += 1\n",
    "   \n",
    "    category = row['Category']\n",
    "    if (category not in unique_category):\n",
    "        unique_category.append(category)\n",
    "        list_category.append({'id': category_id, 'Category': category})\n",
    "        category_id += 1\n",
    "        \n",
    "    contractor = row['Contractor']\n",
    "    if (contractor not in unique_contractor):\n",
    "        unique_contractor.append(contractor)\n",
    "        list_contractor.append({'id': contractor_id, 'Contractor': contractor})\n",
    "        contractor_id += 1\n",
    "        "
   ]
  },
  {
   "cell_type": "code",
   "execution_count": 6,
   "metadata": {
    "collapsed": false
   },
   "outputs": [],
   "source": [
    "permittype_csv = open('/Users/kirschdog/Documents/GEOG 465/PermitType.csv', 'wb')\n",
    "tradepermit_csv = open('/Users/kirschdog/Documents/GEOG 465/TradePermit.csv', 'wb')\n",
    "category_csv = open('/Users/kirschdog/Documents/GEOG 465/Category.csv', 'wb')\n",
    "contractor_csv = open('/Users/kirschdog/Documents/GEOG 465/Contractor.csv', 'wb')\n",
    "\n",
    "tradepermit_writer = csv.DictWriter(tradepermit_csv, fieldnames = Trade_Permits)\n",
    "tradepermit_writer.writeheader()\n",
    "for row in list_tradepermits:\n",
    "    tradepermit_writer.writerow(row)\n",
    "tradepermit_csv.close()\n",
    "\n",
    "permittype_writer = csv.DictWriter(permittype_csv, fieldnames = Permit_Types)\n",
    "permittype_writer.writeheader()\n",
    "for row in list_permittypes:\n",
    "    permittype_writer.writerow(row)\n",
    "permittype_csv.close()\n",
    "\n",
    "category_writer = csv.DictWriter(category_csv, fieldnames = Categories)\n",
    "category_writer.writeheader()\n",
    "for row in list_category:\n",
    "    category_writer.writerow(row)\n",
    "category_csv.close()\n",
    "\n",
    "contractor_writer = csv.DictWriter(contractor_csv, fieldnames = Contractors)\n",
    "contractor_writer.writeheader()\n",
    "for row in list_contractor:\n",
    "    contractor_writer.writerow(row)\n",
    "contractor_csv.close()"
   ]
  },
  {
   "cell_type": "code",
   "execution_count": null,
   "metadata": {
    "collapsed": true
   },
   "outputs": [],
   "source": []
  }
 ],
 "metadata": {
  "kernelspec": {
   "display_name": "Python 2",
   "language": "python",
   "name": "python2"
  },
  "language_info": {
   "codemirror_mode": {
    "name": "ipython",
    "version": 2
   },
   "file_extension": ".py",
   "mimetype": "text/x-python",
   "name": "python",
   "nbconvert_exporter": "python",
   "pygments_lexer": "ipython2",
   "version": "2.7.10"
  }
 },
 "nbformat": 4,
 "nbformat_minor": 0
}
