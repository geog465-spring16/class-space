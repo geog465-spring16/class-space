{
 "cells": [
  {
   "cell_type": "markdown",
   "metadata": {},
   "source": [
    "Naomi Provost & Gabe Reichenberger"
   ]
  },
  {
   "cell_type": "code",
   "execution_count": 16,
   "metadata": {
    "collapsed": false
   },
   "outputs": [],
   "source": [
    "import csv\n",
    "\n",
    "open_input = open('C:/Users/reichg/Documents/GEOG 465/BuildingPermits.csv') #opens downloaded csv file\n",
    "\n",
    "read_input = csv.DictReader(open_input) #reads the input file\n",
    "\n",
    "project_info_output = open(\"C:/Users/reichg/Desktop/Project_Information.csv\", 'w') #opens output file\n",
    "permit_info_output = open(\"C:/Users/reichg/Desktop/Permit_Information.csv\", 'w') #opens output file\n",
    "application_info_output = open(\"C:/Users/reichg/Desktop/Applcation_Information.csv\", 'w') #opens output file\n",
    "location_output = open(\"C:/Users/reichg/Desktop/location.csv\", 'w') #opens output file\n",
    "building_output = open(\"C:/Users/reichg/Desktop/Building_Information_Permits.csv\", 'w') #opens output file\n",
    "\n",
    "#creates empty lists\n",
    "project_info = []\n",
    "permit_info = []\n",
    "application_info = []\n",
    "location = []\n",
    "building = []\n",
    "\n",
    "#creates fieldnames\n",
    "project_info_fieldnames = ['id', 'Action Type', 'Work Type', 'Value', 'Location_id']\n",
    "permit_info_fieldnames = ['id', 'Permit Type', 'Description', 'Category', 'Contractor', 'Master Use Permit', 'Issue Date', 'Final Date', 'Expiration Date',\\\n",
    "                          'Location_id', 'Project_Information_id', 'Application_Information_id']\n",
    "application_info_fieldnames = ['id', 'Application Permit', 'Applicant Name', 'Application Date', 'Status', 'Location_id', 'Project_Information_id']\n",
    "location_fieldnames = ['id', 'Address', 'Latitude', 'Longitude']\n",
    "building_fieldnames = ['id', 'Location_id', 'Project_Information_id', 'Application_Information_id']\n",
    "\n",
    "#populates lists\n",
    "i = 1\n",
    "for row in read_input:\n",
    "    project_info.append({'id': i, 'Action Type': row['Action Type'], 'Work Type': row['Work Type'], 'Value': row['Value'], 'Location_id': ''})\n",
    "    permit_info.append({'id': i, 'Permit Type': row['Permit Type'], 'Description': row['Description'], 'Category': row['Category'], 'Contractor': row['Contractor'],\\\n",
    "                        'Master Use Permit': row['Master Use Permit'], 'Issue Date': row['Issue Date'], 'Final Date': row['Final Date'], 'Expiration Date': row['Expiration Date'],\\\n",
    "                       'Location_id': '', 'Project_Information_id': '', 'Application_Information_id': ''})\n",
    "    application_info.append({'id': i, 'Application Permit': row['Application/Permit Number'], 'Applicant Name': row['Applicant Name'], 'Application Date': row['Application Date'],\\\n",
    "                             'Status': row['Status'], 'Location_id': '', 'Project_Information_id': ''})\n",
    "    location.append({'id': i, 'Address': row['Address'], 'Latitude': row['Latitude'], 'Longitude': row['Longitude']})\n",
    "    building.append({'id': i, 'Location_id': '', 'Project_Information_id': '', 'Application_Information_id': ''})\n",
    "    i += 1\n",
    "    \n",
    "open_input.close()\n",
    "    \n",
    "#writes and populates csv files\n",
    "project_dwriter = csv.DictWriter(project_info_output, fieldnames = project_info_fieldnames)\n",
    "project_dwriter.writeheader()\n",
    "project_dwriter.writerows(project_info) \n",
    "\n",
    "permit_dwriter = csv.DictWriter(permit_info_output, fieldnames = permit_info_fieldnames)\n",
    "permit_dwriter.writeheader()\n",
    "permit_dwriter.writerows(permit_info) \n",
    "\n",
    "application_dwriter = csv.DictWriter(application_info_output, fieldnames = application_info_fieldnames)\n",
    "application_dwriter.writeheader()\n",
    "application_dwriter.writerows(application_info) \n",
    "\n",
    "location_dwriter = csv.DictWriter(location_output, fieldnames = location_fieldnames)\n",
    "location_dwriter.writeheader()\n",
    "location_dwriter.writerows(location) \n",
    "\n",
    "building_dwriter = csv.DictWriter(building_output, fieldnames = building_fieldnames)\n",
    "building_dwriter.writeheader()\n",
    "building_dwriter.writerows(building)\n",
    "\n",
    "#close files\n",
    "project_info_output.close()\n",
    "permit_info_output.close()\n",
    "application_info_output.close()\n",
    "location_output.close()\n",
    "building_output.close()\n"
   ]
  },
  {
   "cell_type": "code",
   "execution_count": null,
   "metadata": {
    "collapsed": true
   },
   "outputs": [],
   "source": []
  }
 ],
 "metadata": {
  "kernelspec": {
   "display_name": "Python 2",
   "language": "python",
   "name": "python2"
  },
  "language_info": {
   "codemirror_mode": {
    "name": "ipython",
    "version": 2
   },
   "file_extension": ".py",
   "mimetype": "text/x-python",
   "name": "python",
   "nbconvert_exporter": "python",
   "pygments_lexer": "ipython2",
   "version": "2.7.10"
  }
 },
 "nbformat": 4,
 "nbformat_minor": 0
}
