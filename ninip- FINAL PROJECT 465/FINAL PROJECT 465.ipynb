{
 "cells": [
  {
   "cell_type": "markdown",
   "metadata": {},
   "source": [
    "Final Project:\n",
    "Naomi Provost, Kenny Ngo, David Pontecorvo, Gabe Reinchenberger, Najmi Salim"
   ]
  },
  {
   "cell_type": "code",
   "execution_count": 1,
   "metadata": {
    "collapsed": true
   },
   "outputs": [],
   "source": [
    "import sys #import sys so I can append the path where PyGreSQL\n",
    "sys.path.append('C:\\Python27\\ArcGIS10.3\\Lib\\site-packages')\n",
    "import pg #import PyGreSQL\n",
    "from pg import DB #import the DB class so we can create a connection\n",
    "import csv #import csv to use csv reader"
   ]
  },
  {
   "cell_type": "code",
   "execution_count": 2,
   "metadata": {
    "collapsed": true
   },
   "outputs": [],
   "source": [
    "db = DB(dbname = 'geog465_najmi93', host = 'geog-db2.geog.uw.edu', port = 5432, user = 'najmi93', passwd = 'najmi93')"
   ]
  },
  {
   "cell_type": "markdown",
   "metadata": {},
   "source": [
    "db.query('create table location (id int PRIMARY KEY, address varchar(200), latitude varchar(30), longitude varchar(30))')"
   ]
  },
  {
   "cell_type": "markdown",
   "metadata": {},
   "source": [
    "db.query('''create table application_information(id int PRIMARY KEY, application_permit int, applicant_name varchar(100), application_date varchar(20), \n",
    "         application_status varchar(100), location_id int , project_information_id int)''')"
   ]
  },
  {
   "cell_type": "markdown",
   "metadata": {},
   "source": [
    "db.query('''create table project_information(id int PRIMARY KEY, application_permit int, \n",
    "    action_type varchar(200), work_type varchar(200), value varchar(30), location_id int)''')"
   ]
  },
  {
   "cell_type": "markdown",
   "metadata": {},
   "source": [
    "db.query('''create table building_permits (id int PRIMARY KEY, application_permit int, address varchar(200),\n",
    "    location_id int, project_information_id int, application_information_id int)''')"
   ]
  },
  {
   "cell_type": "markdown",
   "metadata": {},
   "source": [
    "db.query('create table permit_information(id int PRIMARY KEY, application_permit int,\\\n",
    "permit_type varchar(200),\\\n",
    "description varchar(800),\\\n",
    "category varchar(200),\\\n",
    "contractor varchar(100),\\\n",
    "master_use_permit varchar(20),\\\n",
    "permit_issue_date varchar(20),\\\n",
    "final_date varchar(20),\\\n",
    "expiration_date varchar(20), location_id int, project_information_id int, application_information_id int)')"
   ]
  },
  {
   "cell_type": "markdown",
   "metadata": {},
   "source": [
    "def write_list(filename):\n",
    "    #takes in filename and returns list of information in file\n",
    "    f = open(filename)\n",
    "    reader = csv.reader(f, delimiter = ',')\n",
    "    my_list = []\n",
    "    next(reader, None)\n",
    "    for row in reader:\n",
    "        my_list.append(row)\n",
    "    f.close()\n",
    "    return my_list"
   ]
  },
  {
   "cell_type": "markdown",
   "metadata": {},
   "source": [
    "#creates lists for each table\n",
    "application_list = write_list('C:/Users/ninip/Desktop/5_25/application_information.csv')\n",
    "building_list = write_list('C:/Users/ninip/Desktop/5_25/building_information_permits.csv')\n",
    "permit_list = write_list('C:/Users/ninip/Desktop/5_25/permit_information.csv')\n",
    "project_list = write_list('C:/Users/ninip/Desktop/5_25/project_information.csv')\n",
    "location_list = write_list('C:/Users/ninip/Desktop/5_25/location.csv')"
   ]
  },
  {
   "cell_type": "markdown",
   "metadata": {},
   "source": [
    "#populate tables\n",
    "db.inserttable('permit_information', permit_list)\n",
    "db.inserttable('building_permits', building_list)\n",
    "db.inserttable('application_information', application_list)\n",
    "db.inserttable('location', location_list)\n",
    "db.inserttable('project_information', project_list)"
   ]
  },
  {
   "cell_type": "markdown",
   "metadata": {},
   "source": [
    "#connect application information id to location id using building_permits as a link table\n",
    "db.query('''update application_information set location_id = location.id from location, building_permits\n",
    "where building_permits.application_information_id = application_information.id and\n",
    "building_permits.address = location.address''')"
   ]
  },
  {
   "cell_type": "markdown",
   "metadata": {},
   "source": [
    "#connect application information id to project_information id using building_permits as a link table\n",
    "db.query('''update application_information set project_information_id = project_information.id from project_information, building_permits\n",
    "where building_permits.application_information_id = application_information.id and\n",
    "building_permits.application_permit = project_information.application_permit''')"
   ]
  },
  {
   "cell_type": "markdown",
   "metadata": {},
   "source": [
    "#connect project_information information id to location id using building_permits as a link table\n",
    "db.query('''update project_information set location_id = location.id from location, building_permits\n",
    "where building_permits.project_information_id = project_information.id and\n",
    "building_permits.address = location.address''')"
   ]
  },
  {
   "cell_type": "markdown",
   "metadata": {},
   "source": [
    "#connect permit_information id to location id using building_permits as a link table\n",
    "db.query('''update permit_information set location_id = location.id from location, building_permits\n",
    "where building_permits.id = permit_information.id and\n",
    "building_permits.address = location.address''')"
   ]
  },
  {
   "cell_type": "markdown",
   "metadata": {},
   "source": [
    "#connect permit information id to project_information id using building_permits as a link table\n",
    "db.query('''update permit_information set project_information_id = project_information.id from project_information, building_permits\n",
    "where building_permits.id = permit_information.id and\n",
    "building_permits.application_permit = project_information.application_permit''')"
   ]
  },
  {
   "cell_type": "markdown",
   "metadata": {},
   "source": [
    "#connect permit information id to application_information id using building_permits as a link table\n",
    "db.query('''update permit_information set application_information_id = application_information.id from application_information, building_permits\n",
    "where building_permits.id = permit_information.id and\n",
    "building_permits.application_information_id = application_information.id''')"
   ]
  },
  {
   "cell_type": "code",
   "execution_count": 7,
   "metadata": {
    "collapsed": true
   },
   "outputs": [],
   "source": [
    "location_query = db.query('select * from location')\n",
    "application_query = db.query('select * from application_information')\n",
    "permit_query = db.query('select * from permit_information')\n",
    "building_query = db.query('select * from building_permits')\n",
    "project_query = db.query('select * from project_information')"
   ]
  },
  {
   "cell_type": "code",
   "execution_count": 11,
   "metadata": {
    "collapsed": false
   },
   "outputs": [],
   "source": [
    "def write_csv(output, columnlist, fun):\n",
    "    f = output\n",
    "    writer = csv.DictWriter(f, fieldnames = columnlist)\n",
    "    writer.writeheader()\n",
    "    writer.writerows(fun.dictresult())\n",
    "    f.close()"
   ]
  },
  {
   "cell_type": "code",
   "execution_count": null,
   "metadata": {
    "collapsed": true
   },
   "outputs": [],
   "source": [
    "project_info_output = open(\"C:/Users/ninip/Desktop/project_information_output.csv\", 'w') #opens output file\n",
    "permit_info_output = open(\"C:/Users/ninip/Desktop/permit_information_output.csv\", 'w') #opens output file\n",
    "application_info_output = open(\"C:/Users/ninip/Desktop/application_information_output.csv\", 'w') #opens output file\n",
    "location_output = open(\"C:/Users/ninip/Desktop/location_output.csv\", 'w') #opens output file\n",
    "building_output = open(\"C:/Users/ninip/Desktop/building_information_permits_output.csv\", 'w') #opens output file\n",
    "\n",
    "project_info_fieldnames = ['id','application_permit', 'action_type', 'work_type', 'value', 'location_id']\n",
    "permit_info_fieldnames = ['id','application_permit','permit_type', 'description', 'category', 'contractor', 'master_use_permit', 'permit_issue_date', 'final_date', 'expiration_date',\\\n",
    "                          'location_id', 'project_information_id', 'application_information_id']\n",
    "application_info_fieldnames = ['id', 'application_permit', 'applicant_name', 'application_date', 'application_status', 'location_id', 'project_information_id']\n",
    "location_fieldnames = ['id', 'address', 'latitude', 'longitude']\n",
    "building_fieldnames = ['id', 'application_permit', 'address', 'location_id', 'project_information_id', 'application_information_id']\n",
    "\n",
    "write_csv(project_info_output, project_info_fieldnames, project_query)\n",
    "write_csv(permit_info_output, permit_info_fieldnames, permit_query)\n",
    "write_csv(application_info_output, application_info_fieldnames, application_query)\n",
    "write_csv(location_output, location_fieldnames, location_query)\n",
    "write_csv(building_output, building_fieldnames, building_query)"
   ]
  }
 ],
 "metadata": {
  "kernelspec": {
   "display_name": "Python 2",
   "language": "python",
   "name": "python2"
  },
  "language_info": {
   "codemirror_mode": {
    "name": "ipython",
    "version": 2
   },
   "file_extension": ".py",
   "mimetype": "text/x-python",
   "name": "python",
   "nbconvert_exporter": "python",
   "pygments_lexer": "ipython2",
   "version": "2.7.10"
  }
 },
 "nbformat": 4,
 "nbformat_minor": 0
}
