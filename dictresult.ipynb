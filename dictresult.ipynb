{
 "cells": [
  {
   "cell_type": "code",
   "execution_count": 1,
   "metadata": {
    "collapsed": true
   },
   "outputs": [],
   "source": [
    " import sys\n"
   ]
  },
  {
   "cell_type": "code",
   "execution_count": 2,
   "metadata": {
    "collapsed": true
   },
   "outputs": [],
   "source": [
    "sys.path.append('C:\\Python27\\ArcGIS10.3\\Lib\\site-packages')\n"
   ]
  },
  {
   "cell_type": "code",
   "execution_count": 3,
   "metadata": {
    "collapsed": true
   },
   "outputs": [],
   "source": [
    "import pg\n"
   ]
  },
  {
   "cell_type": "code",
   "execution_count": 4,
   "metadata": {
    "collapsed": true
   },
   "outputs": [],
   "source": [
    "from pg import DB\n"
   ]
  },
  {
   "cell_type": "code",
   "execution_count": 5,
   "metadata": {
    "collapsed": true
   },
   "outputs": [],
   "source": [
    "db = DB(host = 'geog-db2.geog.uw.edu', port = 5432, user = 'clizotte', passwd = 'clizotte123')\n"
   ]
  },
  {
   "cell_type": "code",
   "execution_count": 6,
   "metadata": {
    "collapsed": true
   },
   "outputs": [],
   "source": [
    "query = db.query('select * from departments')\n"
   ]
  },
  {
   "cell_type": "code",
   "execution_count": 7,
   "metadata": {
    "collapsed": false
   },
   "outputs": [
    {
     "data": {
      "text/plain": [
       "[{'dept': 'SPD', 'id': 1},\n",
       " {'dept': 'DOIT', 'id': 2},\n",
       " {'dept': 'FAS', 'id': 3},\n",
       " {'dept': 'DON', 'id': 4},\n",
       " {'dept': 'DPR', 'id': 5},\n",
       " {'dept': 'SDOT', 'id': 6},\n",
       " {'dept': 'SPU', 'id': 7},\n",
       " {'dept': 'CEN', 'id': 8},\n",
       " {'dept': 'SFD', 'id': 9},\n",
       " {'dept': 'DPD', 'id': 10},\n",
       " {'dept': 'HSD', 'id': 11},\n",
       " {'dept': 'HEALTH', 'id': 12},\n",
       " {'dept': 'SPL', 'id': 13},\n",
       " {'dept': 'OH', 'id': 14},\n",
       " {'dept': 'SDCI', 'id': 15}]"
      ]
     },
     "execution_count": 7,
     "metadata": {},
     "output_type": "execute_result"
    }
   ],
   "source": [
    "query.dictresult()\n"
   ]
  },
  {
   "cell_type": "code",
   "execution_count": 8,
   "metadata": {
    "collapsed": true
   },
   "outputs": [],
   "source": [
    "import csv"
   ]
  },
  {
   "cell_type": "code",
   "execution_count": 9,
   "metadata": {
    "collapsed": true
   },
   "outputs": [],
   "source": [
    "f = open('U:\\\\department_copy.csv', 'w')"
   ]
  },
  {
   "cell_type": "code",
   "execution_count": 11,
   "metadata": {
    "collapsed": true
   },
   "outputs": [],
   "source": [
    "columnlist = ['dept', 'id']"
   ]
  },
  {
   "cell_type": "code",
   "execution_count": 12,
   "metadata": {
    "collapsed": false
   },
   "outputs": [],
   "source": [
    "writer = csv.DictWriter(f, fieldnames = columnlist)"
   ]
  },
  {
   "cell_type": "code",
   "execution_count": 13,
   "metadata": {
    "collapsed": true
   },
   "outputs": [],
   "source": [
    "writer.writeheader()"
   ]
  },
  {
   "cell_type": "code",
   "execution_count": 15,
   "metadata": {
    "collapsed": false
   },
   "outputs": [],
   "source": [
    "writer.writerows(query.dictresult())"
   ]
  },
  {
   "cell_type": "code",
   "execution_count": 16,
   "metadata": {
    "collapsed": true
   },
   "outputs": [],
   "source": [
    "f.close()"
   ]
  },
  {
   "cell_type": "code",
   "execution_count": 17,
   "metadata": {
    "collapsed": true
   },
   "outputs": [],
   "source": [
    "f = open('U:\\\\department_copy.csv')"
   ]
  },
  {
   "cell_type": "code",
   "execution_count": 18,
   "metadata": {
    "collapsed": true
   },
   "outputs": [],
   "source": [
    "reader = csv.DictReader(f)"
   ]
  },
  {
   "cell_type": "code",
   "execution_count": 19,
   "metadata": {
    "collapsed": false
   },
   "outputs": [
    {
     "name": "stdout",
     "output_type": "stream",
     "text": [
      "{'dept': 'SPD', 'id': '1'}\n",
      "{'dept': 'DOIT', 'id': '2'}\n",
      "{'dept': 'FAS', 'id': '3'}\n",
      "{'dept': 'DON', 'id': '4'}\n",
      "{'dept': 'DPR', 'id': '5'}\n",
      "{'dept': 'SDOT', 'id': '6'}\n",
      "{'dept': 'SPU', 'id': '7'}\n",
      "{'dept': 'CEN', 'id': '8'}\n",
      "{'dept': 'SFD', 'id': '9'}\n",
      "{'dept': 'DPD', 'id': '10'}\n",
      "{'dept': 'HSD', 'id': '11'}\n",
      "{'dept': 'HEALTH', 'id': '12'}\n",
      "{'dept': 'SPL', 'id': '13'}\n",
      "{'dept': 'OH', 'id': '14'}\n",
      "{'dept': 'SDCI', 'id': '15'}\n"
     ]
    }
   ],
   "source": [
    "for row in reader:\n",
    "    print row"
   ]
  },
  {
   "cell_type": "code",
   "execution_count": null,
   "metadata": {
    "collapsed": true
   },
   "outputs": [],
   "source": []
  }
 ],
 "metadata": {
  "kernelspec": {
   "display_name": "Python 2",
   "language": "python",
   "name": "python2"
  },
  "language_info": {
   "codemirror_mode": {
    "name": "ipython",
    "version": 2
   },
   "file_extension": ".py",
   "mimetype": "text/x-python",
   "name": "python",
   "nbconvert_exporter": "python",
   "pygments_lexer": "ipython2",
   "version": "2.7.10"
  }
 },
 "nbformat": 4,
 "nbformat_minor": 0
}
