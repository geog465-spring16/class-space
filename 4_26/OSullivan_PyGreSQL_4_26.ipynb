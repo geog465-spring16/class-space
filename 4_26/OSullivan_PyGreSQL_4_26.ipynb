{
 "cells": [
  {
   "cell_type": "code",
   "execution_count": 2,
   "metadata": {
    "collapsed": false
   },
   "outputs": [],
   "source": [
    "import sys\n",
    "sys.path.append('C:\\Python27\\ArcGIS10.3\\Lib\\site-packages')\n",
    "import pg\n",
    "from pg import DB"
   ]
  },
  {
   "cell_type": "code",
   "execution_count": 3,
   "metadata": {
    "collapsed": false
   },
   "outputs": [],
   "source": [
    "db = DB(dbname = 'geog465_kieranos', host = 'geog-db2.geog.uw.edu', port =  5432, user = 'kieranos', passwd = 'kieranos')"
   ]
  },
  {
   "cell_type": "code",
   "execution_count": 4,
   "metadata": {
    "collapsed": false
   },
   "outputs": [
    {
     "name": "stdout",
     "output_type": "stream",
     "text": [
      "['public.child_desc', 'public.schools', 'public.sde_spatial_references', 'sde.gdb_itemrelationships', 'sde.gdb_itemrelationshiptypes', 'sde.gdb_items', 'sde.gdb_itemtypes', 'sde.gdb_replicalog', 'sde.gdb_tables_last_modified', 'sde.i2', 'sde.i3', 'sde.i4', 'sde.i5', 'sde.i6', 'sde.sde_archives', 'sde.sde_column_registry', 'sde.sde_coordinate_systems', 'sde.sde_dbtune', 'sde.sde_geometry_columns', 'sde.sde_layer_locks', 'sde.sde_layer_stats', 'sde.sde_layers', 'sde.sde_lineages_modified', 'sde.sde_locators', 'sde.sde_logfile_pool', 'sde.sde_metadata', 'sde.sde_mvtables_modified', 'sde.sde_object_ids', 'sde.sde_object_locks', 'sde.sde_process_information', 'sde.sde_raster_columns', 'sde.sde_server_config', 'sde.sde_state_lineages', 'sde.sde_state_locks', 'sde.sde_states', 'sde.sde_table_locks', 'sde.sde_table_registry', 'sde.sde_tables_modified', 'sde.sde_version', 'sde.sde_versions', 'sde.sde_xml_columns', 'sde.sde_xml_index_tags', 'sde.sde_xml_indexes']\n"
     ]
    }
   ],
   "source": [
    "print db.get_tables()"
   ]
  },
  {
   "cell_type": "code",
   "execution_count": 5,
   "metadata": {
    "collapsed": false
   },
   "outputs": [
    {
     "ename": "ProgrammingError",
     "evalue": "ERROR:  relation \"child_desc\" already exists\n",
     "output_type": "error",
     "traceback": [
      "\u001b[1;31m---------------------------------------------------------------------------\u001b[0m",
      "\u001b[1;31mProgrammingError\u001b[0m                          Traceback (most recent call last)",
      "\u001b[1;32m<ipython-input-5-ffce1252e4c2>\u001b[0m in \u001b[0;36m<module>\u001b[1;34m()\u001b[0m\n\u001b[1;32m----> 1\u001b[1;33m \u001b[0mdb\u001b[0m\u001b[1;33m.\u001b[0m\u001b[0mquery\u001b[0m\u001b[1;33m(\u001b[0m\u001b[1;34m'create table child_desc (id int NOT NULL, child_desc varchar(50) NOT NULL, CONSTRAINT child_desc_pk PRIMARY KEY (id))'\u001b[0m\u001b[1;33m)\u001b[0m\u001b[1;33m\u001b[0m\u001b[0m\n\u001b[0m",
      "\u001b[1;32mC:\\Python27\\ArcGIS10.3\\Lib\\site-packages\\pg.pyc\u001b[0m in \u001b[0;36mquery\u001b[1;34m(self, command, *args)\u001b[0m\n\u001b[0;32m   1688\u001b[0m             \u001b[1;32mreturn\u001b[0m \u001b[0mself\u001b[0m\u001b[1;33m.\u001b[0m\u001b[0mdb\u001b[0m\u001b[1;33m.\u001b[0m\u001b[0mquery\u001b[0m\u001b[1;33m(\u001b[0m\u001b[0mcommand\u001b[0m\u001b[1;33m,\u001b[0m \u001b[0margs\u001b[0m\u001b[1;33m)\u001b[0m\u001b[1;33m\u001b[0m\u001b[0m\n\u001b[0;32m   1689\u001b[0m         \u001b[0mself\u001b[0m\u001b[1;33m.\u001b[0m\u001b[0m_do_debug\u001b[0m\u001b[1;33m(\u001b[0m\u001b[0mcommand\u001b[0m\u001b[1;33m)\u001b[0m\u001b[1;33m\u001b[0m\u001b[0m\n\u001b[1;32m-> 1690\u001b[1;33m         \u001b[1;32mreturn\u001b[0m \u001b[0mself\u001b[0m\u001b[1;33m.\u001b[0m\u001b[0mdb\u001b[0m\u001b[1;33m.\u001b[0m\u001b[0mquery\u001b[0m\u001b[1;33m(\u001b[0m\u001b[0mcommand\u001b[0m\u001b[1;33m)\u001b[0m\u001b[1;33m\u001b[0m\u001b[0m\n\u001b[0m\u001b[0;32m   1691\u001b[0m \u001b[1;33m\u001b[0m\u001b[0m\n\u001b[0;32m   1692\u001b[0m     \u001b[1;32mdef\u001b[0m \u001b[0mquery_formatted\u001b[0m\u001b[1;33m(\u001b[0m\u001b[0mself\u001b[0m\u001b[1;33m,\u001b[0m \u001b[0mcommand\u001b[0m\u001b[1;33m,\u001b[0m \u001b[0mparameters\u001b[0m\u001b[1;33m,\u001b[0m \u001b[0mtypes\u001b[0m\u001b[1;33m=\u001b[0m\u001b[0mNone\u001b[0m\u001b[1;33m,\u001b[0m \u001b[0minline\u001b[0m\u001b[1;33m=\u001b[0m\u001b[0mFalse\u001b[0m\u001b[1;33m)\u001b[0m\u001b[1;33m:\u001b[0m\u001b[1;33m\u001b[0m\u001b[0m\n",
      "\u001b[1;31mProgrammingError\u001b[0m: ERROR:  relation \"child_desc\" already exists\n"
     ]
    }
   ],
   "source": [
    "db.query('create table child_desc (id int NOT NULL, child_desc varchar(50) NOT NULL, CONSTRAINT child_desc_pk PRIMARY KEY (id))')"
   ]
  },
  {
   "cell_type": "code",
   "execution_count": 9,
   "metadata": {
    "collapsed": false
   },
   "outputs": [],
   "source": [
    "db.query('create table features (id int  NOT NULL, feature_description varchar(200)  NOT NULL, child_desc_id int  NOT NULL, field_type_id int  NOT NULL, CONSTRAINT features_pk PRIMARY KEY (id))')"
   ]
  },
  {
   "cell_type": "code",
   "execution_count": 10,
   "metadata": {
    "collapsed": true
   },
   "outputs": [],
   "source": [
    "db.query('create table field_type (id int  NOT NULL, field_type varchar(50)  NOT NULL, CONSTRAINT field_type_pk PRIMARY KEY (id))')"
   ]
  },
  {
   "cell_type": "code",
   "execution_count": 11,
   "metadata": {
    "collapsed": false
   },
   "outputs": [],
   "source": [
    "db.query('create table lighting (id int  NOT NULL, lighting boolean  NOT NULL, CONSTRAINT lighting_pk PRIMARY KEY (id))')"
   ]
  },
  {
   "cell_type": "code",
   "execution_count": 12,
   "metadata": {
    "collapsed": false
   },
   "outputs": [
    {
     "data": {
      "text/plain": [
       "{'child_desc': 'grass field', 'id': 1}"
      ]
     },
     "execution_count": 12,
     "metadata": {},
     "output_type": "execute_result"
    }
   ],
   "source": [
    "db.insert('child_desc', id = 1, child_desc = 'grass field')"
   ]
  },
  {
   "cell_type": "code",
   "execution_count": 13,
   "metadata": {
    "collapsed": false
   },
   "outputs": [
    {
     "data": {
      "text/plain": [
       "{'child_desc_id': 1,\n",
       " 'feature_description': 'tennis court',\n",
       " 'field_type_id': 1,\n",
       " 'id': 1}"
      ]
     },
     "execution_count": 13,
     "metadata": {},
     "output_type": "execute_result"
    }
   ],
   "source": [
    "db.insert('features', id = 1, feature_description = 'tennis court', child_desc_id = 1, field_type_id = 1)"
   ]
  },
  {
   "cell_type": "code",
   "execution_count": 14,
   "metadata": {
    "collapsed": false
   },
   "outputs": [
    {
     "data": {
      "text/plain": [
       "{'field_type': 'grass', 'id': 1}"
      ]
     },
     "execution_count": 14,
     "metadata": {},
     "output_type": "execute_result"
    }
   ],
   "source": [
    "db.insert('field_type', id = 1, field_type = 'grass')"
   ]
  },
  {
   "cell_type": "code",
   "execution_count": 16,
   "metadata": {
    "collapsed": false
   },
   "outputs": [
    {
     "data": {
      "text/plain": [
       "{'id': 1, 'lighting': False}"
      ]
     },
     "execution_count": 16,
     "metadata": {},
     "output_type": "execute_result"
    }
   ],
   "source": [
    "db.insert('lighting', id = 1, lighting = 'FALSE')"
   ]
  },
  {
   "cell_type": "code",
   "execution_count": 17,
   "metadata": {
    "collapsed": false
   },
   "outputs": [
    {
     "name": "stdout",
     "output_type": "stream",
     "text": [
      "id|child_desc \n",
      "--+-----------\n",
      " 1|grass field\n",
      "(1 row)\n"
     ]
    }
   ],
   "source": [
    "print db.query('select * from child_desc')"
   ]
  },
  {
   "cell_type": "code",
   "execution_count": 18,
   "metadata": {
    "collapsed": false
   },
   "outputs": [
    {
     "name": "stdout",
     "output_type": "stream",
     "text": [
      "id|feature_description|child_desc_id|field_type_id\n",
      "--+-------------------+-------------+-------------\n",
      " 1|tennis court       |            1|            1\n",
      "(1 row)\n"
     ]
    }
   ],
   "source": [
    "print db.query('select * from features')"
   ]
  },
  {
   "cell_type": "code",
   "execution_count": 19,
   "metadata": {
    "collapsed": false
   },
   "outputs": [
    {
     "name": "stdout",
     "output_type": "stream",
     "text": [
      "id|field_type\n",
      "--+----------\n",
      " 1|grass     \n",
      "(1 row)\n"
     ]
    }
   ],
   "source": [
    "print db.query('select * from field_type')"
   ]
  },
  {
   "cell_type": "code",
   "execution_count": 20,
   "metadata": {
    "collapsed": false
   },
   "outputs": [
    {
     "name": "stdout",
     "output_type": "stream",
     "text": [
      "id|lighting\n",
      "--+--------\n",
      " 1|f       \n",
      "(1 row)\n"
     ]
    }
   ],
   "source": [
    "print db.query('select * from lighting')"
   ]
  }
 ],
 "metadata": {
  "kernelspec": {
   "display_name": "Python 2",
   "language": "python",
   "name": "python2"
  },
  "language_info": {
   "codemirror_mode": {
    "name": "ipython",
    "version": 2
   },
   "file_extension": ".py",
   "mimetype": "text/x-python",
   "name": "python",
   "nbconvert_exporter": "python",
   "pygments_lexer": "ipython2",
   "version": "2.7.10"
  }
 },
 "nbformat": 4,
 "nbformat_minor": 0
}
