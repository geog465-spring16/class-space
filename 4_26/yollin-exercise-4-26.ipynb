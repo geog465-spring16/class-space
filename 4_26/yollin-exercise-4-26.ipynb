{
 "cells": [
  {
   "cell_type": "markdown",
   "metadata": {},
   "source": [
    "## Using PyGreSQL"
   ]
  },
  {
   "cell_type": "markdown",
   "metadata": {},
   "source": [
    "Bethany Yollin"
   ]
  },
  {
   "cell_type": "code",
   "execution_count": 5,
   "metadata": {
    "collapsed": true
   },
   "outputs": [],
   "source": [
    "import sys\n",
    "sys.path.append('C:\\Python27\\ArcGIS10.3\\Lib\\site-packages')\n",
    "from pg import DB"
   ]
  },
  {
   "cell_type": "code",
   "execution_count": 6,
   "metadata": {
    "collapsed": true
   },
   "outputs": [],
   "source": [
    "# connect to database\n",
    "db = DB(dbname = 'geog465_bethanyy', host = 'geog-db2.geog.uw.edu', port = 5432, user = 'bethanyy', passwd = 'bethanyy')"
   ]
  },
  {
   "cell_type": "code",
   "execution_count": 9,
   "metadata": {
    "collapsed": false
   },
   "outputs": [],
   "source": [
    "# create tables and establish relationships\n",
    "db.query('''\n",
    "\n",
    "    CREATE TABLE Incident (\n",
    "        CAD_ID int  NOT NULL,\n",
    "        DateTime timestamp  NOT NULL,\n",
    "        Beat char(2)  NOT NULL,\n",
    "        Tract decimal(8,2)  NOT NULL,\n",
    "        Officer int  NOT NULL,\n",
    "        Block text  NOT NULL,\n",
    "        Latitude real  NOT NULL,\n",
    "        Longitude real  NOT NULL,\n",
    "        Description int  NOT NULL,\n",
    "        AtScene timestamp  NOT NULL,\n",
    "        CONSTRAINT Incident_pk PRIMARY KEY (CAD_ID)\n",
    "    );\n",
    "    \n",
    "    CREATE TABLE Crime_Type (\n",
    "        CRIME_TYPE_ID int  NOT NULL,\n",
    "        CrimeTypeName varchar(50)  NOT NULL,\n",
    "        CONSTRAINT Crime_Type_pk PRIMARY KEY (CRIME_TYPE_ID)\n",
    "    );\n",
    "    \n",
    "    CREATE TABLE Crime_Group (\n",
    "        CRIME_GROUP_ID int  NOT NULL,\n",
    "        CrimeGroupName varchar(50)  NOT NULL,\n",
    "        CrimeType int  NOT NULL,\n",
    "        CONSTRAINT Crime_Group_pk PRIMARY KEY (CRIME_GROUP_ID)\n",
    "    );\n",
    "    \n",
    "    CREATE TABLE Crime_Desc (\n",
    "        CRIME_DESC_ID int  NOT NULL,\n",
    "        CrimeDescName varchar(50)  NOT NULL,\n",
    "        CrimeGroup int  NOT NULL,\n",
    "        CONSTRAINT Crime_Desc_pk PRIMARY KEY (CRIME_DESC_ID)\n",
    "    );\n",
    "    \n",
    "    ALTER TABLE Incident ADD CONSTRAINT Incident_Crime_Desc\n",
    "        FOREIGN KEY (Description)\n",
    "        REFERENCES Crime_Desc (CRIME_DESC_ID)  \n",
    "        NOT DEFERRABLE \n",
    "        INITIALLY IMMEDIATE\n",
    "    ;\n",
    "    \n",
    "    ALTER TABLE Crime_Desc ADD CONSTRAINT Crime_Desc_Crime_Group\n",
    "        FOREIGN KEY (CrimeGroup)\n",
    "        REFERENCES Crime_Group (CRIME_GROUP_ID)  \n",
    "        NOT DEFERRABLE \n",
    "        INITIALLY IMMEDIATE\n",
    "    ;\n",
    "    \n",
    "    ALTER TABLE Crime_Group ADD CONSTRAINT Crime_Group_Crime_Type\n",
    "        FOREIGN KEY (CrimeType)\n",
    "        REFERENCES Crime_Type (CRIME_TYPE_ID)  \n",
    "        NOT DEFERRABLE \n",
    "        INITIALLY IMMEDIATE\n",
    "    ;\n",
    "    \n",
    "''')"
   ]
  },
  {
   "cell_type": "code",
   "execution_count": 10,
   "metadata": {
    "collapsed": false
   },
   "outputs": [
    {
     "data": {
      "text/plain": [
       "{'atscene': datetime.datetime(2015, 6, 17, 12, 24, 30),\n",
       " 'beat': 'K1',\n",
       " 'block': '8XX BLOCK OF 3 AV',\n",
       " 'cad_id': 1123325,\n",
       " 'datetime': datetime.datetime(2015, 6, 17, 12, 13),\n",
       " 'description': 101,\n",
       " 'latitude': 47.6045,\n",
       " 'longitude': -122.333,\n",
       " 'officer': 421,\n",
       " 'tract': Decimal('8100.20')}"
      ]
     },
     "execution_count": 10,
     "metadata": {},
     "output_type": "execute_result"
    }
   ],
   "source": [
    "# insert some data\n",
    "db.insert('crime_type', crime_type_id = 6, crimetypename = 'Property Crime/Theft')\n",
    "\n",
    "db.insert('crime_group', crime_group_id = 10, crimetype = 6, crimegroupname = 'SHOPLIFTING')\n",
    "\n",
    "db.insert('crime_desc', crime_desc_id = 101, crimegroup = 10, crimedescname = 'SHOPLIFT')\n",
    "\n",
    "db.insert('incident', cad_id = 1123325, datetime = '06-17-2015 12:13:00', beat = 'K1',\n",
    "          tract = 8100.2029, officer = 421, block = '8XX BLOCK OF 3 AV',\n",
    "          latitude = 47.60455, longitude = -122.333, description = 101,\n",
    "          atscene = '06-17-2015 12:24:30')"
   ]
  },
  {
   "cell_type": "code",
   "execution_count": 11,
   "metadata": {
    "collapsed": false
   },
   "outputs": [
    {
     "name": "stdout",
     "output_type": "stream",
     "text": [
      "cad_id |     datetime      |beat| tract |officer|      block      |latitude|longitude|description|      atscene      \n",
      "-------+-------------------+----+-------+-------+-----------------+--------+---------+-----------+-------------------\n",
      "1123325|2015-06-17 12:13:00|K1  |8100.20|    421|8XX BLOCK OF 3 AV| 47.6045| -122.333|        101|2015-06-17 12:24:30\n",
      "(1 row)\n",
      "crime_desc_id|crimedescname|crimegroup\n",
      "-------------+-------------+----------\n",
      "          101|SHOPLIFT     |        10\n",
      "(1 row)\n",
      "crime_group_id|crimegroupname|crimetype\n",
      "--------------+--------------+---------\n",
      "            10|SHOPLIFTING   |        6\n",
      "(1 row)\n",
      "crime_type_id|   crimetypename    \n",
      "-------------+--------------------\n",
      "            6|Property Crime/Theft\n",
      "(1 row)\n"
     ]
    }
   ],
   "source": [
    "# print table contents       \n",
    "print db.query('select * from incident')\n",
    "print db.query('select * from crime_desc')\n",
    "print db.query('select * from crime_group')\n",
    "print db.query('select * from crime_type')"
   ]
  },
  {
   "cell_type": "code",
   "execution_count": null,
   "metadata": {
    "collapsed": true
   },
   "outputs": [],
   "source": []
  }
 ],
 "metadata": {
  "kernelspec": {
   "display_name": "Python 2",
   "language": "python",
   "name": "python2"
  },
  "language_info": {
   "codemirror_mode": {
    "name": "ipython",
    "version": 2
   },
   "file_extension": ".py",
   "mimetype": "text/x-python",
   "name": "python",
   "nbconvert_exporter": "python",
   "pygments_lexer": "ipython2",
   "version": "2.7.10"
  }
 },
 "nbformat": 4,
 "nbformat_minor": 0
}
