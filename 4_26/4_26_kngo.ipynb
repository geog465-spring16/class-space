{
 "cells": [
  {
   "cell_type": "code",
   "execution_count": 1,
   "metadata": {
    "collapsed": true
   },
   "outputs": [],
   "source": [
    "import sys\n",
    "sys.path.append('C:\\Python27\\ArcGIS10.3\\Lib\\site-packages')\n",
    "import pg\n",
    "from pg import DB"
   ]
  },
  {
   "cell_type": "code",
   "execution_count": 51,
   "metadata": {
    "collapsed": false
   },
   "outputs": [],
   "source": [
    "\n",
    "db.query('DROP TABLE plays')"
   ]
  },
  {
   "cell_type": "code",
   "execution_count": 36,
   "metadata": {
    "collapsed": false
   },
   "outputs": [],
   "source": [
    "db = DB(dbname = 'geog465_knny', host = 'geog-db2.geog.uw.edu', port = 5432, user = 'knny', passwd = 'knny')"
   ]
  },
  {
   "cell_type": "code",
   "execution_count": 37,
   "metadata": {
    "collapsed": false
   },
   "outputs": [],
   "source": [
    "db.query('create table teams (id int, name varchar(25), conference varchar(3), division varchar(5), stadium_id int, CONSTRAINT team_pk PRIMARY KEY (id))')"
   ]
  },
  {
   "cell_type": "code",
   "execution_count": 38,
   "metadata": {
    "collapsed": false
   },
   "outputs": [
    {
     "data": {
      "text/plain": [
       "'1'"
      ]
     },
     "execution_count": 38,
     "metadata": {},
     "output_type": "execute_result"
    }
   ],
   "source": [
    "db.query(\"\"\"INSERT INTO teams VALUES (1, 'Arizona Cardinals', 'NFC', 'West', 31)\"\"\")\n",
    "db.query(\"\"\"INSERT INTO teams VALUES (19, 'New England Patriots', 'AFC', 'East', 10)\"\"\")\n",
    "db.query(\"\"\"INSERT INTO teams VALUES (25, 'Pittsburgh Steelers', 'AFC', 'North', 11)\"\"\")"
   ]
  },
  {
   "cell_type": "code",
   "execution_count": 39,
   "metadata": {
    "collapsed": false
   },
   "outputs": [],
   "source": [
    "db.query('create table stadiums (id int, city varchar(20), state varchar(2), name varchar(40), address varchar(60), seat_capacity int, CONSTRAINT stadium_pk PRIMARY KEY (id))')"
   ]
  },
  {
   "cell_type": "code",
   "execution_count": 40,
   "metadata": {
    "collapsed": false
   },
   "outputs": [
    {
     "data": {
      "text/plain": [
       "'1'"
      ]
     },
     "execution_count": 40,
     "metadata": {},
     "output_type": "execute_result"
    }
   ],
   "source": [
    "db.query(\"\"\"INSERT INTO stadiums VALUES (31, 'Glendale', 'AZ', 'University of Phoenix Stadium', '1 Cardinals Drive, Glendale, Arizona 85305', 63400)\"\"\")\n",
    "db.query(\"\"\"INSERT INTO stadiums VALUES (10, 'Foxborough', 'MA', 'Gilette Stadium', '1 Patriot Place, Foxborough, Massachusetts, 02035', 66829)\"\"\")\n",
    "db.query(\"\"\"INSERT INTO stadiums VALUES (11, 'Pittsburgh', 'PA', 'Heinz Field', '100 Art Rooney Avenue, Pittsburgh, Pennsylvania 15212', 68400)\"\"\")"
   ]
  },
  {
   "cell_type": "code",
   "execution_count": 41,
   "metadata": {
    "collapsed": false
   },
   "outputs": [],
   "source": [
    "db.query('create table games (id int, week int, date varchar(10), home_team_id int, away_team_id int, home_score int, away_score int, winner_id int, CONSTRAINT game_pk PRIMARY KEY (id))')"
   ]
  },
  {
   "cell_type": "code",
   "execution_count": 42,
   "metadata": {
    "collapsed": false
   },
   "outputs": [
    {
     "data": {
      "text/plain": [
       "'1'"
      ]
     },
     "execution_count": 42,
     "metadata": {},
     "output_type": "execute_result"
    }
   ],
   "source": [
    "db.query(\"\"\"INSERT INTO games VALUES (2015091000, 1, '09/10/2015', 19, 25, 28, 21, 19)\"\"\")"
   ]
  },
  {
   "cell_type": "code",
   "execution_count": 52,
   "metadata": {
    "collapsed": false
   },
   "outputs": [],
   "source": [
    "db.query('create table plays (id int, games_id int, off_team_id int, def_team_id int, play_type varchar(20), qtr int, min int, sec int, down int, yards_to_go int, yards_from_goal int, CONSTRAINT play_pk PRIMARY KEY (id))')"
   ]
  },
  {
   "cell_type": "code",
   "execution_count": 53,
   "metadata": {
    "collapsed": false
   },
   "outputs": [
    {
     "data": {
      "text/plain": [
       "'1'"
      ]
     },
     "execution_count": 53,
     "metadata": {},
     "output_type": "execute_result"
    }
   ],
   "source": [
    "db.query(\"\"\"INSERT INTO plays VALUES (9, 2015091000, 25, 19, 'pass', 1, 4, 3, 3, 18, 14)\"\"\")"
   ]
  },
  {
   "cell_type": "code",
   "execution_count": 54,
   "metadata": {
    "collapsed": false
   },
   "outputs": [],
   "source": [
    "db.query(\"\"\"ALTER TABLE teams ADD CONSTRAINT teams_stadiums FOREIGN KEY (stadium_id) REFERENCES stadiums(id) NOT DEFERRABLE INITIALLY IMMEDIATE\"\"\")\n",
    "db.query(\"\"\"ALTER TABLE games ADD CONSTRAINT home_team FOREIGN KEY (home_team_id) REFERENCES teams(id) NOT DEFERRABLE INITIALLY IMMEDIATE\"\"\")\n",
    "db.query(\"\"\"ALTER TABLE games ADD CONSTRAINT away_team FOREIGN KEY (away_team_id) REFERENCES teams(id) NOT DEFERRABLE INITIALLY IMMEDIATE\"\"\")\n",
    "db.query(\"\"\"ALTER TABLE games ADD CONSTRAINT winner FOREIGN KEY (winner_id) REFERENCES teams(id) NOT DEFERRABLE INITIALLY IMMEDIATE\"\"\")\n",
    "db.query(\"\"\"ALTER TABLE plays ADD CONSTRAINT play_game FOREIGN KEY (games_id) REFERENCES games(id) NOT DEFERRABLE INITIALLY IMMEDIATE\"\"\")\n",
    "db.query(\"\"\"ALTER TABLE plays ADD CONSTRAINT off_team FOREIGN KEY (off_team_id) REFERENCES teams(id) NOT DEFERRABLE INITIALLY IMMEDIATE\"\"\")\n",
    "db.query(\"\"\"ALTER TABLE plays ADD CONSTRAINT def_team FOREIGN KEY (def_team_id) REFERENCES teams(id) NOT DEFERRABLE INITIALLY IMMEDIATE\"\"\")"
   ]
  },
  {
   "cell_type": "code",
   "execution_count": 55,
   "metadata": {
    "collapsed": false
   },
   "outputs": [
    {
     "name": "stdout",
     "output_type": "stream",
     "text": [
      "id|        name        |conference|division|stadium_id\n",
      "--+--------------------+----------+--------+----------\n",
      " 1|Arizona Cardinals   |NFC       |West    |        31\n",
      "19|New England Patriots|AFC       |East    |        10\n",
      "25|Pittsburgh Steelers |AFC       |North   |        11\n",
      "(3 rows)\n",
      "id|   city   |state|            name             |                       address                       |seat_capacity\n",
      "--+----------+-----+-----------------------------+-----------------------------------------------------+-------------\n",
      "31|Glendale  |AZ   |University of Phoenix Stadium|1 Cardinals Drive, Glendale, Arizona 85305           |        63400\n",
      "10|Foxborough|MA   |Gilette Stadium              |1 Patriot Place, Foxborough, Massachusetts, 02035    |        66829\n",
      "11|Pittsburgh|PA   |Heinz Field                  |100 Art Rooney Avenue, Pittsburgh, Pennsylvania 15212|        68400\n",
      "(3 rows)\n",
      "    id    |week|   date   |home_team_id|away_team_id|home_score|away_score|winner_id\n",
      "----------+----+----------+------------+------------+----------+----------+---------\n",
      "2015091000|   1|09/10/2015|          19|          25|        28|        21|       19\n",
      "(1 row)\n",
      "id| games_id |off_team_id|def_team_id|play_type|qtr|min|sec|down|yards_to_go|yards_from_goal\n",
      "--+----------+-----------+-----------+---------+---+---+---+----+-----------+---------------\n",
      " 9|2015091000|         25|         19|pass     |  1|  4|  3|   3|         18|             14\n",
      "(1 row)\n"
     ]
    }
   ],
   "source": [
    "print db.query('select * from teams')\n",
    "print db.query('select * from stadiums')\n",
    "print db.query('select * from games')\n",
    "print db.query('select * from plays')"
   ]
  },
  {
   "cell_type": "code",
   "execution_count": null,
   "metadata": {
    "collapsed": true
   },
   "outputs": [],
   "source": []
  }
 ],
 "metadata": {
  "kernelspec": {
   "display_name": "Python 2",
   "language": "python",
   "name": "python2"
  },
  "language_info": {
   "codemirror_mode": {
    "name": "ipython",
    "version": 2
   },
   "file_extension": ".py",
   "mimetype": "text/x-python",
   "name": "python",
   "nbconvert_exporter": "python",
   "pygments_lexer": "ipython2",
   "version": "2.7.10"
  }
 },
 "nbformat": 4,
 "nbformat_minor": 0
}
