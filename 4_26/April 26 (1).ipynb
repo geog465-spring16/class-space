{
 "cells": [
  {
   "cell_type": "code",
   "execution_count": 28,
   "metadata": {
    "collapsed": true
   },
   "outputs": [],
   "source": [
    "import sys\n",
    "sys.path.append('C:\\Python27\\ArcGIS10.3\\Lib\\site-packages')\n",
    "import pg\n",
    "from pg import DB\n"
   ]
  },
  {
   "cell_type": "code",
   "execution_count": 29,
   "metadata": {
    "collapsed": false
   },
   "outputs": [],
   "source": [
    "db = DB(dbname = 'geog465_sbriss01', host = 'geog-db2.geog.uw.edu', port = 5432, user = 'sbriss01', passwd = 'sbriss01')"
   ]
  },
  {
   "cell_type": "code",
   "execution_count": 37,
   "metadata": {
    "collapsed": false
   },
   "outputs": [],
   "source": [
    "db.query('create table cult_spc(id int, name varchar(200), phone_num varchar(200), addressid int, address varchar(200))')"
   ]
  },
  {
   "cell_type": "code",
   "execution_count": 38,
   "metadata": {
    "collapsed": false
   },
   "outputs": [
    {
     "data": {
      "text/plain": [
       "{'address': '5423 Delridge Way SW',\n",
       " 'addressid': 1,\n",
       " 'id': 1,\n",
       " 'name': 'Seattle Public Library Delridge',\n",
       " 'phone_num': '2067339125'}"
      ]
     },
     "execution_count": 38,
     "metadata": {},
     "output_type": "execute_result"
    }
   ],
   "source": [
    "db.insert('cult_spc', id = 1, name = 'Seattle Public Library Delridge', phone_num = '2067339125', addressid = 1, address = '5423 Delridge Way SW' )"
   ]
  },
  {
   "cell_type": "code",
   "execution_count": 30,
   "metadata": {
    "collapsed": false
   },
   "outputs": [
    {
     "data": {
      "text/plain": [
       "['public.cult_spc',\n",
       " 'public.sde_spatial_references',\n",
       " 'sde.gdb_itemrelationships',\n",
       " 'sde.gdb_itemrelationshiptypes',\n",
       " 'sde.gdb_items',\n",
       " 'sde.gdb_itemtypes',\n",
       " 'sde.gdb_replicalog',\n",
       " 'sde.gdb_tables_last_modified',\n",
       " 'sde.i2',\n",
       " 'sde.i3',\n",
       " 'sde.i4',\n",
       " 'sde.i5',\n",
       " 'sde.i6',\n",
       " 'sde.sde_archives',\n",
       " 'sde.sde_column_registry',\n",
       " 'sde.sde_coordinate_systems',\n",
       " 'sde.sde_dbtune',\n",
       " 'sde.sde_geometry_columns',\n",
       " 'sde.sde_layer_locks',\n",
       " 'sde.sde_layer_stats',\n",
       " 'sde.sde_layers',\n",
       " 'sde.sde_lineages_modified',\n",
       " 'sde.sde_locators',\n",
       " 'sde.sde_logfile_pool',\n",
       " 'sde.sde_metadata',\n",
       " 'sde.sde_mvtables_modified',\n",
       " 'sde.sde_object_ids',\n",
       " 'sde.sde_object_locks',\n",
       " 'sde.sde_process_information',\n",
       " 'sde.sde_raster_columns',\n",
       " 'sde.sde_server_config',\n",
       " 'sde.sde_state_lineages',\n",
       " 'sde.sde_state_locks',\n",
       " 'sde.sde_states',\n",
       " 'sde.sde_table_locks',\n",
       " 'sde.sde_table_registry',\n",
       " 'sde.sde_tables_modified',\n",
       " 'sde.sde_version',\n",
       " 'sde.sde_versions',\n",
       " 'sde.sde_xml_columns',\n",
       " 'sde.sde_xml_index_tags',\n",
       " 'sde.sde_xml_indexes']"
      ]
     },
     "execution_count": 30,
     "metadata": {},
     "output_type": "execute_result"
    }
   ],
   "source": [
    "db.get_tables()"
   ]
  },
  {
   "cell_type": "code",
   "execution_count": 39,
   "metadata": {
    "collapsed": false
   },
   "outputs": [
    {
     "name": "stdout",
     "output_type": "stream",
     "text": [
      "id|             name              |phone_num |addressid|      address       \n",
      "--+-------------------------------+----------+---------+--------------------\n",
      " 1|Seattle Public Library Delridge|2067339125|        1|5423 Delridge Way SW\n",
      "(1 row)\n"
     ]
    }
   ],
   "source": [
    "print db.query(\"select * from cult_spc\")"
   ]
  },
  {
   "cell_type": "code",
   "execution_count": 36,
   "metadata": {
    "collapsed": true
   },
   "outputs": [],
   "source": [
    "db.query('drop table cult_spc')"
   ]
  },
  {
   "cell_type": "code",
   "execution_count": 40,
   "metadata": {
    "collapsed": false
   },
   "outputs": [
    {
     "data": {
      "text/plain": [
       "'1'"
      ]
     },
     "execution_count": 40,
     "metadata": {},
     "output_type": "execute_result"
    }
   ],
   "source": [
    "db.query(\"\"\"INSERT INTO cult_spc VALUES (2, 'C & P Coffee Company', '2069333125', 2, '5612 California Ave SW')\"\"\")"
   ]
  },
  {
   "cell_type": "code",
   "execution_count": 41,
   "metadata": {
    "collapsed": false
   },
   "outputs": [
    {
     "name": "stdout",
     "output_type": "stream",
     "text": [
      "id|             name              |phone_num |addressid|       address        \n",
      "--+-------------------------------+----------+---------+----------------------\n",
      " 1|Seattle Public Library Delridge|2067339125|        1|5423 Delridge Way SW  \n",
      " 2|C & P Coffee Company           |2069333125|        2|5612 California Ave SW\n",
      "(2 rows)\n"
     ]
    }
   ],
   "source": [
    "print db.query('select * from cult_spc')"
   ]
  },
  {
   "cell_type": "code",
   "execution_count": 43,
   "metadata": {
    "collapsed": false
   },
   "outputs": [],
   "source": [
    "db.query('create table space_type (cult_spc_id int, dom_disc varchar(400), sec_disc varchar(400), trd_disc varchar(400))')"
   ]
  },
  {
   "cell_type": "code",
   "execution_count": null,
   "metadata": {
    "collapsed": true
   },
   "outputs": [],
   "source": []
  }
 ],
 "metadata": {
  "kernelspec": {
   "display_name": "Python 2",
   "language": "python",
   "name": "python2"
  },
  "language_info": {
   "codemirror_mode": {
    "name": "ipython",
    "version": 2
   },
   "file_extension": ".py",
   "mimetype": "text/x-python",
   "name": "python",
   "nbconvert_exporter": "python",
   "pygments_lexer": "ipython2",
   "version": "2.7.10"
  }
 },
 "nbformat": 4,
 "nbformat_minor": 0
}
