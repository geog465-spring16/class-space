{
 "cells": [
  {
   "cell_type": "code",
   "execution_count": 30,
   "metadata": {
    "collapsed": true
   },
   "outputs": [],
   "source": [
    "import sys\n",
    "sys.path.append('C:\\Python27\\ArcGIS10.3\\Lib\\site-packages')\n",
    "import pg\n",
    "from pg import DB"
   ]
  },
  {
   "cell_type": "code",
   "execution_count": 31,
   "metadata": {
    "collapsed": true
   },
   "outputs": [],
   "source": [
    "db = DB(dbname = 'geog465_hyunkyu', host = 'geog-db2.geog.uw.edu', port = 5432, user = 'hyunkyu', passwd = 'hyunkyu')"
   ]
  },
  {
   "cell_type": "code",
   "execution_count": null,
   "metadata": {
    "collapsed": true
   },
   "outputs": [],
   "source": []
  },
  {
   "cell_type": "code",
   "execution_count": 38,
   "metadata": {
    "collapsed": false
   },
   "outputs": [
    {
     "ename": "ProgrammingError",
     "evalue": "ERROR:  syntax error at or near \"REFERNECES\"\nLINE 1: ...gPermit (id int PRIMARY KEY, ApplicantName_id int REFERNECES...\n                                                             ^\n",
     "output_type": "error",
     "traceback": [
      "\u001b[1;31m---------------------------------------------------------------------------\u001b[0m",
      "\u001b[1;31mProgrammingError\u001b[0m                          Traceback (most recent call last)",
      "\u001b[1;32m<ipython-input-38-455de1cecfaf>\u001b[0m in \u001b[0;36m<module>\u001b[1;34m()\u001b[0m\n\u001b[1;32m----> 1\u001b[1;33m \u001b[0mdb\u001b[0m\u001b[1;33m.\u001b[0m\u001b[0mquery\u001b[0m\u001b[1;33m(\u001b[0m\u001b[1;34m'create table BuildingPermit (id int PRIMARY KEY, ApplicantName_id int REFERNECES ApplicantName(id), PermitType varchar(40) NOT NULL, PermitNumber varchar(40) NOT NULL)'\u001b[0m\u001b[1;33m)\u001b[0m\u001b[1;33m\u001b[0m\u001b[0m\n\u001b[0m",
      "\u001b[1;32mC:\\Python27\\ArcGIS10.3\\Lib\\site-packages\\pg.pyc\u001b[0m in \u001b[0;36mquery\u001b[1;34m(self, command, *args)\u001b[0m\n\u001b[0;32m   1688\u001b[0m             \u001b[1;32mreturn\u001b[0m \u001b[0mself\u001b[0m\u001b[1;33m.\u001b[0m\u001b[0mdb\u001b[0m\u001b[1;33m.\u001b[0m\u001b[0mquery\u001b[0m\u001b[1;33m(\u001b[0m\u001b[0mcommand\u001b[0m\u001b[1;33m,\u001b[0m \u001b[0margs\u001b[0m\u001b[1;33m)\u001b[0m\u001b[1;33m\u001b[0m\u001b[0m\n\u001b[0;32m   1689\u001b[0m         \u001b[0mself\u001b[0m\u001b[1;33m.\u001b[0m\u001b[0m_do_debug\u001b[0m\u001b[1;33m(\u001b[0m\u001b[0mcommand\u001b[0m\u001b[1;33m)\u001b[0m\u001b[1;33m\u001b[0m\u001b[0m\n\u001b[1;32m-> 1690\u001b[1;33m         \u001b[1;32mreturn\u001b[0m \u001b[0mself\u001b[0m\u001b[1;33m.\u001b[0m\u001b[0mdb\u001b[0m\u001b[1;33m.\u001b[0m\u001b[0mquery\u001b[0m\u001b[1;33m(\u001b[0m\u001b[0mcommand\u001b[0m\u001b[1;33m)\u001b[0m\u001b[1;33m\u001b[0m\u001b[0m\n\u001b[0m\u001b[0;32m   1691\u001b[0m \u001b[1;33m\u001b[0m\u001b[0m\n\u001b[0;32m   1692\u001b[0m     \u001b[1;32mdef\u001b[0m \u001b[0mquery_formatted\u001b[0m\u001b[1;33m(\u001b[0m\u001b[0mself\u001b[0m\u001b[1;33m,\u001b[0m \u001b[0mcommand\u001b[0m\u001b[1;33m,\u001b[0m \u001b[0mparameters\u001b[0m\u001b[1;33m,\u001b[0m \u001b[0mtypes\u001b[0m\u001b[1;33m=\u001b[0m\u001b[0mNone\u001b[0m\u001b[1;33m,\u001b[0m \u001b[0minline\u001b[0m\u001b[1;33m=\u001b[0m\u001b[0mFalse\u001b[0m\u001b[1;33m)\u001b[0m\u001b[1;33m:\u001b[0m\u001b[1;33m\u001b[0m\u001b[0m\n",
      "\u001b[1;31mProgrammingError\u001b[0m: ERROR:  syntax error at or near \"REFERNECES\"\nLINE 1: ...gPermit (id int PRIMARY KEY, ApplicantName_id int REFERNECES...\n                                                             ^\n"
     ]
    }
   ],
   "source": [
    "db.query('create table BuildingPermit (id int PRIMARY KEY, ApplicantName_id int REFERNECES ApplicantName(id), PermitType varchar(40) NOT NULL, PermitNumber varchar(40) NOT NULL)')"
   ]
  },
  {
   "cell_type": "code",
   "execution_count": 54,
   "metadata": {
    "collapsed": false
   },
   "outputs": [],
   "source": [
    "#applicantname table\n",
    "db.query('create table ApplicantName (ApplicatntNameID int NOT NULL, FirstName varchar(40)  NOT NULL, LastName varchar(40)  NOT NULL, BuildingPermitID_id int REFERENCES BuildingPermit(BuildingPermitID), CONSTRAINT ApplicantName_pk PRIMARY KEY (ApplicatntNameID))')"
   ]
  },
  {
   "cell_type": "code",
   "execution_count": 55,
   "metadata": {
    "collapsed": true
   },
   "outputs": [],
   "source": [
    "#create address table\n",
    "db.query('create table Address (AddressID int NOT NULL, street varchar(40) NOT NULL, city varchar(40) NOT NULL, state varchar(40) NOT NULL, BuildingPermitID_id int REFERENCES BuildingPermit(BuildingPermitID), CONSTRAINT Address_pk PRIMARY KEY (AddressID))')"
   ]
  },
  {
   "cell_type": "code",
   "execution_count": 57,
   "metadata": {
    "collapsed": true
   },
   "outputs": [],
   "source": [
    "#create value table\n",
    "db.query('create table Value (ValueID int NOT NULL, ValueAmount int NOT NULL, BuildingPermitID_id int REFERENCES BuildingPermit(BuildingPermitID), CONSTRAINT Value_pk PRIMARY KEY (ValueID))')"
   ]
  },
  {
   "cell_type": "code",
   "execution_count": 51,
   "metadata": {
    "collapsed": false
   },
   "outputs": [],
   "source": [
    "db.query('drop table ApplicantName')"
   ]
  },
  {
   "cell_type": "code",
   "execution_count": 62,
   "metadata": {
    "collapsed": false,
    "scrolled": true
   },
   "outputs": [],
   "source": [
    "buildingPermit_list = [\"1, 'Demo', '123456'\"]\n",
    "for permit in buildingPermit_list:\n",
    "    db.query(\"\"\"INSERT INTO buildingPermit VALUES (%s)\"\"\" %permit)"
   ]
  },
  {
   "cell_type": "code",
   "execution_count": 68,
   "metadata": {
    "collapsed": false
   },
   "outputs": [],
   "source": [
    "address_list = [\"1, '1234 king st', 'seattle', 'WA' \"]\n",
    "for address in address_list:\n",
    "    db.query(\"\"\"INSERT INTO Address VALUES (%s)\"\"\" %address)"
   ]
  },
  {
   "cell_type": "code",
   "execution_count": 69,
   "metadata": {
    "collapsed": false
   },
   "outputs": [],
   "source": [
    "value_list = [\"1, 1000000 \"]\n",
    "for value in value_list:\n",
    "    db.query(\"\"\"INSERT INTO Value VALUES (%s)\"\"\" %value)"
   ]
  },
  {
   "cell_type": "code",
   "execution_count": 70,
   "metadata": {
    "collapsed": true
   },
   "outputs": [],
   "source": [
    "applicantName_list = [\"1, 'denny', 'oh'\"]\n",
    "for name in applicantName_list:\n",
    "    db.query(\"\"\"INSERT INTO ApplicantName VALUES (%s)\"\"\" %name)"
   ]
  },
  {
   "cell_type": "code",
   "execution_count": 71,
   "metadata": {
    "collapsed": false
   },
   "outputs": [
    {
     "name": "stdout",
     "output_type": "stream",
     "text": [
      "applicatntnameid|firstname|lastname|buildingpermitid_id\n",
      "----------------+---------+--------+-------------------\n",
      "               1|denny    |oh      |                   \n",
      "(1 row)\n"
     ]
    }
   ],
   "source": [
    "print db.query('select * from applicantName')"
   ]
  },
  {
   "cell_type": "code",
   "execution_count": null,
   "metadata": {
    "collapsed": true
   },
   "outputs": [],
   "source": []
  }
 ],
 "metadata": {
  "kernelspec": {
   "display_name": "Python 2",
   "language": "python",
   "name": "python2"
  },
  "language_info": {
   "codemirror_mode": {
    "name": "ipython",
    "version": 2
   },
   "file_extension": ".py",
   "mimetype": "text/x-python",
   "name": "python",
   "nbconvert_exporter": "python",
   "pygments_lexer": "ipython2",
   "version": "2.7.10"
  }
 },
 "nbformat": 4,
 "nbformat_minor": 0
}
