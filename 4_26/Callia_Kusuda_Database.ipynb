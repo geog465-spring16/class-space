{
 "cells": [
  {
   "cell_type": "markdown",
   "metadata": {},
   "source": [
    "Kyle Kusuda & Evan Callia\n",
    "\n",
    "4/26/16\n",
    "\n",
    "Creating a database/tables."
   ]
  },
  {
   "cell_type": "code",
   "execution_count": 14,
   "metadata": {
    "collapsed": false
   },
   "outputs": [],
   "source": [
    "import sys\n",
    "sys.path.append('C:\\Python27\\ArcGIS10.3\\Lib\\site-packages')\n",
    "                \n",
    "from pg import DB\n"
   ]
  },
  {
   "cell_type": "code",
   "execution_count": 15,
   "metadata": {
    "collapsed": false
   },
   "outputs": [],
   "source": [
    "db = DB(dbname = 'geog465_kusuda', host = 'geog-db2.geog.uw.edu', port = 5432, user = 'kusuda', passwd = 'kusuda')"
   ]
  },
  {
   "cell_type": "code",
   "execution_count": 33,
   "metadata": {
    "collapsed": false
   },
   "outputs": [],
   "source": [
    "\n",
    "db.query('create table Deadline (id int PRIMARY KEY, deadline varchar(30), time varchar(20))')\n",
    "db.query('create table Fund (id int PRIMARY KEY REFERENCES Deadline(id), name varchar(50), description varchar(1000), award_amount varchar(100), eligibility varchar(1000), website varchar(1000))')\n",
    "db.query('create table Departments (id int PRIMARY KEY, name varchar(100))')\n",
    "#Categories would be referenced but we're only doing 4 tables for this assignment\n",
    "db.query('create table Summary (id int PRIMARY KEY, fund_id int NOT NULL UNIQUE REFERENCES Fund(id), dept_id int NOT NULL UNIQUE REFERENCES Departments(id), cat_id int NOT NULL UNIQUE)')\n"
   ]
  },
  {
   "cell_type": "code",
   "execution_count": 34,
   "metadata": {
    "collapsed": false
   },
   "outputs": [
    {
     "data": {
      "text/plain": [
       "'1'"
      ]
     },
     "execution_count": 34,
     "metadata": {},
     "output_type": "execute_result"
    }
   ],
   "source": [
    "db.query(\"\"\"INSERT INTO Deadline VALUES (1, '9/24/16', '5pm')\"\"\")\n",
    "db.query(\"\"\"INSERT INTO Fund VALUES (1, 'Green Seattle', 'For a greener Seattle', '10000', 'Green groups', 'www.greenseattlefund.com')\"\"\")\n",
    "db.query(\"\"\"INSERT INTO Departments VALUES (1, 'Department of Natural Resources')\"\"\")\n",
    "db.query(\"\"\"INSERT INTO Summary VALUES (1, 1, 1, 1)\"\"\")"
   ]
  },
  {
   "cell_type": "code",
   "execution_count": 39,
   "metadata": {
    "collapsed": false
   },
   "outputs": [
    {
     "name": "stdout",
     "output_type": "stream",
     "text": [
      "id|deadline|time\n",
      "--+--------+----\n",
      " 1|9/24/16 |5pm \n",
      "(1 row)\n"
     ]
    }
   ],
   "source": [
    "print db.query('SELECT * FROM Deadline')"
   ]
  },
  {
   "cell_type": "code",
   "execution_count": 36,
   "metadata": {
    "collapsed": false
   },
   "outputs": [
    {
     "name": "stdout",
     "output_type": "stream",
     "text": [
      "id|    name     |     description     |award_amount|eligibility |        website         \n",
      "--+-------------+---------------------+------------+------------+------------------------\n",
      " 1|Green Seattle|For a greener Seattle|10000       |Green groups|www.greenseattlefund.com\n",
      "(1 row)\n"
     ]
    }
   ],
   "source": [
    "print db.query('SELECT * FROM Fund')"
   ]
  },
  {
   "cell_type": "code",
   "execution_count": 37,
   "metadata": {
    "collapsed": false
   },
   "outputs": [
    {
     "name": "stdout",
     "output_type": "stream",
     "text": [
      "id|             name              \n",
      "--+-------------------------------\n",
      " 1|Department of Natural Resources\n",
      "(1 row)\n"
     ]
    }
   ],
   "source": [
    "print db.query('SELECT * FROM Departments')"
   ]
  },
  {
   "cell_type": "code",
   "execution_count": 38,
   "metadata": {
    "collapsed": false
   },
   "outputs": [
    {
     "name": "stdout",
     "output_type": "stream",
     "text": [
      "id|fund_id|dept_id|cat_id\n",
      "--+-------+-------+------\n",
      " 1|      1|      1|     1\n",
      "(1 row)\n"
     ]
    }
   ],
   "source": [
    "print db.query('SELECT * FROM Summary')"
   ]
  }
 ],
 "metadata": {
  "kernelspec": {
   "display_name": "Python 2",
   "language": "python",
   "name": "python2"
  },
  "language_info": {
   "codemirror_mode": {
    "name": "ipython",
    "version": 2
   },
   "file_extension": ".py",
   "mimetype": "text/x-python",
   "name": "python",
   "nbconvert_exporter": "python",
   "pygments_lexer": "ipython2",
   "version": "2.7.10"
  }
 },
 "nbformat": 4,
 "nbformat_minor": 0
}
