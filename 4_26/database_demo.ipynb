{
 "cells": [
  {
   "cell_type": "code",
   "execution_count": 1,
   "metadata": {
    "collapsed": true
   },
   "outputs": [],
   "source": [
    "import sys\n",
    "sys.path.append('C:\\Python27\\ArcGIS10.3\\Lib\\site-packages')\n",
    "import pg\n",
    "from pg import DB"
   ]
  },
  {
   "cell_type": "code",
   "execution_count": 2,
   "metadata": {
    "collapsed": true
   },
   "outputs": [],
   "source": [
    "db = DB(dbname = 'test_db', host = 'geog-db2.geog.uw.edu', port = 5432, user = 'clizotte', passwd = 'clizotte123')"
   ]
  },
  {
   "cell_type": "code",
   "execution_count": 3,
   "metadata": {
    "collapsed": true
   },
   "outputs": [],
   "source": [
    "db.query('create table schools (id int, name varchar(40), address varchar (80))')"
   ]
  },
  {
   "cell_type": "code",
   "execution_count": 10,
   "metadata": {
    "collapsed": false
   },
   "outputs": [
    {
     "data": {
      "text/plain": [
       "{'address': '5511 15th Avenue S', 'id': 1, 'name': 'Cleveland H.S.'}"
      ]
     },
     "execution_count": 10,
     "metadata": {},
     "output_type": "execute_result"
    }
   ],
   "source": [
    "db.insert('schools', id = 1, name = 'Cleveland H.S.', address = '5511 15th Avenue S' )"
   ]
  },
  {
   "cell_type": "code",
   "execution_count": 12,
   "metadata": {
    "collapsed": false
   },
   "outputs": [
    {
     "name": "stdout",
     "output_type": "stream",
     "text": [
      "id|     name     |     address      \n",
      "--+--------------+------------------\n",
      " 1|Cleveland H.S.|5511 15th Avenue S\n",
      "(1 row)\n"
     ]
    }
   ],
   "source": [
    "print db.query('select * from schools')"
   ]
  },
  {
   "cell_type": "code",
   "execution_count": 20,
   "metadata": {
    "collapsed": false
   },
   "outputs": [
    {
     "data": {
      "text/plain": [
       "'1'"
      ]
     },
     "execution_count": 20,
     "metadata": {},
     "output_type": "execute_result"
    }
   ],
   "source": [
    "db.query(\"\"\"INSERT INTO schools VALUES (2, 'Franklin H.S.', '3013 S Mount Baker Bvld.')\"\"\")"
   ]
  },
  {
   "cell_type": "code",
   "execution_count": 21,
   "metadata": {
    "collapsed": false
   },
   "outputs": [
    {
     "name": "stdout",
     "output_type": "stream",
     "text": [
      "id|     name     |        address         \n",
      "--+--------------+------------------------\n",
      " 1|Cleveland H.S.|5511 15th Avenue S      \n",
      " 2|Franklin H.S. |3013 S Mount Baker Bvld.\n",
      "(2 rows)\n"
     ]
    }
   ],
   "source": [
    "print db.query('select * from schools')"
   ]
  },
  {
   "cell_type": "code",
   "execution_count": 26,
   "metadata": {
    "collapsed": true
   },
   "outputs": [],
   "source": [
    "schools_list = [\"3, 'Rainier Beach H.S.', '8815 Seward Park Ave S'\", \"4, 'Mercer M.S.', '1600 S Columbian Way'\"]"
   ]
  },
  {
   "cell_type": "code",
   "execution_count": 28,
   "metadata": {
    "collapsed": false
   },
   "outputs": [],
   "source": [
    "for school in schools_list:\n",
    "    db.query(\"\"\"INSERT INTO schools VALUES (%s)\"\"\" %school)"
   ]
  },
  {
   "cell_type": "code",
   "execution_count": 29,
   "metadata": {
    "collapsed": false
   },
   "outputs": [
    {
     "name": "stdout",
     "output_type": "stream",
     "text": [
      "id|       name       |        address         \n",
      "--+------------------+------------------------\n",
      " 1|Cleveland H.S.    |5511 15th Avenue S      \n",
      " 2|Franklin H.S.     |3013 S Mount Baker Bvld.\n",
      " 3|Rainier Beach H.S.|8815 Seward Park Ave S  \n",
      " 4|Mercer M.S.       |1600 S Columbian Way    \n",
      "(4 rows)\n"
     ]
    }
   ],
   "source": [
    "print db.query('SELECT * FROM schools')"
   ]
  },
  {
   "cell_type": "code",
   "execution_count": null,
   "metadata": {
    "collapsed": true
   },
   "outputs": [],
   "source": []
  }
 ],
 "metadata": {
  "kernelspec": {
   "display_name": "Python 2",
   "language": "python",
   "name": "python2"
  },
  "language_info": {
   "codemirror_mode": {
    "name": "ipython",
    "version": 2
   },
   "file_extension": ".py",
   "mimetype": "text/x-python",
   "name": "python",
   "nbconvert_exporter": "python",
   "pygments_lexer": "ipython2",
   "version": "2.7.10"
  }
 },
 "nbformat": 4,
 "nbformat_minor": 0
}
