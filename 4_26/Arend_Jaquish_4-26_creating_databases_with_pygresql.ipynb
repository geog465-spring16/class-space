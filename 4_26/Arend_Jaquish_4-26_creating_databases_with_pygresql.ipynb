{
 "cells": [
  {
   "cell_type": "code",
   "execution_count": 1,
   "metadata": {
    "collapsed": false
   },
   "outputs": [
    {
     "ename": "ImportError",
     "evalue": "No module named pg",
     "output_type": "error",
     "traceback": [
      "\u001b[1;31m---------------------------------------------------------------------------\u001b[0m",
      "\u001b[1;31mImportError\u001b[0m                               Traceback (most recent call last)",
      "\u001b[1;32m<ipython-input-1-0a3272d2acfa>\u001b[0m in \u001b[0;36m<module>\u001b[1;34m()\u001b[0m\n\u001b[0;32m      1\u001b[0m \u001b[1;32mimport\u001b[0m \u001b[0msys\u001b[0m\u001b[1;33m\u001b[0m\u001b[0m\n\u001b[0;32m      2\u001b[0m \u001b[0msys\u001b[0m\u001b[1;33m.\u001b[0m\u001b[0mpath\u001b[0m\u001b[1;33m.\u001b[0m\u001b[0mappend\u001b[0m\u001b[1;33m(\u001b[0m\u001b[0msys\u001b[0m\u001b[1;33m.\u001b[0m\u001b[0mpath\u001b[0m\u001b[1;33m.\u001b[0m\u001b[0mappend\u001b[0m\u001b[1;33m(\u001b[0m\u001b[1;34m\"C:\\Python27\\ArcGIS10.3\\Lib\\site-packages\"\u001b[0m\u001b[1;33m)\u001b[0m\u001b[1;33m)\u001b[0m\u001b[1;33m\u001b[0m\u001b[0m\n\u001b[1;32m----> 3\u001b[1;33m \u001b[1;32mimport\u001b[0m \u001b[0mpg\u001b[0m\u001b[1;33m\u001b[0m\u001b[0m\n\u001b[0m\u001b[0;32m      4\u001b[0m \u001b[1;32mfrom\u001b[0m \u001b[0mpg\u001b[0m \u001b[1;32mimport\u001b[0m \u001b[0mDB\u001b[0m\u001b[1;33m\u001b[0m\u001b[0m\n\u001b[0;32m      5\u001b[0m \u001b[0mdb\u001b[0m \u001b[1;33m=\u001b[0m \u001b[0mDB\u001b[0m\u001b[1;33m(\u001b[0m\u001b[0mdbname\u001b[0m \u001b[1;33m=\u001b[0m \u001b[1;34m\"geog465_fja1995\"\u001b[0m\u001b[1;33m,\u001b[0m \u001b[0mhost\u001b[0m \u001b[1;33m=\u001b[0m \u001b[1;34m\"geog-db2.geog.uw.edu\"\u001b[0m\u001b[1;33m,\u001b[0m \u001b[0mport\u001b[0m \u001b[1;33m=\u001b[0m \u001b[1;36m5432\u001b[0m\u001b[1;33m,\u001b[0m \u001b[0muser\u001b[0m \u001b[1;33m=\u001b[0m \u001b[1;34m\"fja1995\"\u001b[0m\u001b[1;33m,\u001b[0m \u001b[0mpasswd\u001b[0m \u001b[1;33m=\u001b[0m \u001b[1;34m\"fja1995\"\u001b[0m\u001b[1;33m)\u001b[0m\u001b[1;33m\u001b[0m\u001b[0m\n",
      "\u001b[1;31mImportError\u001b[0m: No module named pg"
     ]
    }
   ],
   "source": [
    "import sys\n",
    "sys.path.append(sys.path.append(\"C:\\Python27\\ArcGIS10.3\\Lib\\site-packages\"))\n",
    "import pg\n",
    "from pg import DB\n",
    "db = DB(dbname = \"geog465_fja1995\", host = \"geog-db2.geog.uw.edu\", port = 5432, user = \"fja1995\", passwd = \"fja1995\")\n",
    "db.query(\"create table Public_Art_Data (id int, sac_id varchar(80), CONSTRAINT Public_Art_Data_pk PRIMARY KEY (sac_id))\")\n",
    "\n",
    "db.query(\"\"\"INSERT INTO public_art_data VALUES (1, 'SC84.088')\"\"\")\n",
    "\n",
    "print db.query(\"select * from public_art_data\")\n",
    "\n",
    "db.query(\"create table date_created (id int, year date, Public_Art_Data_sac_id varchar(80)\")\n",
    "\n",
    "db.query(\"\"\"INSERT INTO date_created VALUES (1, '1984', 'SC84.088')\"\"\")\n",
    "\n",
    "print db.query(\"select * from date_created\")\n",
    "\n",
    "db.query(\"create table Project_Location (id int, project varchar(80), Public_Art_Data_sac_id varchar(80))\")\n",
    "\n",
    "db.query(\"\"\"INSERT INTO project_location VALUES (1, 'SEATTLE CENTER', 'SC84.088')\"\"\")\n",
    "print db.query(\"select * from project_location\")\n",
    "db.query(\"create table Direct_Location (id int, location varchar(80), address varchar(80), latitude real, longitude real, geolocation varchar(120), Public_Art_Data_sac_id varchar(80))\")\n",
    "\n",
    "db.query(\"\"\"INSERT INTO Direct_Location VALUES (1, 'Space Needle Sculpture Park', '400 Broad St', 47.6193, -122.3501, '400 Broad St Seattle WA 47.6193 -122.3501', 'SC84.088')\"\"\")"
   ]
  },
  {
   "cell_type": "code",
   "execution_count": 2,
   "metadata": {
    "collapsed": false
   },
   "outputs": [
    {
     "ename": "ImportError",
     "evalue": "DLL load failed: The specified module could not be found.",
     "output_type": "error",
     "traceback": [
      "\u001b[1;31m---------------------------------------------------------------------------\u001b[0m",
      "\u001b[1;31mImportError\u001b[0m                               Traceback (most recent call last)",
      "\u001b[1;32m<ipython-input-2-e731a1becb4c>\u001b[0m in \u001b[0;36m<module>\u001b[1;34m()\u001b[0m\n\u001b[0;32m      1\u001b[0m \u001b[1;32mimport\u001b[0m \u001b[0msys\u001b[0m\u001b[1;33m\u001b[0m\u001b[0m\n\u001b[0;32m      2\u001b[0m \u001b[0msys\u001b[0m\u001b[1;33m.\u001b[0m\u001b[0mpath\u001b[0m\u001b[1;33m.\u001b[0m\u001b[0mappend\u001b[0m\u001b[1;33m(\u001b[0m\u001b[0msys\u001b[0m\u001b[1;33m.\u001b[0m\u001b[0mpath\u001b[0m\u001b[1;33m.\u001b[0m\u001b[0mappend\u001b[0m\u001b[1;33m(\u001b[0m\u001b[1;34m\"C:\\Python27\\ArcGIS10.4\\Lib\\site-packages\"\u001b[0m\u001b[1;33m)\u001b[0m\u001b[1;33m)\u001b[0m\u001b[1;33m\u001b[0m\u001b[0m\n\u001b[1;32m----> 3\u001b[1;33m \u001b[1;32mimport\u001b[0m \u001b[0mpg\u001b[0m\u001b[1;33m\u001b[0m\u001b[0m\n\u001b[0m\u001b[0;32m      4\u001b[0m \u001b[1;32mfrom\u001b[0m \u001b[0mpg\u001b[0m \u001b[1;32mimport\u001b[0m \u001b[0mDB\u001b[0m\u001b[1;33m\u001b[0m\u001b[0m\n\u001b[0;32m      5\u001b[0m \u001b[0mdb\u001b[0m \u001b[1;33m=\u001b[0m \u001b[0mDB\u001b[0m\u001b[1;33m(\u001b[0m\u001b[0mdbname\u001b[0m \u001b[1;33m=\u001b[0m \u001b[1;34m\"geog465_fja1995\"\u001b[0m\u001b[1;33m,\u001b[0m \u001b[0mhost\u001b[0m \u001b[1;33m=\u001b[0m \u001b[1;34m\"geog-db2.geog.uw.edu\"\u001b[0m\u001b[1;33m,\u001b[0m \u001b[0mport\u001b[0m \u001b[1;33m=\u001b[0m \u001b[1;36m5432\u001b[0m\u001b[1;33m,\u001b[0m \u001b[0muser\u001b[0m \u001b[1;33m=\u001b[0m \u001b[1;34m\"fja1995\"\u001b[0m\u001b[1;33m,\u001b[0m \u001b[0mpasswd\u001b[0m \u001b[1;33m=\u001b[0m \u001b[1;34m\"fja1995\"\u001b[0m\u001b[1;33m)\u001b[0m\u001b[1;33m\u001b[0m\u001b[0m\n",
      "\u001b[1;32mC:\\Python27\\ArcGIS10.4\\Lib\\site-packages\\pg.py\u001b[0m in \u001b[0;36m<module>\u001b[1;34m()\u001b[0m\n\u001b[0;32m     30\u001b[0m \u001b[1;32mfrom\u001b[0m \u001b[0m__future__\u001b[0m \u001b[1;32mimport\u001b[0m \u001b[0mprint_function\u001b[0m\u001b[1;33m,\u001b[0m \u001b[0mdivision\u001b[0m\u001b[1;33m\u001b[0m\u001b[0m\n\u001b[0;32m     31\u001b[0m \u001b[1;33m\u001b[0m\u001b[0m\n\u001b[1;32m---> 32\u001b[1;33m \u001b[1;32mfrom\u001b[0m \u001b[0m_pg\u001b[0m \u001b[1;32mimport\u001b[0m \u001b[1;33m*\u001b[0m\u001b[1;33m\u001b[0m\u001b[0m\n\u001b[0m\u001b[0;32m     33\u001b[0m \u001b[1;33m\u001b[0m\u001b[0m\n\u001b[0;32m     34\u001b[0m \u001b[0m__version__\u001b[0m \u001b[1;33m=\u001b[0m \u001b[0mversion\u001b[0m\u001b[1;33m\u001b[0m\u001b[0m\n",
      "\u001b[1;31mImportError\u001b[0m: DLL load failed: The specified module could not be found."
     ]
    }
   ],
   "source": [
    "import sys\n",
    "sys.path.append(sys.path.append(\"C:\\Python27\\ArcGIS10.4\\Lib\\site-packages\"))\n",
    "import pg\n",
    "from pg import DB\n",
    "db = DB(dbname = \"geog465_fja1995\", host = \"geog-db2.geog.uw.edu\", port = 5432, user = \"fja1995\", passwd = \"fja1995\")\n",
    "db.query(\"create table Public_Art_Data (id int, sac_id varchar(80), CONSTRAINT Public_Art_Data_pk PRIMARY KEY (sac_id))\")\n",
    "\n",
    "db.query(\"\"\"INSERT INTO public_art_data VALUES (1, 'SC84.088')\"\"\")\n",
    "\n",
    "print db.query(\"select * from public_art_data\")\n",
    "\n",
    "db.query(\"create table date_created (id int, year date, Public_Art_Data_sac_id varchar(80)\")\n",
    "\n",
    "db.query(\"\"\"INSERT INTO date_created VALUES (1, '1984', 'SC84.088')\"\"\")\n",
    "\n",
    "print db.query(\"select * from date_created\")\n",
    "\n",
    "db.query(\"create table Project_Location (id int, project varchar(80), Public_Art_Data_sac_id varchar(80))\")\n",
    "\n",
    "db.query(\"\"\"INSERT INTO project_location VALUES (1, 'SEATTLE CENTER', 'SC84.088')\"\"\")\n",
    "print db.query(\"select * from project_location\")\n",
    "db.query(\"create table Direct_Location (id int, location varchar(80), address varchar(80), latitude real, longitude real, geolocation varchar(120), Public_Art_Data_sac_id varchar(80))\")\n",
    "\n",
    "db.query(\"\"\"INSERT INTO Direct_Location VALUES (1, 'Space Needle Sculpture Park', '400 Broad St', 47.6193, -122.3501, '400 Broad St Seattle WA 47.6193 -122.3501', 'SC84.088')\"\"\")"
   ]
  },
  {
   "cell_type": "code",
   "execution_count": 3,
   "metadata": {
    "collapsed": false
   },
   "outputs": [
    {
     "ename": "ImportError",
     "evalue": "DLL load failed: The specified module could not be found.",
     "output_type": "error",
     "traceback": [
      "\u001b[1;31m---------------------------------------------------------------------------\u001b[0m",
      "\u001b[1;31mImportError\u001b[0m                               Traceback (most recent call last)",
      "\u001b[1;32m<ipython-input-3-3d48939d84d2>\u001b[0m in \u001b[0;36m<module>\u001b[1;34m()\u001b[0m\n\u001b[0;32m      1\u001b[0m \u001b[1;32mimport\u001b[0m \u001b[0msys\u001b[0m\u001b[1;33m\u001b[0m\u001b[0m\n\u001b[0;32m      2\u001b[0m \u001b[0msys\u001b[0m\u001b[1;33m.\u001b[0m\u001b[0mpath\u001b[0m\u001b[1;33m.\u001b[0m\u001b[0mappend\u001b[0m\u001b[1;33m(\u001b[0m\u001b[0msys\u001b[0m\u001b[1;33m.\u001b[0m\u001b[0mpath\u001b[0m\u001b[1;33m.\u001b[0m\u001b[0mappend\u001b[0m\u001b[1;33m(\u001b[0m\u001b[1;34m\"C:\\Python27\\ArcGIS10.4\\Lib\\site-packages\"\u001b[0m\u001b[1;33m)\u001b[0m\u001b[1;33m)\u001b[0m\u001b[1;33m\u001b[0m\u001b[0m\n\u001b[1;32m----> 3\u001b[1;33m \u001b[1;32mimport\u001b[0m \u001b[0mpg\u001b[0m\u001b[1;33m\u001b[0m\u001b[0m\n\u001b[0m\u001b[0;32m      4\u001b[0m \u001b[1;32mfrom\u001b[0m \u001b[0mpg\u001b[0m \u001b[1;32mimport\u001b[0m \u001b[0mDB\u001b[0m\u001b[1;33m\u001b[0m\u001b[0m\n\u001b[0;32m      5\u001b[0m \u001b[1;33m\u001b[0m\u001b[0m\n",
      "\u001b[1;32mC:\\Python27\\ArcGIS10.4\\Lib\\site-packages\\pg.py\u001b[0m in \u001b[0;36m<module>\u001b[1;34m()\u001b[0m\n\u001b[0;32m     30\u001b[0m \u001b[1;32mfrom\u001b[0m \u001b[0m__future__\u001b[0m \u001b[1;32mimport\u001b[0m \u001b[0mprint_function\u001b[0m\u001b[1;33m,\u001b[0m \u001b[0mdivision\u001b[0m\u001b[1;33m\u001b[0m\u001b[0m\n\u001b[0;32m     31\u001b[0m \u001b[1;33m\u001b[0m\u001b[0m\n\u001b[1;32m---> 32\u001b[1;33m \u001b[1;32mfrom\u001b[0m \u001b[0m_pg\u001b[0m \u001b[1;32mimport\u001b[0m \u001b[1;33m*\u001b[0m\u001b[1;33m\u001b[0m\u001b[0m\n\u001b[0m\u001b[0;32m     33\u001b[0m \u001b[1;33m\u001b[0m\u001b[0m\n\u001b[0;32m     34\u001b[0m \u001b[0m__version__\u001b[0m \u001b[1;33m=\u001b[0m \u001b[0mversion\u001b[0m\u001b[1;33m\u001b[0m\u001b[0m\n",
      "\u001b[1;31mImportError\u001b[0m: DLL load failed: The specified module could not be found."
     ]
    }
   ],
   "source": [
    "import sys\n",
    "sys.path.append(sys.path.append(\"C:\\Python27\\ArcGIS10.4\\Lib\\site-packages\"))\n",
    "import pg\n",
    "from pg import DB\n",
    "\n",
    "db = DB(dbname = \"geog465_fja1995\", host = \"geog-db2.geog.uw.edu\", port = 5432, user = \"fja1995\", passwd = \"fja1995\")\n",
    "db.query(\"create table Public_Art_Data (id int, sac_id varchar(80), CONSTRAINT Public_Art_Data_pk PRIMARY KEY (sac_id))\")\n",
    "\n",
    "db.query(\"\"\"INSERT INTO public_art_data VALUES (1, 'SC84.088')\"\"\")\n",
    "\n",
    "print db.query(\"select * from public_art_data\")\n",
    "\n",
    "db.query(\"create table date_created (id int, year date, Public_Art_Data_sac_id varchar(80)\")\n",
    "\n",
    "db.query(\"\"\"INSERT INTO date_created VALUES (1, '1984', 'SC84.088')\"\"\")\n",
    "\n",
    "print db.query(\"select * from date_created\")\n",
    "\n",
    "db.query(\"create table Project_Location (id int, project varchar(80), Public_Art_Data_sac_id varchar(80))\")\n",
    "\n",
    "db.query(\"\"\"INSERT INTO project_location VALUES (1, 'SEATTLE CENTER', 'SC84.088')\"\"\")\n",
    "print db.query(\"select * from project_location\")\n",
    "db.query(\"create table Direct_Location (id int, location varchar(80), address varchar(80), latitude real, longitude real, geolocation varchar(120), Public_Art_Data_sac_id varchar(80))\")\n",
    "\n",
    "db.query(\"\"\"INSERT INTO Direct_Location VALUES (1, 'Space Needle Sculpture Park', '400 Broad St', 47.6193, -122.3501, '400 Broad St Seattle WA 47.6193 -122.3501', 'SC84.088')\"\"\")"
   ]
  },
  {
   "cell_type": "code",
   "execution_count": 4,
   "metadata": {
    "collapsed": false
   },
   "outputs": [
    {
     "ename": "ImportError",
     "evalue": "DLL load failed: The specified module could not be found.",
     "output_type": "error",
     "traceback": [
      "\u001b[1;31m---------------------------------------------------------------------------\u001b[0m",
      "\u001b[1;31mImportError\u001b[0m                               Traceback (most recent call last)",
      "\u001b[1;32m<ipython-input-4-777c795e1731>\u001b[0m in \u001b[0;36m<module>\u001b[1;34m()\u001b[0m\n\u001b[0;32m      1\u001b[0m \u001b[1;32mimport\u001b[0m \u001b[0msys\u001b[0m\u001b[1;33m\u001b[0m\u001b[0m\n\u001b[0;32m      2\u001b[0m \u001b[0msys\u001b[0m\u001b[1;33m.\u001b[0m\u001b[0mpath\u001b[0m\u001b[1;33m.\u001b[0m\u001b[0mappend\u001b[0m\u001b[1;33m(\u001b[0m\u001b[0msys\u001b[0m\u001b[1;33m.\u001b[0m\u001b[0mpath\u001b[0m\u001b[1;33m.\u001b[0m\u001b[0mappend\u001b[0m\u001b[1;33m(\u001b[0m\u001b[1;34m\"C:\\Python27\\ArcGIS10.4\\Lib\\site-packages\"\u001b[0m\u001b[1;33m)\u001b[0m\u001b[1;33m)\u001b[0m\u001b[1;33m\u001b[0m\u001b[0m\n\u001b[1;32m----> 3\u001b[1;33m \u001b[1;32mimport\u001b[0m \u001b[0mpg\u001b[0m\u001b[1;33m\u001b[0m\u001b[0m\n\u001b[0m\u001b[0;32m      4\u001b[0m \u001b[1;33m\u001b[0m\u001b[0m\n\u001b[0;32m      5\u001b[0m \u001b[0mdb\u001b[0m \u001b[1;33m=\u001b[0m \u001b[0mDB\u001b[0m\u001b[1;33m(\u001b[0m\u001b[0mdbname\u001b[0m \u001b[1;33m=\u001b[0m \u001b[1;34m\"geog465_fja1995\"\u001b[0m\u001b[1;33m,\u001b[0m \u001b[0mhost\u001b[0m \u001b[1;33m=\u001b[0m \u001b[1;34m\"geog-db2.geog.uw.edu\"\u001b[0m\u001b[1;33m,\u001b[0m \u001b[0mport\u001b[0m \u001b[1;33m=\u001b[0m \u001b[1;36m5432\u001b[0m\u001b[1;33m,\u001b[0m \u001b[0muser\u001b[0m \u001b[1;33m=\u001b[0m \u001b[1;34m\"fja1995\"\u001b[0m\u001b[1;33m,\u001b[0m \u001b[0mpasswd\u001b[0m \u001b[1;33m=\u001b[0m \u001b[1;34m\"fja1995\"\u001b[0m\u001b[1;33m)\u001b[0m\u001b[1;33m\u001b[0m\u001b[0m\n",
      "\u001b[1;32mC:\\Python27\\ArcGIS10.4\\Lib\\site-packages\\pg.py\u001b[0m in \u001b[0;36m<module>\u001b[1;34m()\u001b[0m\n\u001b[0;32m     30\u001b[0m \u001b[1;32mfrom\u001b[0m \u001b[0m__future__\u001b[0m \u001b[1;32mimport\u001b[0m \u001b[0mprint_function\u001b[0m\u001b[1;33m,\u001b[0m \u001b[0mdivision\u001b[0m\u001b[1;33m\u001b[0m\u001b[0m\n\u001b[0;32m     31\u001b[0m \u001b[1;33m\u001b[0m\u001b[0m\n\u001b[1;32m---> 32\u001b[1;33m \u001b[1;32mfrom\u001b[0m \u001b[0m_pg\u001b[0m \u001b[1;32mimport\u001b[0m \u001b[1;33m*\u001b[0m\u001b[1;33m\u001b[0m\u001b[0m\n\u001b[0m\u001b[0;32m     33\u001b[0m \u001b[1;33m\u001b[0m\u001b[0m\n\u001b[0;32m     34\u001b[0m \u001b[0m__version__\u001b[0m \u001b[1;33m=\u001b[0m \u001b[0mversion\u001b[0m\u001b[1;33m\u001b[0m\u001b[0m\n",
      "\u001b[1;31mImportError\u001b[0m: DLL load failed: The specified module could not be found."
     ]
    }
   ],
   "source": [
    "import sys\n",
    "sys.path.append(sys.path.append(\"C:\\Python27\\ArcGIS10.4\\Lib\\site-packages\"))\n",
    "import pg\n",
    "\n",
    "db = DB(dbname = \"geog465_fja1995\", host = \"geog-db2.geog.uw.edu\", port = 5432, user = \"fja1995\", passwd = \"fja1995\")\n",
    "db.query(\"create table Public_Art_Data (id int, sac_id varchar(80), CONSTRAINT Public_Art_Data_pk PRIMARY KEY (sac_id))\")\n",
    "\n",
    "db.query(\"\"\"INSERT INTO public_art_data VALUES (1, 'SC84.088')\"\"\")\n",
    "\n",
    "print db.query(\"select * from public_art_data\")\n",
    "\n",
    "db.query(\"create table date_created (id int, year date, Public_Art_Data_sac_id varchar(80)\")\n",
    "\n",
    "db.query(\"\"\"INSERT INTO date_created VALUES (1, '1984', 'SC84.088')\"\"\")\n",
    "\n",
    "print db.query(\"select * from date_created\")\n",
    "\n",
    "db.query(\"create table Project_Location (id int, project varchar(80), Public_Art_Data_sac_id varchar(80))\")\n",
    "\n",
    "db.query(\"\"\"INSERT INTO project_location VALUES (1, 'SEATTLE CENTER', 'SC84.088')\"\"\")\n",
    "print db.query(\"select * from project_location\")\n",
    "db.query(\"create table Direct_Location (id int, location varchar(80), address varchar(80), latitude real, longitude real, geolocation varchar(120), Public_Art_Data_sac_id varchar(80))\")\n",
    "\n",
    "db.query(\"\"\"INSERT INTO Direct_Location VALUES (1, 'Space Needle Sculpture Park', '400 Broad St', 47.6193, -122.3501, '400 Broad St Seattle WA 47.6193 -122.3501', 'SC84.088')\"\"\")"
   ]
  },
  {
   "cell_type": "code",
   "execution_count": 5,
   "metadata": {
    "collapsed": false
   },
   "outputs": [
    {
     "ename": "SyntaxError",
     "evalue": "invalid syntax (<ipython-input-5-db571a69c070>, line 29)",
     "output_type": "error",
     "traceback": [
      "\u001b[1;36m  File \u001b[1;32m\"<ipython-input-5-db571a69c070>\"\u001b[1;36m, line \u001b[1;32m29\u001b[0m\n\u001b[1;33m    print db.query(\"select * from direct_location\")\u001b[0m\n\u001b[1;37m        ^\u001b[0m\n\u001b[1;31mSyntaxError\u001b[0m\u001b[1;31m:\u001b[0m invalid syntax\n"
     ]
    }
   ],
   "source": [
    "import sys\n",
    "sys.path.append(sys.path.append(\"C:\\Python27\\ArcGIS10.4\\Lib\\site-packages\"))\n",
    "import pg\n",
    "from pg import DB\n",
    "\n",
    "db = DB(dbname = \"geog465_fja1995\", host = \"geog-db2.geog.uw.edu\", port = 5432, user = \"fja1995\", passwd = \"fja1995\")\n",
    "db.query(\"create table Public_Art_Data (id int, sac_id varchar(80), CONSTRAINT Public_Art_Data_pk PRIMARY KEY (sac_id))\")\n",
    "\n",
    "db.query(\"\"\"INSERT INTO public_art_data VALUES (1, 'SC84.088')\"\"\")\n",
    "\n",
    "print db.query(\"select * from public_art_data\")\n",
    "\n",
    "db.query(\"create table date_created (id int, year date, Public_Art_Data_sac_id varchar(80)\")\n",
    "\n",
    "db.query(\"\"\"INSERT INTO date_created VALUES (1, '1984', 'SC84.088')\"\"\")\n",
    "\n",
    "print db.query(\"select * from date_created\")\n",
    "\n",
    "db.query(\"create table Project_Location (id int, project varchar(80), Public_Art_Data_sac_id varchar(80))\")\n",
    "\n",
    "db.query(\"\"\"INSERT INTO project_location VALUES (1, 'SEATTLE CENTER', 'SC84.088')\"\"\")\n",
    "\n",
    "print db.query(\"select * from project_location\")\n",
    "\n",
    "db.query(\"create table Direct_Location (id int, location varchar(80), address varchar(80), latitude real, longitude real, geolocation varchar(120), Public_Art_Data_sac_id varchar(80))\")\n",
    "\n",
    "db.query(\"\"\"INSERT INTO Direct_Location VALUES (1, 'Space Needle Sculpture Park', '400 Broad St', 47.6193, -122.3501, '400 Broad St Seattle WA 47.6193 -122.3501', 'SC84.088')\"\"\"\n",
    "\n",
    "print db.query(\"select * from direct_location\")"
   ]
  },
  {
   "cell_type": "code",
   "execution_count": 7,
   "metadata": {
    "collapsed": false
   },
   "outputs": [
    {
     "ename": "SyntaxError",
     "evalue": "invalid syntax (<ipython-input-7-db571a69c070>, line 29)",
     "output_type": "error",
     "traceback": [
      "\u001b[1;36m  File \u001b[1;32m\"<ipython-input-7-db571a69c070>\"\u001b[1;36m, line \u001b[1;32m29\u001b[0m\n\u001b[1;33m    print db.query(\"select * from direct_location\")\u001b[0m\n\u001b[1;37m        ^\u001b[0m\n\u001b[1;31mSyntaxError\u001b[0m\u001b[1;31m:\u001b[0m invalid syntax\n"
     ]
    }
   ],
   "source": [
    "import sys\n",
    "sys.path.append(sys.path.append(\"C:\\Python27\\ArcGIS10.4\\Lib\\site-packages\"))\n",
    "import pg\n",
    "from pg import DB\n",
    "\n",
    "db = DB(dbname = \"geog465_fja1995\", host = \"geog-db2.geog.uw.edu\", port = 5432, user = \"fja1995\", passwd = \"fja1995\")\n",
    "db.query(\"create table Public_Art_Data (id int, sac_id varchar(80), CONSTRAINT Public_Art_Data_pk PRIMARY KEY (sac_id))\")\n",
    "\n",
    "db.query(\"\"\"INSERT INTO public_art_data VALUES (1, 'SC84.088')\"\"\")\n",
    "\n",
    "print db.query(\"select * from public_art_data\")\n",
    "\n",
    "db.query(\"create table date_created (id int, year date, Public_Art_Data_sac_id varchar(80)\")\n",
    "\n",
    "db.query(\"\"\"INSERT INTO date_created VALUES (1, '1984', 'SC84.088')\"\"\")\n",
    "\n",
    "print db.query(\"select * from date_created\")\n",
    "\n",
    "db.query(\"create table Project_Location (id int, project varchar(80), Public_Art_Data_sac_id varchar(80))\")\n",
    "\n",
    "db.query(\"\"\"INSERT INTO project_location VALUES (1, 'SEATTLE CENTER', 'SC84.088')\"\"\")\n",
    "\n",
    "print db.query(\"select * from project_location\")\n",
    "\n",
    "db.query(\"create table Direct_Location (id int, location varchar(80), address varchar(80), latitude real, longitude real, geolocation varchar(120), Public_Art_Data_sac_id varchar(80))\")\n",
    "\n",
    "db.query(\"\"\"INSERT INTO Direct_Location VALUES (1, 'Space Needle Sculpture Park', '400 Broad St', 47.6193, -122.3501, '400 Broad St Seattle WA 47.6193 -122.3501', 'SC84.088')\"\"\"\n",
    "\n",
    "print db.query(\"select * from direct_location\")"
   ]
  },
  {
   "cell_type": "code",
   "execution_count": 8,
   "metadata": {
    "collapsed": false
   },
   "outputs": [
    {
     "ename": "SyntaxError",
     "evalue": "invalid syntax (<ipython-input-8-db571a69c070>, line 29)",
     "output_type": "error",
     "traceback": [
      "\u001b[1;36m  File \u001b[1;32m\"<ipython-input-8-db571a69c070>\"\u001b[1;36m, line \u001b[1;32m29\u001b[0m\n\u001b[1;33m    print db.query(\"select * from direct_location\")\u001b[0m\n\u001b[1;37m        ^\u001b[0m\n\u001b[1;31mSyntaxError\u001b[0m\u001b[1;31m:\u001b[0m invalid syntax\n"
     ]
    }
   ],
   "source": [
    "import sys\n",
    "sys.path.append(sys.path.append(\"C:\\Python27\\ArcGIS10.4\\Lib\\site-packages\"))\n",
    "import pg\n",
    "from pg import DB\n",
    "\n",
    "db = DB(dbname = \"geog465_fja1995\", host = \"geog-db2.geog.uw.edu\", port = 5432, user = \"fja1995\", passwd = \"fja1995\")\n",
    "db.query(\"create table Public_Art_Data (id int, sac_id varchar(80), CONSTRAINT Public_Art_Data_pk PRIMARY KEY (sac_id))\")\n",
    "\n",
    "db.query(\"\"\"INSERT INTO public_art_data VALUES (1, 'SC84.088')\"\"\")\n",
    "\n",
    "print db.query(\"select * from public_art_data\")\n",
    "\n",
    "db.query(\"create table date_created (id int, year date, Public_Art_Data_sac_id varchar(80)\")\n",
    "\n",
    "db.query(\"\"\"INSERT INTO date_created VALUES (1, '1984', 'SC84.088')\"\"\")\n",
    "\n",
    "print db.query(\"select * from date_created\")\n",
    "\n",
    "db.query(\"create table Project_Location (id int, project varchar(80), Public_Art_Data_sac_id varchar(80))\")\n",
    "\n",
    "db.query(\"\"\"INSERT INTO project_location VALUES (1, 'SEATTLE CENTER', 'SC84.088')\"\"\")\n",
    "\n",
    "print db.query(\"select * from project_location\")\n",
    "\n",
    "db.query(\"create table Direct_Location (id int, location varchar(80), address varchar(80), latitude real, longitude real, geolocation varchar(120), Public_Art_Data_sac_id varchar(80))\")\n",
    "\n",
    "db.query(\"\"\"INSERT INTO Direct_Location VALUES (1, 'Space Needle Sculpture Park', '400 Broad St', 47.6193, -122.3501, '400 Broad St Seattle WA 47.6193 -122.3501', 'SC84.088')\"\"\"\n",
    "\n",
    "print db.query(\"select * from direct_location\")"
   ]
  },
  {
   "cell_type": "code",
   "execution_count": 9,
   "metadata": {
    "collapsed": false
   },
   "outputs": [
    {
     "ename": "SyntaxError",
     "evalue": "invalid syntax (<ipython-input-9-9f04421afe51>, line 27)",
     "output_type": "error",
     "traceback": [
      "\u001b[1;36m  File \u001b[1;32m\"<ipython-input-9-9f04421afe51>\"\u001b[1;36m, line \u001b[1;32m27\u001b[0m\n\u001b[1;33m    db.query(\"\"\"INSERT INTO Direct_Location VALUES (1, 'Space Needle Sculpture Park', '400 Broad St', 47.6193, -122.3501, '400 Broad St Seattle WA 47.6193 -122.3501', 'SC84.088')\"\"\"\u001b[0m\n\u001b[1;37m                                                                                                                                                                                     ^\u001b[0m\n\u001b[1;31mSyntaxError\u001b[0m\u001b[1;31m:\u001b[0m invalid syntax\n"
     ]
    }
   ],
   "source": [
    "import sys\n",
    "sys.path.append(sys.path.append(\"C:\\Python27\\ArcGIS10.4\\Lib\\site-packages\"))\n",
    "import pg\n",
    "from pg import DB\n",
    "\n",
    "db = DB(dbname = \"geog465_fja1995\", host = \"geog-db2.geog.uw.edu\", port = 5432, user = \"fja1995\", passwd = \"fja1995\")\n",
    "db.query(\"create table Public_Art_Data (id int, sac_id varchar(80), CONSTRAINT Public_Art_Data_pk PRIMARY KEY (sac_id))\")\n",
    "\n",
    "db.query(\"\"\"INSERT INTO public_art_data VALUES (1, 'SC84.088')\"\"\")\n",
    "\n",
    "print db.query(\"select * from public_art_data\")\n",
    "\n",
    "db.query(\"create table date_created (id int, year date, Public_Art_Data_sac_id varchar(80)\")\n",
    "\n",
    "db.query(\"\"\"INSERT INTO date_created VALUES (1, '1984', 'SC84.088')\"\"\")\n",
    "\n",
    "print db.query(\"select * from date_created\")\n",
    "\n",
    "db.query(\"create table Project_Location (id int, project varchar(80), Public_Art_Data_sac_id varchar(80))\")\n",
    "\n",
    "db.query(\"\"\"INSERT INTO project_location VALUES (1, 'SEATTLE CENTER', 'SC84.088')\"\"\")\n",
    "\n",
    "print db.query(\"select * from project_location\")\n",
    "\n",
    "db.query(\"create table Direct_Location (id int, location varchar(80), address varchar(80), latitude real, longitude real, geolocation varchar(120), Public_Art_Data_sac_id varchar(80))\")\n",
    "\n",
    "db.query(\"\"\"INSERT INTO Direct_Location VALUES (1, 'Space Needle Sculpture Park', '400 Broad St', 47.6193, -122.3501, '400 Broad St Seattle WA 47.6193 -122.3501', 'SC84.088')\"\"\""
   ]
  },
  {
   "cell_type": "code",
   "execution_count": 10,
   "metadata": {
    "collapsed": false
   },
   "outputs": [
    {
     "ename": "SyntaxError",
     "evalue": "invalid syntax (<ipython-input-10-9f04421afe51>, line 27)",
     "output_type": "error",
     "traceback": [
      "\u001b[1;36m  File \u001b[1;32m\"<ipython-input-10-9f04421afe51>\"\u001b[1;36m, line \u001b[1;32m27\u001b[0m\n\u001b[1;33m    db.query(\"\"\"INSERT INTO Direct_Location VALUES (1, 'Space Needle Sculpture Park', '400 Broad St', 47.6193, -122.3501, '400 Broad St Seattle WA 47.6193 -122.3501', 'SC84.088')\"\"\"\u001b[0m\n\u001b[1;37m                                                                                                                                                                                     ^\u001b[0m\n\u001b[1;31mSyntaxError\u001b[0m\u001b[1;31m:\u001b[0m invalid syntax\n"
     ]
    }
   ],
   "source": [
    "import sys\n",
    "sys.path.append(sys.path.append(\"C:\\Python27\\ArcGIS10.4\\Lib\\site-packages\"))\n",
    "import pg\n",
    "from pg import DB\n",
    "\n",
    "db = DB(dbname = \"geog465_fja1995\", host = \"geog-db2.geog.uw.edu\", port = 5432, user = \"fja1995\", passwd = \"fja1995\")\n",
    "db.query(\"create table Public_Art_Data (id int, sac_id varchar(80), CONSTRAINT Public_Art_Data_pk PRIMARY KEY (sac_id))\")\n",
    "\n",
    "db.query(\"\"\"INSERT INTO public_art_data VALUES (1, 'SC84.088')\"\"\")\n",
    "\n",
    "print db.query(\"select * from public_art_data\")\n",
    "\n",
    "db.query(\"create table date_created (id int, year date, Public_Art_Data_sac_id varchar(80)\")\n",
    "\n",
    "db.query(\"\"\"INSERT INTO date_created VALUES (1, '1984', 'SC84.088')\"\"\")\n",
    "\n",
    "print db.query(\"select * from date_created\")\n",
    "\n",
    "db.query(\"create table Project_Location (id int, project varchar(80), Public_Art_Data_sac_id varchar(80))\")\n",
    "\n",
    "db.query(\"\"\"INSERT INTO project_location VALUES (1, 'SEATTLE CENTER', 'SC84.088')\"\"\")\n",
    "\n",
    "print db.query(\"select * from project_location\")\n",
    "\n",
    "db.query(\"create table Direct_Location (id int, location varchar(80), address varchar(80), latitude real, longitude real, geolocation varchar(120), Public_Art_Data_sac_id varchar(80))\")\n",
    "\n",
    "db.query(\"\"\"INSERT INTO Direct_Location VALUES (1, 'Space Needle Sculpture Park', '400 Broad St', 47.6193, -122.3501, '400 Broad St Seattle WA 47.6193 -122.3501', 'SC84.088')\"\"\"\n",
    "\n"
   ]
  },
  {
   "cell_type": "code",
   "execution_count": 11,
   "metadata": {
    "collapsed": false
   },
   "outputs": [
    {
     "ename": "SyntaxError",
     "evalue": "invalid syntax (<ipython-input-11-237103bb04ec>, line 30)",
     "output_type": "error",
     "traceback": [
      "\u001b[1;36m  File \u001b[1;32m\"<ipython-input-11-237103bb04ec>\"\u001b[1;36m, line \u001b[1;32m30\u001b[0m\n\u001b[1;33m    print db.query('SELECT * FROM direct_location')\u001b[0m\n\u001b[1;37m        ^\u001b[0m\n\u001b[1;31mSyntaxError\u001b[0m\u001b[1;31m:\u001b[0m invalid syntax\n"
     ]
    }
   ],
   "source": [
    "import sys\n",
    "sys.path.append(sys.path.append(\"C:\\Python27\\ArcGIS10.4\\Lib\\site-packages\"))\n",
    "import pg\n",
    "from pg import DB\n",
    "\n",
    "db = DB(dbname = \"geog465_fja1995\", host = \"geog-db2.geog.uw.edu\", port = 5432, user = \"fja1995\", passwd = \"fja1995\")\n",
    "\n",
    "db.query(\"create table Public_Art_Data (id int, sac_id varchar(80), CONSTRAINT Public_Art_Data_pk PRIMARY KEY (sac_id))\")\n",
    "\n",
    "db.query(\"\"\"INSERT INTO public_art_data VALUES (1, 'SC84.088')\"\"\")\n",
    "\n",
    "print db.query('SELECT * FROM public_art_data')\n",
    "\n",
    "db.query(\"create table date_created (id int, date varchar(80), Public_Art_Data_sac_id varchar(80)\")\n",
    "\n",
    "db.query(\"\"\"INSERT INTO date_created VALUES (1, '1984', 'SC84.088')\"\"\")\n",
    "\n",
    "print db.query('SELECT * FROM date_created')\n",
    "\n",
    "db.query(\"create table Project_Location (id int, project varchar(80), Public_Art_Data_sac_id varchar(80))\")\n",
    "\n",
    "db.query(\"\"\"INSERT INTO project_location VALUES (1, 'SEATTLE CENTER', 'SC84.088')\"\"\")\n",
    "\n",
    "print db.query('SELECT * FROM project_location')\n",
    "\n",
    "db.query(\"create table Direct_Location (id int, location varchar(80), address varchar(80), latitude real, longitude real, geolocation varchar(120), Public_Art_Data_sac_id varchar(80))\")\n",
    "\n",
    "db.query(\"\"\"INSERT INTO Direct_Location VALUES (1, 'Space Needle Sculpture Park', '400 Broad St', 47.6193, -122.3501, '400 Broad St Seattle WA 47.6193 -122.3501', 'SC84.088')\"\"\"\n",
    "\n",
    "print db.query('SELECT * FROM direct_location')"
   ]
  },
  {
   "cell_type": "code",
   "execution_count": 12,
   "metadata": {
    "collapsed": false
   },
   "outputs": [
    {
     "ename": "SyntaxError",
     "evalue": "invalid syntax (<ipython-input-12-237103bb04ec>, line 30)",
     "output_type": "error",
     "traceback": [
      "\u001b[1;36m  File \u001b[1;32m\"<ipython-input-12-237103bb04ec>\"\u001b[1;36m, line \u001b[1;32m30\u001b[0m\n\u001b[1;33m    print db.query('SELECT * FROM direct_location')\u001b[0m\n\u001b[1;37m        ^\u001b[0m\n\u001b[1;31mSyntaxError\u001b[0m\u001b[1;31m:\u001b[0m invalid syntax\n"
     ]
    }
   ],
   "source": [
    "import sys\n",
    "sys.path.append(sys.path.append(\"C:\\Python27\\ArcGIS10.4\\Lib\\site-packages\"))\n",
    "import pg\n",
    "from pg import DB\n",
    "\n",
    "db = DB(dbname = \"geog465_fja1995\", host = \"geog-db2.geog.uw.edu\", port = 5432, user = \"fja1995\", passwd = \"fja1995\")\n",
    "\n",
    "db.query(\"create table Public_Art_Data (id int, sac_id varchar(80), CONSTRAINT Public_Art_Data_pk PRIMARY KEY (sac_id))\")\n",
    "\n",
    "db.query(\"\"\"INSERT INTO public_art_data VALUES (1, 'SC84.088')\"\"\")\n",
    "\n",
    "print db.query('SELECT * FROM public_art_data')\n",
    "\n",
    "db.query(\"create table date_created (id int, date varchar(80), Public_Art_Data_sac_id varchar(80)\")\n",
    "\n",
    "db.query(\"\"\"INSERT INTO date_created VALUES (1, '1984', 'SC84.088')\"\"\")\n",
    "\n",
    "print db.query('SELECT * FROM date_created')\n",
    "\n",
    "db.query(\"create table Project_Location (id int, project varchar(80), Public_Art_Data_sac_id varchar(80))\")\n",
    "\n",
    "db.query(\"\"\"INSERT INTO project_location VALUES (1, 'SEATTLE CENTER', 'SC84.088')\"\"\")\n",
    "\n",
    "print db.query('SELECT * FROM project_location')\n",
    "\n",
    "db.query(\"create table Direct_Location (id int, location varchar(80), address varchar(80), latitude real, longitude real, geolocation varchar(120), Public_Art_Data_sac_id varchar(80))\")\n",
    "\n",
    "db.query(\"\"\"INSERT INTO Direct_Location VALUES (1, 'Space Needle Sculpture Park', '400 Broad St', 47.6193, -122.3501, '400 Broad St Seattle WA 47.6193 -122.3501', 'SC84.088')\"\"\"\n",
    "\n",
    "print db.query('SELECT * FROM direct_location')"
   ]
  },
  {
   "cell_type": "code",
   "execution_count": 13,
   "metadata": {
    "collapsed": false
   },
   "outputs": [
    {
     "ename": "NameError",
     "evalue": "name 'db' is not defined",
     "output_type": "error",
     "traceback": [
      "\u001b[1;31m---------------------------------------------------------------------------\u001b[0m",
      "\u001b[1;31mNameError\u001b[0m                                 Traceback (most recent call last)",
      "\u001b[1;32m<ipython-input-13-47a930689cc3>\u001b[0m in \u001b[0;36m<module>\u001b[1;34m()\u001b[0m\n\u001b[1;32m----> 1\u001b[1;33m \u001b[1;32mprint\u001b[0m \u001b[0mdb\u001b[0m\u001b[1;33m.\u001b[0m\u001b[0mquery\u001b[0m\u001b[1;33m(\u001b[0m\u001b[1;34m\"SELECT * FROM public_art_data\"\u001b[0m\u001b[1;33m)\u001b[0m\u001b[1;33m\u001b[0m\u001b[0m\n\u001b[0m",
      "\u001b[1;31mNameError\u001b[0m: name 'db' is not defined"
     ]
    }
   ],
   "source": [
    "print db.query(\"SELECT * FROM public_art_data\")"
   ]
  },
  {
   "cell_type": "code",
   "execution_count": 14,
   "metadata": {
    "collapsed": false
   },
   "outputs": [
    {
     "ename": "SyntaxError",
     "evalue": "invalid syntax (<ipython-input-14-050242a42465>, line 7)",
     "output_type": "error",
     "traceback": [
      "\u001b[1;36m  File \u001b[1;32m\"<ipython-input-14-050242a42465>\"\u001b[1;36m, line \u001b[1;32m7\u001b[0m\n\u001b[1;33m    db = DB( = \"geog465_fja1995\", host = \"geog-db2.geog.uw.edu\", port = 5432, user = \"fja1995\", passwd = \"fja1995\")\u001b[0m\n\u001b[1;37m             ^\u001b[0m\n\u001b[1;31mSyntaxError\u001b[0m\u001b[1;31m:\u001b[0m invalid syntax\n"
     ]
    }
   ],
   "source": [
    "import sys\n",
    "sys.path.append(\"C:\\Python27\\ArcGIS10.4\\Lib\\site-packages\")\n",
    "\n",
    "import pg\n",
    "from pg import DB\n",
    "\n",
    "db = DB( = \"geog465_fja1995\", host = \"geog-db2.geog.uw.edu\", port = 5432, user = \"fja1995\", passwd = \"fja1995\")\n",
    "\n",
    "db.query(\"create table Public_Art_Data (id int, sac_id varchar(80), CONSTRAINT Public_Art_Data_pk PRIMARY KEY (sac_id))\")\n",
    "\n",
    "db.query(\"\"\"INSERT INTO public_art_data VALUES (1, 'SC84.088')\"\"\")\n",
    "\n",
    "print db.query('SELECT * FROM public_art_data')\n",
    "\n",
    "db.query(\"create table date_created (id int, date varchar(80), Public_Art_Data_sac_id varchar(80)\")\n",
    "\n",
    "db.query(\"\"\"INSERT INTO date_created VALUES (1, '1984', 'SC84.088')\"\"\")\n",
    "\n",
    "print db.query('SELECT * FROM date_created')\n",
    "\n",
    "db.query(\"create table Project_Location (id int, project varchar(80), Public_Art_Data_sac_id varchar(80))\")\n",
    "\n",
    "db.query(\"\"\"INSERT INTO project_location VALUES (1, 'SEATTLE CENTER', 'SC84.088')\"\"\")\n",
    "\n",
    "print db.query('SELECT * FROM project_location')\n",
    "\n",
    "db.query(\"create table Direct_Location (id int, location varchar(80), address varchar(80), latitude real, longitude real, geolocation varchar(120), Public_Art_Data_sac_id varchar(80))\")\n",
    "\n",
    "db.query(\"\"\"INSERT INTO Direct_Location VALUES (1, 'Space Needle Sculpture Park', '400 Broad St', 47.6193, -122.3501, '400 Broad St Seattle WA 47.6193 -122.3501', 'SC84.088')\"\"\"\n",
    "\n",
    "print db.query('SELECT * FROM direct_location')"
   ]
  },
  {
   "cell_type": "code",
   "execution_count": 15,
   "metadata": {
    "collapsed": false
   },
   "outputs": [
    {
     "ename": "SyntaxError",
     "evalue": "invalid syntax (<ipython-input-15-e17434b1ddaa>, line 31)",
     "output_type": "error",
     "traceback": [
      "\u001b[1;36m  File \u001b[1;32m\"<ipython-input-15-e17434b1ddaa>\"\u001b[1;36m, line \u001b[1;32m31\u001b[0m\n\u001b[1;33m    print db.query('SELECT * FROM direct_location')\u001b[0m\n\u001b[1;37m        ^\u001b[0m\n\u001b[1;31mSyntaxError\u001b[0m\u001b[1;31m:\u001b[0m invalid syntax\n"
     ]
    }
   ],
   "source": [
    "import sys\n",
    "sys.path.append(\"C:\\Python27\\ArcGIS10.4\\Lib\\site-packages\")\n",
    "\n",
    "import pg\n",
    "from pg import DB\n",
    "\n",
    "db = DB(dbname = \"geog465_fja1995\", host = \"geog-db2.geog.uw.edu\", port = 5432, user = \"fja1995\", passwd = \"fja1995\")\n",
    "\n",
    "db.query(\"create table Public_Art_Data (id int, sac_id varchar(80), CONSTRAINT Public_Art_Data_pk PRIMARY KEY (sac_id))\")\n",
    "\n",
    "db.query(\"\"\"INSERT INTO public_art_data VALUES (1, 'SC84.088')\"\"\")\n",
    "\n",
    "print db.query('SELECT * FROM public_art_data')\n",
    "\n",
    "db.query(\"create table date_created (id int, date varchar(80), Public_Art_Data_sac_id varchar(80)\")\n",
    "\n",
    "db.query(\"\"\"INSERT INTO date_created VALUES (1, '1984', 'SC84.088')\"\"\")\n",
    "\n",
    "print db.query('SELECT * FROM date_created')\n",
    "\n",
    "db.query(\"create table Project_Location (id int, project varchar(80), Public_Art_Data_sac_id varchar(80))\")\n",
    "\n",
    "db.query(\"\"\"INSERT INTO project_location VALUES (1, 'SEATTLE CENTER', 'SC84.088')\"\"\")\n",
    "\n",
    "print db.query('SELECT * FROM project_location')\n",
    "\n",
    "db.query(\"create table Direct_Location (id int, location varchar(80), address varchar(80), latitude real, longitude real, geolocation varchar(120), Public_Art_Data_sac_id varchar(80))\")\n",
    "\n",
    "db.query(\"\"\"INSERT INTO Direct_Location VALUES (1, 'Space Needle Sculpture Park', '400 Broad St', 47.6193, -122.3501, '400 Broad St Seattle WA 47.6193 -122.3501', 'SC84.088')\"\"\"\n",
    "\n",
    "print db.query('SELECT * FROM direct_location')"
   ]
  },
  {
   "cell_type": "code",
   "execution_count": 16,
   "metadata": {
    "collapsed": false
   },
   "outputs": [
    {
     "ename": "SyntaxError",
     "evalue": "invalid syntax (<ipython-input-16-80c89dadcf68>, line 31)",
     "output_type": "error",
     "traceback": [
      "\u001b[1;36m  File \u001b[1;32m\"<ipython-input-16-80c89dadcf68>\"\u001b[1;36m, line \u001b[1;32m31\u001b[0m\n\u001b[1;33m    print db.query('SELECT * FROM direct_location')\u001b[0m\n\u001b[1;37m        ^\u001b[0m\n\u001b[1;31mSyntaxError\u001b[0m\u001b[1;31m:\u001b[0m invalid syntax\n"
     ]
    }
   ],
   "source": [
    "import sys\n",
    "sys.path.append(\"C:\\Python27\\ArcGIS10.4\\Lib\\site-packages\")\n",
    "\n",
    "import pg\n",
    "from pg import DB\n",
    "\n",
    "db = DB(dbname = \"geog465_fja1995\", host = \"geog-db2.geog.uw.edu\", port = 5432, user = \"fja1995\", passwd = \"fja1995\")\n",
    "\n",
    "db.query(\"create table Public_Art_Data (id int, sac_id varchar(80), CONSTRAINT Public_Art_Data_pk PRIMARY KEY (sac_id))\")\n",
    "\n",
    "db.query(\"\"\"INSERT INTO public_art_data VALUES (1, 'SC84.088')\"\"\")\n",
    "\n",
    "print db.query('SELECT * FROM public_art_data')\n",
    "\n",
    "db.query(\"create table date_created (id int, date varchar(80), Public_Art_Data_sac_id varchar(80)\")\n",
    "\n",
    "db.query(\"\"\"INSERT INTO date_created VALUES (1, '1984', 'SC84.088')\"\"\")\n",
    "\n",
    "print db.query('SELECT * FROM date_created')\n",
    "\n",
    "db.query(\"create table Project_Location (id int, project varchar(80), Public_Art_Data_sac_id varchar(80))\")\n",
    "\n",
    "db.query(\"\"\"INSERT INTO project_location VALUES (1, 'SEATTLE CENTER', 'SC84.088')\"\"\")\n",
    "\n",
    "print db.query('SELECT * FROM project_location')\n",
    "\n",
    "db.query(\"create table Direct_Location (id int, location varchar(80), address varchar(80), latitude varchar(80), longitude varchar(80), geolocation varchar(120), Public_Art_Data_sac_id varchar(80))\")\n",
    "\n",
    "db.query(\"\"\"INSERT INTO Direct_Location VALUES (1, 'Space Needle Sculpture Park', '400 Broad St', '47.6193', '-122.3501', '400 Broad St Seattle WA 47.6193 -122.3501', 'SC84.088')\"\"\"\n",
    "\n",
    "print db.query('SELECT * FROM direct_location')"
   ]
  },
  {
   "cell_type": "code",
   "execution_count": 17,
   "metadata": {
    "collapsed": false
   },
   "outputs": [
    {
     "ename": "ImportError",
     "evalue": "DLL load failed: The specified module could not be found.",
     "output_type": "error",
     "traceback": [
      "\u001b[1;31m---------------------------------------------------------------------------\u001b[0m",
      "\u001b[1;31mImportError\u001b[0m                               Traceback (most recent call last)",
      "\u001b[1;32m<ipython-input-17-a217eedba953>\u001b[0m in \u001b[0;36m<module>\u001b[1;34m()\u001b[0m\n\u001b[0;32m      2\u001b[0m \u001b[0msys\u001b[0m\u001b[1;33m.\u001b[0m\u001b[0mpath\u001b[0m\u001b[1;33m.\u001b[0m\u001b[0mappend\u001b[0m\u001b[1;33m(\u001b[0m\u001b[1;34m\"C:\\Python27\\ArcGIS10.4\\Lib\\site-packages\"\u001b[0m\u001b[1;33m)\u001b[0m\u001b[1;33m\u001b[0m\u001b[0m\n\u001b[0;32m      3\u001b[0m \u001b[1;33m\u001b[0m\u001b[0m\n\u001b[1;32m----> 4\u001b[1;33m \u001b[1;32mimport\u001b[0m \u001b[0mpg\u001b[0m\u001b[1;33m\u001b[0m\u001b[0m\n\u001b[0m\u001b[0;32m      5\u001b[0m \u001b[1;32mfrom\u001b[0m \u001b[0mpg\u001b[0m \u001b[1;32mimport\u001b[0m \u001b[0mDB\u001b[0m\u001b[1;33m\u001b[0m\u001b[0m\n",
      "\u001b[1;32mC:\\Python27\\ArcGIS10.4\\Lib\\site-packages\\pg.py\u001b[0m in \u001b[0;36m<module>\u001b[1;34m()\u001b[0m\n\u001b[0;32m     30\u001b[0m \u001b[1;32mfrom\u001b[0m \u001b[0m__future__\u001b[0m \u001b[1;32mimport\u001b[0m \u001b[0mprint_function\u001b[0m\u001b[1;33m,\u001b[0m \u001b[0mdivision\u001b[0m\u001b[1;33m\u001b[0m\u001b[0m\n\u001b[0;32m     31\u001b[0m \u001b[1;33m\u001b[0m\u001b[0m\n\u001b[1;32m---> 32\u001b[1;33m \u001b[1;32mfrom\u001b[0m \u001b[0m_pg\u001b[0m \u001b[1;32mimport\u001b[0m \u001b[1;33m*\u001b[0m\u001b[1;33m\u001b[0m\u001b[0m\n\u001b[0m\u001b[0;32m     33\u001b[0m \u001b[1;33m\u001b[0m\u001b[0m\n\u001b[0;32m     34\u001b[0m \u001b[0m__version__\u001b[0m \u001b[1;33m=\u001b[0m \u001b[0mversion\u001b[0m\u001b[1;33m\u001b[0m\u001b[0m\n",
      "\u001b[1;31mImportError\u001b[0m: DLL load failed: The specified module could not be found."
     ]
    }
   ],
   "source": [
    "import sys\n",
    "sys.path.append(\"C:\\Python27\\ArcGIS10.4\\Lib\\site-packages\")\n",
    "\n",
    "import pg\n",
    "from pg import DB"
   ]
  },
  {
   "cell_type": "code",
   "execution_count": 18,
   "metadata": {
    "collapsed": false
   },
   "outputs": [
    {
     "ename": "ImportError",
     "evalue": "DLL load failed: The specified module could not be found.",
     "output_type": "error",
     "traceback": [
      "\u001b[1;31m---------------------------------------------------------------------------\u001b[0m",
      "\u001b[1;31mImportError\u001b[0m                               Traceback (most recent call last)",
      "\u001b[1;32m<ipython-input-18-48ee0e3fdcc1>\u001b[0m in \u001b[0;36m<module>\u001b[1;34m()\u001b[0m\n\u001b[0;32m      2\u001b[0m \u001b[0msys\u001b[0m\u001b[1;33m.\u001b[0m\u001b[0mpath\u001b[0m\u001b[1;33m.\u001b[0m\u001b[0mappend\u001b[0m\u001b[1;33m(\u001b[0m\u001b[1;34m\"C:\\Python27\\ArcGIS10.4\\Lib\\site-packages\"\u001b[0m\u001b[1;33m)\u001b[0m\u001b[1;33m\u001b[0m\u001b[0m\n\u001b[0;32m      3\u001b[0m \u001b[1;33m\u001b[0m\u001b[0m\n\u001b[1;32m----> 4\u001b[1;33m \u001b[1;32mimport\u001b[0m \u001b[0mpg\u001b[0m\u001b[1;33m\u001b[0m\u001b[0m\n\u001b[0m\u001b[0;32m      5\u001b[0m \u001b[1;33m\u001b[0m\u001b[0m\n\u001b[0;32m      6\u001b[0m \u001b[0mdb\u001b[0m \u001b[1;33m=\u001b[0m \u001b[0mDB\u001b[0m\u001b[1;33m(\u001b[0m\u001b[0mdbname\u001b[0m \u001b[1;33m=\u001b[0m \u001b[1;34m\"geog465_fja1995\"\u001b[0m\u001b[1;33m,\u001b[0m \u001b[0mhost\u001b[0m \u001b[1;33m=\u001b[0m \u001b[1;34m\"geog-db2.geog.uw.edu\"\u001b[0m\u001b[1;33m,\u001b[0m \u001b[0mport\u001b[0m \u001b[1;33m=\u001b[0m \u001b[1;36m5432\u001b[0m\u001b[1;33m,\u001b[0m \u001b[0muser\u001b[0m \u001b[1;33m=\u001b[0m \u001b[1;34m\"fja1995\"\u001b[0m\u001b[1;33m,\u001b[0m \u001b[0mpasswd\u001b[0m \u001b[1;33m=\u001b[0m \u001b[1;34m\"fja1995\"\u001b[0m\u001b[1;33m)\u001b[0m\u001b[1;33m\u001b[0m\u001b[0m\n",
      "\u001b[1;32mC:\\Python27\\ArcGIS10.4\\Lib\\site-packages\\pg.py\u001b[0m in \u001b[0;36m<module>\u001b[1;34m()\u001b[0m\n\u001b[0;32m     30\u001b[0m \u001b[1;32mfrom\u001b[0m \u001b[0m__future__\u001b[0m \u001b[1;32mimport\u001b[0m \u001b[0mprint_function\u001b[0m\u001b[1;33m,\u001b[0m \u001b[0mdivision\u001b[0m\u001b[1;33m\u001b[0m\u001b[0m\n\u001b[0;32m     31\u001b[0m \u001b[1;33m\u001b[0m\u001b[0m\n\u001b[1;32m---> 32\u001b[1;33m \u001b[1;32mfrom\u001b[0m \u001b[0m_pg\u001b[0m \u001b[1;32mimport\u001b[0m \u001b[1;33m*\u001b[0m\u001b[1;33m\u001b[0m\u001b[0m\n\u001b[0m\u001b[0;32m     33\u001b[0m \u001b[1;33m\u001b[0m\u001b[0m\n\u001b[0;32m     34\u001b[0m \u001b[0m__version__\u001b[0m \u001b[1;33m=\u001b[0m \u001b[0mversion\u001b[0m\u001b[1;33m\u001b[0m\u001b[0m\n",
      "\u001b[1;31mImportError\u001b[0m: DLL load failed: The specified module could not be found."
     ]
    }
   ],
   "source": [
    "import sys\n",
    "sys.path.append(\"C:\\Python27\\ArcGIS10.4\\Lib\\site-packages\")\n",
    "\n",
    "import pg\n",
    "\n",
    "db = DB(dbname = \"geog465_fja1995\", host = \"geog-db2.geog.uw.edu\", port = 5432, user = \"fja1995\", passwd = \"fja1995\")"
   ]
  },
  {
   "cell_type": "code",
   "execution_count": 19,
   "metadata": {
    "collapsed": false
   },
   "outputs": [
    {
     "ename": "ImportError",
     "evalue": "DLL load failed: The specified module could not be found.",
     "output_type": "error",
     "traceback": [
      "\u001b[1;31m---------------------------------------------------------------------------\u001b[0m",
      "\u001b[1;31mImportError\u001b[0m                               Traceback (most recent call last)",
      "\u001b[1;32m<ipython-input-19-db43471c75d8>\u001b[0m in \u001b[0;36m<module>\u001b[1;34m()\u001b[0m\n\u001b[0;32m      2\u001b[0m \u001b[0msys\u001b[0m\u001b[1;33m.\u001b[0m\u001b[0mpath\u001b[0m\u001b[1;33m.\u001b[0m\u001b[0mappend\u001b[0m\u001b[1;33m(\u001b[0m\u001b[1;34m\"C:\\Python27\\ArcGIS10.4\\Lib\\site-packages\"\u001b[0m\u001b[1;33m)\u001b[0m\u001b[1;33m\u001b[0m\u001b[0m\n\u001b[0;32m      3\u001b[0m \u001b[1;33m\u001b[0m\u001b[0m\n\u001b[1;32m----> 4\u001b[1;33m \u001b[1;32mfrom\u001b[0m \u001b[0mpg\u001b[0m \u001b[1;32mimport\u001b[0m \u001b[0mDB\u001b[0m\u001b[1;33m\u001b[0m\u001b[0m\n\u001b[0m",
      "\u001b[1;32mC:\\Python27\\ArcGIS10.4\\Lib\\site-packages\\pg.py\u001b[0m in \u001b[0;36m<module>\u001b[1;34m()\u001b[0m\n\u001b[0;32m     30\u001b[0m \u001b[1;32mfrom\u001b[0m \u001b[0m__future__\u001b[0m \u001b[1;32mimport\u001b[0m \u001b[0mprint_function\u001b[0m\u001b[1;33m,\u001b[0m \u001b[0mdivision\u001b[0m\u001b[1;33m\u001b[0m\u001b[0m\n\u001b[0;32m     31\u001b[0m \u001b[1;33m\u001b[0m\u001b[0m\n\u001b[1;32m---> 32\u001b[1;33m \u001b[1;32mfrom\u001b[0m \u001b[0m_pg\u001b[0m \u001b[1;32mimport\u001b[0m \u001b[1;33m*\u001b[0m\u001b[1;33m\u001b[0m\u001b[0m\n\u001b[0m\u001b[0;32m     33\u001b[0m \u001b[1;33m\u001b[0m\u001b[0m\n\u001b[0;32m     34\u001b[0m \u001b[0m__version__\u001b[0m \u001b[1;33m=\u001b[0m \u001b[0mversion\u001b[0m\u001b[1;33m\u001b[0m\u001b[0m\n",
      "\u001b[1;31mImportError\u001b[0m: DLL load failed: The specified module could not be found."
     ]
    }
   ],
   "source": [
    "import sys\n",
    "sys.path.append(\"C:\\Python27\\ArcGIS10.4\\Lib\\site-packages\")\n",
    "\n",
    "from pg import DB"
   ]
  },
  {
   "cell_type": "code",
   "execution_count": 20,
   "metadata": {
    "collapsed": false
   },
   "outputs": [
    {
     "ename": "SyntaxError",
     "evalue": "invalid syntax (<ipython-input-20-9d17aeba26f8>, line 31)",
     "output_type": "error",
     "traceback": [
      "\u001b[1;36m  File \u001b[1;32m\"<ipython-input-20-9d17aeba26f8>\"\u001b[1;36m, line \u001b[1;32m31\u001b[0m\n\u001b[1;33m    print db.query('SELECT * FROM direct_location')\u001b[0m\n\u001b[1;37m        ^\u001b[0m\n\u001b[1;31mSyntaxError\u001b[0m\u001b[1;31m:\u001b[0m invalid syntax\n"
     ]
    }
   ],
   "source": [
    "import sys\n",
    "sys.path.append(\"C:\\Python27\\ArcGIS10.4\\Lib\\site-packages\")\n",
    "\n",
    "import pg\n",
    "from pg import DB\n",
    "\n",
    "db = DB(dbname = \"geog465_fja1995\", host = \"geog-db2.geog.uw.edu\", port = 5432, user = \"fja1995\", passwd = \"fja1995\")\n",
    "\n",
    "db.query(\"create table public_art_data (id int, sac_id varchar(80), CONSTRAINT Public_Art_Data_pk PRIMARY KEY (sac_id))\")\n",
    "\n",
    "db.query(\"\"\"INSERT INTO public_art_data VALUES (1, 'SC84.088')\"\"\")\n",
    "\n",
    "print db.query('SELECT * FROM public_art_data')\n",
    "\n",
    "db.query(\"create table date_created (id int, date varchar(80), Public_Art_Data_sac_id varchar(80)\")\n",
    "\n",
    "db.query(\"\"\"INSERT INTO date_created VALUES (1, '1984', 'SC84.088')\"\"\")\n",
    "\n",
    "print db.query('SELECT * FROM date_created')\n",
    "\n",
    "db.query(\"create table project_location (id int, project varchar(80), Public_Art_Data_sac_id varchar(80))\")\n",
    "\n",
    "db.query(\"\"\"INSERT INTO project_location VALUES (1, 'SEATTLE CENTER', 'SC84.088')\"\"\")\n",
    "\n",
    "print db.query('SELECT * FROM project_location')\n",
    "\n",
    "db.query(\"create table direct_location (id int, location varchar(80), address varchar(80), latitude varchar(80), longitude varchar(80), geolocation varchar(120), Public_Art_Data_sac_id varchar(80))\")\n",
    "\n",
    "db.query(\"\"\"INSERT INTO direct_location VALUES (1, 'Space Needle Sculpture Park', '400 Broad St', '47.6193', '-122.3501', '400 Broad St Seattle WA 47.6193 -122.3501', 'SC84.088')\"\"\"\n",
    "\n",
    "print db.query('SELECT * FROM direct_location')"
   ]
  },
  {
   "cell_type": "code",
   "execution_count": 21,
   "metadata": {
    "collapsed": false
   },
   "outputs": [
    {
     "ename": "SyntaxError",
     "evalue": "invalid syntax (<ipython-input-21-03973a24919d>, line 31)",
     "output_type": "error",
     "traceback": [
      "\u001b[1;36m  File \u001b[1;32m\"<ipython-input-21-03973a24919d>\"\u001b[1;36m, line \u001b[1;32m31\u001b[0m\n\u001b[1;33m    print db.query('SELECT * FROM direct_location')\u001b[0m\n\u001b[1;37m        ^\u001b[0m\n\u001b[1;31mSyntaxError\u001b[0m\u001b[1;31m:\u001b[0m invalid syntax\n"
     ]
    }
   ],
   "source": [
    "import sys\n",
    "sys.path.append(\"C:\\Python27\\ArcGIS10.3\\Lib\\site-packages\")\n",
    "\n",
    "import pg\n",
    "from pg import DB\n",
    "\n",
    "db = DB(dbname = \"geog465_fja1995\", host = \"geog-db2.geog.uw.edu\", port = 5432, user = \"fja1995\", passwd = \"fja1995\")\n",
    "\n",
    "db.query(\"create table public_art_data (id int, sac_id varchar(80), CONSTRAINT Public_Art_Data_pk PRIMARY KEY (sac_id))\")\n",
    "\n",
    "db.query(\"\"\"INSERT INTO public_art_data VALUES (1, 'SC84.088')\"\"\")\n",
    "\n",
    "print db.query('SELECT * FROM public_art_data')\n",
    "\n",
    "db.query(\"create table date_created (id int, date varchar(80), Public_Art_Data_sac_id varchar(80)\")\n",
    "\n",
    "db.query(\"\"\"INSERT INTO date_created VALUES (1, '1984', 'SC84.088')\"\"\")\n",
    "\n",
    "print db.query('SELECT * FROM date_created')\n",
    "\n",
    "db.query(\"create table project_location (id int, project varchar(80), Public_Art_Data_sac_id varchar(80))\")\n",
    "\n",
    "db.query(\"\"\"INSERT INTO project_location VALUES (1, 'SEATTLE CENTER', 'SC84.088')\"\"\")\n",
    "\n",
    "print db.query('SELECT * FROM project_location')\n",
    "\n",
    "db.query(\"create table direct_location (id int, location varchar(80), address varchar(80), latitude varchar(80), longitude varchar(80), geolocation varchar(120), Public_Art_Data_sac_id varchar(80))\")\n",
    "\n",
    "db.query(\"\"\"INSERT INTO direct_location VALUES (1, 'Space Needle Sculpture Park', '400 Broad St', '47.6193', '-122.3501', '400 Broad St Seattle WA 47.6193 -122.3501', 'SC84.088')\"\"\"\n",
    "\n",
    "print db.query('SELECT * FROM direct_location')"
   ]
  },
  {
   "cell_type": "code",
   "execution_count": 22,
   "metadata": {
    "collapsed": false
   },
   "outputs": [
    {
     "ename": "SyntaxError",
     "evalue": "invalid syntax (<ipython-input-22-fe63c0a90cf8>, line 36)",
     "output_type": "error",
     "traceback": [
      "\u001b[1;36m  File \u001b[1;32m\"<ipython-input-22-fe63c0a90cf8>\"\u001b[1;36m, line \u001b[1;32m36\u001b[0m\n\u001b[1;33m    print db.query('SELECT * FROM direct_location')\u001b[0m\n\u001b[1;37m        ^\u001b[0m\n\u001b[1;31mSyntaxError\u001b[0m\u001b[1;31m:\u001b[0m invalid syntax\n"
     ]
    }
   ],
   "source": [
    "# Franz Arend and Spencer Jaquish\n",
    "# GEOG 465\n",
    "# April 27th 2016\n",
    "# Creating Databases with PyGreSQL\n",
    "\n",
    "import sys\n",
    "sys.path.append(\"C:\\Python27\\ArcGIS10.4\\Lib\\site-packages\")\n",
    "\n",
    "import pg\n",
    "from pg import DB\n",
    "\n",
    "db = DB(dbname = \"geog465_fja1995\", host = \"geog-db2.geog.uw.edu\", port = 5432, user = \"fja1995\", passwd = \"fja1995\")\n",
    "\n",
    "db.query(\"create table public_art_data (id int, sac_id varchar(80), CONSTRAINT Public_Art_Data_pk PRIMARY KEY (sac_id))\")\n",
    "\n",
    "db.query(\"\"\"INSERT INTO public_art_data VALUES (1, 'SC84.088')\"\"\")\n",
    "\n",
    "print db.query('SELECT * FROM public_art_data')\n",
    "\n",
    "db.query(\"create table date_created (id int, date varchar(80), Public_Art_Data_sac_id varchar(80)\")\n",
    "\n",
    "db.query(\"\"\"INSERT INTO date_created VALUES (1, '1984', 'SC84.088')\"\"\")\n",
    "\n",
    "print db.query('SELECT * FROM date_created')\n",
    "\n",
    "db.query(\"create table project_location (id int, project varchar(80), Public_Art_Data_sac_id varchar(80))\")\n",
    "\n",
    "db.query(\"\"\"INSERT INTO project_location VALUES (1, 'SEATTLE CENTER', 'SC84.088')\"\"\")\n",
    "\n",
    "print db.query('SELECT * FROM project_location')\n",
    "\n",
    "db.query(\"create table direct_location (id int, location varchar(80), address varchar(80), latitude varchar(80), longitude varchar(80), geolocation varchar(120), Public_Art_Data_sac_id varchar(80))\")\n",
    "\n",
    "db.query(\"\"\"INSERT INTO direct_location VALUES (1, 'Space Needle Sculpture Park', '400 Broad St', '47.6193', '-122.3501', '400 Broad St Seattle WA 47.6193 -122.3501', 'SC84.088')\"\"\"\n",
    "\n",
    "print db.query('SELECT * FROM direct_location')\n",
    "         \n",
    "#This code should work, we just can't work on the code since we won't be able to test it tomorrow as we can't connect to the database for some reason."
   ]
  },
  {
   "cell_type": "code",
   "execution_count": null,
   "metadata": {
    "collapsed": true
   },
   "outputs": [],
   "source": [
    "# Franz Arend and Spencer Jaquish\n",
    "# GEOG 465\n",
    "# April 27th 2016\n",
    "# Creating Databases with PyGreSQL\n",
    "\n",
    "import sys\n",
    "sys.path.append(\"C:\\Python27\\ArcGIS10.4\\Lib\\site-packages\")\n",
    "\n",
    "import pg\n",
    "from pg import DB\n",
    "\n",
    "db = DB(dbname = \"geog465_fja1995\", host = \"geog-db2.geog.uw.edu\", port = 5432, user = \"fja1995\", passwd = \"fja1995\")\n",
    "\n",
    "db.query(\"create table public_art_data (id int, sac_id varchar(80), CONSTRAINT Public_Art_Data_pk PRIMARY KEY (sac_id))\")\n",
    "\n",
    "db.query(\"\"\"INSERT INTO public_art_data VALUES (1, 'SC84.088')\"\"\")\n",
    "\n",
    "print db.query('SELECT * FROM public_art_data')\n",
    "\n",
    "db.query(\"create table date_created (id int, date varchar(80), Public_Art_Data_sac_id varchar(80)\")\n",
    "\n",
    "db.query(\"\"\"INSERT INTO date_created VALUES (1, '1984', 'SC84.088')\"\"\")\n",
    "\n",
    "print db.query('SELECT * FROM date_created')\n",
    "\n",
    "db.query(\"create table project_location (id int, project varchar(80), Public_Art_Data_sac_id varchar(80))\")\n",
    "\n",
    "db.query(\"\"\"INSERT INTO project_location VALUES (1, 'SEATTLE CENTER', 'SC84.088')\"\"\")\n",
    "\n",
    "print db.query('SELECT * FROM project_location')\n",
    "\n",
    "db.query(\"create table direct_location (id int, location varchar(80), address varchar(80), latitude varchar(80), longitude varchar(80), geolocation varchar(120), Public_Art_Data_sac_id varchar(80))\")\n",
    "\n",
    "db.query(\"\"\"INSERT INTO direct_location VALUES (1, 'Space Needle Sculpture Park', '400 Broad St', '47.6193', '-122.3501', '400 Broad St Seattle WA 47.6193 -122.3501', 'SC84.088')\"\"\"\n",
    "\n",
    "print db.query('SELECT * FROM direct_location')\n",
    "         \n",
    "#This code should work, we just can't work on the code since we won't be able to test it tomorrow as we can't connect to the database for some reason."
   ]
  }
 ],
 "metadata": {
  "kernelspec": {
   "display_name": "Python 2",
   "language": "python",
   "name": "python2"
  },
  "language_info": {
   "codemirror_mode": {
    "name": "ipython",
    "version": 2
   },
   "file_extension": ".py",
   "mimetype": "text/x-python",
   "name": "python",
   "nbconvert_exporter": "python",
   "pygments_lexer": "ipython2",
   "version": "2.7.11"
  }
 },
 "nbformat": 4,
 "nbformat_minor": 0
}
