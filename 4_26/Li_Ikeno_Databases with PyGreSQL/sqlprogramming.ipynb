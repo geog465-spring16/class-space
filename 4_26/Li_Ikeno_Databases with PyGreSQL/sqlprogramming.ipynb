{
 "cells": [
  {
   "cell_type": "code",
   "execution_count": 1,
   "metadata": {
    "collapsed": false
   },
   "outputs": [],
   "source": [
    "import sys\n",
    "sys.path.append('C:\\Python27\\ArcGIS10.3\\Lib\\site-packages')\n",
    "import pg\n",
    "from pg import DB"
   ]
  },
  {
   "cell_type": "code",
   "execution_count": 6,
   "metadata": {
    "collapsed": false
   },
   "outputs": [],
   "source": [
    "db = DB(dbname = 'geog465_stevenli_temp', host = 'geog-db2.geog.uw.edu', port = 5432, user = 'stevenli', passwd = 'stevenli') "
   ]
  },
  {
   "cell_type": "code",
   "execution_count": 7,
   "metadata": {
    "collapsed": false
   },
   "outputs": [],
   "source": [
    "db.query('''CREATE TABLE Seattle_code_violations (\n",
    "    case_number int  NOT NULL,\n",
    "    \"case\" int  NOT NULL,\n",
    "    status int  NOT NULL,\n",
    "    location int  NOT NULL,\n",
    "    date int  NOT NULL,\n",
    "    CONSTRAINT case_number PRIMARY KEY (case_number)\n",
    ")''')"
   ]
  },
  {
   "cell_type": "code",
   "execution_count": 8,
   "metadata": {
    "collapsed": false
   },
   "outputs": [],
   "source": [
    "db.query('''CREATE TABLE \"case\" (\n",
    "    id int  NOT NULL,\n",
    "    case_type varchar(20)  NOT NULL,\n",
    "    description varchar(50)  NOT NULL,\n",
    "    case_group varchar(10)  NOT NULL,\n",
    "    CONSTRAINT case_ID PRIMARY KEY (id)\n",
    ")''')"
   ]
  },
  {
   "cell_type": "code",
   "execution_count": 9,
   "metadata": {
    "collapsed": true
   },
   "outputs": [],
   "source": [
    "db.query('''CREATE TABLE date (\n",
    "    date_ID int  NOT NULL,\n",
    "    case_created date  NOT NULL,\n",
    "    date_last_inspect date  NOT NULL,\n",
    "    CONSTRAINT date_ID PRIMARY KEY (date_ID)\n",
    ")''')"
   ]
  },
  {
   "cell_type": "code",
   "execution_count": 10,
   "metadata": {
    "collapsed": true
   },
   "outputs": [],
   "source": [
    "db.query('''CREATE TABLE location (\n",
    "    id int  NOT NULL,\n",
    "    address varchar(50)  NOT NULL,\n",
    "    CONSTRAINT location_ID PRIMARY KEY (id)\n",
    ")''')"
   ]
  },
  {
   "cell_type": "code",
   "execution_count": 11,
   "metadata": {
    "collapsed": true
   },
   "outputs": [],
   "source": [
    "db.query('''CREATE TABLE status (\n",
    "    id int  NOT NULL,\n",
    "    last_inspection_result varchar(10)  NOT NULL,\n",
    "    current_status varchar(10)  NOT NULL,\n",
    "    CONSTRAINT status_ID PRIMARY KEY (id)\n",
    ")''')"
   ]
  },
  {
   "cell_type": "code",
   "execution_count": 13,
   "metadata": {
    "collapsed": false
   },
   "outputs": [
    {
     "data": {
      "text/plain": [
       "'1'"
      ]
     },
     "execution_count": 13,
     "metadata": {},
     "output_type": "execute_result"
    }
   ],
   "source": [
    "db.query('''INSERT INTO Seattle_code_violations (case_number, \"case\", status, location, date) VALUES(1037312, 1, 1, 1, 1)''')"
   ]
  },
  {
   "cell_type": "code",
   "execution_count": 15,
   "metadata": {
    "collapsed": false
   },
   "outputs": [
    {
     "data": {
      "text/plain": [
       "'1'"
      ]
     },
     "execution_count": 15,
     "metadata": {},
     "output_type": "execute_result"
    }
   ],
   "source": [
    "db.query('''INSERT INTO \"case\" (id, case_type, description, case_group) VALUES(1, 'Citation', 'Weeds and Vegetable', 'Zoning')''')"
   ]
  },
  {
   "cell_type": "code",
   "execution_count": 17,
   "metadata": {
    "collapsed": false
   },
   "outputs": [
    {
     "data": {
      "text/plain": [
       "'1'"
      ]
     },
     "execution_count": 17,
     "metadata": {},
     "output_type": "execute_result"
    }
   ],
   "source": [
    "db.query('''INSERT INTO date (date_ID, case_created, date_last_inspect) VALUES(1, '04/25/2016', '04/25/2016')''')"
   ]
  },
  {
   "cell_type": "code",
   "execution_count": 18,
   "metadata": {
    "collapsed": false
   },
   "outputs": [
    {
     "data": {
      "text/plain": [
       "'1'"
      ]
     },
     "execution_count": 18,
     "metadata": {},
     "output_type": "execute_result"
    }
   ],
   "source": [
    "db.query('''INSERT INTO location (id, address) VALUES(1, '3409 S JUNEAU ST')''')"
   ]
  },
  {
   "cell_type": "code",
   "execution_count": 19,
   "metadata": {
    "collapsed": false
   },
   "outputs": [
    {
     "data": {
      "text/plain": [
       "'1'"
      ]
     },
     "execution_count": 19,
     "metadata": {},
     "output_type": "execute_result"
    }
   ],
   "source": [
    "db.query('''INSERT INTO status (id, last_inspection_result, current_status) VALUES(1, 'FAILED', 'OPEN')''')"
   ]
  },
  {
   "cell_type": "code",
   "execution_count": 20,
   "metadata": {
    "collapsed": false
   },
   "outputs": [
    {
     "name": "stdout",
     "output_type": "stream",
     "text": [
      "case_number|case|status|location|date\n",
      "-----------+----+------+--------+----\n",
      "    1037312|   1|     1|       1|   1\n",
      "(1 row)\n"
     ]
    }
   ],
   "source": [
    "print db.query('SELECT * FROM Seattle_code_violations')"
   ]
  },
  {
   "cell_type": "code",
   "execution_count": 21,
   "metadata": {
    "collapsed": false
   },
   "outputs": [
    {
     "name": "stdout",
     "output_type": "stream",
     "text": [
      "id|case_type|    description    |case_group\n",
      "--+---------+-------------------+----------\n",
      " 1|Citation |Weeds and Vegetable|Zoning    \n",
      "(1 row)\n"
     ]
    }
   ],
   "source": [
    "print db.query('SELECT * FROM \"case\"')"
   ]
  },
  {
   "cell_type": "code",
   "execution_count": 22,
   "metadata": {
    "collapsed": false
   },
   "outputs": [
    {
     "name": "stdout",
     "output_type": "stream",
     "text": [
      "date_id|case_created|date_last_inspect\n",
      "-------+------------+-----------------\n",
      "      1|2016-04-25  |2016-04-25       \n",
      "(1 row)\n"
     ]
    }
   ],
   "source": [
    "print db.query('SELECT * FROM date')"
   ]
  },
  {
   "cell_type": "code",
   "execution_count": 23,
   "metadata": {
    "collapsed": false
   },
   "outputs": [
    {
     "name": "stdout",
     "output_type": "stream",
     "text": [
      "id|    address     \n",
      "--+----------------\n",
      " 1|3409 S JUNEAU ST\n",
      "(1 row)\n"
     ]
    }
   ],
   "source": [
    "print db.query('SELECT * FROM location')"
   ]
  },
  {
   "cell_type": "code",
   "execution_count": 24,
   "metadata": {
    "collapsed": false
   },
   "outputs": [
    {
     "name": "stdout",
     "output_type": "stream",
     "text": [
      "id|last_inspection_result|current_status\n",
      "--+----------------------+--------------\n",
      " 1|FAILED                |OPEN          \n",
      "(1 row)\n"
     ]
    }
   ],
   "source": [
    "print db.query('SELECT * FROM status')"
   ]
  },
  {
   "cell_type": "code",
   "execution_count": null,
   "metadata": {
    "collapsed": true
   },
   "outputs": [],
   "source": []
  }
 ],
 "metadata": {
  "kernelspec": {
   "display_name": "Python 2",
   "language": "python",
   "name": "python2"
  },
  "language_info": {
   "codemirror_mode": {
    "name": "ipython",
    "version": 2
   },
   "file_extension": ".py",
   "mimetype": "text/x-python",
   "name": "python",
   "nbconvert_exporter": "python",
   "pygments_lexer": "ipython2",
   "version": "2.7.10"
  }
 },
 "nbformat": 4,
 "nbformat_minor": 0
}
