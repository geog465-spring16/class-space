{
 "cells": [
  {
   "cell_type": "markdown",
   "metadata": {},
   "source": [
    "Zach Ellenberg, Rachel Kirschner, Willard Chan\n",
    "April 26th, 2016\n",
    "Creating Databases with PyGreSQL"
   ]
  },
  {
   "cell_type": "code",
   "execution_count": 4,
   "metadata": {
    "collapsed": false
   },
   "outputs": [],
   "source": [
    "import sys\n",
    "sys.path.append(sys.path.append('C:\\Python27\\ArcGIS10.3\\Lib\\site-packages'))"
   ]
  },
  {
   "cell_type": "code",
   "execution_count": 11,
   "metadata": {
    "collapsed": false
   },
   "outputs": [],
   "source": [
    "import pg\n",
    "from pg import DB"
   ]
  },
  {
   "cell_type": "code",
   "execution_count": 12,
   "metadata": {
    "collapsed": false
   },
   "outputs": [],
   "source": [
    "db = DB(dbname = 'geog465_zellenbe', host = 'geog-db2.geog.uw.edu', port = 5432, user = 'zellenbe', passwd = 'zellenbe')"
   ]
  },
  {
   "cell_type": "code",
   "execution_count": 18,
   "metadata": {
    "collapsed": false
   },
   "outputs": [],
   "source": [
    "db.query(\"\"\"CREATE TABLE Building_Info (\n",
    "    id int  NOT NULL,\n",
    "    year_of_occupation varchar  NOT NULL,\n",
    "    own_or_rent varchar  NOT NULL,\n",
    "    year_building_built int  NOT NULL,\n",
    "    year_founded int  NOT NULL,\n",
    "    previous_facilities int  NOT NULL,\n",
    "    CONSTRAINT Building_Info_pk PRIMARY KEY (id)\n",
    ")\"\"\")"
   ]
  },
  {
   "cell_type": "code",
   "execution_count": 19,
   "metadata": {
    "collapsed": true
   },
   "outputs": [],
   "source": [
    "db.query(\"\"\"CREATE TABLE Cultural_Spaces (\n",
    "    id int  NOT NULL,\n",
    "    name varchar  NOT NULL,\n",
    "    phone varchar  NOT NULL,\n",
    "    sq_ft_total int  NOT NULL,\n",
    "    neighborhood varchar  NOT NULL,\n",
    "    nonprofit boolean  NOT NULL,\n",
    "    Discipline_id int  NOT NULL,\n",
    "    Building_Info_id int  NOT NULL,\n",
    "    Theater_Info_id int  NOT NULL,\n",
    "    Visual_Art_id int  NOT NULL,\n",
    "    ada_compliant boolean  NOT NULL,\n",
    "    num_parking_spaces int  NOT NULL,\n",
    "    street_frontage boolean  NOT NULL,\n",
    "    rental_space_avail boolean  NOT NULL,\n",
    "    serve_alcohol boolean  NOT NULL,\n",
    "    funded_by_ac boolean  NOT NULL,\n",
    "    stability_index int  NOT NULL,\n",
    "    constituency varchar  NOT NULL,\n",
    "    site_control_through date  NULL,\n",
    "    closed_date date  NULL,\n",
    "    closed boolean  NOT NULL,\n",
    "    address varchar  NOT NULL,\n",
    "    location varchar  NOT NULL,\n",
    "    CONSTRAINT Cultural_Spaces_pk PRIMARY KEY (id)\n",
    ")\"\"\")"
   ]
  },
  {
   "cell_type": "code",
   "execution_count": 24,
   "metadata": {
    "collapsed": false
   },
   "outputs": [],
   "source": [
    "db.query(\"\"\"CREATE TABLE Discipline (\n",
    "    id int  NOT NULL,\n",
    "    dominant_discipline varchar  NOT NULL,\n",
    "    second_discipline varchar  NOT NULL,\n",
    "    third_discipline varchar  NOT NULL,\n",
    "    CONSTRAINT Discipline_pk PRIMARY KEY (id)\n",
    ")\"\"\")"
   ]
  },
  {
   "cell_type": "code",
   "execution_count": 26,
   "metadata": {
    "collapsed": false
   },
   "outputs": [],
   "source": [
    "db.query(\"\"\"CREATE TABLE Theater_Info (\n",
    "    id int  NOT NULL,\n",
    "    num_theaters int  NOT NULL,\n",
    "    seats_total int  NOT NULL,\n",
    "    theater_1 varchar  NOT NULL,\n",
    "    theater_1_seats int  NOT NULL,\n",
    "    theater_2 varchar  NOT NULL,\n",
    "    theater_2_seats int  NOT NULL,\n",
    "    theater_3 varchar  NOT NULL,\n",
    "    theater_3_seats int  NOT NULL,\n",
    "    theater_4 varchar  NOT NULL,\n",
    "    theater_4_seats int  NOT NULL,\n",
    "    theater_5 varchar  NOT NULL,\n",
    "    theater_5_seats int  NOT NULL,\n",
    "    CONSTRAINT Theater_Info_pk PRIMARY KEY (id)\n",
    ")\"\"\")"
   ]
  },
  {
   "cell_type": "code",
   "execution_count": 27,
   "metadata": {
    "collapsed": true
   },
   "outputs": [],
   "source": [
    "db.query(\"\"\"CREATE TABLE Visual_Art (\n",
    "    id int  NOT NULL,\n",
    "    visual_art_galleries boolean  NOT NULL,\n",
    "    sq_ft int  NOT NULL,\n",
    "    CONSTRAINT Visual_Art_pk PRIMARY KEY (id)\n",
    ")\"\"\")"
   ]
  },
  {
   "cell_type": "code",
   "execution_count": 29,
   "metadata": {
    "collapsed": false
   },
   "outputs": [],
   "source": [
    "db.query(\"\"\"ALTER TABLE Cultural_Spaces ADD CONSTRAINT Cultural_Spaces_Building_Info\n",
    "    FOREIGN KEY (Building_Info_id)\n",
    "    REFERENCES Building_Info (id)  \n",
    "    NOT DEFERRABLE \n",
    "    INITIALLY IMMEDIATE\"\"\")"
   ]
  },
  {
   "cell_type": "code",
   "execution_count": 30,
   "metadata": {
    "collapsed": true
   },
   "outputs": [],
   "source": [
    "db.query(\"\"\"ALTER TABLE Cultural_Spaces ADD CONSTRAINT Cultural_Spaces_Discipline\n",
    "    FOREIGN KEY (Discipline_id)\n",
    "    REFERENCES Discipline (id)  \n",
    "    NOT DEFERRABLE \n",
    "    INITIALLY IMMEDIATE\"\"\")"
   ]
  },
  {
   "cell_type": "code",
   "execution_count": 31,
   "metadata": {
    "collapsed": true
   },
   "outputs": [],
   "source": [
    "db.query(\"\"\"ALTER TABLE Cultural_Spaces ADD CONSTRAINT Cultural_Spaces_Theater_Info\n",
    "    FOREIGN KEY (Theater_Info_id)\n",
    "    REFERENCES Theater_Info (id)  \n",
    "    NOT DEFERRABLE \n",
    "    INITIALLY IMMEDIATE\"\"\")"
   ]
  },
  {
   "cell_type": "code",
   "execution_count": 32,
   "metadata": {
    "collapsed": true
   },
   "outputs": [],
   "source": [
    "db.query(\"\"\"ALTER TABLE Cultural_Spaces ADD CONSTRAINT Cultural_Spaces_Visual_Art\n",
    "    FOREIGN KEY (Visual_Art_id)\n",
    "    REFERENCES Visual_Art (id)  \n",
    "    NOT DEFERRABLE \n",
    "    INITIALLY IMMEDIATE\"\"\")"
   ]
  },
  {
   "cell_type": "code",
   "execution_count": 42,
   "metadata": {
    "collapsed": false
   },
   "outputs": [
    {
     "data": {
      "text/plain": [
       "{'id': 1,\n",
       " 'own_or_rent': 'Own',\n",
       " 'previous_facilities': 3,\n",
       " 'year_building_built': 1994,\n",
       " 'year_founded': 2004,\n",
       " 'year_of_occupation': '2002'}"
      ]
     },
     "execution_count": 42,
     "metadata": {},
     "output_type": "execute_result"
    }
   ],
   "source": [
    "db.insert('building_info', id = 1, year_of_occupation = 2002, own_or_rent = 'Own', year_building_built = 1994, year_founded = 2004,\n",
    "          previous_facilities = 3)"
   ]
  },
  {
   "cell_type": "code",
   "execution_count": 43,
   "metadata": {
    "collapsed": false
   },
   "outputs": [
    {
     "data": {
      "text/plain": [
       "{'dominant_discipline': 'd1',\n",
       " 'id': 1,\n",
       " 'second_discipline': 'd2',\n",
       " 'third_discipline': 'd3'}"
      ]
     },
     "execution_count": 43,
     "metadata": {},
     "output_type": "execute_result"
    }
   ],
   "source": [
    "db.insert('discipline', id = 1, dominant_discipline = 'd1', second_discipline = 'd2', third_discipline = 'd3')"
   ]
  },
  {
   "cell_type": "code",
   "execution_count": 45,
   "metadata": {
    "collapsed": false
   },
   "outputs": [
    {
     "data": {
      "text/plain": [
       "{'id': 1,\n",
       " 'num_theaters': 3,\n",
       " 'seats_total': 200,\n",
       " 'theater_1': 't1',\n",
       " 'theater_1_seats': 20,\n",
       " 'theater_2': 't2',\n",
       " 'theater_2_seats': 25,\n",
       " 'theater_3': 't3',\n",
       " 'theater_3_seats': 55,\n",
       " 'theater_4': 't4',\n",
       " 'theater_4_seats': 20,\n",
       " 'theater_5': 't5',\n",
       " 'theater_5_seats': 10}"
      ]
     },
     "execution_count": 45,
     "metadata": {},
     "output_type": "execute_result"
    }
   ],
   "source": [
    "db.insert('theater_info', id=1, num_theaters = 3, seats_total = 200, theater_1 = 't1', theater_1_seats = 20, theater_2 = 't2',\n",
    "          theater_2_seats = 25, theater_3 = 't3', theater_3_seats = 55, theater_4 = 't4', theater_4_seats = 20, theater_5 = 't5',\n",
    "          theater_5_seats = 10)"
   ]
  },
  {
   "cell_type": "code",
   "execution_count": 46,
   "metadata": {
    "collapsed": false
   },
   "outputs": [
    {
     "data": {
      "text/plain": [
       "{'id': 1, 'sq_ft': 0, 'visual_art_galleries': False}"
      ]
     },
     "execution_count": 46,
     "metadata": {},
     "output_type": "execute_result"
    }
   ],
   "source": [
    "db.insert('visual_art', id = 1, visual_art_galleries = 'FALSE', sq_ft = 0)"
   ]
  },
  {
   "cell_type": "code",
   "execution_count": 47,
   "metadata": {
    "collapsed": false
   },
   "outputs": [
    {
     "data": {
      "text/plain": [
       "{'ada_compliant': True,\n",
       " 'address': 'Space',\n",
       " 'building_info_id': 1,\n",
       " 'closed': False,\n",
       " 'closed_date': None,\n",
       " 'constituency': 'White',\n",
       " 'discipline_id': 1,\n",
       " 'funded_by_ac': True,\n",
       " 'id': 1,\n",
       " 'location': 'Space',\n",
       " 'name': 'Seattle Public Library Delridge',\n",
       " 'neighborhood': 'West Seattle',\n",
       " 'nonprofit': True,\n",
       " 'num_parking_spaces': 20,\n",
       " 'phone': '1234567890',\n",
       " 'rental_space_avail': True,\n",
       " 'serve_alcohol': True,\n",
       " 'site_control_through': None,\n",
       " 'sq_ft_total': 500,\n",
       " 'stability_index': 1,\n",
       " 'street_frontage': True,\n",
       " 'theater_info_id': 1,\n",
       " 'visual_art_id': 1}"
      ]
     },
     "execution_count": 47,
     "metadata": {},
     "output_type": "execute_result"
    }
   ],
   "source": [
    "db.insert('cultural_spaces', id = 1, name = 'Seattle Public Library Delridge', phone = '1234567890', sq_ft_total = 500, \n",
    "          neighborhood = 'West Seattle', nonprofit = 'TRUE', discipline_id = 1, building_info_id = 1, theater_info_id = 1,\n",
    "          visual_art_id = 1, ada_compliant = 'TRUE', num_parking_spaces = 20, street_frontage = 'TRUE', rental_space_avail = 'TRUE',\n",
    "          serve_alcohol = 'TRUE', funded_by_ac = 'TRUE', stability_index = 1, constituency = 'White', site_control_through = '',\n",
    "          closed_date = '', closed = 'FALSE', address = 'Space', location = 'Space')"
   ]
  },
  {
   "cell_type": "code",
   "execution_count": 49,
   "metadata": {
    "collapsed": false
   },
   "outputs": [
    {
     "name": "stdout",
     "output_type": "stream",
     "text": [
      "id|visual_art_galleries|sq_ft\n",
      "--+--------------------+-----\n",
      " 1|f                   |    0\n",
      "(1 row)\n"
     ]
    }
   ],
   "source": [
    "print db.query('select * from visual_art')"
   ]
  },
  {
   "cell_type": "code",
   "execution_count": 50,
   "metadata": {
    "collapsed": false
   },
   "outputs": [
    {
     "name": "stdout",
     "output_type": "stream",
     "text": [
      "id|num_theaters|seats_total|theater_1|theater_1_seats|theater_2|theater_2_seats|theater_3|theater_3_seats|theater_4|theater_4_seats|theater_5|theater_5_seats\n",
      "--+------------+-----------+---------+---------------+---------+---------------+---------+---------------+---------+---------------+---------+---------------\n",
      " 1|           3|        200|t1       |             20|t2       |             25|t3       |             55|t4       |             20|t5       |             10\n",
      "(1 row)\n"
     ]
    }
   ],
   "source": [
    "print db.query('select * from theater_info')"
   ]
  },
  {
   "cell_type": "code",
   "execution_count": 51,
   "metadata": {
    "collapsed": false
   },
   "outputs": [
    {
     "name": "stdout",
     "output_type": "stream",
     "text": [
      "id|dominant_discipline|second_discipline|third_discipline\n",
      "--+-------------------+-----------------+----------------\n",
      " 1|d1                 |d2               |d3              \n",
      "(1 row)\n"
     ]
    }
   ],
   "source": [
    "print db.query('select * from discipline')"
   ]
  },
  {
   "cell_type": "code",
   "execution_count": 52,
   "metadata": {
    "collapsed": false
   },
   "outputs": [
    {
     "name": "stdout",
     "output_type": "stream",
     "text": [
      "id|             name              |  phone   |sq_ft_total|neighborhood|nonprofit|discipline_id|building_info_id|theater_info_id|visual_art_id|ada_compliant|num_parking_spaces|street_frontage|rental_space_avail|serve_alcohol|funded_by_ac|stability_index|constituency|site_control_through|closed_date|closed|address|location\n",
      "--+-------------------------------+----------+-----------+------------+---------+-------------+----------------+---------------+-------------+-------------+------------------+---------------+------------------+-------------+------------+---------------+------------+--------------------+-----------+------+-------+--------\n",
      " 1|Seattle Public Library Delridge|1234567890|        500|West Seattle|t        |            1|               1|              1|            1|t            |                20|t              |t                 |t            |t           |              1|White       |                    |           |f     |Space  |Space   \n",
      "(1 row)\n"
     ]
    }
   ],
   "source": [
    "print db.query('select * from cultural_spaces')"
   ]
  },
  {
   "cell_type": "code",
   "execution_count": null,
   "metadata": {
    "collapsed": true
   },
   "outputs": [],
   "source": []
  }
 ],
 "metadata": {
  "kernelspec": {
   "display_name": "Python 2",
   "language": "python",
   "name": "python2"
  },
  "language_info": {
   "codemirror_mode": {
    "name": "ipython",
    "version": 2
   },
   "file_extension": ".py",
   "mimetype": "text/x-python",
   "name": "python",
   "nbconvert_exporter": "python",
   "pygments_lexer": "ipython2",
   "version": "2.7.10"
  }
 },
 "nbformat": 4,
 "nbformat_minor": 0
}
