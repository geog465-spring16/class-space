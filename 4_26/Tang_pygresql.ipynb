{
 "cells": [
  {
   "cell_type": "code",
   "execution_count": null,
   "metadata": {
    "collapsed": true
   },
   "outputs": [],
   "source": [
    "import sys\n",
    "sys.path.append('C:\\Python27\\ArcGIS10.3\\Lib\\site-packages')\n",
    "import pg\n",
    "from pg import DB"
   ]
  },
  {
   "cell_type": "code",
   "execution_count": null,
   "metadata": {
    "collapsed": true
   },
   "outputs": [],
   "source": [
    "# statement for creation of relational table in the database\n",
    "CREATE TABLE Feature (\n",
    "    featureId int (5)  NOT NULL,\n",
    "    featureName varchar(50)  NOT NULL,\n",
    "    CONSTRAINT Feature_pk PRIMARY KEY (featureId) -- this part is for the primary key\n",
    ") ;\n",
    "\n",
    "CREATE TABLE city (\n",
    "    cityid int (5)  NOT NULL,\n",
    "    cityName varchar(50)  NULL,\n",
    "    CONSTRAINT city_pk PRIMARY KEY (cityid) -- this part is for the primary key\n",
    ") ;\n",
    "\n",
    "CREATE TABLE citifeatures (\n",
    "    Feature_featureId int (5)  NOT NULL,\n",
    "    city_cityid int (5)  NOT NULL,\n",
    "    CONSTRAINT citifeatures_pk PRIMARY KEY (Feature_featureId,city_cityid) -- this part is for the primary key\n",
    ") ;\n",
    "\n",
    "CREATE TABLE Location (\n",
    "    locationId int (5)  NOT NULL,\n",
    "    citifeatures_Feature_featureId int (5)  NOT NULL,\n",
    "    citifeatures_city_cityid int (5)  NOT NULL,\n",
    "    commonName varchar(50)  NOT NULL,\n",
    "    address varchar(60)  NOT NULL,\n",
    "    website varchar(250)  NOT NULL,\n",
    "    LNG double(15,7)  NOT NULL,\n",
    "    LAT double(15,7)  NOT NULL,\n",
    "    CONSTRAINT Location_pk PRIMARY KEY (locationId) -- this part is for the primary key\n",
    ") ;\n"
   ]
  },
  {
   "cell_type": "code",
   "execution_count": null,
   "metadata": {
    "collapsed": true
   },
   "outputs": [],
   "source": [
    "# statement for creation of relation, or foreign key, between two tables\n",
    "\n",
    "ALTER TABLE Location ADD CONSTRAINT Location_citifeatures \n",
    "    FOREIGN KEY (citifeatures_Feature_featureId,citifeatures_city_cityid)\n",
    "    REFERENCES citifeatures (Feature_featureId,city_cityid);\n",
    "    \n",
    "ALTER TABLE citifeatures ADD CONSTRAINT citifeatures_Feature \n",
    "    FOREIGN KEY (Feature_featureId)\n",
    "    REFERENCES Feature (featureId);\n",
    "    \n",
    "ALTER TABLE citifeatures ADD CONSTRAINT citifeatures_city \n",
    "    FOREIGN KEY (city_cityid)\n",
    "    REFERENCES city (cityid);"
   ]
  },
  {
   "cell_type": "code",
   "execution_count": null,
   "metadata": {
    "collapsed": true
   },
   "outputs": [],
   "source": [
    "# insert some data into the database\n",
    "insert into city (cityid,cityname) values (1,'Seattle');\n",
    "insert into city (cityid,cityname) values (2,'Spokane');\n",
    "insert into city (cityid,cityname) values (3,'Tacoma');\n",
    "insert into city (cityid,cityname) values (4,'Vancouver');\n",
    "\n",
    "\n",
    "insert into feature (featureId,featureName) values (1,'Library');\n",
    "insert into feature (featureId,featureName) values (2,'Park');\n",
    "insert into feature (featureId,featureName) values (3,'Museum');\n",
    "insert into feature (featureId,featureName) values (4,'Theatre');\n",
    "\n",
    "\n",
    "\n",
    "insert into citifeatures (    Feature_featureId,   city_cityid ) values (1,1);\n",
    "insert into citifeatures (    Feature_featureId,   city_cityid ) values (2,1);\n",
    "insert into citifeatures (    Feature_featureId,   city_cityid ) values (3,1);\n",
    "insert into citifeatures (    Feature_featureId,   city_cityid ) values (4,1);\n",
    "\n",
    "\n",
    "insert into citifeatures (    Feature_featureId,   city_cityid ) values (3,2);\n",
    "\n",
    "insert into citifeatures (    Feature_featureId,   city_cityid ) values (2,3);\n",
    "\n",
    "insert into citifeatures (    Feature_featureId,   city_cityid ) values (4,4);\n",
    "\n",
    "\n",
    "insert into  Location (    locationId ,    citifeatures_Feature_featureId ,    citifeatures_city_cityid ,    commonName,    address,    website ,    LNG ,    LAT ) values\n",
    "(1,1,1,'Dorothy Stimson Bullitt Library','100 University St','seattleartmuseum.org',47.6057,-122.3371);\n",
    "\n",
    "insert into  Location (    locationId ,    citifeatures_Feature_featureId ,    citifeatures_city_cityid ,    commonName,    address,    website ,    LNG ,    LAT ) values\n",
    "(2,1,1,'Region 10 Library','1200 6th Ave #900','epa.gov',47.6090,-122.3320);\n",
    "\n",
    "insert into  Location (    locationId ,    citifeatures_Feature_featureId ,    citifeatures_city_cityid ,    commonName,    address,    website ,    LNG ,    LAT ) values\n",
    "(3,1,1,'Virginia Mason Med Center Library','925 Seneca St','masnomed.org',47.6098,-122.3285);\n",
    "\n",
    "insert into  Location (    locationId ,    citifeatures_Feature_featureId ,    citifeatures_city_cityid ,    commonName,    address,    website ,    LNG ,    LAT ) values\n",
    "(4,2,1,'Westlake Park','401 Pine St','seattle.gov',47.6109,-122.3373);\n",
    "\n",
    "insert into  Location (    locationId ,    citifeatures_Feature_featureId ,    citifeatures_city_cityid ,    commonName,    address,    website ,    LNG ,    LAT ) values\n",
    "(5,2,1,'Jim Ellis Freeway Park','700 Seneca St','seattle.gov',47.6092,-122.3312);\n",
    "\n",
    "insert into  Location (    locationId ,    citifeatures_Feature_featureId ,    citifeatures_city_cityid ,    commonName,    address,    website ,    LNG ,    LAT ) values\n",
    "(6,3,1,'Frye Art Museum','704 Terry Ave','fryemuseum.org',47.6069,-122.3241);\n",
    "\n",
    "insert into  Location (    locationId ,    citifeatures_Feature_featureId ,    citifeatures_city_cityid ,    commonName,    address,    website ,    LNG ,    LAT ) values\n",
    "(7,3,1,'Seattle Pinball Museum','508 Maynard Ave S','seattlepinballmuseum.com',47.5976,-122.3251);\n",
    "\n",
    "insert into  Location (    locationId ,    citifeatures_Feature_featureId ,    citifeatures_city_cityid ,    commonName,    address,    website ,    LNG ,    LAT ) values\n",
    "(8,4,1,'Paramount Theatre','911 Pine St','stgpresents.org',47.6132,-122.3315);\n",
    "\n",
    "\n",
    "insert into  Location (    locationId ,    citifeatures_Feature_featureId ,    citifeatures_city_cityid ,    commonName,    address,    website ,    LNG ,    LAT ) values\n",
    "(9,4,1,'ACT Theatre','700 Union St','acttheatre.org',47.6112,-122.3328);\n",
    "\n",
    "insert into  Location (    locationId ,    citifeatures_Feature_featureId ,    citifeatures_city_cityid ,    commonName,    address,    website ,    LNG ,    LAT ) values\n",
    "(10,4,1,'Annex Theatre','1100 E Pike St','annextheatre.org',47.6140,-122.3180);\n",
    "\n",
    "insert into  Location (    locationId ,    citifeatures_Feature_featureId ,    citifeatures_city_cityid ,    commonName,    address,    website ,    LNG ,    LAT ) values\n",
    "(11,3,2,'Mobius Childrens Museum','River Park Square','mobiusspokane.org',47.6578,-117.4292);\n",
    "\n",
    "insert into  Location (    locationId ,    citifeatures_Feature_featureId ,    citifeatures_city_cityid ,    commonName,    address,    website ,    LNG ,    LAT ) values\n",
    "(12,2,3,'Jefferson Park','801 N Mason Ave','metroparkstacoma.org',47.2543,-122.5168);\n",
    "\n",
    "insert into  Location (    locationId ,    citifeatures_Feature_featureId ,    citifeatures_city_cityid ,    commonName,    address,    website ,    LNG ,    LAT ) values\n",
    "(13,4,4,'The Orpheum','601 Smithe St','vancouver.ca',49.2801,-123.1209);\n"
   ]
  }
 ],
 "metadata": {
  "kernelspec": {
   "display_name": "Python 2",
   "language": "python",
   "name": "python2"
  },
  "language_info": {
   "codemirror_mode": {
    "name": "ipython",
    "version": 2
   },
   "file_extension": ".py",
   "mimetype": "text/x-python",
   "name": "python",
   "nbconvert_exporter": "python",
   "pygments_lexer": "ipython2",
   "version": "2.7.10"
  }
 },
 "nbformat": 4,
 "nbformat_minor": 0
}
