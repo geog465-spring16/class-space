{
 "cells": [
  {
   "cell_type": "code",
   "execution_count": 1,
   "metadata": {
    "collapsed": true
   },
   "outputs": [],
   "source": [
    "import sys\n",
    "sys.path.append('C:\\Python27\\ArcGIS10.3\\Lib\\site-packages')\n",
    "import pg\n",
    "from pg import DB"
   ]
  },
  {
   "cell_type": "code",
   "execution_count": 2,
   "metadata": {
    "collapsed": true
   },
   "outputs": [],
   "source": [
    "db = DB(dbname = 'geog465_loperz23', host = 'geog-db2.geog.uw.edu', port = 5432, user = 'loperz23', passwd = 'loperz23')"
   ]
  },
  {
   "cell_type": "code",
   "execution_count": 4,
   "metadata": {
    "collapsed": true
   },
   "outputs": [],
   "source": [
    "db.query('CREATE TABLE artist (id int PRIMARY KEY, name_last varchar(15), name_first varchar(15), CONSTRAINT artst_cnsrt UNIQUE (name_last, name_first))')"
   ]
  },
  {
   "cell_type": "code",
   "execution_count": 5,
   "metadata": {
    "collapsed": true
   },
   "outputs": [],
   "source": [
    "db.query('CREATE TABLE location (id int PRIMARY KEY, location varchar(50) NOT NULL, address varchar(50) NOT NULL, latitude float NOT NULL, longitude float NOT NULL )')"
   ]
  },
  {
   "cell_type": "code",
   "execution_count": 6,
   "metadata": {
    "collapsed": true
   },
   "outputs": [],
   "source": [
    "db.query('CREATE TABLE art (id int PRIMARY KEY, title varchar(40) UNIQUE, description varchar(100), location_id int REFERENCES location(id), measurments varchar(50), date date, project varchar(20)) ')"
   ]
  },
  {
   "cell_type": "code",
   "execution_count": 7,
   "metadata": {
    "collapsed": true
   },
   "outputs": [],
   "source": [
    "db.query('CREATE TABLE artist_art (art_id int REFERENCES art(id), artist_id int REFERENCES artist(id), PRIMARY KEY (art_id, artist_id))')"
   ]
  },
  {
   "cell_type": "code",
   "execution_count": 8,
   "metadata": {
    "collapsed": false
   },
   "outputs": [
    {
     "data": {
      "text/plain": [
       "['public.art',\n",
       " 'public.artist',\n",
       " 'public.artist_art',\n",
       " 'public.location',\n",
       " 'public.sde_spatial_references',\n",
       " 'sde.gdb_itemrelationships',\n",
       " 'sde.gdb_itemrelationshiptypes',\n",
       " 'sde.gdb_items',\n",
       " 'sde.gdb_itemtypes',\n",
       " 'sde.gdb_replicalog',\n",
       " 'sde.gdb_tables_last_modified',\n",
       " 'sde.i2',\n",
       " 'sde.i3',\n",
       " 'sde.i4',\n",
       " 'sde.i5',\n",
       " 'sde.i6',\n",
       " 'sde.sde_archives',\n",
       " 'sde.sde_column_registry',\n",
       " 'sde.sde_coordinate_systems',\n",
       " 'sde.sde_dbtune',\n",
       " 'sde.sde_geometry_columns',\n",
       " 'sde.sde_layer_locks',\n",
       " 'sde.sde_layer_stats',\n",
       " 'sde.sde_layers',\n",
       " 'sde.sde_lineages_modified',\n",
       " 'sde.sde_locators',\n",
       " 'sde.sde_logfile_pool',\n",
       " 'sde.sde_metadata',\n",
       " 'sde.sde_mvtables_modified',\n",
       " 'sde.sde_object_ids',\n",
       " 'sde.sde_object_locks',\n",
       " 'sde.sde_process_information',\n",
       " 'sde.sde_raster_columns',\n",
       " 'sde.sde_server_config',\n",
       " 'sde.sde_state_lineages',\n",
       " 'sde.sde_state_locks',\n",
       " 'sde.sde_states',\n",
       " 'sde.sde_table_locks',\n",
       " 'sde.sde_table_registry',\n",
       " 'sde.sde_tables_modified',\n",
       " 'sde.sde_version',\n",
       " 'sde.sde_versions',\n",
       " 'sde.sde_xml_columns',\n",
       " 'sde.sde_xml_index_tags',\n",
       " 'sde.sde_xml_indexes']"
      ]
     },
     "execution_count": 8,
     "metadata": {},
     "output_type": "execute_result"
    }
   ],
   "source": [
    "db.get_tables()"
   ]
  },
  {
   "cell_type": "code",
   "execution_count": 9,
   "metadata": {
    "collapsed": false
   },
   "outputs": [
    {
     "data": {
      "text/plain": [
       "'1'"
      ]
     },
     "execution_count": 9,
     "metadata": {},
     "output_type": "execute_result"
    }
   ],
   "source": [
    "db.query(\"\"\"INSERT INTO artist VALUES (1,'Bartoldi', 'After')\"\"\" )"
   ]
  },
  {
   "cell_type": "code",
   "execution_count": 10,
   "metadata": {
    "collapsed": false
   },
   "outputs": [
    {
     "data": {
      "text/plain": [
       "'1'"
      ]
     },
     "execution_count": 10,
     "metadata": {},
     "output_type": "execute_result"
    }
   ],
   "source": [
    "db.query(\"\"\"INSERT INTO location VALUES (1, 'Alki Beach', '61st AVE SW & Alki Ave SW', '47.579383', '-122.410633') \"\"\")"
   ]
  },
  {
   "cell_type": "code",
   "execution_count": 17,
   "metadata": {
    "collapsed": false
   },
   "outputs": [
    {
     "data": {
      "text/plain": [
       "'1'"
      ]
     },
     "execution_count": 17,
     "metadata": {},
     "output_type": "execute_result"
    }
   ],
   "source": [
    "db.query(\"\"\"INSERT INTO art VALUES (1,'Little Liberty', 'Replica of the Statue of Liberty', 1, '6ft 10in x 3ft 6in x 2ft 11in', '1952-01-01', 'Alki Beach')\"\"\" )"
   ]
  },
  {
   "cell_type": "code",
   "execution_count": 18,
   "metadata": {
    "collapsed": false
   },
   "outputs": [
    {
     "data": {
      "text/plain": [
       "'1'"
      ]
     },
     "execution_count": 18,
     "metadata": {},
     "output_type": "execute_result"
    }
   ],
   "source": [
    "db.query(\"\"\"INSERT INTO artist_art VALUES (1, 1)\"\"\" )"
   ]
  },
  {
   "cell_type": "code",
   "execution_count": 22,
   "metadata": {
    "collapsed": false
   },
   "outputs": [
    {
     "name": "stdout",
     "output_type": "stream",
     "text": [
      "id|name_last|name_first\n",
      "--+---------+----------\n",
      " 1|Bartoldi |After     \n",
      "(1 row)\n"
     ]
    }
   ],
   "source": [
    "print db.query('SELECT * FROM artist')"
   ]
  },
  {
   "cell_type": "code",
   "execution_count": 23,
   "metadata": {
    "collapsed": false
   },
   "outputs": [
    {
     "name": "stdout",
     "output_type": "stream",
     "text": [
      "id|    title     |          description           |location_id|         measurments         |   date   | project  \n",
      "--+--------------+--------------------------------+-----------+-----------------------------+----------+----------\n",
      " 1|Little Liberty|Replica of the Statue of Liberty|          1|6ft 10in x 3ft 6in x 2ft 11in|1952-01-01|Alki Beach\n",
      "(1 row)\n"
     ]
    }
   ],
   "source": [
    "print db.query('SELECT * FROM art')"
   ]
  },
  {
   "cell_type": "code",
   "execution_count": 24,
   "metadata": {
    "collapsed": false
   },
   "outputs": [
    {
     "name": "stdout",
     "output_type": "stream",
     "text": [
      "id| location |         address         |latitude | longitude \n",
      "--+----------+-------------------------+---------+-----------\n",
      " 1|Alki Beach|61st AVE SW & Alki Ave SW|47.579383|-122.410633\n",
      "(1 row)\n"
     ]
    }
   ],
   "source": [
    "print db.query('SELECT * FROM location')"
   ]
  },
  {
   "cell_type": "code",
   "execution_count": 25,
   "metadata": {
    "collapsed": false
   },
   "outputs": [
    {
     "name": "stdout",
     "output_type": "stream",
     "text": [
      "art_id|artist_id\n",
      "------+---------\n",
      "     1|        1\n",
      "(1 row)\n"
     ]
    }
   ],
   "source": [
    "print db.query('SELECT * FROM artist_art')"
   ]
  },
  {
   "cell_type": "code",
   "execution_count": null,
   "metadata": {
    "collapsed": true
   },
   "outputs": [],
   "source": []
  }
 ],
 "metadata": {
  "kernelspec": {
   "display_name": "Python 2",
   "language": "python",
   "name": "python2"
  },
  "language_info": {
   "codemirror_mode": {
    "name": "ipython",
    "version": 2
   },
   "file_extension": ".py",
   "mimetype": "text/x-python",
   "name": "python",
   "nbconvert_exporter": "python",
   "pygments_lexer": "ipython2",
   "version": "2.7.10"
  }
 },
 "nbformat": 4,
 "nbformat_minor": 0
}
