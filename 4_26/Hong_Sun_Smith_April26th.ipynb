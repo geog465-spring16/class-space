{
 "cells": [
  {
   "cell_type": "code",
   "execution_count": 1,
   "metadata": {
    "collapsed": true
   },
   "outputs": [],
   "source": [
    "import sys\n",
    "sys.path.append('C:\\Python27\\ArcGIS10.3\\Lib\\site-packages')\n",
    "import pg\n",
    "from pg import DB"
   ]
  },
  {
   "cell_type": "code",
   "execution_count": 4,
   "metadata": {
    "collapsed": true
   },
   "outputs": [],
   "source": [
    "db = DB(dbname = 'geog465_sphong91', host = 'geog-db2.geog.uw.edu', port = 5432, user = 'sphong91', passwd = 'sphong91')"
   ]
  },
  {
   "cell_type": "code",
   "execution_count": 25,
   "metadata": {
    "collapsed": false
   },
   "outputs": [],
   "source": [
    "db.query('create table contact_info2 (id int PRIMARY KEY, phone varchar(80), email varchar(80))')"
   ]
  },
  {
   "cell_type": "code",
   "execution_count": 19,
   "metadata": {
    "collapsed": false
   },
   "outputs": [
    {
     "name": "stdout",
     "output_type": "stream",
     "text": [
      "id|phone|email\n",
      "--+-----+-----\n",
      "(0 rows)\n"
     ]
    }
   ],
   "source": [
    "print db.query('select * from contact_info2')"
   ]
  },
  {
   "cell_type": "code",
   "execution_count": 26,
   "metadata": {
    "collapsed": false
   },
   "outputs": [
    {
     "data": {
      "text/plain": [
       "{'email': 'uw@uw.edu', 'id': 1, 'phone': '206-123-1234'}"
      ]
     },
     "execution_count": 26,
     "metadata": {},
     "output_type": "execute_result"
    }
   ],
   "source": [
    "db.insert('contact_info2', id = 1, phone = '206-123-1234', email = 'uw@uw.edu')"
   ]
  },
  {
   "cell_type": "code",
   "execution_count": 27,
   "metadata": {
    "collapsed": false
   },
   "outputs": [
    {
     "name": "stdout",
     "output_type": "stream",
     "text": [
      "id|   phone    |  email  \n",
      "--+------------+---------\n",
      " 1|206-123-1234|uw@uw.edu\n",
      "(1 row)\n"
     ]
    }
   ],
   "source": [
    "print db.query('select * from contact_info2')\n"
   ]
  },
  {
   "cell_type": "code",
   "execution_count": 28,
   "metadata": {
    "collapsed": false
   },
   "outputs": [
    {
     "data": {
      "text/plain": [
       "{'email': 'uw2@uw.edu', 'id': 2, 'phone': '206-333-4444'}"
      ]
     },
     "execution_count": 28,
     "metadata": {},
     "output_type": "execute_result"
    }
   ],
   "source": [
    "db.insert('contact_info2', id = 2, phone = '206-333-4444', email = 'uw2@uw.edu')"
   ]
  },
  {
   "cell_type": "code",
   "execution_count": 29,
   "metadata": {
    "collapsed": false
   },
   "outputs": [
    {
     "name": "stdout",
     "output_type": "stream",
     "text": [
      "id|   phone    |  email   \n",
      "--+------------+----------\n",
      " 1|206-123-1234|uw@uw.edu \n",
      " 2|206-333-4444|uw2@uw.edu\n",
      "(2 rows)\n"
     ]
    }
   ],
   "source": [
    "print db.query('select * from contact_info2')"
   ]
  },
  {
   "cell_type": "code",
   "execution_count": 36,
   "metadata": {
    "collapsed": true
   },
   "outputs": [],
   "source": [
    "db.query('create table ParkName (id int PRIMARY KEY, name varchar(80))')"
   ]
  },
  {
   "cell_type": "code",
   "execution_count": 38,
   "metadata": {
    "collapsed": false
   },
   "outputs": [
    {
     "name": "stdout",
     "output_type": "stream",
     "text": [
      "id|name\n",
      "--+----\n",
      "(0 rows)\n"
     ]
    }
   ],
   "source": [
    "print db.query('select * from park_name')"
   ]
  },
  {
   "cell_type": "code",
   "execution_count": 40,
   "metadata": {
    "collapsed": false
   },
   "outputs": [
    {
     "data": {
      "text/plain": [
       "{'id': 1, 'name': 'OlympicNationalPark'}"
      ]
     },
     "execution_count": 40,
     "metadata": {},
     "output_type": "execute_result"
    }
   ],
   "source": [
    "db.insert('parkname', id = 1, name = 'OlympicNationalPark')"
   ]
  },
  {
   "cell_type": "code",
   "execution_count": 41,
   "metadata": {
    "collapsed": false
   },
   "outputs": [
    {
     "name": "stdout",
     "output_type": "stream",
     "text": [
      "id|       name        \n",
      "--+-------------------\n",
      " 1|OlympicNationalPark\n",
      "(1 row)\n"
     ]
    }
   ],
   "source": [
    "print db.query('select * from ParkName')"
   ]
  },
  {
   "cell_type": "code",
   "execution_count": 43,
   "metadata": {
    "collapsed": true
   },
   "outputs": [],
   "source": [
    "db.query('create table parkarea (id int PRIMARY KEY, area varchar(80))')"
   ]
  },
  {
   "cell_type": "code",
   "execution_count": 44,
   "metadata": {
    "collapsed": false
   },
   "outputs": [
    {
     "data": {
      "text/plain": [
       "{'area': '333,333,333', 'id': 1}"
      ]
     },
     "execution_count": 44,
     "metadata": {},
     "output_type": "execute_result"
    }
   ],
   "source": [
    "db.insert('parkarea', id = 1, area = '333,333,333' )"
   ]
  },
  {
   "cell_type": "code",
   "execution_count": 76,
   "metadata": {
    "collapsed": false
   },
   "outputs": [],
   "source": [
    "db.query('create table USANationalParks4 (id int PRIMARY KEY, parknameID int REFERENCES parkname(id),  contactID int REFERENCES contact_info2(id), areaID int REFERENCES area(id))')"
   ]
  },
  {
   "cell_type": "code",
   "execution_count": 77,
   "metadata": {
    "collapsed": false
   },
   "outputs": [
    {
     "name": "stdout",
     "output_type": "stream",
     "text": [
      "id|parknameid|contactid|areaid\n",
      "--+----------+---------+------\n",
      "(0 rows)\n"
     ]
    }
   ],
   "source": [
    "print db.query('select * from USANationalParks4')"
   ]
  },
  {
   "cell_type": "code",
   "execution_count": 78,
   "metadata": {
    "collapsed": false
   },
   "outputs": [
    {
     "data": {
      "text/plain": [
       "{'areaID': 1,\n",
       " 'areaid': None,\n",
       " 'contactID': 1,\n",
       " 'contactid': None,\n",
       " 'id': 1,\n",
       " 'parknameID': 1,\n",
       " 'parknameid': None}"
      ]
     },
     "execution_count": 78,
     "metadata": {},
     "output_type": "execute_result"
    }
   ],
   "source": [
    "db.insert('usanationalparks4', id = 1, parknameID = 1, contactID = 1, areaID = 1)"
   ]
  },
  {
   "cell_type": "code",
   "execution_count": 62,
   "metadata": {
    "collapsed": false
   },
   "outputs": [
    {
     "name": "stdout",
     "output_type": "stream",
     "text": [
      "id|   area    \n",
      "--+-----------\n",
      " 1|333,333,333\n",
      "(1 row)\n"
     ]
    }
   ],
   "source": [
    "print db.query('select * from parkarea')"
   ]
  },
  {
   "cell_type": "code",
   "execution_count": 51,
   "metadata": {
    "collapsed": false
   },
   "outputs": [
    {
     "name": "stdout",
     "output_type": "stream",
     "text": [
      "id|       name        \n",
      "--+-------------------\n",
      " 1|OlympicNationalPark\n",
      "(1 row)\n"
     ]
    }
   ],
   "source": [
    "print db.query('select * from ParkName')"
   ]
  },
  {
   "cell_type": "code",
   "execution_count": 52,
   "metadata": {
    "collapsed": false
   },
   "outputs": [
    {
     "name": "stdout",
     "output_type": "stream",
     "text": [
      "id|   phone    |  email   \n",
      "--+------------+----------\n",
      " 1|206-123-1234|uw@uw.edu \n",
      " 2|206-333-4444|uw2@uw.edu\n",
      "(2 rows)\n"
     ]
    }
   ],
   "source": [
    "print db.query('select * from contact_info2')"
   ]
  },
  {
   "cell_type": "code",
   "execution_count": 79,
   "metadata": {
    "collapsed": false
   },
   "outputs": [
    {
     "name": "stdout",
     "output_type": "stream",
     "text": [
      "id|parknameid|contactid|areaid\n",
      "--+----------+---------+------\n",
      " 1|          |         |      \n",
      "(1 row)\n"
     ]
    }
   ],
   "source": [
    "print db.query('select * from usanationalparks4')"
   ]
  },
  {
   "cell_type": "code",
   "execution_count": null,
   "metadata": {
    "collapsed": true
   },
   "outputs": [],
   "source": []
  }
 ],
 "metadata": {
  "kernelspec": {
   "display_name": "Python 2",
   "language": "python",
   "name": "python2"
  },
  "language_info": {
   "codemirror_mode": {
    "name": "ipython",
    "version": 2
   },
   "file_extension": ".py",
   "mimetype": "text/x-python",
   "name": "python",
   "nbconvert_exporter": "python",
   "pygments_lexer": "ipython2",
   "version": "2.7.10"
  }
 },
 "nbformat": 4,
 "nbformat_minor": 0
}
